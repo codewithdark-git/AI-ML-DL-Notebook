{
  "nbformat": 4,
  "nbformat_minor": 0,
  "metadata": {
    "colab": {
      "provenance": []
    },
    "kernelspec": {
      "name": "python3",
      "display_name": "Python 3"
    },
    "language_info": {
      "name": "python"
    }
  },
  "cells": [
    {
      "cell_type": "code",
      "source": [
        "# Copyright 2024 Google LLC\n",
        "#\n",
        "# Licensed under the Apache License, Version 2.0 (the \"License\");\n",
        "# you may not use this file except in compliance with the License.\n",
        "# You may obtain a copy of the License at\n",
        "#\n",
        "#     https://www.apache.org/licenses/LICENSE-2.0\n",
        "#\n",
        "# Unless required by applicable law or agreed to in writing, software\n",
        "# distributed under the License is distributed on an \"AS IS\" BASIS,\n",
        "# WITHOUT WARRANTIES OR CONDITIONS OF ANY KIND, either express or implied.\n",
        "# See the License for the specific language governing permissions and\n",
        "# limitations under the License."
      ],
      "metadata": {
        "id": "CXGoly8-Stt6"
      },
      "execution_count": null,
      "outputs": []
    },
    {
      "cell_type": "markdown",
      "source": [
        "| | |\n",
        "|-|-|\n",
        "|Author(s) | [Lavi Nigam](https://github.com/lavinigam-gcp) |"
      ],
      "metadata": {
        "id": "ePGfLheMSwPu"
      }
    },
    {
      "cell_type": "markdown",
      "source": [
        "Notebooks:\n",
        "**goo.gle/io24-gemini-api**\n",
        "\n",
        "Google AI Cookbook:\n",
        "**goo.gle/google-ai-cookbook**\n",
        "\n",
        "Vertex AI Cookbook:\n",
        "**goo.gle/vertex-ai-cookbook**"
      ],
      "metadata": {
        "id": "oGKLRGBhTweb"
      }
    },
    {
      "cell_type": "markdown",
      "source": [
        "# Step 1 - Google AI for Developers Gemini API"
      ],
      "metadata": {
        "id": "6RMTXdSRChy4"
      }
    },
    {
      "cell_type": "code",
      "source": [
        "# Library installation # needs restarts\n",
        "! pip install PyPDF2\n",
        "! apt-get install poppler-utils\n",
        "! pip install pdf2image\n",
        "! pip install --upgrade google-generativeai"
      ],
      "metadata": {
        "id": "vOZVZgNJDCfL"
      },
      "execution_count": null,
      "outputs": []
    },
    {
      "cell_type": "code",
      "source": [
        "# Downloading data from Google Drive\n",
        "!gdown --folder https://drive.google.com/drive/folders/1RfMScB0Y1LUQdW5tvjyYA4_D21H5HMaT?usp=sharing -O /content/data/"
      ],
      "metadata": {
        "id": "zf8iEWfYBc8r"
      },
      "execution_count": null,
      "outputs": []
    },
    {
      "cell_type": "code",
      "source": [
        "# Library\n",
        "from IPython.display import display, Markdown, Latex\n",
        "import google.generativeai as genai\n",
        "import PyPDF2\n",
        "from rich import print as rich_print\n",
        "from rich.markdown import Markdown as rich_Markdown"
      ],
      "metadata": {
        "id": "tczKqvnjMSyA"
      },
      "execution_count": null,
      "outputs": []
    },
    {
      "cell_type": "code",
      "execution_count": null,
      "metadata": {
        "id": "JNDLW6CNA7dY"
      },
      "outputs": [],
      "source": [
        "# Authentication\n",
        "from google.colab import userdata\n",
        "genai.configure(api_key=userdata.get('api_key'))"
      ]
    },
    {
      "cell_type": "code",
      "source": [
        "# Set up the model\n",
        "from google.generativeai.types import HarmCategory, HarmBlockThreshold, GenerationConfig\n",
        "\n",
        "generation_config = GenerationConfig(\n",
        "    temperature=1,\n",
        "    max_output_tokens=8192,\n",
        ")\n",
        "\n",
        "safety_settings = {\n",
        "    HarmCategory.HARM_CATEGORY_HARASSMENT: HarmBlockThreshold.BLOCK_MEDIUM_AND_ABOVE,\n",
        "    HarmCategory.HARM_CATEGORY_HATE_SPEECH: HarmBlockThreshold.BLOCK_MEDIUM_AND_ABOVE,\n",
        "    HarmCategory.HARM_CATEGORY_SEXUALLY_EXPLICIT: HarmBlockThreshold.BLOCK_MEDIUM_AND_ABOVE,\n",
        "    HarmCategory.HARM_CATEGORY_DANGEROUS_CONTENT: HarmBlockThreshold.BLOCK_MEDIUM_AND_ABOVE,\n",
        "}\n",
        "\n",
        "\n",
        "model = genai.GenerativeModel(model_name=\"gemini-1.5-pro-latest\",\n",
        "                              generation_config=generation_config,\n",
        "                              safety_settings=safety_settings)\n",
        "\n",
        "model_flash = genai.GenerativeModel(model_name=\"gemini-1.5-flash-latest\",\n",
        "                              generation_config=generation_config,\n",
        "                              safety_settings=safety_settings)"
      ],
      "metadata": {
        "id": "KhTx4pNbLre7"
      },
      "execution_count": null,
      "outputs": []
    },
    {
      "cell_type": "markdown",
      "source": [
        "### PDF"
      ],
      "metadata": {
        "id": "YD5CkSMcbfAB"
      }
    },
    {
      "cell_type": "code",
      "source": [
        "#@title Helper Functions\n",
        "## Helper Function\n",
        "\n",
        "def pdf_to_dict_str(file_path):\n",
        "    \"\"\"Reads a PDF file and returns a dictionary with page numbers as keys and page text as values.\"\"\"\n",
        "\n",
        "    with open(file_path, 'rb') as pdf_file:\n",
        "        pdf_reader = PyPDF2.PdfReader(pdf_file)\n",
        "        num_pages = len(pdf_reader.pages)\n",
        "\n",
        "        page_dict = {}\n",
        "        for page_num in range(num_pages):\n",
        "            page = pdf_reader.pages[page_num]\n",
        "            page_text = page.extract_text()\n",
        "            page_dict[page_num + 1] = page_text  # Page numbers start from 1\n",
        "\n",
        "        return str(page_dict)"
      ],
      "metadata": {
        "cellView": "form",
        "id": "pwql88iWbcF4"
      },
      "execution_count": null,
      "outputs": []
    },
    {
      "cell_type": "code",
      "source": [
        "%%time\n",
        "\n",
        "prompt_parts = [\n",
        "  pdf_to_dict_str('/content/data/Idea/stage_1_prototype_Google Cloud TPU blog.pdf'),\n",
        "  \"What are key achievement for Google Cloud from the following blog. Mention in bullet.\",\n",
        "]\n",
        "response = model.generate_content(prompt_parts)\n",
        "rich_Markdown(response.text)"
      ],
      "metadata": {
        "id": "ZzDM8-fhDa5x"
      },
      "execution_count": null,
      "outputs": []
    },
    {
      "cell_type": "code",
      "source": [
        "%%time\n",
        "\n",
        "response = model_flash.generate_content(prompt_parts)\n",
        "rich_Markdown(response.text)"
      ],
      "metadata": {
        "id": "Na_tGS6pRGLw"
      },
      "execution_count": null,
      "outputs": []
    },
    {
      "cell_type": "code",
      "source": [
        "%%time\n",
        "prompt_parts = [\n",
        "  pdf_to_dict_str('/content/data/Idea/goog-10-q-q2-2023-4-1-15.pdf'),\n",
        "  \"\"\"Answer based on the document provided:\n",
        "- How has Google Cloud performed in last quarters?\n",
        "- What factors have influenced its numebrs and is it positive or negative?\n",
        "- What is the leadership view on Google Cloud business?\n",
        "- What are some changes and decisions they have made along the way to achieve their goals?\n",
        "- How are they doing with respect to other cloud companies?\n",
        "  \"\"\",\n",
        "]\n",
        "response = model.generate_content(prompt_parts)\n",
        "rich_Markdown(response.text)"
      ],
      "metadata": {
        "id": "6wFDusjknFLr"
      },
      "execution_count": null,
      "outputs": []
    },
    {
      "cell_type": "code",
      "source": [
        "for models in genai.list_models():\n",
        "  print(models.name)"
      ],
      "metadata": {
        "id": "AaSNzibkJdqP"
      },
      "execution_count": null,
      "outputs": []
    },
    {
      "cell_type": "markdown",
      "source": [
        "### Audio File"
      ],
      "metadata": {
        "id": "00EsLYuNbGPa"
      }
    },
    {
      "cell_type": "code",
      "source": [
        "%%time\n",
        "\n",
        "earning_calls = genai.upload_file(path=\"/content/data/Idea/stage_1_prototype_Alphabet 2023 Q4 Earnings Call.mp3\",\n",
        "                            display_name=\"earning_calls\")"
      ],
      "metadata": {
        "id": "3PjkJqwwbIJy"
      },
      "execution_count": null,
      "outputs": []
    },
    {
      "cell_type": "code",
      "source": [
        "%%time\n",
        "\n",
        "prompt_parts = [\n",
        "  earning_calls,\n",
        "  \"what are major comments by Sundar and Ruth about AI and what key questions were asked by analyst and give their name? give answer in bullets \",\n",
        "]\n",
        "response = model.generate_content(prompt_parts,request_options={\"timeout\": 600})\n",
        "rich_Markdown(response.text)"
      ],
      "metadata": {
        "id": "Z9SIRpVhbiv8"
      },
      "execution_count": null,
      "outputs": []
    },
    {
      "cell_type": "code",
      "source": [
        "%%time\n",
        "\n",
        "response = model_flash.generate_content(prompt_parts)\n",
        "rich_Markdown(response.text)"
      ],
      "metadata": {
        "id": "XE4pILmSRpLt"
      },
      "execution_count": null,
      "outputs": []
    },
    {
      "cell_type": "code",
      "source": [
        "# delete the file\n",
        "genai.delete_file(name=earning_calls.name)"
      ],
      "metadata": {
        "id": "jVBbv9lwoeLF"
      },
      "execution_count": null,
      "outputs": []
    },
    {
      "cell_type": "markdown",
      "source": [
        "### Images (Read PDF as Images)"
      ],
      "metadata": {
        "id": "sHytDs7cwmzi"
      }
    },
    {
      "cell_type": "code",
      "source": [
        "#@title Helper Functions\n",
        "## Helper Function\n",
        "\n",
        "import os\n",
        "from pdf2image import convert_from_path\n",
        "\n",
        "def pdf_to_images(file_path, output_folder=\"output_folder\"):\n",
        "    \"\"\"Converts a PDF file into images for each page, saves them to a folder, and returns a list of image paths.\"\"\"\n",
        "\n",
        "    # Create output folder if it doesn't exist\n",
        "    if not os.path.exists(output_folder):\n",
        "        os.makedirs(output_folder)\n",
        "\n",
        "    # Convert PDF to images\n",
        "    images = convert_from_path(file_path, dpi=200, output_folder=output_folder, fmt=\"jpg\")\n",
        "\n",
        "    # Generate image paths\n",
        "    image_paths = []\n",
        "    pages_list = []\n",
        "    upload_file_name = []\n",
        "    for i, image in enumerate(images):\n",
        "        image_name = f\"page_{i+1}.jpg\"  # Page numbers start from 1\n",
        "        image_path = os.path.join(output_folder, image_name)\n",
        "        image.save(image_path, \"JPEG\")\n",
        "        image_paths.append(image_path)\n",
        "        files_to_upload = genai.upload_file(image_path, display_name=image_path)\n",
        "        pages_list.append(files_to_upload)\n",
        "        upload_file_name.append([files_to_upload.name, files_to_upload.display_name])\n",
        "\n",
        "    return image_paths, pages_list, upload_file_name\n",
        "\n",
        "def make_request(prompt, files):\n",
        "  request = [prompt]\n",
        "  for file in files:\n",
        "    request.append(file)\n",
        "  return request\n",
        "\n",
        "def delete_files(output_folder):\n",
        "  for filename in os.listdir(output_folder):\n",
        "    if filename.endswith(\".jpg\"):\n",
        "      file_path = os.path.join(output_folder, filename)\n",
        "      genai.delete_file(name=file_path)"
      ],
      "metadata": {
        "cellView": "form",
        "id": "m8-A8ExQDN5k"
      },
      "execution_count": null,
      "outputs": []
    },
    {
      "cell_type": "code",
      "source": [
        "%%time\n",
        "\n",
        "file_path = \"/content/data/Idea/stage_1_prototype_Google Cloud TPU blog.pdf\"\n",
        "output_folder = \"/content/output_images\"\n",
        "image_paths, pages_list, upload_file_name = pdf_to_images(file_path, output_folder)\n",
        "\n",
        "\n",
        "response = model.generate_content(\n",
        "make_request(\"what is the emfu for bf16 and 128b parameter model with 1 tpu v5e pod? Cite the table and page number and explain the significance of the results\",\n",
        "             pages_list),request_options={\"timeout\": 600})\n",
        "rich_Markdown(response.text)"
      ],
      "metadata": {
        "id": "00BAnkvRD8hX"
      },
      "execution_count": null,
      "outputs": []
    },
    {
      "cell_type": "code",
      "source": [
        "%%time\n",
        "\n",
        "response = model_flash.generate_content(\n",
        "make_request(\"what is the emfu for bf16 and 128b parameter model with 1 tpu v5e pod? Cite the table and page number and explain the significance of the results\",\n",
        "             pages_list))\n",
        "rich_Markdown(response.text)"
      ],
      "metadata": {
        "id": "oi_NjB6NSLeF"
      },
      "execution_count": null,
      "outputs": []
    },
    {
      "cell_type": "code",
      "source": [
        "for filename in upload_file_name:\n",
        "  print(\"Deleteing...\",filename[0])\n",
        "  genai.delete_file(name=filename[0])"
      ],
      "metadata": {
        "id": "R1KyZ0JzFWIo"
      },
      "execution_count": null,
      "outputs": []
    },
    {
      "cell_type": "markdown",
      "source": [
        "### Video"
      ],
      "metadata": {
        "id": "q6fVmmQ2zefi"
      }
    },
    {
      "cell_type": "code",
      "source": [
        "#@title Helper Functions\n",
        "## Helper Function\n",
        "\n",
        "import cv2\n",
        "import os\n",
        "import shutil\n",
        "\n",
        "def process_video(video_file_path, full_video=False):\n",
        "    \"\"\"\n",
        "    Extracts frames from a video, optionally uploads them, and returns a list of File objects.\n",
        "\n",
        "    Args:\n",
        "        video_file_path (str): Path to the video file.\n",
        "        full_video (bool, optional): If True, uploads all frames. Otherwise, uploads a 10-second slice. Defaults to False.\n",
        "\n",
        "    Returns:\n",
        "        list: A list of File objects, each containing file path, response (if uploaded), and timestamp.\n",
        "    \"\"\"\n",
        "\n",
        "    FRAME_EXTRACTION_DIRECTORY = \"/content/frames\"\n",
        "    FRAME_PREFIX = \"_frame\"\n",
        "\n",
        "    def create_frame_output_dir(output_dir):\n",
        "        \"\"\"Creates or cleans up the frame output directory.\"\"\"\n",
        "        if not os.path.exists(output_dir):\n",
        "            os.makedirs(output_dir)\n",
        "        else:\n",
        "            shutil.rmtree(output_dir)\n",
        "            os.makedirs(output_dir)\n",
        "\n",
        "    def get_timestamp(filename):\n",
        "        \"\"\"Extracts the timestamp from a frame filename.\"\"\"\n",
        "        parts = filename.split(FRAME_PREFIX)\n",
        "        if len(parts) != 2:\n",
        "            return None  # Incorrect format\n",
        "        return parts[1].split('.')[0]\n",
        "\n",
        "    class File:\n",
        "        \"\"\"Represents a file with path, display name, timestamp, and optional response.\"\"\"\n",
        "        def __init__(self, file_path, display_name=None):\n",
        "            self.file_path = file_path\n",
        "            self.display_name = display_name or os.path.basename(file_path)\n",
        "            self.timestamp = get_timestamp(file_path)\n",
        "\n",
        "        def set_file_response(self, response):\n",
        "            self.response = response\n",
        "\n",
        "    # Extract frames\n",
        "    create_frame_output_dir(FRAME_EXTRACTION_DIRECTORY)\n",
        "    vidcap = cv2.VideoCapture(video_file_path)\n",
        "    if not vidcap.isOpened():\n",
        "        raise ValueError(\"Could not open video file.\")\n",
        "\n",
        "    fps = vidcap.get(cv2.CAP_PROP_FPS)\n",
        "    frame_duration = 1 / fps\n",
        "    output_file_prefix = os.path.basename(video_file_path).replace('.', '_')\n",
        "    frame_count = 0\n",
        "    count = 0\n",
        "\n",
        "    while vidcap.isOpened():\n",
        "        success, frame = vidcap.read()\n",
        "        if not success:\n",
        "            break  # End of video\n",
        "\n",
        "        if int(count / fps) == frame_count:\n",
        "            min = frame_count // 60\n",
        "            sec = frame_count % 60\n",
        "            time_string = f\"{min:02d}:{sec:02d}\"\n",
        "            image_name = f\"{output_file_prefix}{FRAME_PREFIX}{time_string}.jpg\"\n",
        "            output_filename = os.path.join(FRAME_EXTRACTION_DIRECTORY, image_name)\n",
        "            cv2.imwrite(output_filename, frame)\n",
        "            frame_count += 1\n",
        "\n",
        "        count += 1\n",
        "\n",
        "    vidcap.release()\n",
        "    # print(f\"Extracted: {frame_count} frames\")\n",
        "\n",
        "    # Process and optionally upload frames\n",
        "    files = [File(os.path.join(FRAME_EXTRACTION_DIRECTORY, file)) for file in sorted(os.listdir(FRAME_EXTRACTION_DIRECTORY))]\n",
        "    files_to_upload = files if full_video else files[40:50]  # Adjust slice as needed\n",
        "\n",
        "    uploaded_files = []\n",
        "    # print(f'Uploading {len(files_to_upload)} files...')\n",
        "    for file in files_to_upload:\n",
        "        # print(f'Uploading: {file.file_path}...')\n",
        "        try:\n",
        "            response = genai.upload_file(path=file.file_path)  # Assuming 'genai' is available\n",
        "            file.set_file_response(response)\n",
        "            uploaded_files.append(file)\n",
        "        except Exception as e:\n",
        "            print(f\"Error uploading {file.file_path}: {e}\")\n",
        "\n",
        "    # print(f\"Uploaded: {len(uploaded_files)} files\")\n",
        "    return uploaded_files\n",
        "\n",
        "# Make GenerateContent request with the structure described above.\n",
        "def make_request(prompt, files):\n",
        "  request = [prompt]\n",
        "  for file in files:\n",
        "    request.append(file.timestamp)\n",
        "    request.append(file.response)\n",
        "  return request"
      ],
      "metadata": {
        "cellView": "form",
        "id": "GfPC35Kmze0O"
      },
      "execution_count": null,
      "outputs": []
    },
    {
      "cell_type": "code",
      "source": [
        "# Upload a video ~ 1min\n",
        "video_file_name = \"/content/data/Idea/What's next for AI and Google Search _ Google I_O 2023.mp4\"\n",
        "processed_files_search = process_video(video_file_name, full_video=True)"
      ],
      "metadata": {
        "id": "l-rus7l4-VST"
      },
      "execution_count": null,
      "outputs": []
    },
    {
      "cell_type": "code",
      "source": [
        "%%time\n",
        "\n",
        "request = make_request(\"Describe this video and How is google using generative ai in search? Give response in bullet\", processed_files_search)\n",
        "response = model.generate_content(request,\n",
        "                                  request_options={\"timeout\": 600})\n",
        "rich_Markdown(response.text)"
      ],
      "metadata": {
        "id": "SwxPpv70_i8A"
      },
      "execution_count": null,
      "outputs": []
    },
    {
      "cell_type": "code",
      "source": [
        "%%time\n",
        "\n",
        "request = make_request(\"Describe this video and How is google using generative ai in search? Give response in bullet\", processed_files_search)\n",
        "response = model_flash.generate_content(request,\n",
        "                                  request_options={\"timeout\": 600})\n",
        "rich_Markdown(response.text)"
      ],
      "metadata": {
        "id": "OGMc13CWSio7"
      },
      "execution_count": null,
      "outputs": []
    },
    {
      "cell_type": "markdown",
      "source": [
        "## Embeddings"
      ],
      "metadata": {
        "id": "DxsvTILhMx1w"
      }
    },
    {
      "cell_type": "code",
      "source": [
        "title = \"The next generation of AI for developers and Google Workspace\"\n",
        "sample_text = (\"Title: The next generation of AI for developers and Google Workspace\"\n",
        "    \"\\n\"\n",
        "    \"Full article:\\n\"\n",
        "    \"\\n\"\n",
        "    \"Gemini API & Google AI Studio: An approachable way to explore and prototype with generative AI applications\")\n",
        "\n",
        "model = 'models/text-embedding-004'\n",
        "embedding = genai.embed_content(model=model,\n",
        "                                content=sample_text,\n",
        "                                task_type=\"retrieval_document\",\n",
        "                                title=title)\n",
        "\n",
        "print(embedding)"
      ],
      "metadata": {
        "id": "3FEi8s6GPJME"
      },
      "execution_count": null,
      "outputs": []
    },
    {
      "cell_type": "code",
      "source": [
        "len(embedding['embedding'])"
      ],
      "metadata": {
        "id": "HkeHHogoPU3S"
      },
      "execution_count": null,
      "outputs": []
    }
  ]
}