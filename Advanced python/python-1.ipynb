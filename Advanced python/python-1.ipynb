{
  "nbformat": 4,
  "nbformat_minor": 0,
  "metadata": {
    "colab": {
      "provenance": []
    },
    "kernelspec": {
      "name": "python3",
      "display_name": "Python 3"
    },
    "language_info": {
      "name": "python"
    }
  },
  "cells": [
    {
      "cell_type": "markdown",
      "source": [
        "# Advanced Python Tutorial\n",
        "\n",
        "In this tutorial, we will be exploring some advanced Python concepts and techniques using Google Colab.\n",
        "\n",
        "## Table of Contents\n",
        "\n",
        "### Section 1: Advanced Python Techniques\n",
        "1. List Comprehensions\n",
        "2. Lambda Functions\n",
        "3. Map, Filter, and Reduce Functions\n",
        "4. Decorators\n",
        "5. Context Managers\n",
        "6. Generators\n",
        "7. Multithreading and Multiprocessing\n",
        "8. Working with Files (Reading and Writing)\n",
        "9. Regular Expressions\n",
        "10. Error Handling and Exceptions\n",
        "\n",
        "### Section 2: Classes\n",
        "11. Classes and Objects\n",
        "12. Inheritance\n",
        "13. Property Decorators\n",
        "14. Python's Data Model & Magic Methods"
      ],
      "metadata": {
        "id": "jsUzgLHNa8fT"
      }
    },
    {
      "cell_type": "markdown",
      "source": [
        "## 1. List Comprehensions\n",
        "\n",
        "List comprehensions provide a concise way to create lists. It consists of an expression followed by a `for` statement inside square brackets. Here's an example:"
      ],
      "metadata": {
        "id": "2y6gfk0gbpy4"
      }
    },
    {
      "cell_type": "code",
      "source": [
        "squares = [x * x for x in range(10)]"
      ],
      "metadata": {
        "id": "UvYzJkaYbyJ0"
      },
      "execution_count": null,
      "outputs": []
    },
    {
      "cell_type": "markdown",
      "source": [
        "This creates a list of squares of even numbers from 0 to 9.\n",
        "\n",
        "### Exercise 1:\n",
        "\n",
        "Use list comprehensions to create a list of cubes of odd numbers from 1 to 20."
      ],
      "metadata": {
        "id": "4qhL6mD7b1Z7"
      }
    },
    {
      "cell_type": "code",
      "source": [
        "cubes = [x ** 3 for x in range(1, 21) if x % 2 != 0]\n",
        "print(cubes)"
      ],
      "metadata": {
        "id": "vjWSjzP2b7r-"
      },
      "execution_count": null,
      "outputs": []
    },
    {
      "cell_type": "markdown",
      "source": [
        "## 2. Lambda Functions\n",
        "\n",
        "Lambda functions are small, anonymous functions that can be created with the `lambda` keyword. They are useful when you need a simple function for a short period of time and don't want to define a full function using `def`. Lambda functions can take any number of arguments but can only have one expression."
      ],
      "metadata": {
        "id": "ueA2cVWHcOXs"
      }
    },
    {
      "cell_type": "code",
      "source": [
        "add = lambda x, y: x + y\n",
        "print(add(5, 3))  # Output: 8"
      ],
      "metadata": {
        "id": "Vx8_SSkMcSU2"
      },
      "execution_count": null,
      "outputs": []
    },
    {
      "cell_type": "markdown",
      "source": [
        "## 3. Map, Filter, and Reduce Functions\n",
        "\n",
        "`map`, `filter`, and `reduce` are higher-order functions that take a function and a sequence (e.g., list, tuple) as input and perform specific operations on them.\n",
        "\n",
        "### Map\n",
        "\n",
        "The `map()` function applies a given function to each item of a sequence and returns an iterator."
      ],
      "metadata": {
        "id": "kVfEwiQncTJL"
      }
    },
    {
      "cell_type": "code",
      "source": [
        "numbers = [1, 2, 3, 4, 5]\n",
        "squ = map(lambda x: x * x, numbers)\n",
        "print(squ)"
      ],
      "metadata": {
        "colab": {
          "base_uri": "https://localhost:8080/"
        },
        "id": "edLHpKWqcWkQ",
        "outputId": "e69efd79-1c98-4112-d764-93ac1ceed2f9"
      },
      "execution_count": 11,
      "outputs": [
        {
          "output_type": "stream",
          "name": "stdout",
          "text": [
            "[1, 4, 9, 16, 25]\n"
          ]
        }
      ]
    },
    {
      "cell_type": "markdown",
      "source": [
        "Convert the iterator to a list"
      ],
      "metadata": {
        "id": "opPDEAz6cg6U"
      }
    },
    {
      "cell_type": "code",
      "source": [
        "squares_list = list(squares)\n",
        "print(squares_list)  # Output: [1, 4, 9, 16, 25]"
      ],
      "metadata": {
        "colab": {
          "base_uri": "https://localhost:8080/"
        },
        "id": "8-Qfbu6accmi",
        "outputId": "68525432-9ab7-4e2c-8d8a-e6a92e19fb89"
      },
      "execution_count": 7,
      "outputs": [
        {
          "output_type": "stream",
          "name": "stdout",
          "text": [
            "[1, 4, 9, 16, 25]\n"
          ]
        }
      ]
    },
    {
      "cell_type": "markdown",
      "source": [
        "### Filter\n",
        "\n",
        "The `filter()` function filters the items of a sequence based on a function that returns a boolean value."
      ],
      "metadata": {
        "id": "2JkNWZRrcsh3"
      }
    },
    {
      "cell_type": "code",
      "source": [
        "numbers = [1, 2, 3, 4, 5]\n",
        "even_numbers = filter(lambda x: x % 2 == 0, numbers)"
      ],
      "metadata": {
        "id": "KYTyFbL8cxQk"
      },
      "execution_count": 9,
      "outputs": []
    },
    {
      "cell_type": "markdown",
      "source": [
        "Convert the iterator to a list"
      ],
      "metadata": {
        "id": "md5W4Dh4cY5G"
      }
    },
    {
      "cell_type": "code",
      "source": [
        "even_numbers_list = list(even_numbers)\n",
        "print(even_numbers_list)  # Output: [2, 4]"
      ],
      "metadata": {
        "colab": {
          "base_uri": "https://localhost:8080/"
        },
        "id": "Q_59tfewdCHS",
        "outputId": "cfb4acf3-02ee-4a2b-95c6-e38e233854f7"
      },
      "execution_count": 10,
      "outputs": [
        {
          "output_type": "stream",
          "name": "stdout",
          "text": [
            "[2, 4]\n"
          ]
        }
      ]
    },
    {
      "cell_type": "markdown",
      "source": [
        "### Reduce\n",
        "\n",
        "The `reduce()` function reduces a sequence to a single value by applying a given function cumulatively to the items, from left to right. The `reduce()` function is available in the `functools` module.\n"
      ],
      "metadata": {
        "id": "xz0AWLHVdETy"
      }
    },
    {
      "cell_type": "code",
      "source": [
        "from functools import reduce\n",
        "\n",
        "numbers = [1, 2, 3, 4, 5]\n",
        "product = reduce(lambda x, y: x * y, numbers)\n",
        "print(product)  # Output: 120 (1 * 2 * 3 * 4 * 5)"
      ],
      "metadata": {
        "id": "2zLrt0uvdK3I"
      },
      "execution_count": null,
      "outputs": []
    },
    {
      "cell_type": "markdown",
      "source": [
        "## 4. Decorators\n",
        "\n",
        "Decorators are a way to modify the behavior of functions or classes. They allow you to wrap another function to extend its behavior without modifying its code.\n",
        "\n",
        "Here's an example of a simple decorator that measures the execution time of a function:\n"
      ],
      "metadata": {
        "id": "rGIUSZ4qdPT7"
      }
    },
    {
      "cell_type": "code",
      "source": [
        "import time\n",
        "\n",
        "def timing_decorator(func):\n",
        "    def wrapper(*args, **kwargs):\n",
        "        start_time = time.time()\n",
        "        result = func(*args, **kwargs)\n",
        "        end_time = time.time()\n",
        "        print(f\"{func.__name__} took {end_time - start_time:.5f} seconds to execute.\")\n",
        "        return result\n",
        "\n",
        "    return wrapper\n",
        "\n",
        "@timing_decorator\n",
        "def slow_function():\n",
        "    time.sleep(2)\n",
        "\n",
        "slow_function()"
      ],
      "metadata": {
        "colab": {
          "base_uri": "https://localhost:8080/"
        },
        "id": "S-talp9YdOfQ",
        "outputId": "c4d70812-e210-44c9-8468-323779f024a1"
      },
      "execution_count": 18,
      "outputs": [
        {
          "output_type": "stream",
          "name": "stdout",
          "text": [
            "slow_function took 2.00210 seconds to execute.\n"
          ]
        }
      ]
    },
    {
      "cell_type": "markdown",
      "source": [
        "\n",
        "## 5. Context Managers\n",
        "\n",
        "Context managers are used to manage resources, such as file handles or network connections, that need to be acquired and released. They are typically used with the `with` statement to ensure that the resources are properly acquired and released.\n",
        "\n",
        "Here's an example of a context manager for working with files:"
      ],
      "metadata": {
        "id": "gRdNZHI4dUz3"
      }
    },
    {
      "cell_type": "code",
      "source": [
        "with open(\"file.txt\", \"r\") as file:\n",
        "    content = file.read()\n",
        "    # Do something with the content"
      ],
      "metadata": {
        "id": "LxBLEYFPdYGV"
      },
      "execution_count": null,
      "outputs": []
    },
    {
      "cell_type": "markdown",
      "source": [
        "In this example, the `open()` function returns a file object, which is a context manager. When the `with` block is exited, the file is automatically closed.\n",
        "\n",
        "You can create your own context managers using the `contextlib` module:"
      ],
      "metadata": {
        "id": "C3e5vKZidf-7"
      }
    },
    {
      "cell_type": "code",
      "source": [
        "from contextlib import contextmanager\n",
        "\n",
        "@contextmanager\n",
        "def my_context():\n",
        "    print(\"Entering the context\")\n",
        "    yield\n",
        "    print(\"Exiting the context\")\n",
        "\n",
        "with my_context():\n",
        "    print(\"Inside the context\")"
      ],
      "metadata": {
        "id": "mZ-mV0Xjdi5t"
      },
      "execution_count": null,
      "outputs": []
    },
    {
      "cell_type": "markdown",
      "source": [
        "## 6. Generators\n",
        "\n",
        "Generators are a simple way to create iterators. They are defined like normal functions, but instead of returning a value, they `yield` it. When the generator is called, it returns an iterator object, but does not start execution immediately. The function continues from where it left off each time `__next__()` is called on the iterator.\n",
        "\n",
        "Here's an example of a generator that yields the Fibonacci sequence:"
      ],
      "metadata": {
        "id": "t0i3QbKNdoRJ"
      }
    },
    {
      "cell_type": "code",
      "source": [
        "def fibonacci(count):\n",
        "    a, b = 0, 1\n",
        "    while count > 0:\n",
        "        yield a\n",
        "        a, b = b, a + b\n",
        "        count -= 1\n",
        "\n",
        "# Generate the first 10 Fibonacci numbers\n",
        "fib = fibonacci(10)\n",
        "\n",
        "for num in fib:\n",
        "    print(num)"
      ],
      "metadata": {
        "colab": {
          "base_uri": "https://localhost:8080/"
        },
        "id": "SHXyN6Ekdr8R",
        "outputId": "3d236ef5-75f7-454f-e11a-58598697152e"
      },
      "execution_count": 1,
      "outputs": [
        {
          "output_type": "stream",
          "name": "stdout",
          "text": [
            "0\n",
            "1\n",
            "1\n",
            "2\n",
            "3\n",
            "5\n",
            "8\n",
            "13\n",
            "21\n",
            "34\n"
          ]
        }
      ]
    },
    {
      "cell_type": "markdown",
      "source": [
        "\n",
        "## 7. Multithreading and Multiprocessing\n",
        "\n",
        "Python provides the `threading` and `multiprocessing` modules to work with threads and processes, respectively. Threads are lightweight, but they have limitations due to the Global Interpreter Lock (GIL) in CPython. Processes, on the other hand, can take full advantage of multiple CPU cores but have higher overhead.\n",
        "\n",
        "Here's an example of using threads to download multiple files concurrently:"
      ],
      "metadata": {
        "id": "zMTFKjMFdxIx"
      }
    },
    {
      "cell_type": "code",
      "source": [
        "import threading\n",
        "import urllib.request\n",
        "\n",
        "urls = [\n",
        "    \"https://example.com/file1.txt\",\n",
        "    \"https://example.com/file2.txt\",\n",
        "    \"https://example.com/file3.txt\",\n",
        "]\n",
        "\n",
        "def download_file(url):\n",
        "    urllib.request.urlretrieve(url, url.split(\"/\")[-1])\n",
        "\n",
        "# Create and start the threads\n",
        "threads = []\n",
        "for url in urls:\n",
        "    t = threading.Thread(target=download_file, args=(url,))\n",
        "    t.start()\n",
        "    threads.append(t)\n",
        "\n",
        "# Wait for all threads to finish\n",
        "for t in threads:\n",
        "    t.join()\n",
        "\n",
        "print(\"All files downloaded.\")"
      ],
      "metadata": {
        "id": "QELLsQXsd2tG"
      },
      "execution_count": null,
      "outputs": []
    },
    {
      "cell_type": "markdown",
      "source": [
        "And here's an example of using processes to calculate the factorial of several numbers:"
      ],
      "metadata": {
        "id": "OyDa__Yrd3uY"
      }
    },
    {
      "cell_type": "code",
      "source": [
        "import multiprocessing\n",
        "\n",
        "def factorial(n, return_dict):\n",
        "    result = 1\n",
        "    for i in range(1, n + 1):\n",
        "        result *= i\n",
        "    return_dict[n] = result\n",
        "\n",
        "numbers = [5, 7, 10]\n",
        "\n",
        "# Create and start the processes\n",
        "processes = []\n",
        "manager = multiprocessing.Manager()\n",
        "return_dict = manager.dict()\n",
        "\n",
        "for num in numbers:\n",
        "    p = multiprocessing.Process(target=factorial, args=(num, return_dict))\n",
        "    p.start()\n",
        "    processes.append(p)\n",
        "\n",
        "# Wait for all processes to finish\n",
        "for p in processes:\n",
        "    p.join()\n",
        "\n",
        "print(\"Factorials:\")\n",
        "for num in numbers:\n",
        "    print(f\"{num}: {return_dict[num]}\")"
      ],
      "metadata": {
        "colab": {
          "base_uri": "https://localhost:8080/"
        },
        "id": "jW0tPmm2d69W",
        "outputId": "f73bc9e6-4265-4c54-fe06-b4050b871fa0"
      },
      "execution_count": 19,
      "outputs": [
        {
          "output_type": "stream",
          "name": "stdout",
          "text": [
            "Factorials:\n",
            "5: 120\n",
            "7: 5040\n",
            "10: 3628800\n"
          ]
        }
      ]
    },
    {
      "cell_type": "markdown",
      "source": [
        "## 8. Working with Files (Reading and Writing)\n",
        "\n",
        "To read and write files in Python, you can use the built-in `open()` function. The `open()` function takes two arguments: the file path and the mode in which the file is opened.\n",
        "\n",
        "Here's an example of how to write some text to a file:"
      ],
      "metadata": {
        "id": "zLLIuaIqeCSg"
      }
    },
    {
      "cell_type": "code",
      "source": [
        "with open(\"file.txt\", \"w\") as file:\n",
        "    file.write(\"Hello, World!\")"
      ],
      "metadata": {
        "id": "irP31VRbjtSe"
      },
      "execution_count": null,
      "outputs": []
    },
    {
      "cell_type": "markdown",
      "source": [
        "And here's how to read the content of a file:"
      ],
      "metadata": {
        "id": "lgNEiymijvmp"
      }
    },
    {
      "cell_type": "code",
      "source": [
        "with open(\"file.txt\", \"r\") as file:\n",
        "    content = file.read()\n",
        "    print(content)"
      ],
      "metadata": {
        "id": "O5yYu_UHjztM"
      },
      "execution_count": null,
      "outputs": []
    },
    {
      "cell_type": "markdown",
      "source": [
        "## 9. Regular Expressions\n",
        "\n",
        "Regular expressions are used to perform search, replace, and validation operations on text data. The `re` module in Python provides functions to work with regular expressions.\n",
        "\n",
        "Here's an example of using regular expressions to check if a string is a valid email address:"
      ],
      "metadata": {
        "id": "vF8Lei8teORg"
      }
    },
    {
      "cell_type": "code",
      "source": [
        "import re\n",
        "\n",
        "email_pattern = r\"^[a-zA-Z0-9._%+-]+@[a-zA-Z0-9.-]+\\.[a-zA-Z]{2,}$\"\n",
        "\n",
        "email = \"user@example.com\"\n",
        "\n",
        "if re.match(email_pattern, email):\n",
        "    print(\"Valid email address\")\n",
        "else:\n",
        "    print(\"Invalid email address\")"
      ],
      "metadata": {
        "colab": {
          "base_uri": "https://localhost:8080/"
        },
        "id": "HiYEJw4ReSgC",
        "outputId": "da99a926-2df2-4c1e-9dbf-838f52fa4f9b"
      },
      "execution_count": 20,
      "outputs": [
        {
          "output_type": "stream",
          "name": "stdout",
          "text": [
            "Valid email address\n"
          ]
        }
      ]
    },
    {
      "cell_type": "markdown",
      "source": [
        "## 10. Error Handling and Exceptions\n",
        "\n",
        "Error handling is an essential part of programming. In Python, errors are handled through exceptions. Exceptions are events that are triggered when an error occurs during the execution of a program. You can handle exceptions using the `try` and `except` statements.\n",
        "\n",
        "Here's an example of handling exceptions:"
      ],
      "metadata": {
        "id": "Ab4jLh5CejGf"
      }
    },
    {
      "cell_type": "code",
      "source": [
        "try:\n",
        "    result = 1 / 0\n",
        "except ZeroDivisionError:\n",
        "    print(\"Error: Division by zero.\")"
      ],
      "metadata": {
        "colab": {
          "base_uri": "https://localhost:8080/"
        },
        "id": "za4mxRJLen3S",
        "outputId": "a3f74d1a-a742-4e29-a762-69a8db16cf2f"
      },
      "execution_count": 21,
      "outputs": [
        {
          "output_type": "stream",
          "name": "stdout",
          "text": [
            "Error: Division by zero.\n"
          ]
        }
      ]
    },
    {
      "cell_type": "markdown",
      "source": [
        "\n",
        "You can catch multiple exceptions by specifying them in a tuple:"
      ],
      "metadata": {
        "id": "lUexFKyIerGW"
      }
    },
    {
      "cell_type": "code",
      "source": [
        "try:\n",
        "    result = 1 / \"string\"\n",
        "except (ZeroDivisionError, TypeError):\n",
        "    print(\"Error: Invalid operation.\")"
      ],
      "metadata": {
        "colab": {
          "base_uri": "https://localhost:8080/"
        },
        "id": "Ya-rAJqfeton",
        "outputId": "6920327d-881b-4b4d-ad20-bc52fc0aead9"
      },
      "execution_count": 22,
      "outputs": [
        {
          "output_type": "stream",
          "name": "stdout",
          "text": [
            "Error: Invalid operation.\n"
          ]
        }
      ]
    },
    {
      "cell_type": "markdown",
      "source": [
        "\n",
        "You can also use the `finally` block to specify code that should run regardless of whether an exception was raised or not:"
      ],
      "metadata": {
        "id": "OypJfyySewMU"
      }
    },
    {
      "cell_type": "code",
      "source": [
        "try:\n",
        "    result = 1 / 2\n",
        "except ZeroDivisionError:\n",
        "    print(\"Error: Division by zero.\")\n",
        "finally:\n",
        "    print(\"This will be executed no matter what.\")"
      ],
      "metadata": {
        "colab": {
          "base_uri": "https://localhost:8080/"
        },
        "id": "qRlo2xhWey5t",
        "outputId": "f379e3f8-3474-4733-d511-f4a60fcb3cce"
      },
      "execution_count": 26,
      "outputs": [
        {
          "output_type": "stream",
          "name": "stdout",
          "text": [
            "Error: Division by zero.\n",
            "This will be executed no matter what.\n"
          ]
        }
      ]
    },
    {
      "cell_type": "markdown",
      "source": [
        "# ***Section 2: Classes***\n",
        "\n",
        "## 11. Classes and Objects\n",
        "\n",
        "Object-oriented programming (OOP) is a programming paradigm that uses objects, which are instances of classes, to represent and manipulate data. Python supports OOP through its class system.\n",
        "\n",
        "Here's an example of a class definition and object creation:"
      ],
      "metadata": {
        "id": "U4Qd9vmGe_Y-"
      }
    },
    {
      "cell_type": "code",
      "source": [
        "class Dog:\n",
        "    def __init__(self, name, age):\n",
        "        self.name = name\n",
        "        self.age = age\n",
        "\n",
        "    def bark(self):\n",
        "        print(f\"{self.name} says Woof!\")\n",
        "\n",
        "my_dog = Dog(\"Buddy\", 3)\n",
        "my_dog.bark()"
      ],
      "metadata": {
        "colab": {
          "base_uri": "https://localhost:8080/"
        },
        "id": "hsM4e6MGfPpU",
        "outputId": "bc04c7f7-94c7-4037-ff59-fe6412bf6dde"
      },
      "execution_count": 27,
      "outputs": [
        {
          "output_type": "stream",
          "name": "stdout",
          "text": [
            "Buddy says Woof!\n"
          ]
        }
      ]
    },
    {
      "cell_type": "markdown",
      "source": [
        "In this example, we define a `Dog` class with an `__init__` method, which is the constructor, and a `bark` method. We then create an instance of the `Dog` class and call its `bark` method.\n",
        "\n",
        "## 12. Inheritance\n",
        "\n",
        "Inheritance is a way to create a new class that is a modified version of an existing class. The new class is called the subclass, and the existing class is the superclass.\n",
        "\n",
        "Here's an example of inheritance:"
      ],
      "metadata": {
        "id": "14nECzZKfUEX"
      }
    },
    {
      "cell_type": "code",
      "source": [
        "class Animal:\n",
        "    def __init__(self, name):\n",
        "        self.name = name\n",
        "\n",
        "    def speak(self):\n",
        "        raise NotImplementedError(\"Subclass must implement this method\")\n",
        "\n",
        "class Dog(Animal):\n",
        "    def speak(self):\n",
        "        return f\"{self.name} says Woof!\"\n",
        "\n",
        "class Cat(Animal):\n",
        "    def speak(self):\n",
        "        return f\"{self.name} says Meow!\"\n",
        "\n",
        "dog = Dog(\"Buddy\")\n",
        "cat = Cat(\"Whiskers\")\n",
        "\n",
        "print(dog.speak())  # Output: Buddy says Woof!\n",
        "print(cat.speak())  # Output: Whiskers says Meow"
      ],
      "metadata": {
        "colab": {
          "base_uri": "https://localhost:8080/"
        },
        "id": "sGNtQbzPfX4x",
        "outputId": "d57c7d1c-723a-42cc-cfb1-98c2a89db5df"
      },
      "execution_count": 28,
      "outputs": [
        {
          "output_type": "stream",
          "name": "stdout",
          "text": [
            "Buddy says Woof!\n",
            "Whiskers says Meow!\n"
          ]
        }
      ]
    },
    {
      "cell_type": "markdown",
      "source": [
        "In this example, we define a base class `Animal` and two subclasses `Dog` and `Cat`. The subclasses override the `speak` method to provide their own implementation.\n",
        "\n",
        "## 13. Property Decorators\n",
        "\n",
        "Property decorators allow you to define methods in a class that are accessed like attributes. This can be useful for calculated properties or when you want to enforce certain conditions on attribute values.\n",
        "\n",
        "Here's an example of using property decorators:"
      ],
      "metadata": {
        "id": "aWgK5MOlfeo4"
      }
    },
    {
      "cell_type": "code",
      "source": [
        "class Circle:\n",
        "    def __init__(self, radius):\n",
        "        self._radius = radius\n",
        "\n",
        "    @property\n",
        "    def radius(self):\n",
        "        return self._radius\n",
        "\n",
        "    @radius.setter\n",
        "    def radius(self, value):\n",
        "        if value < 0:\n",
        "            raise ValueError(\"Radius cannot be negative\")\n",
        "        self._radius = value\n",
        "\n",
        "    @property\n",
        "    def diameter(self):\n",
        "        return self._radius * 2\n",
        "\n",
        "    @property\n",
        "    def area(self):\n",
        "        return 3.14159 * self._radius * self._radius\n",
        "\n",
        "circle = Circle(5)\n",
        "print(circle.radius)     # Output: 5\n",
        "print(circle.diameter)   # Output: 10\n",
        "print(circle.area)       # Output: 78.53975\n",
        "circle.radius = 10       # Set the radius to 10\n",
        "print(circle.diameter)   # Output: 20"
      ],
      "metadata": {
        "colab": {
          "base_uri": "https://localhost:8080/"
        },
        "id": "VC1vUhoWff6x",
        "outputId": "6e780dc3-56b6-48a9-9787-69ec84ca7650"
      },
      "execution_count": 29,
      "outputs": [
        {
          "output_type": "stream",
          "name": "stdout",
          "text": [
            "5\n",
            "10\n",
            "78.53975\n",
            "20\n"
          ]
        }
      ]
    },
    {
      "cell_type": "markdown",
      "source": [
        "In this example, we define a `Circle` class with `radius`, `diameter`, and `area` properties. The `radius` property uses a setter to validate the input value.\n",
        "\n",
        "## 14. Python's Data Model & Magic Methods\n",
        "\n",
        "Python's data model allows you to define how your objects behave with respect to certain operations by implementing special methods, also known as magic or dunder (double underscore) methods.\n",
        "\n",
        "Here's an example of implementing magic methods for a custom `Fraction` class:"
      ],
      "metadata": {
        "id": "ni_AOqRYfpYt"
      }
    },
    {
      "cell_type": "code",
      "source": [
        "class Fraction:\n",
        "    def __init__(self, numerator, denominator):\n",
        "        self.numerator = numerator\n",
        "        self.denominator = denominator\n",
        "\n",
        "    def __str__(self):\n",
        "        return f\"{self.numerator}/{self.denominator}\"\n",
        "\n",
        "    def __add__(self, other):\n",
        "        if isinstance(other, Fraction):\n",
        "            num = self.numerator * other.denominator + other.numerator * self.denominator\n",
        "            denom = self.denominator * other.denominator\n",
        "            return Fraction(num, denom)\n",
        "        else:\n",
        "            raise TypeError(\"Invalid type\")\n",
        "\n",
        "f1 = Fraction(1, 2)\n",
        "f2 = Fraction(1, 3)\n",
        "\n",
        "f3 = f1 + f2\n",
        "print(f3)  # Output: 5/6"
      ],
      "metadata": {
        "id": "QmQgPozkfufA"
      },
      "execution_count": null,
      "outputs": []
    },
    {
      "cell_type": "markdown",
      "source": [
        "In this example, we implement the `__str__` magic method to represent the `Fraction` object as a string, and the `__add__` magic method to add two fractions."
      ],
      "metadata": {
        "id": "gyNZI-fzfyfN"
      }
    }
  ]
}