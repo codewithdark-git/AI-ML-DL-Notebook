{
 "cells": [
  {
   "cell_type": "markdown",
   "metadata": {},
   "source": [
    "### Week 1 and 2: Computer Science Fundamentals 💻\n",
    "\n",
    "**Topics Covered:**\n",
    "\n",
    "- **Data Representation:** Bits and Bytes, Storing text and numbers, Binary number system.\n",
    "- **Basics of Computer Networks:** IP addresses, Internet routing protocol.\n",
    "- **Protocols:** UDP, TCP, HTTP, and The World Wide Web.\n",
    "- **Programming Basics:** Variables, strings, numbers, `if` conditions, loops.\n",
    "- **Algorithm Basics**\n",
    "\n",
    "**Learning Resources:**\n",
    "\n",
    "1. [Codecademy: Introduction to Computer Science](https://www.codecademy.com/learn/introduction-to-computer-science)\n",
    "2. [Khan Academy: Computer Science Fundamentals](https://bit.ly/42DUXtW)  \n",
    "   - In this course, focus on the first 4 sections:  \n",
    "     1. Digital Information  \n",
    "     2. The Internet  \n",
    "     3. Programming  \n",
    "     4. Algorithms  \n",
    "   - Completing the remaining sections is optional. Do them if you have time and interest.\n"
   ]
  },
  {
   "cell_type": "code",
   "execution_count": null,
   "metadata": {},
   "outputs": [],
   "source": []
  }
 ],
 "metadata": {
  "language_info": {
   "name": "python"
  }
 },
 "nbformat": 4,
 "nbformat_minor": 2
}
