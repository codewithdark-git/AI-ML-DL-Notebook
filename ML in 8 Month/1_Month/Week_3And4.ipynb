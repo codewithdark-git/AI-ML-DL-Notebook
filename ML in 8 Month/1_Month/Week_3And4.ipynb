{
 "cells": [
  {
   "cell_type": "markdown",
   "metadata": {},
   "source": [
    "### Week 3 and 4: Python Programming Essentials 🐍\n",
    "\n",
    "**Topics Covered:**\n",
    "\n",
    "- **Basic Concepts:**\n",
    "  - Variables, Numbers, Strings\n",
    "  - Lists, Dictionaries, Sets, Tuples\n",
    "- **Control Flow:**\n",
    "  - `if` Condition, `for` Loop\n",
    "- **Functions:**\n",
    "  - Regular Functions, Lambda Functions\n",
    "- **Modules:**\n",
    "  - Installing with `pip`, Using Modules\n",
    "- **File Operations:**\n",
    "  - Reading and Writing Files\n",
    "- **Error Handling:**\n",
    "  - Exception Handling\n",
    "- **Object-Oriented Programming:**\n",
    "  - Classes, Objects\n",
    "\n",
    "**Learning Resources:**\n",
    "\n",
    "- **Track A (Free):**\n",
    "  - **Python Tutorials (Codebasics) on YouTube** (First 16 videos)  \n",
    "    [Watch here](https://bit.ly/3X6CCC7)\n",
    "  - **Corey Schafer’s Python Tutorials:**  \n",
    "    [Watch here](https://bit.ly/3uqUgaZ)\n",
    "  - **Codebasics Python HINDI Tutorials:**  \n",
    "    [Watch here](https://bit.ly/3vmXrgw)\n",
    "  - **Advance Python Programming:**\n",
    "    [Notebook here](https://github.com/codewithdark-git/AI-ML-DL-Notebook/tree/main/Advance%20Python%20by%20NAVTTC)\n",
    "  - **Python Programming for Beginners:**\n",
    "    [Python Programming for Beginners](https://github.com/codewithdark-git/AI-ML-DL-Notebook/blob/main/Advanced%20python/main.ipynb)\n",
    "  \n"
   ]
  },
  {
   "cell_type": "code",
   "execution_count": null,
   "metadata": {},
   "outputs": [],
   "source": []
  }
 ],
 "metadata": {
  "language_info": {
   "name": "python"
  }
 },
 "nbformat": 4,
 "nbformat_minor": 2
}
