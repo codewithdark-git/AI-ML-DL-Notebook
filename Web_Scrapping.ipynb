{
  "cells": [
    {
      "cell_type": "markdown",
      "metadata": {
        "id": "view-in-github",
        "colab_type": "text"
      },
      "source": [
        "<a href=\"https://colab.research.google.com/github/codewithdark-git/AI-ML-DL-Notebook/blob/main/Web_Scrapping.ipynb\" target=\"_parent\"><img src=\"https://colab.research.google.com/assets/colab-badge.svg\" alt=\"Open In Colab\"/></a>"
      ]
    },
    {
      "cell_type": "code",
      "execution_count": 13,
      "metadata": {
        "id": "EwhEx6XxcFjr"
      },
      "outputs": [],
      "source": [
        "import pandas as pd\n",
        "import requests\n",
        "from bs4 import BeautifulSoup"
      ]
    },
    {
      "cell_type": "code",
      "execution_count": 2,
      "metadata": {
        "id": "kdGmC0dKcFju"
      },
      "outputs": [],
      "source": [
        "headers={'User-Agent':'Mozilla/5.0 (Windows NT 6.3; Win 64 ; x64) Apple WeKit /537.36(KHTML , like Gecko) Chrome/80.0.3987.162 Safari/537.36'}\n",
        "webpage = requests.get('https://www.icp.edu.pk/staff_directory/detail.php?abc=81', headers= headers).text"
      ]
    },
    {
      "cell_type": "code",
      "execution_count": 3,
      "metadata": {
        "id": "W2SMF4IjcFjv"
      },
      "outputs": [],
      "source": [
        "soup = BeautifulSoup(webpage, 'lxml')"
      ]
    },
    {
      "cell_type": "code",
      "execution_count": 4,
      "metadata": {
        "colab": {
          "base_uri": "https://localhost:8080/",
          "height": 191
        },
        "id": "4nYxdjz-cFjv",
        "outputId": "de23a824-a004-4c44-aa06-6f8bdcb867fb"
      },
      "outputs": [
        {
          "output_type": "execute_result",
          "data": {
            "text/plain": [
              "'<!DOCTYPE html>\\n<html lang=\"en\">\\n <head>\\n  <meta charset=\"utf-8\"/>\\n  <meta content=\"IE=edge\" http-equiv=\"X-UA-Compatible\"/>\\n  <meta content=\"width=device-width, initial-scale=1\" name=\"viewport\"/>\\n  <meta content=\"\" name=\"description\"/>\\n  <meta content=\"\" name=\"author\"/>\\n  <title>\\n   Islamia College, Peshawar\\n  </title>\\n  <link href=\"../css_sm/bootstrap.min.css\" rel=\"stylesheet\"/>\\n  <!-- Custom CSS -->\\n  <link href=\"../css_sm/small-business.css\" rel=\"stylesheet\"/>\\n  <link href=\"../css_new/bootstrap-responsive.css\" rel=\"stylesheet\" type=\"text/css\"/>\\n  <link href=\"../css_new/bootstrap-extended.css\" rel=\"stylesheet\" type=\"text/css\"/>\\n </head>\\n <body>\\n  <!-- Page Content -->\\n  <div class=\"container\">\\n   <div class=\"row\">\\n    <div class=\"col-md-8\">\\n     <a href=\"https://icp.edu.pk/\">\\n      <img alt=\"\" border=\"0\" class=\"img-responsive\" src=\"https://www.icp.edu.pk/icp_img/s5_logo.png\" title=\"\"/>\\n     </a>\\n    </div>\\n    <div class=\"col-md-4\">\\n     <img class=\"img-responsive\" id=\"logo_right\" src=\"https://www.icp.edu.pk/icp_img/100_year.png\"/>\\n    </div>\\n   </div>\\n   <div class=\"row\">\\n    <div class=\"col-md-8\">\\n    </div>\\n    <div class=\"col-md-4\">\\n     <script async=\"\" src=\"https://cse.google.com/cse.js?cx=e797e929339c1436f\">\\n     </script>\\n     <div class=\"gcse-searchbox-only\">\\n     </div>\\n     <a class=\"btn btn-primary btn-sm\" href=\"https://www.facebook.com/www.icp.edu.pk\" id=\"butup_menu\" type=\"button\">\\n      Facebook\\n     </a>\\n     <a class=\"btn btn-primary btn-sm\" href=\"https://www.facebook.com/watch/?v=1050430944967683\" id=\"butup_menu\" type=\"button\">\\n      ICP Anthem\\n     </a>\\n     <a class=\"btn btn-primary btn-sm\" href=\"http://icp.edu.pk/staff_directory/\" id=\"butup_menu\" type=\"button\">\\n      Staff Profile\\n     </a>\\n     <a class=\"btn btn-primary btn-sm\" href=\"https://icp.edu.pk/exams/download.php?abc=202305180630005\" id=\"butup_menu\" type=\"button\">\\n      Downloads\\n     </a>\\n    </div>\\n   </div>\\n   <div class=\"row\">\\n    <div class=\"col-md-12\">\\n     <div class=\"header_bg\">\\n      <script src=\"https://icp.edu.pk/menu_new/SpryMenuBar.js\" type=\"text/javascript\">\\n      </script>\\n      <link href=\"https://icp.edu.pk/menu_new/SpryMenuBarHorizontal.css\" rel=\"stylesheet\" type=\"text/css\"/>\\n      <table width=\"99%\">\\n       <tr>\\n        <td>\\n         <ul class=\"MenuBarHorizontal\" id=\"MenuBar1\">\\n          <li>\\n           <a href=\"http://icp.edu.pk/index.php\">\\n            Home\\n           </a>\\n          </li>\\n          <li>\\n           <a class=\"MenuBarItemSubmenu\" href=\"#\">\\n            About\\n           </a>\\n           <ul>\\n            <li>\\n             <a href=\"https://icp.edu.pk/page.php?abc=202306150455585\">\\n              Vision &amp; Mission Statement\\n             </a>\\n            </li>\\n            <li>\\n             <a href=\"http://icp.edu.pk/page.php?abc=201412080154134\">\\n              History &amp; Milestone\\n             </a>\\n            </li>\\n            <li>\\n             <a href=\"http://icp.edu.pk/page.php?abc=201412080200115\">\\n              Quaid-e-Azam Muhammad Ali Jinnah\\'s Will\\n             </a>\\n            </li>\\n           </ul>\\n          </li>\\n          <li>\\n           <a class=\"MenuBarItemSubmenu\" href=\"#\">\\n            Administration\\n           </a>\\n           <ul>\\n            <li>\\n             <a href=\"http://icp.edu.pk/page.php?abc=201412080210276\">\\n              Administration\\n             </a>\\n            </li>\\n            <li>\\n             <a href=\"http://icp.edu.pk/page.php?abc=201412101234155\">\\n              Vice Chancellor\\n             </a>\\n            </li>\\n            <li>\\n             <a href=\"http://icp.edu.pk/page.php?abc=201412080207235\">\\n              Vice Chancellor Message\\n             </a>\\n            </li>\\n            <li>\\n             <a href=\"http://icp.edu.pk/page.php?abc=201504300338206\">\\n              Chief Organizer Societies / KU\\n             </a>\\n            </li>\\n            <li>\\n             <a href=\"http://icp.edu.pk/page.php?abc=201412160325244\">\\n              Directorate of Students Affairs\\n             </a>\\n            </li>\\n            <li>\\n             <a href=\"http://icp.edu.pk/page.php?abc=201508280727466\">\\n              Provost\\n             </a>\\n            </li>\\n            <li>\\n             <a class=\"MenuBarItemSubmenu\" href=\"#\">\\n              Chief Proctor Office\\n             </a>\\n             <ul>\\n              <li>\\n               <a href=\"http://icp.edu.pk/page.php?abc=201508180321465\">\\n                Chief Proctor and Staff Proctor\\n               </a>\\n              </li>\\n              <li>\\n               <a href=\"http://icp.edu.pk/page.php?abc=201508180417385\">\\n                Students Proctor\\n               </a>\\n              </li>\\n              <li>\\n               <a href=\"#\">\\n                F.A.Q\\n               </a>\\n              </li>\\n              <li>\\n               <a href=\"http://icp.edu.pk/page.php?abc=201508200716276\">\\n                Uniform / Dress Code\\n               </a>\\n              </li>\\n              <li>\\n               <a href=\"http://icp.edu.pk/page.php?abc=201508180529484\">\\n                Picture Gallery\\n               </a>\\n              </li>\\n             </ul>\\n            </li>\\n            <li>\\n             <a href=\"http://icp.edu.pk/oric/\">\\n              ORIC\\n             </a>\\n            </li>\\n           </ul>\\n          </li>\\n          <li>\\n           <a class=\"MenuBarItemSubmenu\" href=\"#\">\\n            Academic\\n           </a>\\n           <ul>\\n            <li>\\n             <a href=\"http://icp.edu.pk/page.php?abc=201412241059034\">\\n              Departments\\n             </a>\\n            </li>\\n            <li>\\n             <a href=\"http://icp.edu.pk/page.php?abc=201608040611214\">\\n              Directorate of Higher Studies\\n             </a>\\n            </li>\\n            <li>\\n             <a href=\"http://icp.edu.pk/page.php?abc=201812270910056\">\\n              Centre for Omic Sciences\\n             </a>\\n            </li>\\n            <li>\\n             <a href=\"http://icp.edu.pk/page.php?abc=202001220511156\">\\n              Centre for Material Sciences\\n             </a>\\n            </li>\\n            <li>\\n             <a href=\"https://icp.edu.pk/images/notic_board/student_cod_conduct_2019.pdf\">\\n              Students Conduct and Discipline Regulations 2019\\n             </a>\\n            </li>\\n           </ul>\\n          </li>\\n          <li>\\n           <a class=\"MenuBarItemSubmenu\" href=\"#\">\\n            Admission\\n           </a>\\n           <ul>\\n            <li>\\n             <a href=\"https://icp.edu.pk/images/notic_board/fsc_guid_book_24.pdf\">\\n              FA/FSc admission guide book\\n             </a>\\n            </li>\\n            <li>\\n             <a href=\"https://admissions.icp.edu.pk/\">\\n              Apply online for FA/FSc\\n             </a>\\n            </li>\\n            <li>\\n             <a href=\"https://icp.edu.pk/BS/\">\\n              Apply online for BS/BBA/LLB\\n             </a>\\n            </li>\\n            <li>\\n             <a href=\"#\">\\n              Apply online for MPhil/PhD\\n             </a>\\n            </li>\\n            <li>\\n             <a href=\"https://icp.edu.pk/images/notic_board/ics_prospectus_2023.pdf\">\\n              ICS Prospectus 2023 &amp; onward\\n             </a>\\n            </li>\\n           </ul>\\n          </li>\\n          <li>\\n           <a class=\"MenuBarItemSubmenu\" href=\"https://icp.edu.pk/exams/index.php?abc=202010200121144\">\\n            Examination\\n           </a>\\n          </li>\\n          <li>\\n           <a class=\"MenuBarItemSubmenu\" href=\"https://icp.edu.pk/exams/minutes.php?abc=202305100718554\">\\n            Meetings Minutes\\n           </a>\\n          </li>\\n          <li>\\n           <a class=\"MenuBarItemSubmenu\" href=\"#\">\\n            Achievements\\n           </a>\\n           <ul>\\n            <li>\\n             <a href=\"http://icp.edu.pk/page.php?abc=201803280504016\">\\n              Senior Alumni Association\\n             </a>\\n            </li>\\n            <li>\\n             <a href=\"http://icp.edu.pk/page.php?abc=201505200442076\">\\n              Curricular\\n             </a>\\n            </li>\\n            <li>\\n             <a class=\"MenuBarItemSubmenu\" href=\"#\">\\n              Co-Curricular\\n             </a>\\n             <ul>\\n              <li>\\n               <a href=\"http://icp.edu.pk/page.php?abc=201511030539396\">\\n                Sports\\n               </a>\\n              </li>\\n              <li>\\n               <a href=\"http://icp.edu.pk/page.php?abc=201504300338206\">\\n                Khyber Union\\n               </a>\\n              </li>\\n             </ul>\\n            </li>\\n            <li>\\n             <a href=\"http://icp.edu.pk/page.php?abc=201802280802216\">\\n              Student’s Creativity Corner (SCC)\\n             </a>\\n            </li>\\n           </ul>\\n          </li>\\n          <li>\\n           <a class=\"MenuBarItemSubmenu\" href=\"#\">\\n            Media\\n           </a>\\n           <ul>\\n            <li>\\n             <a href=\"https://www.facebook.com/www.icp.edu.pk/videos/1050430944967683/\">\\n              ICP Official Anthem\\n             </a>\\n            </li>\\n            <li>\\n             <a href=\"http://icp.edu.pk/notice/cutting.php\">\\n              Daily News papers cuttings\\n             </a>\\n            </li>\\n            <li>\\n             <a href=\"http://icp.edu.pk/page.php?abc=201608181052425\">\\n              Right to Information Related Data\\n             </a>\\n            </li>\\n            <li>\\n             <a href=\"http://icp.edu.pk/page.php?abc=201504020513394\">\\n              Video Gallery of Islamia College Peshawar\\n             </a>\\n            </li>\\n            <li>\\n             <a href=\"http://icp.edu.pk/page.php?abc=201412240924466\">\\n              Picture Gallery of Islamia College Peshawar\\n             </a>\\n            </li>\\n           </ul>\\n          </li>\\n          <li>\\n           <a class=\"MenuBarItemSubmenu\" href=\"http://icp.edu.pk/page.php?abc=201412300248325\">\\n            Contact\\n           </a>\\n           <ul>\\n            <li>\\n             <a href=\"http://icp.edu.pk/page.php?abc=201412300248325\">\\n              Contact Us\\n             </a>\\n            </li>\\n            <li>\\n             <a href=\"http://icp.edu.pk/page.php?abc=201412290256225\">\\n              Contacts Directory\\n             </a>\\n            </li>\\n            <li>\\n             <a href=\"http://icp.edu.pk/page.php?abc=201412291157145\">\\n              Address &amp; Location Map of Islamia College Peshawar\\n             </a>\\n            </li>\\n           </ul>\\n          </li>\\n         </ul>\\n        </td>\\n       </tr>\\n      </table>\\n      <script type=\"text/javascript\">\\n       var MenuBar1 = new Spry.Widget.MenuBar(\"MenuBar1\", {imgDown:\"baranimenu/SpryMenuBarDownHover.gif\", imgRight:\"baranimenu/SpryMenuBarRightHover.gif\"});\\n      </script>\\n     </div>\\n    </div>\\n   </div>\\n   <div class=\"row\">\\n    <div class=\"col-md-12\">\\n     <div class=\"heading_title\">\\n      Teaching/Staff Directory in Arabic\\n     </div>\\n     <div class=\"art_content\">\\n      <table border=\"0\" width=\"100%\">\\n       <tr>\\n        <td>\\n         <table border=\"1\" cellpadding=\"0\" cellspacing=\"0\" width=\"100%\">\\n          <tr>\\n           <td valign=\"top\" width=\"22%\">\\n            <p>\\n             <strong>\\n              Name\\n             </strong>\\n            </p>\\n           </td>\\n           <td valign=\"top\" width=\"21%\">\\n            <p>\\n             <strong>\\n              Designation\\n             </strong>\\n            </p>\\n           </td>\\n           <td valign=\"top\" width=\"17%\">\\n            <p>\\n             <strong>\\n              Qualification\\n             </strong>\\n            </p>\\n           </td>\\n           <td valign=\"top\" width=\"20%\">\\n            <p>\\n             <strong>\\n              Email/Contact no\\n             </strong>\\n            </p>\\n           </td>\\n           <td align=\"center\" valign=\"top\" width=\"12%\">\\n            <p>\\n             <strong>\\n              CV\\n             </strong>\\n            </p>\\n           </td>\\n           <td align=\"center\" valign=\"middle\" width=\"8%\">\\n            <p>\\n             <strong>\\n              Photo\\n             </strong>\\n            </p>\\n           </td>\\n          </tr>\\n          <tr>\\n           <td style=\"text-transform:capitalize;\" valign=\"middle\">\\n            Riaz Muhammad Sailani\\n           </td>\\n           <td style=\"text-transform:capitalize;\" valign=\"middle\">\\n            Lecturer\\n           </td>\\n           <td valign=\"middle\">\\n            MA Arabic (Gold Medal), MPhil Arabic\\n           </td>\\n           <td valign=\"middle\">\\n            <p>\\n             <a class=\"__cf_email__\" data-cfemail=\"9eedfff7f2fff0f7def7fdeeb0fbfaebb0eef5\" href=\"/cdn-cgi/l/email-protection\">\\n              [email\\xa0protected]\\n             </a>\\n            </p>\\n            <p>\\n             +92 300 5725641\\n            </p>\\n           </td>\\n           <td align=\"center\" valign=\"middle\">\\n           </td>\\n           <td align=\"right\" valign=\"top\">\\n            <img src=\"http://icp.edu.pk/staff_directory/faculty_images/riazsailani.JPG\"/>\\n           </td>\\n          </tr>\\n          <tr>\\n           <td style=\"text-transform:capitalize;\" valign=\"middle\">\\n            Dr. Syed Abdussalam Bacha\\n           </td>\\n           <td style=\"text-transform:capitalize;\" valign=\"middle\">\\n            Lecturer\\n           </td>\\n           <td valign=\"middle\">\\n            PhD\\n           </td>\\n           <td valign=\"middle\">\\n            <p>\\n             <a class=\"__cf_email__\" data-cfemail=\"325350564741535e535f5053515a53725b51421c5756471c4259\" href=\"/cdn-cgi/l/email-protection\">\\n              [email\\xa0protected]\\n             </a>\\n            </p>\\n            <p>\\n             03340545530\\n            </p>\\n           </td>\\n           <td align=\"center\" valign=\"middle\">\\n           </td>\\n           <td align=\"right\" valign=\"top\">\\n            <img src=\"http://icp.edu.pk/staff_directory/faculty_images/attahc\"/>\\n           </td>\\n          </tr>\\n          <tr>\\n           <td style=\"text-transform:capitalize;\" valign=\"middle\">\\n            Dr Bakht Zubair\\n           </td>\\n           <td style=\"text-transform:capitalize;\" valign=\"middle\">\\n            Lecturer\\n           </td>\\n           <td valign=\"middle\">\\n            PhD Arabic Litrature\\n           </td>\\n           <td valign=\"middle\">\\n            <p>\\n             <a class=\"__cf_email__\" data-cfemail=\"8ae8ebe1e2fef0ebffe8ebe3f8cae3e9faa4efeeffa4fae1\" href=\"/cdn-cgi/l/email-protection\">\\n              [email\\xa0protected]\\n             </a>\\n            </p>\\n            <p>\\n             03018958928\\n            </p>\\n           </td>\\n           <td align=\"center\" valign=\"middle\">\\n           </td>\\n           <td align=\"right\" valign=\"top\">\\n            <img src=\"http://icp.edu.pk/staff_directory/faculty_images/attahc\"/>\\n           </td>\\n          </tr>\\n         </table>\\n        </td>\\n       </tr>\\n       <tr>\\n        <td>\\n         <table border=\"1\" cellpadding=\"0\" cellspacing=\"0\" width=\"100%\">\\n          <tr>\\n           <td class=\"heading_title\" colspan=\"6\" valign=\"top\">\\n            Retired Teaching Staff\\n           </td>\\n          </tr>\\n          <tr>\\n           <td valign=\"top\" width=\"22%\">\\n            <p>\\n             <strong>\\n              Name\\n             </strong>\\n             / Date of Retirement\\n            </p>\\n           </td>\\n           <td valign=\"top\" width=\"21%\">\\n            <p>\\n             <strong>\\n              Designation\\n             </strong>\\n            </p>\\n           </td>\\n           <td valign=\"top\" width=\"17%\">\\n            <p>\\n             <strong>\\n              Qualification\\n             </strong>\\n            </p>\\n           </td>\\n           <td valign=\"top\" width=\"15%\">\\n            <p>\\n             <strong>\\n              Email\\n             </strong>\\n            </p>\\n           </td>\\n           <td valign=\"top\" width=\"17%\">\\n            <p>\\n             <strong>\\n              Contact No\\n             </strong>\\n            </p>\\n           </td>\\n           <td align=\"center\" valign=\"middle\" width=\"8%\">\\n            <p>\\n             <strong>\\n              Photo\\n             </strong>\\n            </p>\\n           </td>\\n          </tr>\\n          <tr>\\n           <td style=\"text-transform:capitalize;\" valign=\"middle\">\\n            Dr. Nasib Dar Muhammad (27.02.2015)\\n           </td>\\n           <td style=\"text-transform:capitalize;\" valign=\"middle\">\\n            Professor\\n           </td>\\n           <td valign=\"middle\">\\n            MA (Arabic &amp; Islamiyat), PhD Arabic\\n           </td>\\n           <td valign=\"middle\">\\n            <p>\\n             <a class=\"__cf_email__\" data-cfemail=\"0460766a65776d66606576446d67742a6160712a746f\" href=\"/cdn-cgi/l/email-protection\">\\n              [email\\xa0protected]\\n             </a>\\n            </p>\\n           </td>\\n           <td valign=\"middle\">\\n            <p>\\n             +92 333 9295 621\\n            </p>\\n           </td>\\n           <td valign=\"top\">\\n            <img src=\"http://icp.edu.pk/staff_directory/faculty_images/drnasibdar.jpg\"/>\\n           </td>\\n          </tr>\\n         </table>\\n        </td>\\n       </tr>\\n      </table>\\n     </div>\\n    </div>\\n   </div>\\n   <div class=\"row\">\\n    <div class=\"col-lg-12\">\\n     <div class=\"footernew\">\\n      <div id=\"footer\">\\n       <div id=\"footer2\">\\n        <table align=\"center\" border=\"0\" cellpadding=\"0\" cellspacing=\"0\">\\n         <tbody>\\n          <tr>\\n           <td width=\"4\">\\n           </td>\\n           <td height=\"20\">\\n            <a class=\"lowerlinks\" href=\"http://icp.edu.pk/\">\\n             Home\\n            </a>\\n           </td>\\n           <td width=\"9\">\\n           </td>\\n           <td class=\"bar\" width=\"8\">\\n            |\\n           </td>\\n           <td height=\"20\">\\n            <a class=\"lowerlinks\" href=\"https://www.icp.edu.pk/page.php?abc=201412080154134\">\\n             About \\n                  Us\\n            </a>\\n           </td>\\n           <td width=\"9\">\\n           </td>\\n           <td class=\"bar\" width=\"10\">\\n            |\\n           </td>\\n           <td height=\"20\">\\n            <a class=\"lowerlinks\" href=\"https://www.icp.edu.pk/page.php?abc=201412241059034\">\\n             Departments\\n            </a>\\n           </td>\\n           <td width=\"9\">\\n           </td>\\n           <td class=\"bar\" width=\"8\">\\n            |\\n           </td>\\n           <td height=\"20\">\\n            <a class=\"lowerlinks\" href=\"https://www.icp.edu.pk/staff_directory/\">\\n             Faculty\\n            </a>\\n           </td>\\n           <td width=\"9\">\\n           </td>\\n           <td class=\"bar\" width=\"8\">\\n            |\\n           </td>\\n           <td height=\"20\">\\n            <a class=\"lowerlinks\" href=\"https://www.icp.edu.pk/page.php?abc=201412240924466\">\\n             Picture Gallery\\n            </a>\\n           </td>\\n           <td width=\"9\">\\n           </td>\\n           <td class=\"bar\" width=\"8\">\\n            |\\n           </td>\\n           <td height=\"20\">\\n            <a class=\"lowerlinks\" href=\"https://www.icp.edu.pk/page.php?abc=201412300248325\">\\n             Contact \\n                  Us\\n            </a>\\n           </td>\\n           <td width=\"9\">\\n           </td>\\n           <td class=\"bar\" width=\"8\">\\n            |\\n           </td>\\n          </tr>\\n          <tr>\\n           <td width=\"4\">\\n           </td>\\n           <td align=\"center\" class=\"bodytext\" colspan=\"19\">\\n            Copyright  © 2024             \\n                  Islamia College Peshawar\\n           </td>\\n          </tr>\\n          <tr>\\n           <td width=\"4\">\\n           </td>\\n           <td colspan=\"19\" width=\"\">\\n           </td>\\n          </tr>\\n         </tbody>\\n        </table>\\n       </div>\\n      </div>\\n     </div>\\n    </div>\\n   </div>\\n  </div>\\n  <!-- /.container -->\\n  <script data-cfasync=\"false\" src=\"/cdn-cgi/scripts/5c5dd728/cloudflare-static/email-decode.min.js\">\\n  </script>\\n  <script src=\"../js_new/jquery.js\">\\n  </script>\\n  <script src=\"../js_new/bootstrap.min.js\">\\n  </script>\\n  <script type=\"text/javascript\">\\n   jQuery(document).ready(function($) {\\r\\n    $(\\'.carousel\\').carousel({\\r\\n  \\t\\tinterval: 5000\\t\\r\\n  \\t})\\r\\n});\\n  </script>\\n </body>\\n</html>\\n'"
            ],
            "application/vnd.google.colaboratory.intrinsic+json": {
              "type": "string"
            }
          },
          "metadata": {},
          "execution_count": 4
        }
      ],
      "source": [
        "soup.prettify()"
      ]
    },
    {
      "cell_type": "code",
      "source": [
        "# Now this is just for Test. Below the function where just pass the link of the other\n",
        "# department and the function return the CSV file for it\n",
        "\n",
        "rows = soup.find_all('tr')\n",
        "print(f\"Number of rows found: {len(rows)}\")\n",
        "staff_list = []\n",
        "for staff in rows:\n",
        "    try:\n",
        "        columns = staff.find_all('td')\n",
        "        if len(columns) >= 4:  # We expect at least 4 columns per row\n",
        "            name = columns[0].text.strip()\n",
        "            designation = columns[1].text.strip()\n",
        "            qualification = columns[2].text.strip()\n",
        "            contact = columns[3].text.strip() if len(columns) > 3 else 'N/A'\n",
        "\n",
        "            staff_list.append([name, designation, qualification, contact])\n",
        "    except Exception as e:\n",
        "        print(f\"Skipping row due to error: {e}\")"
      ],
      "metadata": {
        "colab": {
          "base_uri": "https://localhost:8080/"
        },
        "id": "KklBjnrMcX9X",
        "outputId": "192e7062-7eff-4d74-ce7c-d11bab15c1b9"
      },
      "execution_count": 6,
      "outputs": [
        {
          "output_type": "stream",
          "name": "stdout",
          "text": [
            "Number of rows found: 13\n"
          ]
        }
      ]
    },
    {
      "cell_type": "code",
      "source": [
        "# Save to CSV if data is found\n",
        "if staff_list:\n",
        "    df = pd.DataFrame(staff_list, columns=['Name', 'Designation', 'Qualification', 'Contact'])\n",
        "    df.to_csv('staff_details.csv', index=False)\n",
        "    print(\"Data saved to 'staff_details.csv'.\")\n",
        "else:\n",
        "    print(\"No staff data found.\")"
      ],
      "metadata": {
        "colab": {
          "base_uri": "https://localhost:8080/"
        },
        "id": "_2A8TltqcgOQ",
        "outputId": "20781438-8854-4f31-a685-c7dc2c3a05c4"
      },
      "execution_count": 7,
      "outputs": [
        {
          "output_type": "stream",
          "name": "stdout",
          "text": [
            "Data saved to 'staff_details.csv'.\n"
          ]
        }
      ]
    },
    {
      "cell_type": "code",
      "source": [],
      "metadata": {
        "id": "75MAoAZhdnpI"
      },
      "execution_count": null,
      "outputs": []
    },
    {
      "cell_type": "code",
      "source": [
        "df = pd.read_csv('staff_details.csv')"
      ],
      "metadata": {
        "id": "Yni2L8cYc9Y5"
      },
      "execution_count": 32,
      "outputs": []
    },
    {
      "cell_type": "code",
      "source": [
        "df"
      ],
      "metadata": {
        "colab": {
          "base_uri": "https://localhost:8080/",
          "height": 174
        },
        "id": "nsvN0lBVdqBU",
        "outputId": "54541262-f3e1-4ee8-fc33-c40fdc0579a7"
      },
      "execution_count": 36,
      "outputs": [
        {
          "output_type": "execute_result",
          "data": {
            "text/plain": [
              "                                  Name Designation  \\\n",
              "2                Riaz Muhammad Sailani    Lecturer   \n",
              "3            Dr. Syed Abdussalam Bacha    Lecturer   \n",
              "4                      Dr Bakht Zubair    Lecturer   \n",
              "7  Dr. Nasib Dar Muhammad (27.02.2015)   Professor   \n",
              "\n",
              "                          Qualification  \\\n",
              "2  MA Arabic (Gold Medal), MPhil Arabic   \n",
              "3                                   PhD   \n",
              "4                  PhD Arabic Litrature   \n",
              "7   MA (Arabic & Islamiyat), PhD Arabic   \n",
              "\n",
              "                                             Contact  \n",
              "2  [email protected]\\n\\r\\n                       ...  \n",
              "3  [email protected]\\n\\r\\n                       ...  \n",
              "4  [email protected]\\n\\r\\n                       ...  \n",
              "7                                  [email protected]  "
            ],
            "text/html": [
              "\n",
              "  <div id=\"df-b62551bc-8db6-48c7-937c-187194c5b561\" class=\"colab-df-container\">\n",
              "    <div>\n",
              "<style scoped>\n",
              "    .dataframe tbody tr th:only-of-type {\n",
              "        vertical-align: middle;\n",
              "    }\n",
              "\n",
              "    .dataframe tbody tr th {\n",
              "        vertical-align: top;\n",
              "    }\n",
              "\n",
              "    .dataframe thead th {\n",
              "        text-align: right;\n",
              "    }\n",
              "</style>\n",
              "<table border=\"1\" class=\"dataframe\">\n",
              "  <thead>\n",
              "    <tr style=\"text-align: right;\">\n",
              "      <th></th>\n",
              "      <th>Name</th>\n",
              "      <th>Designation</th>\n",
              "      <th>Qualification</th>\n",
              "      <th>Contact</th>\n",
              "    </tr>\n",
              "  </thead>\n",
              "  <tbody>\n",
              "    <tr>\n",
              "      <th>2</th>\n",
              "      <td>Riaz Muhammad Sailani</td>\n",
              "      <td>Lecturer</td>\n",
              "      <td>MA Arabic (Gold Medal), MPhil Arabic</td>\n",
              "      <td>[email protected]\\n\\r\\n                       ...</td>\n",
              "    </tr>\n",
              "    <tr>\n",
              "      <th>3</th>\n",
              "      <td>Dr. Syed Abdussalam Bacha</td>\n",
              "      <td>Lecturer</td>\n",
              "      <td>PhD</td>\n",
              "      <td>[email protected]\\n\\r\\n                       ...</td>\n",
              "    </tr>\n",
              "    <tr>\n",
              "      <th>4</th>\n",
              "      <td>Dr Bakht Zubair</td>\n",
              "      <td>Lecturer</td>\n",
              "      <td>PhD Arabic Litrature</td>\n",
              "      <td>[email protected]\\n\\r\\n                       ...</td>\n",
              "    </tr>\n",
              "    <tr>\n",
              "      <th>7</th>\n",
              "      <td>Dr. Nasib Dar Muhammad (27.02.2015)</td>\n",
              "      <td>Professor</td>\n",
              "      <td>MA (Arabic &amp; Islamiyat), PhD Arabic</td>\n",
              "      <td>[email protected]</td>\n",
              "    </tr>\n",
              "  </tbody>\n",
              "</table>\n",
              "</div>\n",
              "    <div class=\"colab-df-buttons\">\n",
              "\n",
              "  <div class=\"colab-df-container\">\n",
              "    <button class=\"colab-df-convert\" onclick=\"convertToInteractive('df-b62551bc-8db6-48c7-937c-187194c5b561')\"\n",
              "            title=\"Convert this dataframe to an interactive table.\"\n",
              "            style=\"display:none;\">\n",
              "\n",
              "  <svg xmlns=\"http://www.w3.org/2000/svg\" height=\"24px\" viewBox=\"0 -960 960 960\">\n",
              "    <path d=\"M120-120v-720h720v720H120Zm60-500h600v-160H180v160Zm220 220h160v-160H400v160Zm0 220h160v-160H400v160ZM180-400h160v-160H180v160Zm440 0h160v-160H620v160ZM180-180h160v-160H180v160Zm440 0h160v-160H620v160Z\"/>\n",
              "  </svg>\n",
              "    </button>\n",
              "\n",
              "  <style>\n",
              "    .colab-df-container {\n",
              "      display:flex;\n",
              "      gap: 12px;\n",
              "    }\n",
              "\n",
              "    .colab-df-convert {\n",
              "      background-color: #E8F0FE;\n",
              "      border: none;\n",
              "      border-radius: 50%;\n",
              "      cursor: pointer;\n",
              "      display: none;\n",
              "      fill: #1967D2;\n",
              "      height: 32px;\n",
              "      padding: 0 0 0 0;\n",
              "      width: 32px;\n",
              "    }\n",
              "\n",
              "    .colab-df-convert:hover {\n",
              "      background-color: #E2EBFA;\n",
              "      box-shadow: 0px 1px 2px rgba(60, 64, 67, 0.3), 0px 1px 3px 1px rgba(60, 64, 67, 0.15);\n",
              "      fill: #174EA6;\n",
              "    }\n",
              "\n",
              "    .colab-df-buttons div {\n",
              "      margin-bottom: 4px;\n",
              "    }\n",
              "\n",
              "    [theme=dark] .colab-df-convert {\n",
              "      background-color: #3B4455;\n",
              "      fill: #D2E3FC;\n",
              "    }\n",
              "\n",
              "    [theme=dark] .colab-df-convert:hover {\n",
              "      background-color: #434B5C;\n",
              "      box-shadow: 0px 1px 3px 1px rgba(0, 0, 0, 0.15);\n",
              "      filter: drop-shadow(0px 1px 2px rgba(0, 0, 0, 0.3));\n",
              "      fill: #FFFFFF;\n",
              "    }\n",
              "  </style>\n",
              "\n",
              "    <script>\n",
              "      const buttonEl =\n",
              "        document.querySelector('#df-b62551bc-8db6-48c7-937c-187194c5b561 button.colab-df-convert');\n",
              "      buttonEl.style.display =\n",
              "        google.colab.kernel.accessAllowed ? 'block' : 'none';\n",
              "\n",
              "      async function convertToInteractive(key) {\n",
              "        const element = document.querySelector('#df-b62551bc-8db6-48c7-937c-187194c5b561');\n",
              "        const dataTable =\n",
              "          await google.colab.kernel.invokeFunction('convertToInteractive',\n",
              "                                                    [key], {});\n",
              "        if (!dataTable) return;\n",
              "\n",
              "        const docLinkHtml = 'Like what you see? Visit the ' +\n",
              "          '<a target=\"_blank\" href=https://colab.research.google.com/notebooks/data_table.ipynb>data table notebook</a>'\n",
              "          + ' to learn more about interactive tables.';\n",
              "        element.innerHTML = '';\n",
              "        dataTable['output_type'] = 'display_data';\n",
              "        await google.colab.output.renderOutput(dataTable, element);\n",
              "        const docLink = document.createElement('div');\n",
              "        docLink.innerHTML = docLinkHtml;\n",
              "        element.appendChild(docLink);\n",
              "      }\n",
              "    </script>\n",
              "  </div>\n",
              "\n",
              "\n",
              "<div id=\"df-9bcd0579-3a24-4509-a3d1-5f42abe0ae9f\">\n",
              "  <button class=\"colab-df-quickchart\" onclick=\"quickchart('df-9bcd0579-3a24-4509-a3d1-5f42abe0ae9f')\"\n",
              "            title=\"Suggest charts\"\n",
              "            style=\"display:none;\">\n",
              "\n",
              "<svg xmlns=\"http://www.w3.org/2000/svg\" height=\"24px\"viewBox=\"0 0 24 24\"\n",
              "     width=\"24px\">\n",
              "    <g>\n",
              "        <path d=\"M19 3H5c-1.1 0-2 .9-2 2v14c0 1.1.9 2 2 2h14c1.1 0 2-.9 2-2V5c0-1.1-.9-2-2-2zM9 17H7v-7h2v7zm4 0h-2V7h2v10zm4 0h-2v-4h2v4z\"/>\n",
              "    </g>\n",
              "</svg>\n",
              "  </button>\n",
              "\n",
              "<style>\n",
              "  .colab-df-quickchart {\n",
              "      --bg-color: #E8F0FE;\n",
              "      --fill-color: #1967D2;\n",
              "      --hover-bg-color: #E2EBFA;\n",
              "      --hover-fill-color: #174EA6;\n",
              "      --disabled-fill-color: #AAA;\n",
              "      --disabled-bg-color: #DDD;\n",
              "  }\n",
              "\n",
              "  [theme=dark] .colab-df-quickchart {\n",
              "      --bg-color: #3B4455;\n",
              "      --fill-color: #D2E3FC;\n",
              "      --hover-bg-color: #434B5C;\n",
              "      --hover-fill-color: #FFFFFF;\n",
              "      --disabled-bg-color: #3B4455;\n",
              "      --disabled-fill-color: #666;\n",
              "  }\n",
              "\n",
              "  .colab-df-quickchart {\n",
              "    background-color: var(--bg-color);\n",
              "    border: none;\n",
              "    border-radius: 50%;\n",
              "    cursor: pointer;\n",
              "    display: none;\n",
              "    fill: var(--fill-color);\n",
              "    height: 32px;\n",
              "    padding: 0;\n",
              "    width: 32px;\n",
              "  }\n",
              "\n",
              "  .colab-df-quickchart:hover {\n",
              "    background-color: var(--hover-bg-color);\n",
              "    box-shadow: 0 1px 2px rgba(60, 64, 67, 0.3), 0 1px 3px 1px rgba(60, 64, 67, 0.15);\n",
              "    fill: var(--button-hover-fill-color);\n",
              "  }\n",
              "\n",
              "  .colab-df-quickchart-complete:disabled,\n",
              "  .colab-df-quickchart-complete:disabled:hover {\n",
              "    background-color: var(--disabled-bg-color);\n",
              "    fill: var(--disabled-fill-color);\n",
              "    box-shadow: none;\n",
              "  }\n",
              "\n",
              "  .colab-df-spinner {\n",
              "    border: 2px solid var(--fill-color);\n",
              "    border-color: transparent;\n",
              "    border-bottom-color: var(--fill-color);\n",
              "    animation:\n",
              "      spin 1s steps(1) infinite;\n",
              "  }\n",
              "\n",
              "  @keyframes spin {\n",
              "    0% {\n",
              "      border-color: transparent;\n",
              "      border-bottom-color: var(--fill-color);\n",
              "      border-left-color: var(--fill-color);\n",
              "    }\n",
              "    20% {\n",
              "      border-color: transparent;\n",
              "      border-left-color: var(--fill-color);\n",
              "      border-top-color: var(--fill-color);\n",
              "    }\n",
              "    30% {\n",
              "      border-color: transparent;\n",
              "      border-left-color: var(--fill-color);\n",
              "      border-top-color: var(--fill-color);\n",
              "      border-right-color: var(--fill-color);\n",
              "    }\n",
              "    40% {\n",
              "      border-color: transparent;\n",
              "      border-right-color: var(--fill-color);\n",
              "      border-top-color: var(--fill-color);\n",
              "    }\n",
              "    60% {\n",
              "      border-color: transparent;\n",
              "      border-right-color: var(--fill-color);\n",
              "    }\n",
              "    80% {\n",
              "      border-color: transparent;\n",
              "      border-right-color: var(--fill-color);\n",
              "      border-bottom-color: var(--fill-color);\n",
              "    }\n",
              "    90% {\n",
              "      border-color: transparent;\n",
              "      border-bottom-color: var(--fill-color);\n",
              "    }\n",
              "  }\n",
              "</style>\n",
              "\n",
              "  <script>\n",
              "    async function quickchart(key) {\n",
              "      const quickchartButtonEl =\n",
              "        document.querySelector('#' + key + ' button');\n",
              "      quickchartButtonEl.disabled = true;  // To prevent multiple clicks.\n",
              "      quickchartButtonEl.classList.add('colab-df-spinner');\n",
              "      try {\n",
              "        const charts = await google.colab.kernel.invokeFunction(\n",
              "            'suggestCharts', [key], {});\n",
              "      } catch (error) {\n",
              "        console.error('Error during call to suggestCharts:', error);\n",
              "      }\n",
              "      quickchartButtonEl.classList.remove('colab-df-spinner');\n",
              "      quickchartButtonEl.classList.add('colab-df-quickchart-complete');\n",
              "    }\n",
              "    (() => {\n",
              "      let quickchartButtonEl =\n",
              "        document.querySelector('#df-9bcd0579-3a24-4509-a3d1-5f42abe0ae9f button');\n",
              "      quickchartButtonEl.style.display =\n",
              "        google.colab.kernel.accessAllowed ? 'block' : 'none';\n",
              "    })();\n",
              "  </script>\n",
              "</div>\n",
              "\n",
              "  <div id=\"id_595b059e-afc2-43cd-86cd-ec482ef661ec\">\n",
              "    <style>\n",
              "      .colab-df-generate {\n",
              "        background-color: #E8F0FE;\n",
              "        border: none;\n",
              "        border-radius: 50%;\n",
              "        cursor: pointer;\n",
              "        display: none;\n",
              "        fill: #1967D2;\n",
              "        height: 32px;\n",
              "        padding: 0 0 0 0;\n",
              "        width: 32px;\n",
              "      }\n",
              "\n",
              "      .colab-df-generate:hover {\n",
              "        background-color: #E2EBFA;\n",
              "        box-shadow: 0px 1px 2px rgba(60, 64, 67, 0.3), 0px 1px 3px 1px rgba(60, 64, 67, 0.15);\n",
              "        fill: #174EA6;\n",
              "      }\n",
              "\n",
              "      [theme=dark] .colab-df-generate {\n",
              "        background-color: #3B4455;\n",
              "        fill: #D2E3FC;\n",
              "      }\n",
              "\n",
              "      [theme=dark] .colab-df-generate:hover {\n",
              "        background-color: #434B5C;\n",
              "        box-shadow: 0px 1px 3px 1px rgba(0, 0, 0, 0.15);\n",
              "        filter: drop-shadow(0px 1px 2px rgba(0, 0, 0, 0.3));\n",
              "        fill: #FFFFFF;\n",
              "      }\n",
              "    </style>\n",
              "    <button class=\"colab-df-generate\" onclick=\"generateWithVariable('df')\"\n",
              "            title=\"Generate code using this dataframe.\"\n",
              "            style=\"display:none;\">\n",
              "\n",
              "  <svg xmlns=\"http://www.w3.org/2000/svg\" height=\"24px\"viewBox=\"0 0 24 24\"\n",
              "       width=\"24px\">\n",
              "    <path d=\"M7,19H8.4L18.45,9,17,7.55,7,17.6ZM5,21V16.75L18.45,3.32a2,2,0,0,1,2.83,0l1.4,1.43a1.91,1.91,0,0,1,.58,1.4,1.91,1.91,0,0,1-.58,1.4L9.25,21ZM18.45,9,17,7.55Zm-12,3A5.31,5.31,0,0,0,4.9,8.1,5.31,5.31,0,0,0,1,6.5,5.31,5.31,0,0,0,4.9,4.9,5.31,5.31,0,0,0,6.5,1,5.31,5.31,0,0,0,8.1,4.9,5.31,5.31,0,0,0,12,6.5,5.46,5.46,0,0,0,6.5,12Z\"/>\n",
              "  </svg>\n",
              "    </button>\n",
              "    <script>\n",
              "      (() => {\n",
              "      const buttonEl =\n",
              "        document.querySelector('#id_595b059e-afc2-43cd-86cd-ec482ef661ec button.colab-df-generate');\n",
              "      buttonEl.style.display =\n",
              "        google.colab.kernel.accessAllowed ? 'block' : 'none';\n",
              "\n",
              "      buttonEl.onclick = () => {\n",
              "        google.colab.notebook.generateWithVariable('df');\n",
              "      }\n",
              "      })();\n",
              "    </script>\n",
              "  </div>\n",
              "\n",
              "    </div>\n",
              "  </div>\n"
            ],
            "application/vnd.google.colaboratory.intrinsic+json": {
              "type": "dataframe",
              "variable_name": "df",
              "summary": "{\n  \"name\": \"df\",\n  \"rows\": 4,\n  \"fields\": [\n    {\n      \"column\": \"Name\",\n      \"properties\": {\n        \"dtype\": \"string\",\n        \"num_unique_values\": 4,\n        \"samples\": [\n          \"Dr. Syed Abdussalam Bacha\",\n          \"Dr. Nasib Dar Muhammad (27.02.2015)\",\n          \"Riaz Muhammad Sailani\"\n        ],\n        \"semantic_type\": \"\",\n        \"description\": \"\"\n      }\n    },\n    {\n      \"column\": \"Designation\",\n      \"properties\": {\n        \"dtype\": \"string\",\n        \"num_unique_values\": 2,\n        \"samples\": [\n          \"Professor\",\n          \"Lecturer\"\n        ],\n        \"semantic_type\": \"\",\n        \"description\": \"\"\n      }\n    },\n    {\n      \"column\": \"Qualification\",\n      \"properties\": {\n        \"dtype\": \"string\",\n        \"num_unique_values\": 4,\n        \"samples\": [\n          \"PhD\",\n          \"MA (Arabic & Islamiyat), PhD Arabic\"\n        ],\n        \"semantic_type\": \"\",\n        \"description\": \"\"\n      }\n    },\n    {\n      \"column\": \"Contact\",\n      \"properties\": {\n        \"dtype\": \"string\",\n        \"num_unique_values\": 4,\n        \"samples\": [\n          \"[email\\u00a0protected]\\n\\r\\n                                03340545530\",\n          \"[email\\u00a0protected]\"\n        ],\n        \"semantic_type\": \"\",\n        \"description\": \"\"\n      }\n    }\n  ]\n}"
            }
          },
          "metadata": {},
          "execution_count": 36
        }
      ]
    },
    {
      "cell_type": "code",
      "source": [
        "df.drop(index=[0,1,5,6,8], axis=1, inplace=True)"
      ],
      "metadata": {
        "id": "hPAxtNssc_2J"
      },
      "execution_count": 34,
      "outputs": []
    },
    {
      "cell_type": "code",
      "source": [
        "df.to_csv('staff_details.csv', index=False)"
      ],
      "metadata": {
        "id": "4kMkMeLUdJ-4"
      },
      "execution_count": 35,
      "outputs": []
    },
    {
      "cell_type": "code",
      "source": [],
      "metadata": {
        "id": "VukgLJHndLJT"
      },
      "execution_count": null,
      "outputs": []
    },
    {
      "cell_type": "code",
      "source": [
        "import requests\n",
        "from bs4 import BeautifulSoup\n",
        "import pandas as pd\n",
        "\n",
        "def get_staff_details(url):\n",
        "    headers = {'User-Agent': 'Mozilla/5.0 (Windows NT 6.3; Win64; x64) AppleWebKit/537.36 (KHTML, like Gecko) Chrome/80.0.3987.162 Safari/537.36'}\n",
        "    webpage = requests.get(url, headers=headers).text\n",
        "\n",
        "    soup = BeautifulSoup(webpage, 'lxml')\n",
        "    rows = soup.find_all('tr')\n",
        "    print(f\"Number of rows found: {len(rows)}\")\n",
        "\n",
        "    staff_list = []\n",
        "    for staff in rows:\n",
        "        try:\n",
        "            columns = staff.find_all('td')\n",
        "            if len(columns) >= 4:  # Full data available\n",
        "                name = columns[0].text.strip()\n",
        "                designation = columns[1].text.strip()\n",
        "                qualification = columns[2].text.strip()\n",
        "                contact = columns[3].text.strip() if len(columns) > 3 else 'N/A'\n",
        "                staff_list.append([name, designation, qualification, contact])\n",
        "            elif len(columns) == 1:  # Only name available\n",
        "                name = columns[0].text.strip()\n",
        "                staff_list.append([name, None, None, None])  # Missing values as None\n",
        "        except Exception as e:\n",
        "            print(f\"Skipping row due to error: {e}\")\n",
        "\n",
        "    # Save to CSV if data is found\n",
        "    if staff_list:\n",
        "        df = pd.DataFrame(staff_list, columns=['Name', 'Designation', 'Qualification', 'Contact'])\n",
        "        # Drop unnecessary rows if any headers or empty rows are included\n",
        "        df.dropna(how=\"all\", subset=['Name'], inplace=True)  # Ensure no rows without a name\n",
        "        df.drop(index=[0, 1], axis=1, inplace=True)\n",
        "        df.reset_index(drop=True, inplace=True)\n",
        "        df.to_csv(f'staff_details_{len(staff_list)}.csv', index=False)\n",
        "        print(f\"Data saved to 'staff_details_{len(staff_list)}.csv'.\")\n",
        "    else:\n",
        "        print(\"No staff data found.\")\n",
        "\n",
        "    return df\n"
      ],
      "metadata": {
        "id": "32BVFxbffVEw"
      },
      "execution_count": 44,
      "outputs": []
    },
    {
      "cell_type": "code",
      "source": [
        "staff_details = get_staff_details('https://www.icp.edu.pk/staff_directory/detail.php?abc=82')"
      ],
      "metadata": {
        "colab": {
          "base_uri": "https://localhost:8080/"
        },
        "id": "VnX2TbBOhH1W",
        "outputId": "92908a51-699f-4bf4-c777-123ffda26169"
      },
      "execution_count": 45,
      "outputs": [
        {
          "output_type": "stream",
          "name": "stdout",
          "text": [
            "Number of rows found: 29\n",
            "Data saved to 'staff_details_27.csv'.\n"
          ]
        }
      ]
    },
    {
      "cell_type": "code",
      "source": [],
      "metadata": {
        "id": "KiPqt2ITjEUE"
      },
      "execution_count": null,
      "outputs": []
    },
    {
      "cell_type": "code",
      "source": [],
      "metadata": {
        "id": "FmVzEtfdhLyj"
      },
      "execution_count": null,
      "outputs": []
    }
  ],
  "metadata": {
    "kernelspec": {
      "display_name": "base",
      "language": "python",
      "name": "python3"
    },
    "language_info": {
      "codemirror_mode": {
        "name": "ipython",
        "version": 3
      },
      "file_extension": ".py",
      "mimetype": "text/x-python",
      "name": "python",
      "nbconvert_exporter": "python",
      "pygments_lexer": "ipython3",
      "version": "3.12.4"
    },
    "colab": {
      "provenance": [],
      "include_colab_link": true
    }
  },
  "nbformat": 4,
  "nbformat_minor": 0
}