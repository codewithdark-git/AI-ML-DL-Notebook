{
 "cells": [
  {
   "cell_type": "markdown",
   "metadata": {},
   "source": [
    "# Building an Intelligent Search Agent with LangChain"
   ]
  },
  {
   "cell_type": "markdown",
   "metadata": {},
   "source": [
    "## 1. Setting Up the Environment\n",
    "\n",
    "First, let's import the necessary packages and set up our environment variables."
   ]
  },
  {
   "cell_type": "code",
   "execution_count": 1,
   "metadata": {},
   "outputs": [
    {
     "name": "stdout",
     "output_type": "stream",
     "text": [
      "Requirement already satisfied: python-dotenv in c:\\users\\dark_coder\\appdata\\local\\programs\\python\\python312\\lib\\site-packages (1.0.0)\n",
      "Requirement already satisfied: langchain in c:\\users\\dark_coder\\appdata\\local\\programs\\python\\python312\\lib\\site-packages (0.3.7)\n",
      "Requirement already satisfied: langchain-community in c:\\users\\dark_coder\\appdata\\local\\programs\\python\\python312\\lib\\site-packages (0.3.5)\n",
      "Requirement already satisfied: langchain_groq in c:\\users\\dark_coder\\appdata\\local\\programs\\python\\python312\\lib\\site-packages (0.2.1)\n",
      "Requirement already satisfied: PyYAML>=5.3 in c:\\users\\dark_coder\\appdata\\local\\programs\\python\\python312\\lib\\site-packages (from langchain) (6.0.1)\n",
      "Requirement already satisfied: SQLAlchemy<3,>=1.4 in c:\\users\\dark_coder\\appdata\\local\\programs\\python\\python312\\lib\\site-packages (from langchain) (2.0.31)\n",
      "Requirement already satisfied: aiohttp<4.0.0,>=3.8.3 in c:\\users\\dark_coder\\appdata\\local\\programs\\python\\python312\\lib\\site-packages (from langchain) (3.9.5)\n",
      "Requirement already satisfied: langchain-core<0.4.0,>=0.3.15 in c:\\users\\dark_coder\\appdata\\local\\programs\\python\\python312\\lib\\site-packages (from langchain) (0.3.15)\n",
      "Requirement already satisfied: langchain-text-splitters<0.4.0,>=0.3.0 in c:\\users\\dark_coder\\appdata\\local\\programs\\python\\python312\\lib\\site-packages (from langchain) (0.3.2)\n",
      "Requirement already satisfied: langsmith<0.2.0,>=0.1.17 in c:\\users\\dark_coder\\appdata\\local\\programs\\python\\python312\\lib\\site-packages (from langchain) (0.1.142)\n",
      "Requirement already satisfied: numpy<2.0.0,>=1.26.0 in c:\\users\\dark_coder\\appdata\\local\\programs\\python\\python312\\lib\\site-packages (from langchain) (1.26.4)\n",
      "Requirement already satisfied: pydantic<3.0.0,>=2.7.4 in c:\\users\\dark_coder\\appdata\\local\\programs\\python\\python312\\lib\\site-packages (from langchain) (2.10.3)\n",
      "Requirement already satisfied: requests<3,>=2 in c:\\users\\dark_coder\\appdata\\local\\programs\\python\\python312\\lib\\site-packages (from langchain) (2.32.2)\n",
      "Requirement already satisfied: tenacity!=8.4.0,<10,>=8.1.0 in c:\\users\\dark_coder\\appdata\\local\\programs\\python\\python312\\lib\\site-packages (from langchain) (8.5.0)\n",
      "Requirement already satisfied: dataclasses-json<0.7,>=0.5.7 in c:\\users\\dark_coder\\appdata\\local\\programs\\python\\python312\\lib\\site-packages (from langchain-community) (0.6.7)\n",
      "Requirement already satisfied: httpx-sse<0.5.0,>=0.4.0 in c:\\users\\dark_coder\\appdata\\local\\programs\\python\\python312\\lib\\site-packages (from langchain-community) (0.4.0)\n",
      "Requirement already satisfied: pydantic-settings<3.0.0,>=2.4.0 in c:\\users\\dark_coder\\appdata\\local\\programs\\python\\python312\\lib\\site-packages (from langchain-community) (2.6.1)\n",
      "Requirement already satisfied: groq<1,>=0.4.1 in c:\\users\\dark_coder\\appdata\\local\\programs\\python\\python312\\lib\\site-packages (from langchain_groq) (0.11.0)\n",
      "Requirement already satisfied: aiosignal>=1.1.2 in c:\\users\\dark_coder\\appdata\\local\\programs\\python\\python312\\lib\\site-packages (from aiohttp<4.0.0,>=3.8.3->langchain) (1.3.1)\n",
      "Requirement already satisfied: attrs>=17.3.0 in c:\\users\\dark_coder\\appdata\\local\\programs\\python\\python312\\lib\\site-packages (from aiohttp<4.0.0,>=3.8.3->langchain) (23.2.0)\n",
      "Requirement already satisfied: frozenlist>=1.1.1 in c:\\users\\dark_coder\\appdata\\local\\programs\\python\\python312\\lib\\site-packages (from aiohttp<4.0.0,>=3.8.3->langchain) (1.4.1)\n",
      "Requirement already satisfied: multidict<7.0,>=4.5 in c:\\users\\dark_coder\\appdata\\local\\programs\\python\\python312\\lib\\site-packages (from aiohttp<4.0.0,>=3.8.3->langchain) (6.0.5)\n",
      "Requirement already satisfied: yarl<2.0,>=1.0 in c:\\users\\dark_coder\\appdata\\local\\programs\\python\\python312\\lib\\site-packages (from aiohttp<4.0.0,>=3.8.3->langchain) (1.9.4)\n",
      "Requirement already satisfied: marshmallow<4.0.0,>=3.18.0 in c:\\users\\dark_coder\\appdata\\local\\programs\\python\\python312\\lib\\site-packages (from dataclasses-json<0.7,>=0.5.7->langchain-community) (3.21.3)\n",
      "Requirement already satisfied: typing-inspect<1,>=0.4.0 in c:\\users\\dark_coder\\appdata\\local\\programs\\python\\python312\\lib\\site-packages (from dataclasses-json<0.7,>=0.5.7->langchain-community) (0.9.0)\n",
      "Requirement already satisfied: anyio<5,>=3.5.0 in c:\\users\\dark_coder\\appdata\\local\\programs\\python\\python312\\lib\\site-packages (from groq<1,>=0.4.1->langchain_groq) (3.7.1)\n",
      "Requirement already satisfied: distro<2,>=1.7.0 in c:\\users\\dark_coder\\appdata\\local\\programs\\python\\python312\\lib\\site-packages (from groq<1,>=0.4.1->langchain_groq) (1.9.0)\n",
      "Requirement already satisfied: httpx<1,>=0.23.0 in c:\\users\\dark_coder\\appdata\\local\\programs\\python\\python312\\lib\\site-packages (from groq<1,>=0.4.1->langchain_groq) (0.27.0)\n",
      "Requirement already satisfied: sniffio in c:\\users\\dark_coder\\appdata\\local\\programs\\python\\python312\\lib\\site-packages (from groq<1,>=0.4.1->langchain_groq) (1.3.1)\n",
      "Requirement already satisfied: typing-extensions<5,>=4.7 in c:\\users\\dark_coder\\appdata\\local\\programs\\python\\python312\\lib\\site-packages (from groq<1,>=0.4.1->langchain_groq) (4.12.2)\n",
      "Requirement already satisfied: jsonpatch<2.0,>=1.33 in c:\\users\\dark_coder\\appdata\\local\\programs\\python\\python312\\lib\\site-packages (from langchain-core<0.4.0,>=0.3.15->langchain) (1.33)\n",
      "Requirement already satisfied: packaging<25,>=23.2 in c:\\users\\dark_coder\\appdata\\local\\programs\\python\\python312\\lib\\site-packages (from langchain-core<0.4.0,>=0.3.15->langchain) (24.1)\n",
      "Requirement already satisfied: orjson<4.0.0,>=3.9.14 in c:\\users\\dark_coder\\appdata\\local\\programs\\python\\python312\\lib\\site-packages (from langsmith<0.2.0,>=0.1.17->langchain) (3.10.6)\n",
      "Requirement already satisfied: requests-toolbelt<2.0.0,>=1.0.0 in c:\\users\\dark_coder\\appdata\\local\\programs\\python\\python312\\lib\\site-packages (from langsmith<0.2.0,>=0.1.17->langchain) (1.0.0)\n",
      "Requirement already satisfied: annotated-types>=0.6.0 in c:\\users\\dark_coder\\appdata\\local\\programs\\python\\python312\\lib\\site-packages (from pydantic<3.0.0,>=2.7.4->langchain) (0.7.0)\n",
      "Requirement already satisfied: pydantic-core==2.27.1 in c:\\users\\dark_coder\\appdata\\local\\programs\\python\\python312\\lib\\site-packages (from pydantic<3.0.0,>=2.7.4->langchain) (2.27.1)\n",
      "Requirement already satisfied: charset-normalizer<4,>=2 in c:\\users\\dark_coder\\appdata\\local\\programs\\python\\python312\\lib\\site-packages (from requests<3,>=2->langchain) (3.3.2)\n",
      "Requirement already satisfied: idna<4,>=2.5 in c:\\users\\dark_coder\\appdata\\local\\programs\\python\\python312\\lib\\site-packages (from requests<3,>=2->langchain) (3.7)\n",
      "Requirement already satisfied: urllib3<3,>=1.21.1 in c:\\users\\dark_coder\\appdata\\local\\programs\\python\\python312\\lib\\site-packages (from requests<3,>=2->langchain) (2.2.1)\n",
      "Requirement already satisfied: certifi>=2017.4.17 in c:\\users\\dark_coder\\appdata\\local\\programs\\python\\python312\\lib\\site-packages (from requests<3,>=2->langchain) (2024.6.2)\n",
      "Requirement already satisfied: greenlet!=0.4.17 in c:\\users\\dark_coder\\appdata\\local\\programs\\python\\python312\\lib\\site-packages (from SQLAlchemy<3,>=1.4->langchain) (3.0.3)\n",
      "Requirement already satisfied: httpcore==1.* in c:\\users\\dark_coder\\appdata\\local\\programs\\python\\python312\\lib\\site-packages (from httpx<1,>=0.23.0->groq<1,>=0.4.1->langchain_groq) (1.0.5)\n",
      "Requirement already satisfied: h11<0.15,>=0.13 in c:\\users\\dark_coder\\appdata\\local\\programs\\python\\python312\\lib\\site-packages (from httpcore==1.*->httpx<1,>=0.23.0->groq<1,>=0.4.1->langchain_groq) (0.14.0)\n",
      "Requirement already satisfied: jsonpointer>=1.9 in c:\\users\\dark_coder\\appdata\\local\\programs\\python\\python312\\lib\\site-packages (from jsonpatch<2.0,>=1.33->langchain-core<0.4.0,>=0.3.15->langchain) (3.0.0)\n",
      "Requirement already satisfied: mypy-extensions>=0.3.0 in c:\\users\\dark_coder\\appdata\\local\\programs\\python\\python312\\lib\\site-packages (from typing-inspect<1,>=0.4.0->dataclasses-json<0.7,>=0.5.7->langchain-community) (1.0.0)\n",
      "Note: you may need to restart the kernel to use updated packages.\n"
     ]
    }
   ],
   "source": [
    "%pip install python-dotenv langchain langchain-community langchain_groq"
   ]
  },
  {
   "cell_type": "code",
   "execution_count": null,
   "metadata": {},
   "outputs": [],
   "source": [
    "import os\n",
    "from dotenv import load_dotenv\n",
    "from langchain.agents import Tool, AgentExecutor, create_react_agent\n",
    "from langchain.tools import DuckDuckGoSearchRun\n",
    "from langchain_groq import ChatGroq\n",
    "from langchain.prompts import PromptTemplate\n",
    "from langchain.memory import ConversationBufferMemory\n",
    "\n",
    "# Load environment variables\n",
    "load_dotenv()\n",
    "\n",
    "# Initialize OpenAI API key\n",
    "os.getenv(\"Groq_API_KEY\")"
   ]
  },
  {
   "cell_type": "markdown",
   "metadata": {},
   "source": [
    "## 2. Creating the Search Tool\n",
    "\n",
    "We'll create a search tool using DuckDuckGo's search API. This will allow our agent to search the internet for information."
   ]
  },
  {
   "cell_type": "code",
   "execution_count": 3,
   "metadata": {},
   "outputs": [],
   "source": [
    "# Initialize the search tool\n",
    "search = DuckDuckGoSearchRun()\n",
    "\n",
    "tools = [\n",
    "    Tool(\n",
    "        name=\"Search\",\n",
    "        func=search.run,\n",
    "        description=\"Useful for searching information on the internet. Use this when you need to find current or factual information.\"\n",
    "    )\n",
    "]"
   ]
  },
  {
   "cell_type": "markdown",
   "metadata": {},
   "source": [
    "## 3. Setting Up the Language Model\n",
    "\n",
    "We'll use OpenAI's GPT model as our agent's brain. This will help process and understand both the user's queries and the search results."
   ]
  },
  {
   "cell_type": "code",
   "execution_count": 4,
   "metadata": {},
   "outputs": [],
   "source": [
    "# Initialize the language model\n",
    "llm = ChatGroq(\n",
    "    temperature=0.7,\n",
    "    model=\"llama3-8b-8192\",\n",
    "    api_key=os.getenv(\"Groq_API_KEY\"),\n",
    ")"
   ]
  },
  {
   "cell_type": "markdown",
   "metadata": {},
   "source": [
    "## 4. Creating the Agent\n",
    "\n",
    "Now we'll create our agent by combining the search tool with the language model."
   ]
  },
  {
   "cell_type": "code",
   "execution_count": 5,
   "metadata": {},
   "outputs": [
    {
     "name": "stderr",
     "output_type": "stream",
     "text": [
      "C:\\Users\\Dark_Coder\\AppData\\Local\\Temp\\ipykernel_13532\\167193580.py:34: LangChainDeprecationWarning: Please see the migration guide at: https://python.langchain.com/docs/versions/migrating_memory/\n",
      "  memory=ConversationBufferMemory(memory_key=\"chat_history\")\n"
     ]
    }
   ],
   "source": [
    "# Define the prompt template for the agent\n",
    "template = \"\"\"Answer the following questions as best you can. You have access to the following tools:\n",
    "\n",
    "{tools}\n",
    "\n",
    "Use the following format:\n",
    "\n",
    "Question: the input question you must answer\n",
    "Thought: you should always think about what to do\n",
    "Action: the action to take, should be one of [{tool_names}]\n",
    "Action Input: the input to the action\n",
    "Observation: the result of the action\n",
    "... (this Thought/Action/Action Input/Observation can repeat N times)\n",
    "Thought: I now know the final answer\n",
    "Final Answer: the final answer to the original input question\n",
    "\n",
    "Begin!\n",
    "\n",
    "Question: {input}\n",
    "Thought: {agent_scratchpad}\"\"\"\n",
    "\n",
    "# Create the agent\n",
    "agent = create_react_agent(\n",
    "    llm=llm,\n",
    "    tools=tools,\n",
    "    prompt=PromptTemplate.from_template(template)\n",
    ")\n",
    "\n",
    "# Create the agent executor\n",
    "agent_executor = AgentExecutor.from_agent_and_tools(\n",
    "    agent=agent,\n",
    "    tools=tools,\n",
    "    verbose=True,\n",
    "    memory=ConversationBufferMemory(memory_key=\"chat_history\")\n",
    ")"
   ]
  },
  {
   "cell_type": "markdown",
   "metadata": {},
   "source": [
    "## 5. Testing the Search Agent\n",
    "\n",
    "Let's test our agent with some example queries to see how it performs."
   ]
  },
  {
   "cell_type": "code",
   "execution_count": 6,
   "metadata": {},
   "outputs": [],
   "source": [
    "def ask_question(query):\n",
    "    \"\"\"\n",
    "    Function to ask a question to the agent and get a response\n",
    "    \"\"\"\n",
    "    try:\n",
    "        response = agent_executor.invoke({\"input\": query})\n",
    "        return response.get(\"output\", \"Sorry, I couldn't generate a response.\")\n",
    "    except Exception as e:\n",
    "        return f\"An error occurred: {str(e)}\"\n"
   ]
  },
  {
   "cell_type": "code",
   "execution_count": 7,
   "metadata": {},
   "outputs": [
    {
     "name": "stdout",
     "output_type": "stream",
     "text": [
      "\n",
      "\n",
      "\u001b[1m> Entering new AgentExecutor chain...\u001b[0m\n",
      "\u001b[32;1m\u001b[1;3mQuestion: What are the latest developments in quantum computing?\n",
      "\n",
      "Thought: I should use the Search tool to find the latest information on quantum computing developments.\n",
      "\n",
      "Action: Search\n",
      "\n",
      "Action Input: \"latest developments in quantum computing\"\n",
      "\u001b[0m\u001b[36;1m\u001b[1;3mMIT physicists predict exotic form of matter with potential for quantum computing. New work suggests the ability to create fractionalized electrons known as non-Abelian anyons without a magnetic field, opening new possibilities for basic research and future applications. November 18, 2024. Read full story → Read the latest about the development of quantum computers. ... 2024 — Predicting the behavior of many interacting quantum particles is a complicated process but is key to harness quantum ... Quantum computing is in its infancy, but its potential has sparked intense exploration. This article examines three major trajectories that will shape the future of quantum computing: the gate ... Breakthrough in Magnetism Could Transform Quantum Computing and Superconductors; Monday, October 28, 2024. Major Development Successes in Diamond Spin Photon Quantum Computers; Thursday, October ... Looking to the quantum computing future, investing in quantum computers could lead to once-in-a-century breakthroughs, similar to how electricity changed the world, according to Wisotsky. \"It will open up new solutions and advancements in science and physics that we've never seen before,\" he adds. 4. A Big Year for Quantum Computing\u001b[0m\u001b[32;1m\u001b[1;3mQuestion: What are the latest developments in quantum computing?\n",
      "\n",
      "Thought: Question: What are the latest developments in quantum computing?\n",
      "\n",
      "Thought: I should use the Search tool to find the latest information on quantum computing developments.\n",
      "\n",
      "Action: Search\n",
      "\n",
      "Action Input: \"latest developments in quantum computing\"\n",
      "\u001b[0m\u001b[36;1m\u001b[1;3mMIT physicists predict exotic form of matter with potential for quantum computing. New work suggests the ability to create fractionalized electrons known as non-Abelian anyons without a magnetic field, opening new possibilities for basic research and future applications. November 18, 2024. Read full story → IBM Quantum Heron, the company's most performant quantum processor to-date and available in IBM's global quantum data centers, can now leverage Qiskit to accurately run certain classes of quantum circuits with up to 5,000 two-qubit gate operations. Users can now use these capabilities to expand explorations in how quantum computers can tackle scientific problems across materials, chemistry ... Read the latest about the development of quantum computers. ... 2024 — Predicting the behavior of many interacting quantum particles is a complicated process but is key to harness quantum ... Quantum computing is in its infancy, but its potential has sparked intense exploration. This article examines three major trajectories that will shape the future of quantum computing: the gate ... Breakthrough in Magnetism Could Transform Quantum Computing and Superconductors; Monday, October 28, 2024. Major Development Successes in Diamond Spin Photon Quantum Computers; Thursday, October ...\u001b[0m\u001b[32;1m\u001b[1;3mThought: I think I have found some relevant information on the latest developments in quantum computing.\n",
      "\n",
      "Action: Search\n",
      "\n",
      "Action Input: \"latest developments in quantum computing\"\n",
      "\u001b[0mAn error occurred: https://links.duckduckgo.com/d.js?q=latest+developments+in+quantum+computing%22%0A&kl=wt-wt&l=wt-wt&p=&s=0&df=y&vqd=4-255398721965264609561411184648382220680&bing_market=wt-WT&ex=-1 202 Ratelimit\n"
     ]
    }
   ],
   "source": [
    "# Test the agent with a query\n",
    "query = \"What are the latest developments in quantum computing?\"\n",
    "print(ask_question(query))"
   ]
  },
  {
   "cell_type": "code",
   "execution_count": 8,
   "metadata": {},
   "outputs": [
    {
     "name": "stdout",
     "output_type": "stream",
     "text": [
      "Requirement already satisfied: graphviz in c:\\users\\dark_coder\\appdata\\local\\programs\\python\\python312\\lib\\site-packages (0.20.1)\n",
      "Requirement already satisfied: Pillow in c:\\users\\dark_coder\\appdata\\local\\programs\\python\\python312\\lib\\site-packages (10.4.0)\n",
      "Note: you may need to restart the kernel to use updated packages.\n"
     ]
    }
   ],
   "source": [
    "%pip install graphviz Pillow"
   ]
  },
  {
   "cell_type": "code",
   "execution_count": 10,
   "metadata": {},
   "outputs": [],
   "source": [
    "import os\n",
    "from PIL import Image, ImageDraw, ImageFont\n",
    "from graphviz import Digraph\n",
    "\n",
    "def create_step_diagram(step):\n",
    "    dot = Digraph(comment=f'Step {step}', format='png')\n",
    "    dot.attr(rankdir='LR', size='12,8')\n",
    "    dot.attr('node', shape='box', style='rounded,filled', fontname='Arial', fontsize='12')\n",
    "    dot.attr('edge', fontname='Arial', fontsize='10')\n",
    "\n",
    "    components = {\n",
    "        'user': 'User Query',\n",
    "        'agent': 'ReAct Agent',\n",
    "        'executor': 'Agent Executor',\n",
    "        'llm': 'Groq LLM',\n",
    "        'tools': 'DuckDuckGo Search',\n",
    "        'memory': 'ConversationBuffer\\nMemory',\n",
    "        'prompt': 'Prompt Template'\n",
    "    }\n",
    "\n",
    "    highlights = {\n",
    "        1: ['user', 'executor'],\n",
    "        2: ['executor', 'agent', 'prompt'],\n",
    "        3: ['agent', 'llm'],\n",
    "        4: ['agent', 'tools'],\n",
    "        5: ['executor', 'memory'],\n",
    "        6: ['memory', 'agent']\n",
    "    }\n",
    "\n",
    "    for node_id, label in components.items():\n",
    "        color = 'yellow' if node_id in highlights.get(step, []) else 'lightblue'\n",
    "        dot.node(node_id, label, fillcolor=color)\n",
    "\n",
    "    dot.edge('user', 'executor', 'Query')\n",
    "    dot.edge('executor', 'agent', 'Execute')\n",
    "    dot.edge('agent', 'llm', 'Process')\n",
    "    dot.edge('agent', 'tools', 'Use')\n",
    "    dot.edge('prompt', 'agent', 'Format')\n",
    "    dot.edge('executor', 'memory', 'Store/Retrieve')\n",
    "    dot.edge('memory', 'agent', 'Context')\n",
    "\n",
    "    return dot\n",
    "\n",
    "def add_step_label(image, step):\n",
    "    draw = ImageDraw.Draw(image)\n",
    "    font = ImageFont.truetype(\"arial.ttf\", 36)\n",
    "    draw.text((10, 10), f\"Step {step}\", font=font, fill=(0, 0, 0))\n",
    "    return image\n",
    "\n",
    "def create_animation():\n",
    "    frames = []\n",
    "    for step in range(1, 7):\n",
    "        dot = create_step_diagram(step)\n",
    "        dot.render(f'step_{step}', cleanup=True)\n",
    "        img = Image.open(f'step_{step}.png')\n",
    "        img = add_step_label(img, step)\n",
    "        frames.append(img)\n",
    "\n",
    "    frames[0].save(\n",
    "        'langchain_flow_improved.gif',\n",
    "        save_all=True,\n",
    "        append_images=frames[1:],\n",
    "        duration=1500,\n",
    "        loop=0\n",
    "    )\n",
    "\n",
    "    for step in range(1, 7):\n",
    "        os.remove(f'step_{step}.png')\n",
    "\n",
    "if __name__ == \"__main__\":\n",
    "    create_animation()"
   ]
  },
  {
   "cell_type": "code",
   "execution_count": null,
   "metadata": {},
   "outputs": [],
   "source": []
  }
 ],
 "metadata": {
  "kernelspec": {
   "display_name": "Python 3",
   "language": "python",
   "name": "python3"
  },
  "language_info": {
   "codemirror_mode": {
    "name": "ipython",
    "version": 3
   },
   "file_extension": ".py",
   "mimetype": "text/x-python",
   "name": "python",
   "nbconvert_exporter": "python",
   "pygments_lexer": "ipython3",
   "version": "3.12.4"
  }
 },
 "nbformat": 4,
 "nbformat_minor": 4
}
