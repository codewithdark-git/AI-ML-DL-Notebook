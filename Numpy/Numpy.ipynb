{
 "cells": [
  {
   "cell_type": "code",
   "execution_count": 89,
   "metadata": {},
   "outputs": [
    {
     "name": "stdout",
     "output_type": "stream",
     "text": [
      "Requirement already satisfied: numpy in c:\\users\\dark_coder\\appdata\\local\\programs\\python\\python312\\lib\\site-packages (1.26.4)\n",
      "Note: you may need to restart the kernel to use updated packages.\n"
     ]
    }
   ],
   "source": [
    "!pip install numpy"
   ]
  },
  {
   "cell_type": "code",
   "execution_count": 16,
   "metadata": {},
   "outputs": [],
   "source": [
    "import numpy as np"
   ]
  },
  {
   "cell_type": "markdown",
   "metadata": {},
   "source": [
    "##### Simple one dimensional numpy array with integers from 1 to 9"
   ]
  },
  {
   "cell_type": "markdown",
   "metadata": {},
   "source": [
    "This code creates a NumPy array with elements from 1 to 9, using 32-bit integers as the data type. It first prints the type of the array, which is `numpy.ndarray`, indicating that it's a NumPy array. Then, it prints the contents of the array, showing the sequence of numbers `[1 2 3 4 5 6 7 8 9]`."
   ]
  },
  {
   "cell_type": "code",
   "execution_count": 91,
   "metadata": {},
   "outputs": [
    {
     "name": "stdout",
     "output_type": "stream",
     "text": [
      "<class 'numpy.ndarray'>\n",
      "[1 2 3 4 5 6 7 8 9]\n"
     ]
    }
   ],
   "source": [
    "np_array = np.array([1, 2, 3, 4, 5, 6, 7, 8, 9], np.int32)\n",
    "print(type(np_array))\n",
    "print(np_array)\n",
    "                "
   ]
  },
  {
   "cell_type": "markdown",
   "metadata": {},
   "source": [
    "This code creates a 2D NumPy array with three rows and four columns. Each sublist in the array represents a row of the matrix. The `np_array_2d` variable holds the array, which looks like a 3x4 matrix when displayed. The structure is as follows:\n",
    "\n",
    "```\n",
    "[[ 1  2  3 12]\n",
    " [ 4  5  6 11]\n",
    " [ 7  8  9 10]]\n",
    "```\n",
    "\n",
    "This array can be used in various mathematical and data processing operations where a 2D structure is needed."
   ]
  },
  {
   "cell_type": "code",
   "execution_count": 17,
   "metadata": {},
   "outputs": [
    {
     "data": {
      "text/plain": [
       "array([[ 1,  2,  3, 12],\n",
       "       [ 4,  5,  6, 11],\n",
       "       [ 7,  8,  9, 10]])"
      ]
     },
     "execution_count": 17,
     "metadata": {},
     "output_type": "execute_result"
    }
   ],
   "source": [
    "np_array_2d = np.array([[1, 2, 3, 12], [4, 5, 6, 11], [7, 8, 9, 10]])\n",
    "\n",
    "np_array_2d\n"
   ]
  },
  {
   "cell_type": "markdown",
   "metadata": {},
   "source": [
    "The `np_array_2d.dtype` attribute returns the data type of the elements in the `np_array_2d` NumPy array. \n",
    "\n",
    "### Example Explanation:\n",
    "When you run `np_array_2d.dtype`, it will output the data type of the array elements. Since the array contains integers, the output will likely be `dtype('int64')` or `dtype('int32')`, depending on your system architecture. This indicates that the elements in `np_array_2d` are of type 64-bit or 32-bit integers.\n",
    "\n",
    "Example output:\n",
    "```python\n",
    "dtype('int32')\n",
    "```\n",
    "\n",
    "This means that the elements in the `np_array_2d` array are stored as 32-bit integers."
   ]
  },
  {
   "cell_type": "code",
   "execution_count": 93,
   "metadata": {},
   "outputs": [
    {
     "data": {
      "text/plain": [
       "dtype('int32')"
      ]
     },
     "execution_count": 93,
     "metadata": {},
     "output_type": "execute_result"
    }
   ],
   "source": [
    "np_array_2d.dtype"
   ]
  },
  {
   "cell_type": "markdown",
   "metadata": {},
   "source": [
    "The code retrieves the first row of a 2D NumPy array and stores it in the variable `index_`. This means `index_` will contain the values from the first row of the array."
   ]
  },
  {
   "cell_type": "code",
   "execution_count": 94,
   "metadata": {},
   "outputs": [
    {
     "data": {
      "text/plain": [
       "array([ 1,  2,  3, 12])"
      ]
     },
     "execution_count": 94,
     "metadata": {},
     "output_type": "execute_result"
    }
   ],
   "source": [
    "index_ = np_array_2d[0]\n",
    "index_"
   ]
  },
  {
   "cell_type": "markdown",
   "metadata": {},
   "source": [
    "This code finds the maximum value in the 2D NumPy array and stores it in the variable `maximum`. When you print `maximum`, it will display the largest value from all the elements in the array."
   ]
  },
  {
   "cell_type": "code",
   "execution_count": 18,
   "metadata": {},
   "outputs": [
    {
     "data": {
      "text/plain": [
       "12"
      ]
     },
     "execution_count": 18,
     "metadata": {},
     "output_type": "execute_result"
    }
   ],
   "source": [
    "maximum = np_array_2d.max()\n",
    "maximum"
   ]
  },
  {
   "cell_type": "markdown",
   "metadata": {},
   "source": [
    "This code finds the minimum value in the 2D NumPy array and stores it in the variable `minimum`. When you print `minimum`, it will show the smallest value among all the elements in the array."
   ]
  },
  {
   "cell_type": "code",
   "execution_count": 96,
   "metadata": {},
   "outputs": [
    {
     "data": {
      "text/plain": [
       "1"
      ]
     },
     "execution_count": 96,
     "metadata": {},
     "output_type": "execute_result"
    }
   ],
   "source": [
    "minimum = np_array_2d.min()\n",
    "minimum"
   ]
  },
  {
   "cell_type": "markdown",
   "metadata": {},
   "source": [
    "This code calculates the sum of all the elements in the 2D NumPy array and stores it in the variable `sum_of_array`. When you print `sum_of_array`, it will display the total sum of all values in the array."
   ]
  },
  {
   "cell_type": "code",
   "execution_count": 97,
   "metadata": {},
   "outputs": [
    {
     "data": {
      "text/plain": [
       "78"
      ]
     },
     "execution_count": 97,
     "metadata": {},
     "output_type": "execute_result"
    }
   ],
   "source": [
    "sum_of_array = np_array_2d.sum()\n",
    "sum_of_array"
   ]
  },
  {
   "cell_type": "code",
   "execution_count": 19,
   "metadata": {},
   "outputs": [
    {
     "data": {
      "text/plain": [
       "6.5"
      ]
     },
     "execution_count": 19,
     "metadata": {},
     "output_type": "execute_result"
    }
   ],
   "source": [
    "mean_ = np_array_2d.mean()\n",
    "mean_"
   ]
  },
  {
   "cell_type": "code",
   "execution_count": 82,
   "metadata": {},
   "outputs": [
    {
     "data": {
      "text/plain": [
       "array([[ 5,  6,  6],\n",
       "       [ 9,  9, 10],\n",
       "       [ 4,  6, 10]])"
      ]
     },
     "execution_count": 82,
     "metadata": {},
     "output_type": "execute_result"
    }
   ],
   "source": [
    "m_1 = np.array([[1, 3, 5],\n",
    "                [2, 6, 9],\n",
    "                [0, 4, 7]\n",
    "                ])\n",
    "m_2 = np.array([[4, 3, 1],\n",
    "                [7, 3, 1],\n",
    "                [4, 2, 3]\n",
    "                ])\n",
    "m_1 + m_2"
   ]
  },
  {
   "cell_type": "code",
   "execution_count": 83,
   "metadata": {},
   "outputs": [
    {
     "data": {
      "text/plain": [
       "array([[ 4,  9,  5],\n",
       "       [14, 18,  9],\n",
       "       [ 0,  8, 21]])"
      ]
     },
     "execution_count": 83,
     "metadata": {},
     "output_type": "execute_result"
    }
   ],
   "source": [
    "m_1 * m_2"
   ]
  },
  {
   "cell_type": "code",
   "execution_count": 84,
   "metadata": {},
   "outputs": [
    {
     "data": {
      "text/plain": [
       "array([[-3,  0,  4],\n",
       "       [-5,  3,  8],\n",
       "       [-4,  2,  4]])"
      ]
     },
     "execution_count": 84,
     "metadata": {},
     "output_type": "execute_result"
    }
   ],
   "source": [
    "m_1 - m_2"
   ]
  },
  {
   "cell_type": "code",
   "execution_count": 85,
   "metadata": {},
   "outputs": [
    {
     "data": {
      "text/plain": [
       "array([[0.25      , 1.        , 5.        ],\n",
       "       [0.28571429, 2.        , 9.        ],\n",
       "       [0.        , 2.        , 2.33333333]])"
      ]
     },
     "execution_count": 85,
     "metadata": {},
     "output_type": "execute_result"
    }
   ],
   "source": [
    "m_1 / m_2"
   ]
  },
  {
   "cell_type": "code",
   "execution_count": 86,
   "metadata": {},
   "outputs": [
    {
     "data": {
      "text/plain": [
       "array([[1.        , 1.73205081, 2.23606798],\n",
       "       [1.41421356, 2.44948974, 3.        ],\n",
       "       [0.        , 2.        , 2.64575131]])"
      ]
     },
     "execution_count": 86,
     "metadata": {},
     "output_type": "execute_result"
    }
   ],
   "source": [
    "np.sqrt(m_1)"
   ]
  },
  {
   "cell_type": "code",
   "execution_count": 96,
   "metadata": {},
   "outputs": [
    {
     "data": {
      "text/plain": [
       "array([[1, 3, 5],\n",
       "       [2, 6, 9],\n",
       "       [0, 4, 7],\n",
       "       [4, 3, 1],\n",
       "       [7, 3, 1],\n",
       "       [4, 2, 3]])"
      ]
     },
     "execution_count": 96,
     "metadata": {},
     "output_type": "execute_result"
    }
   ],
   "source": [
    "np.concatenate((m_1, m_2))"
   ]
  },
  {
   "cell_type": "code",
   "execution_count": 87,
   "metadata": {},
   "outputs": [
    {
     "data": {
      "text/plain": [
       "2.7666443551086073"
      ]
     },
     "execution_count": 87,
     "metadata": {},
     "output_type": "execute_result"
    }
   ],
   "source": [
    "np.std(m_1)"
   ]
  },
  {
   "cell_type": "code",
   "execution_count": 89,
   "metadata": {},
   "outputs": [
    {
     "data": {
      "text/plain": [
       "array([[1, 3, 5],\n",
       "       [2, 6, 9],\n",
       "       [0, 4, 7]])"
      ]
     },
     "execution_count": 89,
     "metadata": {},
     "output_type": "execute_result"
    }
   ],
   "source": [
    "m_1"
   ]
  },
  {
   "cell_type": "code",
   "execution_count": 88,
   "metadata": {},
   "outputs": [
    {
     "data": {
      "text/plain": [
       "array([[1, 2, 0],\n",
       "       [3, 6, 4],\n",
       "       [5, 9, 7]])"
      ]
     },
     "execution_count": 88,
     "metadata": {},
     "output_type": "execute_result"
    }
   ],
   "source": [
    "np.transpose(m_1)"
   ]
  },
  {
   "cell_type": "code",
   "execution_count": 91,
   "metadata": {},
   "outputs": [
    {
     "data": {
      "text/plain": [
       "array([[1, 2, 0],\n",
       "       [3, 6, 4],\n",
       "       [5, 9, 7]])"
      ]
     },
     "execution_count": 91,
     "metadata": {},
     "output_type": "execute_result"
    }
   ],
   "source": [
    "m_1.T"
   ]
  },
  {
   "cell_type": "code",
   "execution_count": 100,
   "metadata": {},
   "outputs": [
    {
     "data": {
      "text/plain": [
       "array([[1, 3, 5],\n",
       "       [2, 6, 9],\n",
       "       [0, 4, 7],\n",
       "       [4, 3, 1],\n",
       "       [7, 3, 1],\n",
       "       [4, 2, 3]])"
      ]
     },
     "execution_count": 100,
     "metadata": {},
     "output_type": "execute_result"
    }
   ],
   "source": [
    "# np.linalg.inv(m_1)\n",
    "# np.linalg.eig(m_1)\n",
    "# np.linalg.det(m_1)\n",
    "np.vstack((m_1, m_2))\n",
    "# np./hstack((m_1, m_2))"
   ]
  },
  {
   "cell_type": "markdown",
   "metadata": {},
   "source": [
    "This code extracts all elements from the 2D NumPy array that are greater than `5` and stores them in the variable `i`. When you print `i`, it will display a 1D array containing only the values from the original array that are greater than `5`."
   ]
  },
  {
   "cell_type": "code",
   "execution_count": 99,
   "metadata": {},
   "outputs": [
    {
     "data": {
      "text/plain": [
       "array([12,  6, 11,  7,  8,  9, 10])"
      ]
     },
     "execution_count": 99,
     "metadata": {},
     "output_type": "execute_result"
    }
   ],
   "source": [
    "i = np_array_2d[np_array_2d > 5]\n",
    "i"
   ]
  },
  {
   "cell_type": "markdown",
   "metadata": {},
   "source": [
    "This code retrieves the shape of the 2D NumPy array and stores it in the variable `a`. The shape of an array is a tuple representing its dimensions. The `print` statement will show the dimensions of the array, indicating the number of rows and columns. For example, if the array has 3 rows and 4 columns, `a` will be `(3, 4)`."
   ]
  },
  {
   "cell_type": "code",
   "execution_count": 100,
   "metadata": {},
   "outputs": [
    {
     "name": "stdout",
     "output_type": "stream",
     "text": [
      "Shape of the array: (3, 4)\n"
     ]
    }
   ],
   "source": [
    "a = np_array_2d.shape\n",
    "\n",
    "print(\"Shape of the array:\", a)"
   ]
  },
  {
   "cell_type": "markdown",
   "metadata": {},
   "source": [
    "This code calculates the total number of elements in the 2D NumPy array and stores it in the variable `size`. When you print `size`, it will display the total count of elements in the array. For a 3x4 array, the output will be `12`, indicating there are 12 elements in total."
   ]
  },
  {
   "cell_type": "code",
   "execution_count": 101,
   "metadata": {},
   "outputs": [
    {
     "data": {
      "text/plain": [
       "12"
      ]
     },
     "execution_count": 101,
     "metadata": {},
     "output_type": "execute_result"
    }
   ],
   "source": [
    "size = np_array_2d.size\n",
    "size"
   ]
  },
  {
   "cell_type": "markdown",
   "metadata": {},
   "source": [
    "This code reshapes the original 2D NumPy array into a new shape with 2 rows and 6 columns, and stores it in the variable `reshaped_array`. The `reshape` function rearranges the elements of the array to fit the new shape, while preserving the total number of elements. When you print `reshaped_array`, it will display the array in its new shape."
   ]
  },
  {
   "cell_type": "code",
   "execution_count": 175,
   "metadata": {},
   "outputs": [
    {
     "data": {
      "text/plain": [
       "array([[ 1,  2,  3, 12,  4,  5],\n",
       "       [ 6, 11,  7,  8,  9, 10]])"
      ]
     },
     "execution_count": 175,
     "metadata": {},
     "output_type": "execute_result"
    }
   ],
   "source": [
    "reshaped_array = np_array_2d.reshape(2, 6)\n",
    "reshaped_array"
   ]
  },
  {
   "cell_type": "markdown",
   "metadata": {},
   "source": [
    "This code flattens the 2D NumPy array into a 1D array and stores it in the variable `reshaped_array`. The `np.ravel` function returns a contiguous flattened array. When you print `reshaped_array`, it will display all the elements of the original array in a single, one-dimensional sequence."
   ]
  },
  {
   "cell_type": "code",
   "execution_count": 176,
   "metadata": {},
   "outputs": [
    {
     "data": {
      "text/plain": [
       "array([ 1,  2,  3, 12,  4,  5,  6, 11,  7,  8,  9, 10])"
      ]
     },
     "execution_count": 176,
     "metadata": {},
     "output_type": "execute_result"
    }
   ],
   "source": [
    "reshaped_array = np.ravel(np_array_2d)\n",
    "reshaped_array"
   ]
  },
  {
   "cell_type": "code",
   "execution_count": 177,
   "metadata": {},
   "outputs": [
    {
     "data": {
      "text/plain": [
       "array([ 1,  2,  3, 12,  4,  5,  6, 11,  7,  8,  9, 10])"
      ]
     },
     "execution_count": 177,
     "metadata": {},
     "output_type": "execute_result"
    }
   ],
   "source": [
    "reshaped_array = np_array_2d.ravel()\n",
    "reshaped_array"
   ]
  },
  {
   "cell_type": "code",
   "execution_count": 80,
   "metadata": {},
   "outputs": [
    {
     "data": {
      "text/plain": [
       "(array([0, 0, 0, 1, 1, 1], dtype=int64),\n",
       " array([1, 2, 3, 0, 2, 3], dtype=int64))"
      ]
     },
     "execution_count": 80,
     "metadata": {},
     "output_type": "execute_result"
    }
   ],
   "source": [
    "zero_array = np.array([[0, 1, 2, 3], [5, 0, 4, 7]])\n",
    "find_non_0 = np.nonzero(zero_array)\n",
    "find_non_0"
   ]
  },
  {
   "cell_type": "code",
   "execution_count": 81,
   "metadata": {},
   "outputs": [
    {
     "data": {
      "text/plain": [
       "6"
      ]
     },
     "execution_count": 81,
     "metadata": {},
     "output_type": "execute_result"
    }
   ],
   "source": [
    "find_non_0 = np.count_nonzero(zero_array)\n",
    "find_non_0"
   ]
  },
  {
   "cell_type": "markdown",
   "metadata": {},
   "source": [
    "#### Numpy Array Creation"
   ]
  },
  {
   "cell_type": "markdown",
   "metadata": {},
   "source": [
    "This code converts a Python list, `listarray`, into a NumPy array and stores it in the variable `np_array`. When you print `np_array`, it will display the list elements as a NumPy array. "
   ]
  },
  {
   "cell_type": "code",
   "execution_count": 103,
   "metadata": {},
   "outputs": [
    {
     "data": {
      "text/plain": [
       "array([1, 2, 3, 4, 5])"
      ]
     },
     "execution_count": 103,
     "metadata": {},
     "output_type": "execute_result"
    }
   ],
   "source": [
    "listarray = [1, 2, 3, 4, 5]\n",
    "np_array = np.array(listarray)\n",
    "np_array"
   ]
  },
  {
   "cell_type": "markdown",
   "metadata": {},
   "source": [
    "This code converts the values of a dictionary, `dic_array`, into a NumPy array and stores it in the variable `np_array_from_dict`. The `dic_array.values()` method extracts the dictionary values, and `np.array()` converts them into a NumPy array.\n"
   ]
  },
  {
   "cell_type": "markdown",
   "metadata": {},
   "source": [
    " OR convert the dictionary to a list and then to an array using `np.array(list(dic_array.values()))` and its not for only dictionary its work with `set` and `tuple`\n"
   ]
  },
  {
   "cell_type": "code",
   "execution_count": 112,
   "metadata": {},
   "outputs": [
    {
     "data": {
      "text/plain": [
       "array(dict_values([1, 2, 3]), dtype=object)"
      ]
     },
     "execution_count": 112,
     "metadata": {},
     "output_type": "execute_result"
    }
   ],
   "source": [
    "dic_array = {'a': 1, 'b': 2, 'c': 3}\n",
    "\n",
    "np_array_from_dict = np.array(dic_array.values())\n",
    "\n",
    "np_array_from_dict"
   ]
  },
  {
   "cell_type": "markdown",
   "metadata": {},
   "source": [
    "This code converts a Python set, `set_array`, into a NumPy array and stores it in the variable `np_array_from_set`. Sets automatically remove duplicate elements, so any duplicates in `set_array` are eliminated.\n"
   ]
  },
  {
   "cell_type": "code",
   "execution_count": 111,
   "metadata": {},
   "outputs": [
    {
     "data": {
      "text/plain": [
       "array({1, 2, 3, 4, 5}, dtype=object)"
      ]
     },
     "execution_count": 111,
     "metadata": {},
     "output_type": "execute_result"
    }
   ],
   "source": [
    "set_array = {1, 2, 3, 4, 5, 5}\n",
    "np_array_from_set = np.array(set_array)\n",
    "np_array_from_set"
   ]
  },
  {
   "cell_type": "markdown",
   "metadata": {},
   "source": [
    "This code converts a Python tuple, `tuple_array`, into a NumPy array and stores it in the variable `np_array_from_tuple`. \n"
   ]
  },
  {
   "cell_type": "code",
   "execution_count": 110,
   "metadata": {},
   "outputs": [
    {
     "data": {
      "text/plain": [
       "array([1, 2, 3, 4, 5])"
      ]
     },
     "execution_count": 110,
     "metadata": {},
     "output_type": "execute_result"
    }
   ],
   "source": [
    "tuple_array = (1, 2, 3, 4, 5)\n",
    "np_array_from_tuple = np.array(tuple_array)\n",
    "np_array_from_tuple"
   ]
  },
  {
   "cell_type": "markdown",
   "metadata": {},
   "source": [
    "This code creates a 3x3 NumPy array filled with zeros and stores it in the variable `zeros`. The `np.zeros` function generates an array of the specified shape, with all elements initialized to `0`.\n"
   ]
  },
  {
   "cell_type": "code",
   "execution_count": 113,
   "metadata": {},
   "outputs": [
    {
     "data": {
      "text/plain": [
       "array([[0., 0., 0.],\n",
       "       [0., 0., 0.],\n",
       "       [0., 0., 0.]])"
      ]
     },
     "execution_count": 113,
     "metadata": {},
     "output_type": "execute_result"
    }
   ],
   "source": [
    "zeros = np.zeros((3, 3))\n",
    "zeros"
   ]
  },
  {
   "cell_type": "markdown",
   "metadata": {},
   "source": [
    "This code creates two NumPy arrays Methods using the `np.arange` function:\n",
    "\n",
    "1. **`range_array`**: This array contains values from `0` to `9` (10 is excluded), generated by `np.arange(10)`.\n",
    "\n",
    "2. **`spa_range`**: This array contains values starting from `1` up to `9` (10 is excluded) with a step size of `2`, generated by `np.arange(1, 10, 2)`.\n"
   ]
  },
  {
   "cell_type": "code",
   "execution_count": 136,
   "metadata": {},
   "outputs": [
    {
     "data": {
      "text/plain": [
       "(array([0, 1, 2, 3, 4, 5, 6, 7, 8, 9]), array([1, 3, 5, 7, 9]))"
      ]
     },
     "execution_count": 136,
     "metadata": {},
     "output_type": "execute_result"
    }
   ],
   "source": [
    "range_array = np.arange(10)\n",
    "spa_range =  np.arange(1, 10, 2)\n",
    "\n",
    "range_array, spa_range"
   ]
  },
  {
   "cell_type": "markdown",
   "metadata": {},
   "source": [
    "This code creates a NumPy array with `5` evenly spaced values between `1` and `10` (inclusive) using `np.linspace`.\n",
    "\n",
    "The `linspace_array` Output will be:\n",
    "\n",
    "```\n",
    "[ 1.   3.25  5.5  7.75 10.  ]\n",
    "```\n",
    "\n",
    "`np.linspace(1, 10, 5)` generates an array where the values are linearly spaced between `1` and `10`, with a total of `5` points."
   ]
  },
  {
   "cell_type": "code",
   "execution_count": 128,
   "metadata": {},
   "outputs": [
    {
     "data": {
      "text/plain": [
       "array([ 1.  ,  3.25,  5.5 ,  7.75, 10.  ])"
      ]
     },
     "execution_count": 128,
     "metadata": {},
     "output_type": "execute_result"
    }
   ],
   "source": [
    "linspace_array = np.linspace(1, 10, 5)\n",
    "linspace_array"
   ]
  },
  {
   "cell_type": "markdown",
   "metadata": {},
   "source": [
    "This code creates a 2x3 NumPy array with uninitialized values using `np.empty`. The contents of the array are not set to any specific value and can contain arbitrary data based on the memory state.\n"
   ]
  },
  {
   "cell_type": "code",
   "execution_count": 164,
   "metadata": {},
   "outputs": [
    {
     "data": {
      "text/plain": [
       "array([[4.24399158e-314, 2.54639495e-313, 1.06099790e-313],\n",
       "       [2.33419537e-313, 1.69759663e-313, 2.12199579e-313]])"
      ]
     },
     "execution_count": 164,
     "metadata": {},
     "output_type": "execute_result"
    }
   ],
   "source": [
    "empty_array = np.empty((2, 3))\n",
    "empty_array"
   ]
  },
  {
   "cell_type": "markdown",
   "metadata": {},
   "source": [
    "This code fills the previously created empty NumPy array with `0` using the `fill` method. After calling `empty_array.fill(0)`, all elements in the `empty_array` will be set to `0`.\n"
   ]
  },
  {
   "cell_type": "code",
   "execution_count": 162,
   "metadata": {},
   "outputs": [
    {
     "data": {
      "text/plain": [
       "array([[0., 0., 0.],\n",
       "       [0., 0., 0.],\n",
       "       [0., 0., 0.],\n",
       "       [0., 0., 0.]])"
      ]
     },
     "execution_count": 162,
     "metadata": {},
     "output_type": "execute_result"
    }
   ],
   "source": [
    "empty_array.fill(0)\n",
    "empty_array"
   ]
  },
  {
   "cell_type": "markdown",
   "metadata": {},
   "source": [
    "This code creates a new NumPy array, `empty_like_array`, with the same shape and data type as `linspace_array`, but with uninitialized values. The `np.empty_like` function is used to generate this array."
   ]
  },
  {
   "cell_type": "code",
   "execution_count": 166,
   "metadata": {},
   "outputs": [
    {
     "data": {
      "text/plain": [
       "array([7.88152004e-312, 7.88213896e-312, 6.95246149e-310, 0.00000000e+000,\n",
       "       0.00000000e+000])"
      ]
     },
     "execution_count": 166,
     "metadata": {},
     "output_type": "execute_result"
    }
   ],
   "source": [
    "empty_like_array = np.empty_like(linspace_array)\n",
    "empty_like_array"
   ]
  },
  {
   "cell_type": "markdown",
   "metadata": {},
   "source": [
    "This code creates a 3x3 NumPy array where all elements are initialized to `1` using `np.ones`."
   ]
  },
  {
   "cell_type": "code",
   "execution_count": 167,
   "metadata": {},
   "outputs": [
    {
     "data": {
      "text/plain": [
       "array([[1., 1., 1.],\n",
       "       [1., 1., 1.],\n",
       "       [1., 1., 1.]])"
      ]
     },
     "execution_count": 167,
     "metadata": {},
     "output_type": "execute_result"
    }
   ],
   "source": [
    "ones = np.ones((3, 3))\n",
    "ones"
   ]
  },
  {
   "cell_type": "markdown",
   "metadata": {},
   "source": [
    "####  **np.identity VS np.eye**"
   ]
  },
  {
   "cell_type": "markdown",
   "metadata": {},
   "source": [
    "This code creates a 3x3 identity matrix using `np.identity`. An identity matrix is a square matrix with `1`s on the main diagonal and `0`s elsewhere.\n"
   ]
  },
  {
   "cell_type": "code",
   "execution_count": 168,
   "metadata": {},
   "outputs": [
    {
     "data": {
      "text/plain": [
       "array([[1., 0., 0.],\n",
       "       [0., 1., 0.],\n",
       "       [0., 0., 1.]])"
      ]
     },
     "execution_count": 168,
     "metadata": {},
     "output_type": "execute_result"
    }
   ],
   "source": [
    "with_num_array = np.identity(3)\n",
    "with_num_array"
   ]
  },
  {
   "cell_type": "code",
   "execution_count": 169,
   "metadata": {},
   "outputs": [
    {
     "data": {
      "text/plain": [
       "(3, 3)"
      ]
     },
     "execution_count": 169,
     "metadata": {},
     "output_type": "execute_result"
    }
   ],
   "source": [
    "with_num_array.shape"
   ]
  },
  {
   "cell_type": "markdown",
   "metadata": {},
   "source": [
    "This code creates a 3x3 identity matrix using `np.eye`. The `np.eye` function generates a square matrix with `1`s on the main diagonal and `0`s elsewhere, similar to `np.identity`."
   ]
  },
  {
   "cell_type": "code",
   "execution_count": 170,
   "metadata": {},
   "outputs": [
    {
     "data": {
      "text/plain": [
       "array([[1., 0., 0.],\n",
       "       [0., 1., 0.],\n",
       "       [0., 0., 1.]])"
      ]
     },
     "execution_count": 170,
     "metadata": {},
     "output_type": "execute_result"
    }
   ],
   "source": [
    "identity_matrix = np.eye(3)\n",
    "identity_matrix"
   ]
  },
  {
   "cell_type": "markdown",
   "metadata": {},
   "source": [
    "Both `np.eye` and `np.identity` are used to create identity matrices in NumPy, but they have some differences in their usage:\n",
    "\n",
    "**`np.eye:`**\n",
    "- **Usage**: `np.eye(N, M=None, k=0, dtype=<class 'float'>)`\n",
    "- **Parameters**:\n",
    "  - `N`: Number of rows in the matrix.\n",
    "  - `M`: Number of columns in the matrix (if `None`, defaults to `N` to create a square matrix).\n",
    "  - `k`: Diagonal offset. The default value `0` creates the main diagonal. A value of `1` creates the diagonal above the main diagonal, `-1` creates the diagonal below the main diagonal, and so on.\n",
    "  - `dtype`: Data type of the matrix.\n",
    "- **Functionality**: Creates a matrix with `1`s on the `k`-th diagonal and `0`s elsewhere. If `M` is not specified, it creates a square matrix with `N` rows and columns.\n",
    "\n",
    " **`np.identity:`**\n",
    "\n",
    "- **Usage**: `np.identity(n, dtype=<class 'float'>)`\n",
    "- **Parameters**:\n",
    "  - `n`: The number of rows and columns in the square identity matrix.\n",
    "  - `dtype`: Data type of the matrix.\n",
    "- **Functionality**: Creates a square identity matrix with `n` rows and `n` columns. The `dtype` parameter specifies the type of the elements in the matrix.\n",
    "\n",
    " **Example**\n",
    "\n",
    "- **Using `np.eye`**:\n",
    "  ```python\n",
    "  import numpy as np\n",
    "  eye_matrix = np.eye(3)  # Creates a 3x3 identity matrix\n",
    "  eye_matrix_with_offset = np.eye(3, k=1)  # Creates a matrix with 1s on the first upper diagonal\n",
    "  ```\n",
    "\n",
    "- **Using `np.identity`**:\n",
    "  ```python\n",
    "  import numpy as np\n",
    "  identity_matrix = np.identity(3)  # Creates a 3x3 identity matrix\n",
    "  ```\n",
    "\n",
    "**Summary**\n",
    "- `np.eye` is more flexible as it allows for non-square matrices and diagonal offsets.\n",
    "- `np.identity` is simpler and specifically for creating square identity matrices."
   ]
  },
  {
   "cell_type": "markdown",
   "metadata": {},
   "source": [
    "#### **np.where()**"
   ]
  },
  {
   "cell_type": "markdown",
   "metadata": {},
   "source": [
    "The `np.where` function in NumPy is used to find the indices of elements that satisfy a given condition or to return elements chosen from two arrays based on a condition. It is a versatile function with different use cases depending on the input parameters.\n",
    "\n",
    "##### Basic Usage\n",
    "\n",
    "1. **Finding Indices:**\n",
    "   ```python\n",
    "   np.where(condition)\n",
    "   ```\n",
    "   - **Parameters:**\n",
    "     - `condition`: A boolean array or expression that specifies which elements to find.\n",
    "   - **Returns:**\n",
    "     - The indices of elements where the condition is `True`. It returns a tuple of arrays, one for each dimension of the input array.\n",
    "\n",
    "   **Example:**\n",
    "   ```python\n",
    "   import numpy as np\n",
    "   array = np.array([10, 20, 30, 40, 50])\n",
    "   indices = np.where(array > 25)\n",
    "   print(indices)\n",
    "   ```\n",
    "   - **Output:**\n",
    "     ```\n",
    "     (array([2, 3, 4]),)\n",
    "     ```\n",
    "   This indicates that elements greater than 25 are at indices 2, 3, and 4 in the `array`.\n",
    "\n",
    "2. **Conditional Selection:**\n",
    "   ```python\n",
    "   np.where(condition, x, y)\n",
    "   ```\n",
    "   - **Parameters:**\n",
    "     - `condition`: A boolean array or expression.\n",
    "     - `x`: Values to be chosen where the condition is `True`.\n",
    "     - `y`: Values to be chosen where the condition is `False`.\n",
    "   - **Returns:**\n",
    "     - An array with values from `x` where `condition` is `True`, and values from `y` where `condition` is `False`.\n",
    "\n",
    "   **Example:**\n",
    "   ```python\n",
    "   import numpy as np\n",
    "   array = np.array([1, 2, 3, 4, 5])\n",
    "   result = np.where(array % 2 == 0, 'Even', 'Odd')\n",
    "   print(result)\n",
    "   ```\n",
    "   - **Output:**\n",
    "     ```\n",
    "     ['Odd' 'Even' 'Odd' 'Even' 'Odd']\n",
    "     ```\n",
    "   This replaces even numbers with 'Even' and odd numbers with 'Odd'.\n",
    "\n",
    "##### Summary\n",
    "\n",
    "- **Finding Indices**: Use `np.where(condition)` to get the indices of elements that meet the specified condition.\n",
    "- **Conditional Selection**: Use `np.where(condition, x, y)` to create a new array where values are chosen based on the condition."
   ]
  },
  {
   "cell_type": "markdown",
   "metadata": {},
   "source": [
    "This code finds the indices of even numbers in the `nonlocal_array` using the `np.where` function.\n",
    "\n",
    "- **`Explanation`**\n",
    "\n",
    "- **`nonlocal_array % 2 == 0`**: This condition checks which elements of `nonlocal_array` are even. The result is a boolean array where `True` indicates an even number.\n",
    "\n",
    "- **`np.where(...)`**: This function returns the indices of elements that satisfy the given condition.\n",
    "\n",
    "- **`Output`**\n",
    "\n",
    "The `match_` will contain the indices of the even numbers in `nonlocal_array`. For the array `[1, 2, 3, 4, 5, 6, 7, 8, 9]`, the even numbers are `2, 4, 6, 8`, which are located at indices `1, 3, 5, 7`.\n",
    "\n",
    "So, the output of `match_` will be:\n",
    "\n",
    "```\n",
    "(array([1, 3, 5, 7]),)\n",
    "```\n",
    "\n",
    "This indicates that the even numbers are located at indices 1, 3, 5, and 7 in the original array."
   ]
  },
  {
   "cell_type": "code",
   "execution_count": 53,
   "metadata": {},
   "outputs": [
    {
     "data": {
      "text/plain": [
       "(array([0, 0, 1, 1], dtype=int64), array([1, 3, 1, 3], dtype=int64))"
      ]
     },
     "execution_count": 53,
     "metadata": {},
     "output_type": "execute_result"
    }
   ],
   "source": [
    "local_array = np.array([[1, 2, 9, 4],[5, 6, 7, 8]])\n",
    "match_ = np.where(local_array % 2 == 0)\n",
    "match_"
   ]
  },
  {
   "cell_type": "markdown",
   "metadata": {},
   "source": [
    "This code finds the indices of the element `5` in the 2D NumPy array and stores them in `find_index`. The `np.where` function returns the positions where the condition (element equals `5`) is true. The result, `find_index`, contains the row and column indices of the element `5`. The `print` statement will show these indices."
   ]
  },
  {
   "cell_type": "code",
   "execution_count": 54,
   "metadata": {},
   "outputs": [
    {
     "name": "stdout",
     "output_type": "stream",
     "text": [
      "Index of the number 5: (array([1], dtype=int64), array([0], dtype=int64))\n"
     ]
    }
   ],
   "source": [
    "find_index = np.where(local_array == 5)\n",
    "\n",
    "print(\"Index of the number 5:\", find_index)"
   ]
  },
  {
   "cell_type": "code",
   "execution_count": 55,
   "metadata": {},
   "outputs": [
    {
     "data": {
      "text/plain": [
       "(array([0, 1, 1, 1], dtype=int64), array([2, 1, 2, 3], dtype=int64))"
      ]
     },
     "execution_count": 55,
     "metadata": {},
     "output_type": "execute_result"
    }
   ],
   "source": [
    "find_item = np.where(local_array >5)\n",
    "find_item"
   ]
  },
  {
   "cell_type": "code",
   "execution_count": null,
   "metadata": {},
   "outputs": [],
   "source": []
  },
  {
   "cell_type": "markdown",
   "metadata": {},
   "source": [
    "#### Numpy AIXS"
   ]
  },
  {
   "cell_type": "code",
   "execution_count": 178,
   "metadata": {},
   "outputs": [
    {
     "data": {
      "text/plain": [
       "array([[1, 2, 3],\n",
       "       [4, 5, 6],\n",
       "       [7, 8, 9]])"
      ]
     },
     "execution_count": 178,
     "metadata": {},
     "output_type": "execute_result"
    }
   ],
   "source": [
    "x = [[1,2,3], [4,5,6], [7,8,9]]\n",
    "\n",
    "np_x = np.array(x)\n",
    "np_x\n"
   ]
  },
  {
   "cell_type": "markdown",
   "metadata": {},
   "source": [
    "The code calculates the sum of elements along a specific axis of a NumPy array `np_x`. Here's what it does:\n",
    "\n",
    "- **`np_x.sum(axis=0)`**:\n",
    "  - **`axis=0`**: Specifies that the sum should be computed along the vertical axis (i.e., column-wise) of the array. This means the function will sum up the elements in each column.\n",
    "\n",
    "\n",
    "  This result means:\n",
    "  - The sum of the first column (1 + 4 + 7) is `12`.\n",
    "  - The sum of the second column (2 + 5 + 8) is `15`.\n",
    "  - The sum of the third column (3 + 6 + 9) is `18`.\n"
   ]
  },
  {
   "cell_type": "code",
   "execution_count": 184,
   "metadata": {},
   "outputs": [
    {
     "data": {
      "text/plain": [
       "array([12, 15, 18])"
      ]
     },
     "execution_count": 184,
     "metadata": {},
     "output_type": "execute_result"
    }
   ],
   "source": [
    "sum_of_axis_0 = np_x.sum(axis=0)\n",
    "sum_of_axis_0"
   ]
  },
  {
   "cell_type": "markdown",
   "metadata": {},
   "source": [
    "The code calculates the sum of elements along a specific axis of the NumPy array `np_x`, with `axis=1` indicating that the summation should be done along the horizontal axis (i.e., row-wise).\n",
    "\n",
    "- **`np_x.sum(axis=1)`**:\n",
    "  - **`axis=1`**: Specifies that the sum should be computed along the rows. This means the function will sum up the elements in each row.\n",
    "\n",
    "  This result means:\n",
    "  - The sum of the first row (1 + 2 + 3) is `6`.\n",
    "  - The sum of the second row (4 + 5 + 6) is `15`.\n",
    "  - The sum of the third row (7 + 8 + 9) is `24`."
   ]
  },
  {
   "cell_type": "code",
   "execution_count": 185,
   "metadata": {},
   "outputs": [
    {
     "data": {
      "text/plain": [
       "array([ 6, 15, 24])"
      ]
     },
     "execution_count": 185,
     "metadata": {},
     "output_type": "execute_result"
    }
   ],
   "source": [
    "sum_of_axis_1 = np_x.sum(axis=1)\n",
    "sum_of_axis_1"
   ]
  },
  {
   "cell_type": "markdown",
   "metadata": {},
   "source": [
    "The code transposes the 2D NumPy array `np_x` and stores the result in the variable `tran_mat`. Transposing an array means swapping its rows and columns.\n",
    "\n",
    "- **`np_x.T`**: This is a shorthand for the transpose of the array `np_x`. It switches the array's rows with its columns.\n",
    "\n",
    "  This result means:\n",
    "  - The first row of `tran_mat` corresponds to the first column of `np_x`.\n",
    "  - The second row of `tran_mat` corresponds to the second column of `np_x`.\n",
    "  - The third row of `tran_mat` corresponds to the third column of `np_x`."
   ]
  },
  {
   "cell_type": "code",
   "execution_count": 186,
   "metadata": {},
   "outputs": [
    {
     "data": {
      "text/plain": [
       "array([[1, 4, 7],\n",
       "       [2, 5, 8],\n",
       "       [3, 6, 9]])"
      ]
     },
     "execution_count": 186,
     "metadata": {},
     "output_type": "execute_result"
    }
   ],
   "source": [
    "tran_mat = np_x.T\n",
    "tran_mat"
   ]
  },
  {
   "cell_type": "markdown",
   "metadata": {},
   "source": [
    "The `np_x.flat` attribute provides a 1D iterator over the elements of the NumPy array `np_x`. It allows you to iterate over the array's elements as if the array were flattened into a single dimension.\n",
    "\n",
    "- **`np_x.flat`**: Provides an iterator over the flattened version of `np_x`.\n",
    "\n",
    "This means you can access all elements of `np_x` in a single-dimensional sequence, which is useful for iterating through the entire array in a flat manner."
   ]
  },
  {
   "cell_type": "code",
   "execution_count": 187,
   "metadata": {},
   "outputs": [
    {
     "data": {
      "text/plain": [
       "<numpy.flatiter at 0x1736bf364f0>"
      ]
     },
     "execution_count": 187,
     "metadata": {},
     "output_type": "execute_result"
    }
   ],
   "source": [
    "np_x.flat"
   ]
  },
  {
   "cell_type": "code",
   "execution_count": 188,
   "metadata": {},
   "outputs": [
    {
     "name": "stdout",
     "output_type": "stream",
     "text": [
      "1\n",
      "2\n",
      "3\n",
      "4\n",
      "5\n",
      "6\n",
      "7\n",
      "8\n",
      "9\n"
     ]
    }
   ],
   "source": [
    "for item in np_x.flat:\n",
    "    print(item)"
   ]
  },
  {
   "cell_type": "markdown",
   "metadata": {},
   "source": [
    "The code `np_x.ndim` returns the number of dimensions (axes) of the NumPy array `np_x`. This attribute tells you how many dimensions the array has.\n",
    "\n",
    "- **`np_x.ndim`**: Returns the number of dimensions of `np_x`.\n",
    "\n",
    "This means `np_x` is a 2-dimensional array. If `np_x` were a 3D array, `np_x.ndim` would return `3`, and so on."
   ]
  },
  {
   "cell_type": "code",
   "execution_count": 189,
   "metadata": {},
   "outputs": [
    {
     "data": {
      "text/plain": [
       "2"
      ]
     },
     "execution_count": 189,
     "metadata": {},
     "output_type": "execute_result"
    }
   ],
   "source": [
    "dis = np_x.ndim\n",
    "dis"
   ]
  },
  {
   "cell_type": "markdown",
   "metadata": {},
   "source": [
    "The code `np_x.nbytes` returns the total number of bytes used to store the NumPy array `np_x` in memory. This is the product of the array's size (number of elements) and the size of each element in bytes.\n",
    "\n",
    "\n",
    "Assuming the array is of type `int64` (which uses 4 bytes per element), and it has 9 elements:\n",
    "\n",
    "- **`np_x.nbytes`**: Calculates the total memory usage in bytes.\n",
    "\n",
    "  This result is computed as:\n",
    "  - Number of elements: 9\n",
    "  - Size of each element: 4 bytes (for `int64`)\n",
    "  - Total size: 9 elements × 4 bytes/element = 36 bytes"
   ]
  },
  {
   "cell_type": "code",
   "execution_count": 191,
   "metadata": {},
   "outputs": [
    {
     "data": {
      "text/plain": [
       "36"
      ]
     },
     "execution_count": 191,
     "metadata": {},
     "output_type": "execute_result"
    }
   ],
   "source": [
    "space_of_array = np_x.nbytes\n",
    "space_of_array"
   ]
  },
  {
   "cell_type": "code",
   "execution_count": null,
   "metadata": {},
   "outputs": [],
   "source": []
  },
  {
   "cell_type": "markdown",
   "metadata": {},
   "source": [
    "The code `np.argmax(np_1)` returns the index of the maximum value in the NumPy array `np_1`. \n",
    "\n",
    "\n",
    "- **`np.argmax(np_1)`**: Finds the index of the first occurrence of the maximum value in the array `np_1`.\n",
    "- **`np.argmax(np_1)`**: Returns the index of the maximum value in `np_1`.\n",
    "\n",
    "\n",
    "  Here, `56` is the maximum value, and it is located at index `3` in the array."
   ]
  },
  {
   "cell_type": "code",
   "execution_count": 200,
   "metadata": {},
   "outputs": [
    {
     "data": {
      "text/plain": [
       "3"
      ]
     },
     "execution_count": 200,
     "metadata": {},
     "output_type": "execute_result"
    }
   ],
   "source": [
    "np_1 = np.array([1,2,4,56,7,0])\n",
    "max_num_index = np.argmax(np_1)\n",
    "max_num_index"
   ]
  },
  {
   "cell_type": "markdown",
   "metadata": {},
   "source": [
    "The code `np.argmin(np_1)` returns the index of the minimum value in the NumPy array `np_1`. \n",
    "\n",
    "\n",
    "- **`np.argmin(np_1)`**: Finds the index of the first occurrence of the minimum value in the array `np_1`.\n",
    "- **`np.argmin(np_1)`**: Returns the index of the minimum value in `np_1`.\n",
    "\n",
    "\n",
    "  Here, `0` is the minimum value, and it is located at index `5` in the array."
   ]
  },
  {
   "cell_type": "code",
   "execution_count": 201,
   "metadata": {},
   "outputs": [
    {
     "data": {
      "text/plain": [
       "5"
      ]
     },
     "execution_count": 201,
     "metadata": {},
     "output_type": "execute_result"
    }
   ],
   "source": [
    "min_num_index = np.argmin(np_1)\n",
    "min_num_index"
   ]
  },
  {
   "cell_type": "markdown",
   "metadata": {},
   "source": [
    "The code `np.argsort(np_1)` returns the indices that would sort the array `np_1` in ascending order. It provides a 1D array of indices that can be used to reorder `np_1` such that the values are sorted.\n",
    "\n",
    "- **`np.argsort(np_1)`**: Returns the indices that would sort `np_1`.\n",
    "\n",
    "  This output means:\n",
    "  - The smallest value `0` is at index `5`.\n",
    "  - The second smallest value `1` is at index `0`.\n",
    "  - The third smallest value `2` is at index `1`.\n",
    "  - And so on.\n"
   ]
  },
  {
   "cell_type": "code",
   "execution_count": 202,
   "metadata": {},
   "outputs": [
    {
     "data": {
      "text/plain": [
       "array([5, 0, 1, 2, 4, 3], dtype=int64)"
      ]
     },
     "execution_count": 202,
     "metadata": {},
     "output_type": "execute_result"
    }
   ],
   "source": [
    "sort_index = np.argsort(np_1)\n",
    "sort_index"
   ]
  },
  {
   "cell_type": "code",
   "execution_count": 223,
   "metadata": {},
   "outputs": [],
   "source": [
    "np_x[2,2]=4"
   ]
  },
  {
   "cell_type": "markdown",
   "metadata": {},
   "source": [
    "Here is the `np_x` two 2D array . When youo apply the `np_x.argmax()` then First the array change 1D array and find the max value. return the index of the max value"
   ]
  },
  {
   "cell_type": "code",
   "execution_count": 224,
   "metadata": {},
   "outputs": [
    {
     "data": {
      "text/plain": [
       "7"
      ]
     },
     "execution_count": 224,
     "metadata": {},
     "output_type": "execute_result"
    }
   ],
   "source": [
    "np_x.argmax()"
   ]
  },
  {
   "cell_type": "markdown",
   "metadata": {},
   "source": [
    "Here is the `np_x` two 2D array . When youo apply the `np_x.argmin()` then First the array change 1D array and find the min value. return the index of the min value"
   ]
  },
  {
   "cell_type": "code",
   "execution_count": 225,
   "metadata": {},
   "outputs": [
    {
     "data": {
      "text/plain": [
       "0"
      ]
     },
     "execution_count": 225,
     "metadata": {},
     "output_type": "execute_result"
    }
   ],
   "source": [
    "np_x.argmin()"
   ]
  },
  {
   "cell_type": "markdown",
   "metadata": {},
   "source": [
    "The code `np_x.argmax(axis=0)` returns the indices of the maximum values along the specified axis of the NumPy array `np_x`. In this case, `axis=0` specifies that the operation should be performed along the vertical axis (i.e., column-wise).\n",
    "\n",
    "- **`np_x.argmax(axis=0)`**: Finds the indices of the maximum values in each column of the array `np_x`.\n",
    "\n",
    "  This means:\n",
    "  - The maximum value in the first column (1, 4, 7) is at index `2` (value `7`).\n",
    "  - The maximum value in the second column (2, 5, 8) is at index `2` (value `8`).\n",
    "  - The maximum value in the third column (3, 6, 4) is at index `1` (value `6`)."
   ]
  },
  {
   "cell_type": "code",
   "execution_count": 228,
   "metadata": {},
   "outputs": [
    {
     "data": {
      "text/plain": [
       "array([2, 2, 1], dtype=int64)"
      ]
     },
     "execution_count": 228,
     "metadata": {},
     "output_type": "execute_result"
    }
   ],
   "source": [
    "np_x.argmax(axis=0)"
   ]
  },
  {
   "cell_type": "markdown",
   "metadata": {},
   "source": [
    "The code `np_x.argmax(axis=1)` returns the indices of the maximum values along the specified axis of the NumPy array `np_x`. In this case, `axis=0` specifies that the operation should be performed along the vertical axis (i.e., column-wise).\n",
    "\n",
    "\n",
    "- **`np_x.argmax(axis=1)`**: Finds the indices of the maximum values in each column of the array `np_x`.\n",
    "\n",
    "  This means:\n",
    "  - The maximum value in the first column (1, 2, 3) is at index `2` (value `3`).\n",
    "  - The maximum value in the second column (4, 5, 6) is at index `2` (value `6`).\n",
    "  - The maximum value in the third column (7, 8, 4) is at index `1` (value `8`)."
   ]
  },
  {
   "cell_type": "code",
   "execution_count": 229,
   "metadata": {},
   "outputs": [
    {
     "data": {
      "text/plain": [
       "array([2, 2, 1], dtype=int64)"
      ]
     },
     "execution_count": 229,
     "metadata": {},
     "output_type": "execute_result"
    }
   ],
   "source": [
    "np_x.argmax(axis=1)"
   ]
  },
  {
   "cell_type": "markdown",
   "metadata": {},
   "source": [
    "The code `np_x1.argsort(axis=0)` returns the indices that would sort the array `np_x1` along the vertical axis (i.e., column-wise).\n",
    "\n",
    "- **`np_x1.argsort(axis=0)`**: Computes the indices that would sort each column of `np_x1` in ascending order.\n",
    "\n",
    "  This means:\n",
    "  - In the first column `[1, 4, 7]`, the sorted order is `[1, 4, 7]`, so the indices are `[0, 1, 2]`.\n",
    "  - In the second column `[2, 5, 8]`, the sorted order is `[2, 5, 8]`, so the indices are `[0, 1, 2]`.\n",
    "  - In the third column `[3, 6, 4]`, the sorted order is `[3, 4, 6]`, so the indices are `[0, 2, 1]`."
   ]
  },
  {
   "cell_type": "code",
   "execution_count": 22,
   "metadata": {},
   "outputs": [
    {
     "data": {
      "text/plain": [
       "array([[0, 0, 0],\n",
       "       [1, 1, 2],\n",
       "       [2, 2, 1]], dtype=int64)"
      ]
     },
     "execution_count": 22,
     "metadata": {},
     "output_type": "execute_result"
    }
   ],
   "source": [
    "np_x1 = np.array([[1,2,3],\n",
    "                  [4,5,6],\n",
    "                  [7,8,4]])\n",
    "np_x1.argsort(axis=0)"
   ]
  },
  {
   "cell_type": "markdown",
   "metadata": {},
   "source": [
    "The code `np_x1.argsort(axis=1)` returns the indices that would sort the array `np_x1` along the horizontal axis (i.e., row-wise).\n",
    "\n",
    "- **`np_x1.argsort(axis=1)`**: Computes the indices that would sort each row of `np_x1` in ascending order.\n",
    "- **`np_x1.argsort(axis=1)`**: Returns the indices that would sort each row.\n",
    "\n",
    "  **Output:**\n",
    "\n",
    "  ```python\n",
    "  array([[0, 1, 2],\n",
    "         [0, 1, 2],\n",
    "         [0, 2, 1]])\n",
    "  ```\n",
    "\n",
    "  This means:\n",
    "  - In the first row `[1, 2, 3]`, the sorted order is `[1, 2, 3]`, so the indices are `[0, 1, 2]`.\n",
    "  - In the second row `[4, 5, 6]`, the sorted order is `[4, 5, 6]`, so the indices are `[0, 1, 2]`.\n",
    "  - In the third row `[7, 8, 4]`, the sorted order is `[4, 7, 8]`, so the indices are `[2, 0, 1]`."
   ]
  },
  {
   "cell_type": "code",
   "execution_count": 34,
   "metadata": {},
   "outputs": [
    {
     "name": "stdout",
     "output_type": "stream",
     "text": [
      "[[1 2 3]\n",
      " [4 5 6]\n",
      " [7 8 4]]\n"
     ]
    },
    {
     "data": {
      "text/plain": [
       "array([[0, 1, 2],\n",
       "       [0, 1, 2],\n",
       "       [2, 0, 1]], dtype=int64)"
      ]
     },
     "execution_count": 34,
     "metadata": {},
     "output_type": "execute_result"
    }
   ],
   "source": [
    "print(np_x1)\n",
    "np_x1.argsort(axis=1)"
   ]
  },
  {
   "cell_type": "code",
   "execution_count": 36,
   "metadata": {},
   "outputs": [
    {
     "data": {
      "text/plain": [
       "array([[ 4,  9,  5],\n",
       "       [14, 18,  9],\n",
       "       [ 0,  8, 21]])"
      ]
     },
     "execution_count": 36,
     "metadata": {},
     "output_type": "execute_result"
    }
   ],
   "source": []
  },
  {
   "cell_type": "code",
   "execution_count": 37,
   "metadata": {},
   "outputs": [
    {
     "data": {
      "text/plain": [
       "array([[-3,  0,  4],\n",
       "       [-5,  3,  8],\n",
       "       [-4,  2,  4]])"
      ]
     },
     "execution_count": 37,
     "metadata": {},
     "output_type": "execute_result"
    }
   ],
   "source": [
    "m_1 - m_2"
   ]
  },
  {
   "cell_type": "code",
   "execution_count": 38,
   "metadata": {},
   "outputs": [
    {
     "data": {
      "text/plain": [
       "array([[0.25      , 1.        , 5.        ],\n",
       "       [0.28571429, 2.        , 9.        ],\n",
       "       [0.        , 2.        , 2.33333333]])"
      ]
     },
     "execution_count": 38,
     "metadata": {},
     "output_type": "execute_result"
    }
   ],
   "source": [
    "m_1 / m_2"
   ]
  },
  {
   "cell_type": "code",
   "execution_count": 39,
   "metadata": {},
   "outputs": [
    {
     "data": {
      "text/plain": [
       "array([[1.        , 1.73205081, 2.23606798],\n",
       "       [1.41421356, 2.44948974, 3.        ],\n",
       "       [0.        , 2.        , 2.64575131]])"
      ]
     },
     "execution_count": 39,
     "metadata": {},
     "output_type": "execute_result"
    }
   ],
   "source": [
    "np.sqrt(m_1)"
   ]
  }
 ],
 "metadata": {
  "kernelspec": {
   "display_name": "Python 3",
   "language": "python",
   "name": "python3"
  },
  "language_info": {
   "codemirror_mode": {
    "name": "ipython",
    "version": 3
   },
   "file_extension": ".py",
   "mimetype": "text/x-python",
   "name": "python",
   "nbconvert_exporter": "python",
   "pygments_lexer": "ipython3",
   "version": "3.12.4"
  }
 },
 "nbformat": 4,
 "nbformat_minor": 2
}
