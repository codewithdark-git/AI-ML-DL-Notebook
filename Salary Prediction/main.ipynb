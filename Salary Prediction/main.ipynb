{
 "cells": [
  {
   "cell_type": "markdown",
   "metadata": {},
   "source": [
    "# Salary Prediction with Linear Regression\n",
    "\n",
    "In this Jupyter Notebook, we will use linear regression to predict a salary based on years of experience. We'll create a simple linear regression model and demonstrate how to make predictions.\n",
    "\n",
    "## Introduction\n",
    "\n",
    "We have a dataset that includes the number of years of experience and the corresponding salary. Our goal is to build a linear regression model to predict a salary based on the number of years of experience.\n",
    "\n",
    "## Code\n",
    "\n",
    "Let's start by importing the necessary libraries and defining our dataset. We will also create a linear regression model and use it to make predictions.\n"
   ]
  },
  {
   "cell_type": "code",
   "execution_count": null,
   "metadata": {},
   "outputs": [],
   "source": [
    "import numpy as np\n",
    "from sklearn.linear_model import LinearRegression\n",
    "import matplotlib.pyplot as plt\n",
    "\n",
    "# Define the training data\n",
    "fig, ax = plt.subplots()\n",
    "\n",
    "years_of_experience = np.array([1, 2, 3, 4, 5, 6])\n",
    "salary = np.array([20000, 40000 , 65000, 95000, 130000, 150000])\n",
    "ax.scatter(years_of_experience, salary, color='red', label='Actual Data')\n",
    "\n",
    "# Reshape the data (needed for scikit-learn)\n",
    "years_of_experience = years_of_experience.reshape(-1, 1)\n",
    "\n",
    "# Create and train the linear regression model\n",
    "model = LinearRegression()\n",
    "model.fit(years_of_experience, salary)\n",
    "\n",
    "# Input: Years of experience from the user\n",
    "years = float(input(\"Enter the years of experience: \"))\n",
    "\n",
    "# Predict the salary using the trained model\n",
    "predicted_salary = model.predict(np.array([[years]]))\n",
    "\n",
    "print(f\"Predicted Salary: ${predicted_salary[0]:.2f} for the {years} Years of experience : \")\n",
    "\n",
    "ax.legend()\n",
    "ax.set_xlabel('Years of Experience')\n",
    "ax.set_ylabel('Salary')\n",
    "ax.set_title('Years of Experience vs Salary')\n",
    "plt.show()\n"
   ]
  },
  {
   "cell_type": "code",
   "execution_count": 1,
   "metadata": {},
   "outputs": [
    {
     "name": "stdout",
     "output_type": "stream",
     "text": [
      "Collecting opencv-python\n",
      "  Using cached opencv_python-4.8.1.78-cp37-abi3-win_amd64.whl.metadata (20 kB)\n",
      "Requirement already satisfied: numpy>=1.21.2 in d:\\codebackground\\.venv\\lib\\site-packages (from opencv-python) (1.26.2)\n",
      "Using cached opencv_python-4.8.1.78-cp37-abi3-win_amd64.whl (38.1 MB)\n",
      "Installing collected packages: opencv-python\n",
      "Successfully installed opencv-python-4.8.1.78\n",
      "Note: you may need to restart the kernel to use updated packages.\n"
     ]
    }
   ],
   "source": [
    "pip install opencv-python"
   ]
  }
 ],
 "metadata": {
  "kernelspec": {
   "display_name": "Python 3",
   "language": "python",
   "name": "python3"
  },
  "language_info": {
   "codemirror_mode": {
    "name": "ipython",
    "version": 3
   },
   "file_extension": ".py",
   "mimetype": "text/x-python",
   "name": "python",
   "nbconvert_exporter": "python",
   "pygments_lexer": "ipython3",
   "version": "3.10.11"
  }
 },
 "nbformat": 4,
 "nbformat_minor": 2
}
