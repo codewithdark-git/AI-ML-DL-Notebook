{
 "cells": [
  {
   "cell_type": "markdown",
   "id": "57816294",
   "metadata": {
    "papermill": {
     "duration": 0.007636,
     "end_time": "2024-03-28T08:10:33.609878",
     "exception": false,
     "start_time": "2024-03-28T08:10:33.602242",
     "status": "completed"
    },
    "tags": []
   },
   "source": [
    "**This notebook is an exercise in the [Introduction to Machine Learning](https://www.kaggle.com/learn/intro-to-machine-learning) course.  You can reference the tutorial at [this link](https://www.kaggle.com/dansbecker/your-first-machine-learning-model).**\n",
    "\n",
    "---\n"
   ]
  },
  {
   "cell_type": "markdown",
   "id": "0d234688",
   "metadata": {
    "papermill": {
     "duration": 0.008205,
     "end_time": "2024-03-28T08:10:33.625339",
     "exception": false,
     "start_time": "2024-03-28T08:10:33.617134",
     "status": "completed"
    },
    "tags": []
   },
   "source": [
    "## Recap\n",
    "So far, you have loaded your data and reviewed it with the following code. Run this cell to set up your coding environment where the previous step left off."
   ]
  },
  {
   "cell_type": "code",
   "execution_count": 1,
   "id": "62cb4a9b",
   "metadata": {
    "execution": {
     "iopub.execute_input": "2024-03-28T08:10:33.643733Z",
     "iopub.status.busy": "2024-03-28T08:10:33.642899Z",
     "iopub.status.idle": "2024-03-28T08:10:34.836013Z",
     "shell.execute_reply": "2024-03-28T08:10:34.834610Z"
    },
    "papermill": {
     "duration": 1.205853,
     "end_time": "2024-03-28T08:10:34.838957",
     "exception": false,
     "start_time": "2024-03-28T08:10:33.633104",
     "status": "completed"
    },
    "tags": []
   },
   "outputs": [
    {
     "name": "stdout",
     "output_type": "stream",
     "text": [
      "Setup Complete\n"
     ]
    }
   ],
   "source": [
    "from learntools.core import binder\n",
    "binder.bind(globals())\n",
    "from learntools.machine_learning.ex2 import *\n",
    "print(\"Setup Complete\")"
   ]
  },
  {
   "cell_type": "markdown",
   "id": "64cd9270",
   "metadata": {
    "papermill": {
     "duration": 0.007373,
     "end_time": "2024-03-28T08:10:34.853684",
     "exception": false,
     "start_time": "2024-03-28T08:10:34.846311",
     "status": "completed"
    },
    "tags": []
   },
   "source": [
    "# Exercises\n",
    "\n",
    "## Step 1: Specify Prediction Target\n",
    "Select the target variable, which corresponds to the sales price. Save this to a new variable called `y`. You'll need to print a list of the columns to find the name of the column you need.\n"
   ]
  },
  {
   "cell_type": "code",
   "execution_count": 2,
   "id": "ea13d494",
   "metadata": {
    "execution": {
     "iopub.execute_input": "2024-03-28T08:10:34.870697Z",
     "iopub.status.busy": "2024-03-28T08:10:34.869985Z",
     "iopub.status.idle": "2024-03-28T08:10:36.910075Z",
     "shell.execute_reply": "2024-03-28T08:10:36.908367Z"
    },
    "papermill": {
     "duration": 2.052811,
     "end_time": "2024-03-28T08:10:36.913747",
     "exception": false,
     "start_time": "2024-03-28T08:10:34.860936",
     "status": "completed"
    },
    "tags": []
   },
   "outputs": [],
   "source": [
    "import pandas as pd\n",
    "from sklearn.tree import DecisionTreeRegressor\n",
    "\n",
    "# Load the Melbourne housing dataset\n",
    "melbourne_file_path = '../input/melbourne-housing-snapshot/melb_data.csv'\n",
    "melbourne_data = pd.read_csv(melbourne_file_path)\n"
   ]
  },
  {
   "cell_type": "code",
   "execution_count": 3,
   "id": "3ec11239",
   "metadata": {
    "execution": {
     "iopub.execute_input": "2024-03-28T08:10:36.930730Z",
     "iopub.status.busy": "2024-03-28T08:10:36.930181Z",
     "iopub.status.idle": "2024-03-28T08:10:36.939441Z",
     "shell.execute_reply": "2024-03-28T08:10:36.937785Z"
    },
    "papermill": {
     "duration": 0.021302,
     "end_time": "2024-03-28T08:10:36.942510",
     "exception": false,
     "start_time": "2024-03-28T08:10:36.921208",
     "status": "completed"
    },
    "tags": []
   },
   "outputs": [],
   "source": [
    "\n",
    "# Step 1: Specify Prediction Target\n",
    "y = melbourne_data['Price']"
   ]
  },
  {
   "cell_type": "code",
   "execution_count": 4,
   "id": "188468be",
   "metadata": {
    "execution": {
     "iopub.execute_input": "2024-03-28T08:10:36.959011Z",
     "iopub.status.busy": "2024-03-28T08:10:36.958578Z",
     "iopub.status.idle": "2024-03-28T08:10:36.962804Z",
     "shell.execute_reply": "2024-03-28T08:10:36.961922Z"
    },
    "papermill": {
     "duration": 0.015304,
     "end_time": "2024-03-28T08:10:36.965058",
     "exception": false,
     "start_time": "2024-03-28T08:10:36.949754",
     "status": "completed"
    },
    "tags": []
   },
   "outputs": [],
   "source": [
    "# The lines below will show you a hint or the solution.\n",
    "# step_1.hint() \n",
    "# step_1.solution()"
   ]
  },
  {
   "cell_type": "markdown",
   "id": "3615a584",
   "metadata": {
    "papermill": {
     "duration": 0.007149,
     "end_time": "2024-03-28T08:10:36.979749",
     "exception": false,
     "start_time": "2024-03-28T08:10:36.972600",
     "status": "completed"
    },
    "tags": []
   },
   "source": [
    "## Step 2: Create X\n",
    "Now you will create a DataFrame called `X` holding the predictive features.\n",
    "\n",
    "Since you want only some columns from the original data, you'll first create a list with the names of the columns you want in `X`.\n",
    "\n",
    "You'll use just the following columns in the list (you can copy and paste the whole list to save some typing, though you'll still need to add quotes):\n",
    "  * LotArea\n",
    "  * YearBuilt\n",
    "  * 1stFlrSF\n",
    "  * 2ndFlrSF\n",
    "  * FullBath\n",
    "  * BedroomAbvGr\n",
    "  * TotRmsAbvGrd\n",
    "\n",
    "After you've created that list of features, use it to create the DataFrame that you'll use to fit the model."
   ]
  },
  {
   "cell_type": "code",
   "execution_count": 5,
   "id": "7f7b83c4",
   "metadata": {
    "execution": {
     "iopub.execute_input": "2024-03-28T08:10:36.997008Z",
     "iopub.status.busy": "2024-03-28T08:10:36.996510Z",
     "iopub.status.idle": "2024-03-28T08:10:37.011144Z",
     "shell.execute_reply": "2024-03-28T08:10:37.009873Z"
    },
    "papermill": {
     "duration": 0.026942,
     "end_time": "2024-03-28T08:10:37.014228",
     "exception": false,
     "start_time": "2024-03-28T08:10:36.987286",
     "status": "completed"
    },
    "tags": []
   },
   "outputs": [],
   "source": [
    "# Step 2: Create X\n",
    "melbourne_features = ['Rooms', 'Bathroom', 'Landsize', 'Lattitude', 'Longtitude']\n",
    "X = melbourne_data[melbourne_features]"
   ]
  },
  {
   "cell_type": "code",
   "execution_count": 6,
   "id": "2341c28d",
   "metadata": {
    "execution": {
     "iopub.execute_input": "2024-03-28T08:10:37.032784Z",
     "iopub.status.busy": "2024-03-28T08:10:37.031792Z",
     "iopub.status.idle": "2024-03-28T08:10:37.038138Z",
     "shell.execute_reply": "2024-03-28T08:10:37.036587Z"
    },
    "papermill": {
     "duration": 0.019039,
     "end_time": "2024-03-28T08:10:37.040902",
     "exception": false,
     "start_time": "2024-03-28T08:10:37.021863",
     "status": "completed"
    },
    "tags": []
   },
   "outputs": [],
   "source": [
    "# step_2.hint()\n",
    "# step_2.solution()"
   ]
  },
  {
   "cell_type": "markdown",
   "id": "d53f55ae",
   "metadata": {
    "papermill": {
     "duration": 0.007071,
     "end_time": "2024-03-28T08:10:37.055689",
     "exception": false,
     "start_time": "2024-03-28T08:10:37.048618",
     "status": "completed"
    },
    "tags": []
   },
   "source": [
    "## Review Data\n",
    "Before building a model, take a quick look at **X** to verify it looks sensible"
   ]
  },
  {
   "cell_type": "code",
   "execution_count": 7,
   "id": "b36333e4",
   "metadata": {
    "execution": {
     "iopub.execute_input": "2024-03-28T08:10:37.073836Z",
     "iopub.status.busy": "2024-03-28T08:10:37.073404Z",
     "iopub.status.idle": "2024-03-28T08:10:37.241284Z",
     "shell.execute_reply": "2024-03-28T08:10:37.239544Z"
    },
    "papermill": {
     "duration": 0.180043,
     "end_time": "2024-03-28T08:10:37.244591",
     "exception": false,
     "start_time": "2024-03-28T08:10:37.064548",
     "status": "completed"
    },
    "tags": []
   },
   "outputs": [
    {
     "name": "stdout",
     "output_type": "stream",
     "text": [
      "              Rooms      Bathroom       Landsize     Lattitude    Longtitude\n",
      "count  13580.000000  13580.000000   13580.000000  13580.000000  13580.000000\n",
      "mean       2.937997      1.534242     558.416127    -37.809203    144.995216\n",
      "std        0.955748      0.691712    3990.669241      0.079260      0.103916\n",
      "min        1.000000      0.000000       0.000000    -38.182550    144.431810\n",
      "25%        2.000000      1.000000     177.000000    -37.856822    144.929600\n",
      "50%        3.000000      1.000000     440.000000    -37.802355    145.000100\n",
      "75%        3.000000      2.000000     651.000000    -37.756400    145.058305\n",
      "max       10.000000      8.000000  433014.000000    -37.408530    145.526350\n",
      "   Rooms  Bathroom  Landsize  Lattitude  Longtitude\n",
      "0      2       1.0     202.0   -37.7996    144.9984\n",
      "1      2       1.0     156.0   -37.8079    144.9934\n",
      "2      3       2.0     134.0   -37.8093    144.9944\n",
      "3      3       2.0      94.0   -37.7969    144.9969\n",
      "4      4       1.0     120.0   -37.8072    144.9941\n"
     ]
    }
   ],
   "source": [
    "print(X.describe())\n",
    "print(X.head())"
   ]
  },
  {
   "cell_type": "markdown",
   "id": "189c468c",
   "metadata": {
    "papermill": {
     "duration": 0.006947,
     "end_time": "2024-03-28T08:10:37.259040",
     "exception": false,
     "start_time": "2024-03-28T08:10:37.252093",
     "status": "completed"
    },
    "tags": []
   },
   "source": [
    "## Step 3: Specify and Fit Model\n",
    "Create a `DecisionTreeRegressor` and save it iowa_model. Ensure you've done the relevant import from sklearn to run this command.\n",
    "\n",
    "Then fit the model you just created using the data in `X` and `y` that you saved above."
   ]
  },
  {
   "cell_type": "code",
   "execution_count": 8,
   "id": "09041674",
   "metadata": {
    "execution": {
     "iopub.execute_input": "2024-03-28T08:10:37.275635Z",
     "iopub.status.busy": "2024-03-28T08:10:37.275198Z",
     "iopub.status.idle": "2024-03-28T08:10:37.363978Z",
     "shell.execute_reply": "2024-03-28T08:10:37.362705Z"
    },
    "papermill": {
     "duration": 0.100832,
     "end_time": "2024-03-28T08:10:37.367002",
     "exception": false,
     "start_time": "2024-03-28T08:10:37.266170",
     "status": "completed"
    },
    "tags": []
   },
   "outputs": [
    {
     "data": {
      "text/html": [
       "<style>#sk-container-id-1 {color: black;background-color: white;}#sk-container-id-1 pre{padding: 0;}#sk-container-id-1 div.sk-toggleable {background-color: white;}#sk-container-id-1 label.sk-toggleable__label {cursor: pointer;display: block;width: 100%;margin-bottom: 0;padding: 0.3em;box-sizing: border-box;text-align: center;}#sk-container-id-1 label.sk-toggleable__label-arrow:before {content: \"▸\";float: left;margin-right: 0.25em;color: #696969;}#sk-container-id-1 label.sk-toggleable__label-arrow:hover:before {color: black;}#sk-container-id-1 div.sk-estimator:hover label.sk-toggleable__label-arrow:before {color: black;}#sk-container-id-1 div.sk-toggleable__content {max-height: 0;max-width: 0;overflow: hidden;text-align: left;background-color: #f0f8ff;}#sk-container-id-1 div.sk-toggleable__content pre {margin: 0.2em;color: black;border-radius: 0.25em;background-color: #f0f8ff;}#sk-container-id-1 input.sk-toggleable__control:checked~div.sk-toggleable__content {max-height: 200px;max-width: 100%;overflow: auto;}#sk-container-id-1 input.sk-toggleable__control:checked~label.sk-toggleable__label-arrow:before {content: \"▾\";}#sk-container-id-1 div.sk-estimator input.sk-toggleable__control:checked~label.sk-toggleable__label {background-color: #d4ebff;}#sk-container-id-1 div.sk-label input.sk-toggleable__control:checked~label.sk-toggleable__label {background-color: #d4ebff;}#sk-container-id-1 input.sk-hidden--visually {border: 0;clip: rect(1px 1px 1px 1px);clip: rect(1px, 1px, 1px, 1px);height: 1px;margin: -1px;overflow: hidden;padding: 0;position: absolute;width: 1px;}#sk-container-id-1 div.sk-estimator {font-family: monospace;background-color: #f0f8ff;border: 1px dotted black;border-radius: 0.25em;box-sizing: border-box;margin-bottom: 0.5em;}#sk-container-id-1 div.sk-estimator:hover {background-color: #d4ebff;}#sk-container-id-1 div.sk-parallel-item::after {content: \"\";width: 100%;border-bottom: 1px solid gray;flex-grow: 1;}#sk-container-id-1 div.sk-label:hover label.sk-toggleable__label {background-color: #d4ebff;}#sk-container-id-1 div.sk-serial::before {content: \"\";position: absolute;border-left: 1px solid gray;box-sizing: border-box;top: 0;bottom: 0;left: 50%;z-index: 0;}#sk-container-id-1 div.sk-serial {display: flex;flex-direction: column;align-items: center;background-color: white;padding-right: 0.2em;padding-left: 0.2em;position: relative;}#sk-container-id-1 div.sk-item {position: relative;z-index: 1;}#sk-container-id-1 div.sk-parallel {display: flex;align-items: stretch;justify-content: center;background-color: white;position: relative;}#sk-container-id-1 div.sk-item::before, #sk-container-id-1 div.sk-parallel-item::before {content: \"\";position: absolute;border-left: 1px solid gray;box-sizing: border-box;top: 0;bottom: 0;left: 50%;z-index: -1;}#sk-container-id-1 div.sk-parallel-item {display: flex;flex-direction: column;z-index: 1;position: relative;background-color: white;}#sk-container-id-1 div.sk-parallel-item:first-child::after {align-self: flex-end;width: 50%;}#sk-container-id-1 div.sk-parallel-item:last-child::after {align-self: flex-start;width: 50%;}#sk-container-id-1 div.sk-parallel-item:only-child::after {width: 0;}#sk-container-id-1 div.sk-dashed-wrapped {border: 1px dashed gray;margin: 0 0.4em 0.5em 0.4em;box-sizing: border-box;padding-bottom: 0.4em;background-color: white;}#sk-container-id-1 div.sk-label label {font-family: monospace;font-weight: bold;display: inline-block;line-height: 1.2em;}#sk-container-id-1 div.sk-label-container {text-align: center;}#sk-container-id-1 div.sk-container {/* jupyter's `normalize.less` sets `[hidden] { display: none; }` but bootstrap.min.css set `[hidden] { display: none !important; }` so we also need the `!important` here to be able to override the default hidden behavior on the sphinx rendered scikit-learn.org. See: https://github.com/scikit-learn/scikit-learn/issues/21755 */display: inline-block !important;position: relative;}#sk-container-id-1 div.sk-text-repr-fallback {display: none;}</style><div id=\"sk-container-id-1\" class=\"sk-top-container\"><div class=\"sk-text-repr-fallback\"><pre>DecisionTreeRegressor(random_state=1)</pre><b>In a Jupyter environment, please rerun this cell to show the HTML representation or trust the notebook. <br />On GitHub, the HTML representation is unable to render, please try loading this page with nbviewer.org.</b></div><div class=\"sk-container\" hidden><div class=\"sk-item\"><div class=\"sk-estimator sk-toggleable\"><input class=\"sk-toggleable__control sk-hidden--visually\" id=\"sk-estimator-id-1\" type=\"checkbox\" checked><label for=\"sk-estimator-id-1\" class=\"sk-toggleable__label sk-toggleable__label-arrow\">DecisionTreeRegressor</label><div class=\"sk-toggleable__content\"><pre>DecisionTreeRegressor(random_state=1)</pre></div></div></div></div></div>"
      ],
      "text/plain": [
       "DecisionTreeRegressor(random_state=1)"
      ]
     },
     "execution_count": 8,
     "metadata": {},
     "output_type": "execute_result"
    }
   ],
   "source": [
    "# Step 3: Specify and Fit Model\n",
    "melbourne_model = DecisionTreeRegressor(random_state=1)\n",
    "melbourne_model.fit(X, y)"
   ]
  },
  {
   "cell_type": "code",
   "execution_count": 9,
   "id": "0b1ebd94",
   "metadata": {
    "execution": {
     "iopub.execute_input": "2024-03-28T08:10:37.385624Z",
     "iopub.status.busy": "2024-03-28T08:10:37.385183Z",
     "iopub.status.idle": "2024-03-28T08:10:37.390482Z",
     "shell.execute_reply": "2024-03-28T08:10:37.389268Z"
    },
    "papermill": {
     "duration": 0.018671,
     "end_time": "2024-03-28T08:10:37.393822",
     "exception": false,
     "start_time": "2024-03-28T08:10:37.375151",
     "status": "completed"
    },
    "tags": []
   },
   "outputs": [],
   "source": [
    "# step_3.hint()\n",
    "# step_3.solution()"
   ]
  },
  {
   "cell_type": "markdown",
   "id": "e40a7373",
   "metadata": {
    "papermill": {
     "duration": 0.007609,
     "end_time": "2024-03-28T08:10:37.409807",
     "exception": false,
     "start_time": "2024-03-28T08:10:37.402198",
     "status": "completed"
    },
    "tags": []
   },
   "source": [
    "## Step 4: Make Predictions\n",
    "Make predictions with the model's `predict` command using `X` as the data. Save the results to a variable called `predictions`."
   ]
  },
  {
   "cell_type": "code",
   "execution_count": 10,
   "id": "b2008a6c",
   "metadata": {
    "execution": {
     "iopub.execute_input": "2024-03-28T08:10:37.427910Z",
     "iopub.status.busy": "2024-03-28T08:10:37.427461Z",
     "iopub.status.idle": "2024-03-28T08:10:37.441035Z",
     "shell.execute_reply": "2024-03-28T08:10:37.439616Z"
    },
    "papermill": {
     "duration": 0.026159,
     "end_time": "2024-03-28T08:10:37.443881",
     "exception": false,
     "start_time": "2024-03-28T08:10:37.417722",
     "status": "completed"
    },
    "tags": []
   },
   "outputs": [
    {
     "name": "stdout",
     "output_type": "stream",
     "text": [
      "Making predictions for the following 5 houses:\n",
      "   Rooms  Bathroom  Landsize  Lattitude  Longtitude\n",
      "0      2       1.0     202.0   -37.7996    144.9984\n",
      "1      2       1.0     156.0   -37.8079    144.9934\n",
      "2      3       2.0     134.0   -37.8093    144.9944\n",
      "3      3       2.0      94.0   -37.7969    144.9969\n",
      "4      4       1.0     120.0   -37.8072    144.9941\n",
      "The predictions are\n",
      "[1480000. 1035000. 1465000.  850000. 1600000.]\n"
     ]
    }
   ],
   "source": [
    "# Step 4: Make Predictions\n",
    "print(\"Making predictions for the following 5 houses:\")\n",
    "print(X.head())\n",
    "print(\"The predictions are\")\n",
    "print(melbourne_model.predict(X.head()))"
   ]
  },
  {
   "cell_type": "code",
   "execution_count": 11,
   "id": "270d6dd0",
   "metadata": {
    "execution": {
     "iopub.execute_input": "2024-03-28T08:10:37.462740Z",
     "iopub.status.busy": "2024-03-28T08:10:37.462244Z",
     "iopub.status.idle": "2024-03-28T08:10:37.467950Z",
     "shell.execute_reply": "2024-03-28T08:10:37.466363Z"
    },
    "papermill": {
     "duration": 0.018602,
     "end_time": "2024-03-28T08:10:37.470438",
     "exception": false,
     "start_time": "2024-03-28T08:10:37.451836",
     "status": "completed"
    },
    "tags": []
   },
   "outputs": [],
   "source": [
    "# step_4.hint()\n",
    "# step_4.solution()"
   ]
  },
  {
   "cell_type": "markdown",
   "id": "6b9a674c",
   "metadata": {
    "papermill": {
     "duration": 0.007654,
     "end_time": "2024-03-28T08:10:37.486273",
     "exception": false,
     "start_time": "2024-03-28T08:10:37.478619",
     "status": "completed"
    },
    "tags": []
   },
   "source": [
    "## Think About Your Results\n",
    "\n",
    "Use the `head` method to compare the top few predictions to the actual home values (in `y`) for those same homes. Anything surprising?\n"
   ]
  },
  {
   "cell_type": "code",
   "execution_count": 12,
   "id": "83bf3f7a",
   "metadata": {
    "execution": {
     "iopub.execute_input": "2024-03-28T08:10:37.504790Z",
     "iopub.status.busy": "2024-03-28T08:10:37.504176Z",
     "iopub.status.idle": "2024-03-28T08:10:37.514083Z",
     "shell.execute_reply": "2024-03-28T08:10:37.512949Z"
    },
    "papermill": {
     "duration": 0.022403,
     "end_time": "2024-03-28T08:10:37.516897",
     "exception": false,
     "start_time": "2024-03-28T08:10:37.494494",
     "status": "completed"
    },
    "tags": []
   },
   "outputs": [
    {
     "name": "stdout",
     "output_type": "stream",
     "text": [
      "Top few predictions: \n",
      " [1480000. 1035000. 1465000.  850000. 1600000.]\n",
      "Actual home values: \n",
      " 0    1480000.0\n",
      "1    1035000.0\n",
      "2    1465000.0\n",
      "3     850000.0\n",
      "4    1600000.0\n",
      "Name: Price, dtype: float64\n"
     ]
    }
   ],
   "source": [
    "# Think About Your Results\n",
    "print(\"Top few predictions: \\n\", melbourne_model.predict(X.head()))\n",
    "print(\"Actual home values: \\n\", y.head())"
   ]
  },
  {
   "cell_type": "markdown",
   "id": "387c42a7",
   "metadata": {
    "papermill": {
     "duration": 0.007609,
     "end_time": "2024-03-28T08:10:37.532603",
     "exception": false,
     "start_time": "2024-03-28T08:10:37.524994",
     "status": "completed"
    },
    "tags": []
   },
   "source": [
    "It's natural to ask how accurate the model's predictions will be and how you can improve that. That will be you're next step.\n",
    "\n",
    "# Keep Going\n",
    "\n",
    "You are ready for **[Model Validation](https://www.kaggle.com/dansbecker/model-validation).**\n"
   ]
  },
  {
   "cell_type": "markdown",
   "id": "70837a54",
   "metadata": {
    "papermill": {
     "duration": 0.007719,
     "end_time": "2024-03-28T08:10:37.548356",
     "exception": false,
     "start_time": "2024-03-28T08:10:37.540637",
     "status": "completed"
    },
    "tags": []
   },
   "source": [
    "---\n",
    "\n",
    "\n",
    "\n",
    "\n",
    "*Have questions or comments? Visit the [course discussion forum](https://www.kaggle.com/learn/intro-to-machine-learning/discussion) to chat with other learners.*"
   ]
  }
 ],
 "metadata": {
  "kaggle": {
   "accelerator": "none",
   "dataSources": [
    {
     "databundleVersionId": 111096,
     "sourceId": 10211,
     "sourceType": "competition"
    },
    {
     "datasetId": 11167,
     "sourceId": 15520,
     "sourceType": "datasetVersion"
    },
    {
     "datasetId": 2709,
     "sourceId": 38454,
     "sourceType": "datasetVersion"
    }
   ],
   "isGpuEnabled": false,
   "isInternetEnabled": false,
   "language": "python",
   "sourceType": "notebook"
  },
  "kernelspec": {
   "display_name": "Python 3",
   "language": "python",
   "name": "python3"
  },
  "language_info": {
   "codemirror_mode": {
    "name": "ipython",
    "version": 3
   },
   "file_extension": ".py",
   "mimetype": "text/x-python",
   "name": "python",
   "nbconvert_exporter": "python",
   "pygments_lexer": "ipython3",
   "version": "3.10.13"
  },
  "papermill": {
   "default_parameters": {},
   "duration": 8.079322,
   "end_time": "2024-03-28T08:10:38.380133",
   "environment_variables": {},
   "exception": null,
   "input_path": "__notebook__.ipynb",
   "output_path": "__notebook__.ipynb",
   "parameters": {},
   "start_time": "2024-03-28T08:10:30.300811",
   "version": "2.5.0"
  }
 },
 "nbformat": 4,
 "nbformat_minor": 5
}
