{
 "cells": [
  {
   "cell_type": "markdown",
   "id": "6fb90ad9",
   "metadata": {
    "papermill": {
     "duration": 0.007357,
     "end_time": "2024-03-28T06:28:33.445484",
     "exception": false,
     "start_time": "2024-03-28T06:28:33.438127",
     "status": "completed"
    },
    "tags": []
   },
   "source": [
    "**This notebook is an exercise in the [Introduction to Machine Learning](https://www.kaggle.com/learn/intro-to-machine-learning) course.  You can reference the tutorial at [this link](https://www.kaggle.com/dansbecker/model-validation).**\n",
    "\n",
    "---\n"
   ]
  },
  {
   "cell_type": "markdown",
   "id": "7c19a529",
   "metadata": {
    "papermill": {
     "duration": 0.006395,
     "end_time": "2024-03-28T06:28:33.459016",
     "exception": false,
     "start_time": "2024-03-28T06:28:33.452621",
     "status": "completed"
    },
    "tags": []
   },
   "source": [
    "## Recap\n",
    "You've built a model. In this exercise you will test how good your model is.\n",
    "\n",
    "Run the cell below to set up your coding environment where the previous exercise left off."
   ]
  },
  {
   "cell_type": "code",
   "execution_count": 1,
   "id": "00dfb154",
   "metadata": {
    "execution": {
     "iopub.execute_input": "2024-03-28T06:28:33.474822Z",
     "iopub.status.busy": "2024-03-28T06:28:33.474335Z",
     "iopub.status.idle": "2024-03-28T06:28:36.298054Z",
     "shell.execute_reply": "2024-03-28T06:28:36.296478Z"
    },
    "papermill": {
     "duration": 2.835553,
     "end_time": "2024-03-28T06:28:36.301400",
     "exception": false,
     "start_time": "2024-03-28T06:28:33.465847",
     "status": "completed"
    },
    "tags": []
   },
   "outputs": [
    {
     "name": "stdout",
     "output_type": "stream",
     "text": [
      "First in-sample predictions: [208500. 181500. 223500. 140000. 250000.]\n",
      "Actual target values for those homes: [208500, 181500, 223500, 140000, 250000]\n",
      "Setup Complete\n"
     ]
    }
   ],
   "source": [
    "import pandas as pd\n",
    "from sklearn.tree import DecisionTreeRegressor\n",
    "\n",
    "# Path of the file to read\n",
    "iowa_file_path = '../input/home-data-for-ml-course/train.csv'\n",
    "\n",
    "home_data = pd.read_csv(iowa_file_path)\n",
    "y = home_data.SalePrice\n",
    "feature_columns = ['LotArea', 'YearBuilt', '1stFlrSF', '2ndFlrSF', 'FullBath', 'BedroomAbvGr', 'TotRmsAbvGrd']\n",
    "X = home_data[feature_columns]\n",
    "\n",
    "# Specify Model\n",
    "iowa_model = DecisionTreeRegressor()\n",
    "# Fit Model\n",
    "iowa_model.fit(X, y)\n",
    "\n",
    "print(\"First in-sample predictions:\", iowa_model.predict(X.head()))\n",
    "print(\"Actual target values for those homes:\", y.head().tolist())\n",
    "\n",
    "# Set up code checking\n",
    "from learntools.core import binder\n",
    "binder.bind(globals())\n",
    "from learntools.machine_learning.ex4 import *\n",
    "print(\"Setup Complete\")"
   ]
  },
  {
   "cell_type": "markdown",
   "id": "54c6c884",
   "metadata": {
    "papermill": {
     "duration": 0.006179,
     "end_time": "2024-03-28T06:28:36.314333",
     "exception": false,
     "start_time": "2024-03-28T06:28:36.308154",
     "status": "completed"
    },
    "tags": []
   },
   "source": [
    "# Exercises\n",
    "\n",
    "## Step 1: Split Your Data\n",
    "Use the `train_test_split` function to split up your data.\n",
    "\n",
    "Give it the argument `random_state=1` so the `check` functions know what to expect when verifying your code.\n",
    "\n",
    "Recall, your features are loaded in the DataFrame **X** and your target is loaded in **y**.\n"
   ]
  },
  {
   "cell_type": "code",
   "execution_count": 2,
   "id": "ac2a6aba",
   "metadata": {
    "execution": {
     "iopub.execute_input": "2024-03-28T06:28:36.329160Z",
     "iopub.status.busy": "2024-03-28T06:28:36.328742Z",
     "iopub.status.idle": "2024-03-28T06:28:36.348583Z",
     "shell.execute_reply": "2024-03-28T06:28:36.347279Z"
    },
    "papermill": {
     "duration": 0.030652,
     "end_time": "2024-03-28T06:28:36.351351",
     "exception": false,
     "start_time": "2024-03-28T06:28:36.320699",
     "status": "completed"
    },
    "tags": []
   },
   "outputs": [
    {
     "data": {
      "application/javascript": [
       "parent.postMessage({\"jupyterEvent\": \"custom.exercise_interaction\", \"data\": {\"outcomeType\": 1, \"valueTowardsCompletion\": 0.25, \"interactionType\": 1, \"questionType\": 2, \"questionId\": \"1_SplitData\", \"learnToolsVersion\": \"0.3.4\", \"failureMessage\": \"\", \"exceptionClass\": \"\", \"trace\": \"\"}}, \"*\")"
      ],
      "text/plain": [
       "<IPython.core.display.Javascript object>"
      ]
     },
     "metadata": {},
     "output_type": "display_data"
    },
    {
     "data": {
      "text/markdown": [
       "<span style=\"color:#33cc33\">Correct</span>"
      ],
      "text/plain": [
       "Correct"
      ]
     },
     "metadata": {},
     "output_type": "display_data"
    }
   ],
   "source": [
    "# Import the train_test_split function and uncomment\n",
    "from sklearn.model_selection import train_test_split\n",
    "\n",
    "# fill in and uncomment\n",
    "train_X, val_X, train_y, val_y = train_test_split(X, y, random_state=1)\n",
    "\n",
    "# Check your answer\n",
    "step_1.check()"
   ]
  },
  {
   "cell_type": "code",
   "execution_count": 3,
   "id": "e35725cf",
   "metadata": {
    "execution": {
     "iopub.execute_input": "2024-03-28T06:28:36.367076Z",
     "iopub.status.busy": "2024-03-28T06:28:36.366668Z",
     "iopub.status.idle": "2024-03-28T06:28:36.371406Z",
     "shell.execute_reply": "2024-03-28T06:28:36.370458Z"
    },
    "papermill": {
     "duration": 0.015211,
     "end_time": "2024-03-28T06:28:36.373395",
     "exception": false,
     "start_time": "2024-03-28T06:28:36.358184",
     "status": "completed"
    },
    "tags": []
   },
   "outputs": [],
   "source": [
    "# The lines below will show you a hint or the solution.\n",
    "# step_1.hint() \n",
    "# step_1.solution()\n"
   ]
  },
  {
   "cell_type": "markdown",
   "id": "178d2e94",
   "metadata": {
    "papermill": {
     "duration": 0.006699,
     "end_time": "2024-03-28T06:28:36.386897",
     "exception": false,
     "start_time": "2024-03-28T06:28:36.380198",
     "status": "completed"
    },
    "tags": []
   },
   "source": [
    "## Step 2: Specify and Fit the Model\n",
    "\n",
    "Create a `DecisionTreeRegressor` model and fit it to the relevant data.\n",
    "Set `random_state` to 1 again when creating the model."
   ]
  },
  {
   "cell_type": "code",
   "execution_count": 4,
   "id": "f16d7b6e",
   "metadata": {
    "execution": {
     "iopub.execute_input": "2024-03-28T06:28:36.403134Z",
     "iopub.status.busy": "2024-03-28T06:28:36.401861Z",
     "iopub.status.idle": "2024-03-28T06:28:36.556437Z",
     "shell.execute_reply": "2024-03-28T06:28:36.555133Z"
    },
    "papermill": {
     "duration": 0.165179,
     "end_time": "2024-03-28T06:28:36.558938",
     "exception": false,
     "start_time": "2024-03-28T06:28:36.393759",
     "status": "completed"
    },
    "tags": []
   },
   "outputs": [
    {
     "name": "stdout",
     "output_type": "stream",
     "text": [
      "[186500. 184000. 130000.  92000. 164500. 220000. 335000. 144152. 215000.\n",
      " 262000.]\n",
      "[186500. 184000. 130000.  92000. 164500. 220000. 335000. 144152. 215000.\n",
      " 262000.]\n"
     ]
    },
    {
     "data": {
      "application/javascript": [
       "parent.postMessage({\"jupyterEvent\": \"custom.exercise_interaction\", \"data\": {\"outcomeType\": 1, \"valueTowardsCompletion\": 0.25, \"interactionType\": 1, \"questionType\": 2, \"questionId\": \"2_FitModelWithTrain\", \"learnToolsVersion\": \"0.3.4\", \"failureMessage\": \"\", \"exceptionClass\": \"\", \"trace\": \"\"}}, \"*\")"
      ],
      "text/plain": [
       "<IPython.core.display.Javascript object>"
      ]
     },
     "metadata": {},
     "output_type": "display_data"
    },
    {
     "data": {
      "text/markdown": [
       "<span style=\"color:#33cc33\">Correct</span>"
      ],
      "text/plain": [
       "Correct"
      ]
     },
     "metadata": {},
     "output_type": "display_data"
    }
   ],
   "source": [
    "# You imported DecisionTreeRegressor in your last exercise\n",
    "# and that code has been copied to the setup code above. So, no need to\n",
    "# import it again\n",
    "\n",
    "# Specify the model\n",
    "iowa_model = DecisionTreeRegressor(random_state=1)\n",
    "\n",
    "# Fit iowa_model with the training data.\n",
    "iowa_model.fit(train_X, train_y)\n",
    "\n",
    "# Check your answer\n",
    "step_2.check()"
   ]
  },
  {
   "cell_type": "code",
   "execution_count": 5,
   "id": "ab169a98",
   "metadata": {
    "execution": {
     "iopub.execute_input": "2024-03-28T06:28:36.577364Z",
     "iopub.status.busy": "2024-03-28T06:28:36.576673Z",
     "iopub.status.idle": "2024-03-28T06:28:36.583026Z",
     "shell.execute_reply": "2024-03-28T06:28:36.581417Z"
    },
    "papermill": {
     "duration": 0.019077,
     "end_time": "2024-03-28T06:28:36.585752",
     "exception": false,
     "start_time": "2024-03-28T06:28:36.566675",
     "status": "completed"
    },
    "tags": []
   },
   "outputs": [],
   "source": [
    "# step_2.hint()\n",
    "# step_2.solution()"
   ]
  },
  {
   "cell_type": "markdown",
   "id": "e0d58df3",
   "metadata": {
    "papermill": {
     "duration": 0.007602,
     "end_time": "2024-03-28T06:28:36.600897",
     "exception": false,
     "start_time": "2024-03-28T06:28:36.593295",
     "status": "completed"
    },
    "tags": []
   },
   "source": [
    "## Step 3: Make Predictions with Validation data\n"
   ]
  },
  {
   "cell_type": "code",
   "execution_count": 6,
   "id": "7c17eb74",
   "metadata": {
    "execution": {
     "iopub.execute_input": "2024-03-28T06:28:36.618015Z",
     "iopub.status.busy": "2024-03-28T06:28:36.617182Z",
     "iopub.status.idle": "2024-03-28T06:28:36.634701Z",
     "shell.execute_reply": "2024-03-28T06:28:36.633238Z"
    },
    "papermill": {
     "duration": 0.029086,
     "end_time": "2024-03-28T06:28:36.637417",
     "exception": false,
     "start_time": "2024-03-28T06:28:36.608331",
     "status": "completed"
    },
    "tags": []
   },
   "outputs": [
    {
     "data": {
      "application/javascript": [
       "parent.postMessage({\"jupyterEvent\": \"custom.exercise_interaction\", \"data\": {\"outcomeType\": 1, \"valueTowardsCompletion\": 0.25, \"interactionType\": 1, \"questionType\": 2, \"questionId\": \"3_ValPreds\", \"learnToolsVersion\": \"0.3.4\", \"failureMessage\": \"\", \"exceptionClass\": \"\", \"trace\": \"\"}}, \"*\")"
      ],
      "text/plain": [
       "<IPython.core.display.Javascript object>"
      ]
     },
     "metadata": {},
     "output_type": "display_data"
    },
    {
     "data": {
      "text/markdown": [
       "<span style=\"color:#33cc33\">Correct</span>"
      ],
      "text/plain": [
       "Correct"
      ]
     },
     "metadata": {},
     "output_type": "display_data"
    }
   ],
   "source": [
    "# Predict with all validation observations\n",
    "val_predictions = iowa_model.predict(val_X)\n",
    "\n",
    "# Check your answer\n",
    "step_3.check()"
   ]
  },
  {
   "cell_type": "code",
   "execution_count": 7,
   "id": "1c9b7829",
   "metadata": {
    "execution": {
     "iopub.execute_input": "2024-03-28T06:28:36.656776Z",
     "iopub.status.busy": "2024-03-28T06:28:36.656017Z",
     "iopub.status.idle": "2024-03-28T06:28:36.660860Z",
     "shell.execute_reply": "2024-03-28T06:28:36.659839Z"
    },
    "papermill": {
     "duration": 0.017191,
     "end_time": "2024-03-28T06:28:36.663427",
     "exception": false,
     "start_time": "2024-03-28T06:28:36.646236",
     "status": "completed"
    },
    "tags": []
   },
   "outputs": [],
   "source": [
    "# step_3.hint()\n",
    "# step_3.solution()"
   ]
  },
  {
   "cell_type": "markdown",
   "id": "860cddb9",
   "metadata": {
    "papermill": {
     "duration": 0.007878,
     "end_time": "2024-03-28T06:28:36.679529",
     "exception": false,
     "start_time": "2024-03-28T06:28:36.671651",
     "status": "completed"
    },
    "tags": []
   },
   "source": [
    "Inspect your predictions and actual values from validation data."
   ]
  },
  {
   "cell_type": "code",
   "execution_count": 8,
   "id": "66378881",
   "metadata": {
    "execution": {
     "iopub.execute_input": "2024-03-28T06:28:36.698187Z",
     "iopub.status.busy": "2024-03-28T06:28:36.697660Z",
     "iopub.status.idle": "2024-03-28T06:28:36.705741Z",
     "shell.execute_reply": "2024-03-28T06:28:36.704449Z"
    },
    "papermill": {
     "duration": 0.020952,
     "end_time": "2024-03-28T06:28:36.708178",
     "exception": false,
     "start_time": "2024-03-28T06:28:36.687226",
     "status": "completed"
    },
    "tags": []
   },
   "outputs": [
    {
     "name": "stdout",
     "output_type": "stream",
     "text": [
      "[186500.0, 184000.0, 130000.0, 92000.0, 164500.0, 220000.0, 335000.0, 144152.0, 215000.0, 262000.0, 180000.0, 121000.0, 175900.0, 210000.0, 248900.0, 131000.0, 100000.0, 149350.0, 235000.0, 156000.0, 149900.0, 265979.0, 193500.0, 377500.0, 100000.0, 162900.0, 145000.0, 180000.0, 582933.0, 146000.0, 140000.0, 91500.0, 112500.0, 113000.0, 145000.0, 312500.0, 110000.0, 132000.0, 305000.0, 128000.0, 162900.0, 115000.0, 110000.0, 124000.0, 215200.0, 180000.0, 79000.0, 192000.0, 282922.0, 235000.0, 132000.0, 325000.0, 80000.0, 237000.0, 208300.0, 100000.0, 120500.0, 162000.0, 153000.0, 187000.0, 185750.0, 335000.0, 129000.0, 124900.0, 185750.0, 133700.0, 127000.0, 230000.0, 146800.0, 157900.0, 136000.0, 153575.0, 335000.0, 177500.0, 143000.0, 202500.0, 168500.0, 105000.0, 305900.0, 192000.0, 190000.0, 140200.0, 134900.0, 128950.0, 213000.0, 108959.0, 149500.0, 190000.0, 175900.0, 160000.0, 250580.0, 157000.0, 120500.0, 147500.0, 118000.0, 117000.0, 110000.0, 130000.0, 148500.0, 148000.0, 190000.0, 130500.0, 127000.0, 120500.0, 135000.0, 168000.0, 176432.0, 128000.0, 147000.0, 260000.0, 132000.0, 129500.0, 171000.0, 181134.0, 227875.0, 189000.0, 282922.0, 94750.0, 185000.0, 194000.0, 159000.0, 279500.0, 290000.0, 135000.0, 299800.0, 165000.0, 394432.0, 135750.0, 155000.0, 212000.0, 310000.0, 134800.0, 84000.0, 122900.0, 80000.0, 191000.0, 755000.0, 147000.0, 248000.0, 106500.0, 145000.0, 359100.0, 145000.0, 192500.0, 149000.0, 252000.0, 109000.0, 215000.0, 220000.0, 138500.0, 185000.0, 185000.0, 120500.0, 181000.0, 173000.0, 335000.0, 67000.0, 149350.0, 67000.0, 156000.0, 119000.0, 110500.0, 184000.0, 147000.0, 156000.0, 171000.0, 177000.0, 159000.0, 125000.0, 105000.0, 284000.0, 167500.0, 200000.0, 312500.0, 213000.0, 135960.0, 205000.0, 237000.0, 107000.0, 163000.0, 132500.0, 155835.0, 165500.0, 138500.0, 257000.0, 160000.0, 394617.0, 281213.0, 161000.0, 127500.0, 88000.0, 139000.0, 89500.0, 132500.0, 134800.0, 335000.0, 248900.0, 155000.0, 147000.0, 86000.0, 185000.0, 200000.0, 180500.0, 215200.0, 319900.0, 105000.0, 194000.0, 340000.0, 256000.0, 280000.0, 186500.0, 105500.0, 155000.0, 133500.0, 255500.0, 253000.0, 130000.0, 92900.0, 256000.0, 100000.0, 755000.0, 138500.0, 168500.0, 112000.0, 127000.0, 109008.0, 197000.0, 245500.0, 171900.0, 162000.0, 128000.0, 173000.0, 132000.0, 118000.0, 235128.0, 118964.0, 260000.0, 116000.0, 185000.0, 315750.0, 236500.0, 140000.0, 151500.0, 184000.0, 84000.0, 130000.0, 154000.0, 205000.0, 110000.0, 151500.0, 123000.0, 129500.0, 173900.0, 181500.0, 165500.0, 106500.0, 184900.0, 84500.0, 377500.0, 118500.0, 180000.0, 190000.0, 208500.0, 181000.0, 98000.0, 157000.0, 151500.0, 84000.0, 139000.0, 100000.0, 161750.0, 165600.0, 116000.0, 118500.0, 187000.0, 147000.0, 112000.0, 132000.0, 230000.0, 128000.0, 147000.0, 125000.0, 145000.0, 151000.0, 284000.0, 221000.0, 140200.0, 129000.0, 290000.0, 105000.0, 96500.0, 310000.0, 140000.0, 132000.0, 203000.0, 221000.0, 215200.0, 214000.0, 139000.0, 91500.0, 148000.0, 155000.0, 115000.0, 180000.0, 165500.0, 223000.0, 139000.0, 179900.0, 150000.0, 185000.0, 163000.0, 176000.0, 127000.0, 227000.0, 146000.0, 99900.0, 275000.0, 180500.0, 180000.0, 157000.0, 186500.0, 179900.0, 137500.0, 219500.0, 155000.0, 345000.0, 197000.0, 205000.0, 159000.0, 159434.0, 156000.0, 196000.0, 252678.0, 255500.0, 213000.0, 150900.0, 143750.0, 139000.0, 260000.0, 189000.0, 213250.0, 207500.0, 80000.0, 221000.0, 109500.0, 155000.0, 165000.0, 149350.0, 204900.0, 105900.0, 155000.0, 176000.0, 395000.0, 149700.0, 147000.0, 143900.0, 226700.0, 176000.0, 116000.0, 325300.0, 133750.0, 188500.0, 148500.0, 284000.0, 201800.0]\n",
      "258     231500\n",
      "267     179500\n",
      "288     122000\n",
      "649      84500\n",
      "1233    142000\n",
      "Name: SalePrice, dtype: int64\n"
     ]
    }
   ],
   "source": [
    "# print the top few validation predictions\n",
    "print(val_predictions.tolist())\n",
    "# print the top few actual prices from validation data\n",
    "print(val_y.head())"
   ]
  },
  {
   "cell_type": "markdown",
   "id": "856f93ff",
   "metadata": {
    "papermill": {
     "duration": 0.007596,
     "end_time": "2024-03-28T06:28:36.724020",
     "exception": false,
     "start_time": "2024-03-28T06:28:36.716424",
     "status": "completed"
    },
    "tags": []
   },
   "source": [
    "What do you notice that is different from what you saw with in-sample predictions (which are printed after the top code cell in this page).\n",
    "\n",
    "Do you remember why validation predictions differ from in-sample (or training) predictions? This is an important idea from the last lesson.\n",
    "\n",
    "## Step 4: Calculate the Mean Absolute Error in Validation Data\n"
   ]
  },
  {
   "cell_type": "code",
   "execution_count": 9,
   "id": "126920dc",
   "metadata": {
    "execution": {
     "iopub.execute_input": "2024-03-28T06:28:36.741758Z",
     "iopub.status.busy": "2024-03-28T06:28:36.741338Z",
     "iopub.status.idle": "2024-03-28T06:28:36.754250Z",
     "shell.execute_reply": "2024-03-28T06:28:36.752931Z"
    },
    "papermill": {
     "duration": 0.025054,
     "end_time": "2024-03-28T06:28:36.756927",
     "exception": false,
     "start_time": "2024-03-28T06:28:36.731873",
     "status": "completed"
    },
    "tags": []
   },
   "outputs": [
    {
     "name": "stdout",
     "output_type": "stream",
     "text": [
      "29652.931506849316\n"
     ]
    },
    {
     "data": {
      "application/javascript": [
       "parent.postMessage({\"jupyterEvent\": \"custom.exercise_interaction\", \"data\": {\"outcomeType\": 1, \"valueTowardsCompletion\": 0.25, \"interactionType\": 1, \"questionType\": 1, \"questionId\": \"4_MAE\", \"learnToolsVersion\": \"0.3.4\", \"failureMessage\": \"\", \"exceptionClass\": \"\", \"trace\": \"\"}}, \"*\")"
      ],
      "text/plain": [
       "<IPython.core.display.Javascript object>"
      ]
     },
     "metadata": {},
     "output_type": "display_data"
    },
    {
     "data": {
      "text/markdown": [
       "<span style=\"color:#33cc33\">Correct</span>"
      ],
      "text/plain": [
       "Correct"
      ]
     },
     "metadata": {},
     "output_type": "display_data"
    }
   ],
   "source": [
    "from sklearn.metrics import mean_absolute_error\n",
    "val_mae = mean_absolute_error(val_y, val_predictions)\n",
    "\n",
    "# uncomment following line to see the validation_mae\n",
    "print(val_mae)\n",
    "\n",
    "# Check your answer\n",
    "step_4.check()"
   ]
  },
  {
   "cell_type": "code",
   "execution_count": 10,
   "id": "4d9f1e7d",
   "metadata": {
    "execution": {
     "iopub.execute_input": "2024-03-28T06:28:36.776156Z",
     "iopub.status.busy": "2024-03-28T06:28:36.775716Z",
     "iopub.status.idle": "2024-03-28T06:28:36.781064Z",
     "shell.execute_reply": "2024-03-28T06:28:36.779720Z"
    },
    "papermill": {
     "duration": 0.018028,
     "end_time": "2024-03-28T06:28:36.783754",
     "exception": false,
     "start_time": "2024-03-28T06:28:36.765726",
     "status": "completed"
    },
    "tags": []
   },
   "outputs": [],
   "source": [
    "# step_4.hint()\n",
    "# step_4.solution()"
   ]
  },
  {
   "cell_type": "markdown",
   "id": "43b86c0c",
   "metadata": {
    "papermill": {
     "duration": 0.007977,
     "end_time": "2024-03-28T06:28:36.800070",
     "exception": false,
     "start_time": "2024-03-28T06:28:36.792093",
     "status": "completed"
    },
    "tags": []
   },
   "source": [
    "Is that MAE good?  There isn't a general rule for what values are good that applies across applications. But you'll see how to use (and improve) this number in the next step.\n",
    "\n",
    "# Keep Going\n",
    "\n",
    "You are ready for **[Underfitting and Overfitting](https://www.kaggle.com/dansbecker/underfitting-and-overfitting).**\n"
   ]
  },
  {
   "cell_type": "markdown",
   "id": "10e7ce65",
   "metadata": {
    "papermill": {
     "duration": 0.008064,
     "end_time": "2024-03-28T06:28:36.816403",
     "exception": false,
     "start_time": "2024-03-28T06:28:36.808339",
     "status": "completed"
    },
    "tags": []
   },
   "source": [
    "---\n",
    "\n",
    "\n",
    "\n",
    "\n",
    "*Have questions or comments? Visit the [course discussion forum](https://www.kaggle.com/learn/intro-to-machine-learning/discussion) to chat with other learners.*"
   ]
  }
 ],
 "metadata": {
  "kaggle": {
   "accelerator": "none",
   "dataSources": [
    {
     "databundleVersionId": 111096,
     "sourceId": 10211,
     "sourceType": "competition"
    },
    {
     "datasetId": 11167,
     "sourceId": 15520,
     "sourceType": "datasetVersion"
    },
    {
     "datasetId": 2709,
     "sourceId": 38454,
     "sourceType": "datasetVersion"
    }
   ],
   "isGpuEnabled": false,
   "isInternetEnabled": false,
   "language": "python",
   "sourceType": "notebook"
  },
  "kernelspec": {
   "display_name": "Python 3",
   "language": "python",
   "name": "python3"
  },
  "language_info": {
   "codemirror_mode": {
    "name": "ipython",
    "version": 3
   },
   "file_extension": ".py",
   "mimetype": "text/x-python",
   "name": "python",
   "nbconvert_exporter": "python",
   "pygments_lexer": "ipython3",
   "version": "3.10.13"
  },
  "papermill": {
   "default_parameters": {},
   "duration": 7.664822,
   "end_time": "2024-03-28T06:28:37.748721",
   "environment_variables": {},
   "exception": null,
   "input_path": "__notebook__.ipynb",
   "output_path": "__notebook__.ipynb",
   "parameters": {},
   "start_time": "2024-03-28T06:28:30.083899",
   "version": "2.5.0"
  }
 },
 "nbformat": 4,
 "nbformat_minor": 5
}
