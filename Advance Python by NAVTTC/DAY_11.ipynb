{
 "cells": [
  {
   "cell_type": "code",
   "execution_count": 1,
   "metadata": {},
   "outputs": [
    {
     "name": "stdout",
     "output_type": "stream",
     "text": [
      "Hello World\n"
     ]
    }
   ],
   "source": [
    "print('Hello World')"
   ]
  },
  {
   "cell_type": "markdown",
   "metadata": {},
   "source": [
    "The Task file in Data folder `Data/test python.docx `"
   ]
  },
  {
   "cell_type": "markdown",
   "metadata": {},
   "source": [
    "##### Q1.Write a Python function to find the maximum of three numbers ?"
   ]
  },
  {
   "cell_type": "code",
   "execution_count": 66,
   "metadata": {},
   "outputs": [],
   "source": [
    "def max_arg(a, b, c,*args) -> int:\n",
    "    return max(a, b, c,*args)"
   ]
  },
  {
   "cell_type": "code",
   "execution_count": 57,
   "metadata": {},
   "outputs": [],
   "source": [
    "def max_int(a:int, b:int, c:int) -> int:\n",
    "   return max(a, b, c)"
   ]
  },
  {
   "cell_type": "code",
   "execution_count": 59,
   "metadata": {},
   "outputs": [],
   "source": [
    "def max_list(num:list) -> int:\n",
    "    return max(num)"
   ]
  },
  {
   "cell_type": "code",
   "execution_count": 70,
   "metadata": {},
   "outputs": [],
   "source": [
    "def max_tuple(num:tuple) -> int:\n",
    "    return max(num)"
   ]
  },
  {
   "cell_type": "code",
   "execution_count": 71,
   "metadata": {},
   "outputs": [
    {
     "data": {
      "text/plain": [
       "6"
      ]
     },
     "execution_count": 71,
     "metadata": {},
     "output_type": "execute_result"
    }
   ],
   "source": [
    "max_tuple((2, 4, 2, 4, 6))"
   ]
  },
  {
   "cell_type": "code",
   "execution_count": 72,
   "metadata": {},
   "outputs": [
    {
     "data": {
      "text/plain": [
       "7"
      ]
     },
     "execution_count": 72,
     "metadata": {},
     "output_type": "execute_result"
    }
   ],
   "source": [
    "max_arg(1, 3, 4, 4, 5, 6, 7)"
   ]
  },
  {
   "cell_type": "code",
   "execution_count": 60,
   "metadata": {},
   "outputs": [
    {
     "data": {
      "text/plain": [
       "5"
      ]
     },
     "execution_count": 60,
     "metadata": {},
     "output_type": "execute_result"
    }
   ],
   "source": [
    "max_list([2, 4, 5])"
   ]
  },
  {
   "cell_type": "code",
   "execution_count": 58,
   "metadata": {},
   "outputs": [
    {
     "data": {
      "text/plain": [
       "5"
      ]
     },
     "execution_count": 58,
     "metadata": {},
     "output_type": "execute_result"
    }
   ],
   "source": [
    "max_int(2, 4, 5)"
   ]
  },
  {
   "cell_type": "markdown",
   "metadata": {},
   "source": [
    "##### Q2. Write a Python function to sum all the numbers in a list?"
   ]
  },
  {
   "cell_type": "code",
   "execution_count": 49,
   "metadata": {},
   "outputs": [],
   "source": [
    "def sum_(num:tuple) -> int:\n",
    "    return sum(num)"
   ]
  },
  {
   "cell_type": "code",
   "execution_count": 43,
   "metadata": {},
   "outputs": [],
   "source": [
    "def sum_(*args:tuple) -> int:\n",
    "    return sum(args)"
   ]
  },
  {
   "cell_type": "code",
   "execution_count": 25,
   "metadata": {},
   "outputs": [],
   "source": [
    "def sum_list(num:list) -> int:\n",
    "    return sum(num)"
   ]
  },
  {
   "cell_type": "code",
   "execution_count": 87,
   "metadata": {},
   "outputs": [],
   "source": [
    "def sum_arg(*args:list) -> int:\n",
    "    return sum(args)"
   ]
  },
  {
   "cell_type": "code",
   "execution_count": 46,
   "metadata": {},
   "outputs": [
    {
     "data": {
      "text/plain": [
       "4"
      ]
     },
     "execution_count": 46,
     "metadata": {},
     "output_type": "execute_result"
    }
   ],
   "source": [
    "sum_((1, 3))"
   ]
  },
  {
   "cell_type": "code",
   "execution_count": 36,
   "metadata": {},
   "outputs": [
    {
     "data": {
      "text/plain": [
       "3"
      ]
     },
     "execution_count": 36,
     "metadata": {},
     "output_type": "execute_result"
    }
   ],
   "source": [
    "sum_list([1, 2])"
   ]
  },
  {
   "cell_type": "code",
   "execution_count": 89,
   "metadata": {},
   "outputs": [
    {
     "data": {
      "text/plain": [
       "101"
      ]
     },
     "execution_count": 89,
     "metadata": {},
     "output_type": "execute_result"
    }
   ],
   "source": [
    "sum_arg(1, 3, 4,4 ,5, 6,5, 6,67)"
   ]
  },
  {
   "cell_type": "markdown",
   "metadata": {},
   "source": [
    "##### Q3. Write a Python function to multiply all the numbers in a list?"
   ]
  },
  {
   "cell_type": "code",
   "execution_count": 82,
   "metadata": {},
   "outputs": [],
   "source": [
    "def multiX(num:list | tuple):\n",
    "    res = 1\n",
    "    for num in num:\n",
    "        res: int = res * num\n",
    "    return res\n",
    "    "
   ]
  },
  {
   "cell_type": "code",
   "execution_count": 28,
   "metadata": {},
   "outputs": [
    {
     "data": {
      "text/plain": [
       "6"
      ]
     },
     "execution_count": 28,
     "metadata": {},
     "output_type": "execute_result"
    }
   ],
   "source": [
    "multiX([1, 2, 3])"
   ]
  },
  {
   "cell_type": "code",
   "execution_count": 83,
   "metadata": {},
   "outputs": [
    {
     "data": {
      "text/plain": [
       "15"
      ]
     },
     "execution_count": 83,
     "metadata": {},
     "output_type": "execute_result"
    }
   ],
   "source": [
    "multiX((1, 3, 5))"
   ]
  },
  {
   "cell_type": "markdown",
   "metadata": {},
   "source": [
    "##### Q4. Write a Python function to calculate the `factorial` of a number (a non-negative integer). The function accepts the number as an `argument`?"
   ]
  },
  {
   "cell_type": "code",
   "execution_count": 25,
   "metadata": {},
   "outputs": [],
   "source": [
    "def factorial(num: int)-> int:\n",
    "    try:\n",
    "        if num < 0:\n",
    "            raise ValueError('Input must be a non-negative integer')\n",
    "        result = 1\n",
    "        for i in range(1, num + 1):\n",
    "            result *= i\n",
    "        return result\n",
    "    \n",
    "    except ValueError as e:\n",
    "        print(f'Error {e}')\n"
   ]
  },
  {
   "cell_type": "code",
   "execution_count": 27,
   "metadata": {},
   "outputs": [
    {
     "data": {
      "text/plain": [
       "120"
      ]
     },
     "execution_count": 27,
     "metadata": {},
     "output_type": "execute_result"
    }
   ],
   "source": [
    "factorial(5)"
   ]
  },
  {
   "cell_type": "markdown",
   "metadata": {},
   "source": [
    "#### Q5. Write a Python function to check whether a number falls within a given range?"
   ]
  },
  {
   "cell_type": "code",
   "execution_count": 18,
   "metadata": {},
   "outputs": [],
   "source": [
    "def check(num:int) -> bool:\n",
    "    num_:list[int] = [2, 4, 5, 6, 7, 8]\n",
    "    for i in num_:\n",
    "        if i == num:\n",
    "            return True\n",
    "    return False"
   ]
  },
  {
   "cell_type": "code",
   "execution_count": 22,
   "metadata": {},
   "outputs": [
    {
     "data": {
      "text/plain": [
       "False"
      ]
     },
     "execution_count": 22,
     "metadata": {},
     "output_type": "execute_result"
    }
   ],
   "source": [
    "check(3)"
   ]
  },
  {
   "cell_type": "markdown",
   "metadata": {},
   "source": [
    "##### Q6.  Write a Python program that prompts the user to input two numbers and raises a TypeError exception if  the inputs <br /> are not numerical."
   ]
  },
  {
   "cell_type": "code",
   "execution_count": 41,
   "metadata": {},
   "outputs": [
    {
     "name": "stdout",
     "output_type": "stream",
     "text": [
      "Error invalid literal for int() with base 10: 'e'\n"
     ]
    }
   ],
   "source": [
    "try:\n",
    "    num_1 = int(input('Enter a first Number :'))\n",
    "    num_2 = int(input('Enter a Second Number :'))\n",
    "\n",
    "    if not isinstance(num_1, int) and not isinstance(num_2, int):\n",
    "        raise TypeError('Please Enter the Integer eg: 1, 2, 3, 4.... ')\n",
    "    else:\n",
    "        print('Both Values are integer')\n",
    "\n",
    "except TypeError as e:\n",
    "    print(f'Error {e}')\n",
    "\n",
    "except ValueError as e:\n",
    "    print(f'Error {e}')"
   ]
  },
  {
   "cell_type": "code",
   "execution_count": 38,
   "metadata": {},
   "outputs": [
    {
     "name": "stdout",
     "output_type": "stream",
     "text": [
      "Please enter valid integers (e.g., 1, 2, 3, 4...)\n"
     ]
    }
   ],
   "source": [
    "try:\n",
    "    num_1 = int(input('Enter the first number: '))\n",
    "    num_2 = int(input('Enter the second number: '))\n",
    "\n",
    "    # No need to check isinstance after conversion; int() already handles it\n",
    "    print('Both values are integers.')\n",
    "\n",
    "except ValueError:\n",
    "    print('Please enter valid integers (e.g., 1, 2, 3, 4...)')\n"
   ]
  },
  {
   "cell_type": "markdown",
   "metadata": {},
   "source": [
    "##### Q7. assign different names to function and call it with new name e.g function name is `display student(name,age)`<br> and new name is `showstudent(name,age)` and then call it with new name?\n",
    "\n"
   ]
  },
  {
   "cell_type": "code",
   "execution_count": 42,
   "metadata": {},
   "outputs": [
    {
     "name": "stdout",
     "output_type": "stream",
     "text": [
      "Name: Alice, Age: 21\n"
     ]
    }
   ],
   "source": [
    "# Original function definition\n",
    "def display_student(name, age):\n",
    "    print(f\"Name: {name}, Age: {age}\")\n",
    "\n",
    "# Assigning a new name to the function\n",
    "show_student = display_student\n",
    "\n",
    "# Calling the function with the new name\n",
    "show_student(\"Alice\", 21)\n"
   ]
  },
  {
   "cell_type": "markdown",
   "metadata": {},
   "source": [
    "##### Q8.Write a Python program to handle a `ZeroDivisionError` exception when dividing a number by zero?"
   ]
  },
  {
   "cell_type": "code",
   "execution_count": 45,
   "metadata": {},
   "outputs": [
    {
     "name": "stdout",
     "output_type": "stream",
     "text": [
      "Error: Division by zero is not allowed.\n"
     ]
    }
   ],
   "source": [
    "try:\n",
    "    numerator = int(input('Enter a number: '))\n",
    "    denominator = int(input('Enter a denominator: '))\n",
    "    res = numerator / denominator\n",
    "    print(f'Result is {res}')\n",
    "\n",
    "except ZeroDivisionError:\n",
    "    print('Error: Division by zero is not allowed.')"
   ]
  },
  {
   "cell_type": "markdown",
   "metadata": {},
   "source": [
    "##### Q9. Write a Python program that prompts the user to input an integer and raises a `ValueError` exception if the <br> input is not a valid integer?"
   ]
  },
  {
   "cell_type": "code",
   "execution_count": 47,
   "metadata": {},
   "outputs": [
    {
     "name": "stdout",
     "output_type": "stream",
     "text": [
      "ValueError: The input is not a valid integer. Please enter a number (e.g., 1, 2, 3).\n"
     ]
    }
   ],
   "source": [
    "try:\n",
    "    # Prompt user to input an integer\n",
    "    user_input = input(\"Enter an integer: \")\n",
    "\n",
    "    # Try to convert the input to an integer\n",
    "    user_number = int(user_input)\n",
    "\n",
    "    print(f\"You entered a valid integer: {user_number}\")\n",
    "\n",
    "except ValueError:\n",
    "    # Raise a ValueError if the input is not a valid integer\n",
    "    print(\"ValueError: The input is not a valid integer. Please enter a number (e.g., 1, 2, 3).\")\n"
   ]
  },
  {
   "cell_type": "code",
   "execution_count": 51,
   "metadata": {},
   "outputs": [
    {
     "name": "stdout",
     "output_type": "stream",
     "text": [
      "You entered a valid integer: 3.\n"
     ]
    }
   ],
   "source": [
    "try:\n",
    "    # Prompt user to input an integer\n",
    "    user_input = int(input(\"Enter an integer: \"))\n",
    "\n",
    "    if user_input is str:\n",
    "        raise ValueError()\n",
    "    else:\n",
    "        print(f\"You entered a valid integer: {user_input}.\")\n",
    "\n",
    "except ValueError:\n",
    "    # Raise a ValueError if the input is not a valid integer\n",
    "    print(\"ValueError: The input is not a valid integer. Please enter a number (e.g., 1, 2, 3).\")"
   ]
  },
  {
   "cell_type": "markdown",
   "metadata": {},
   "source": [
    "##### Q10. Write a Python program that opens a file and handles a FileNotFoundError exception if the file does not exist?"
   ]
  },
  {
   "cell_type": "code",
   "execution_count": 5,
   "metadata": {},
   "outputs": [
    {
     "name": "stdout",
     "output_type": "stream",
     "text": [
      "Error [Errno 2] No such file or directory: 'Data/_python.txt'\n"
     ]
    }
   ],
   "source": [
    "try:\n",
    "    with open('Data/_python.txt', 'r') as file:\n",
    "        context = file.read()\n",
    "        print(context)\n",
    "        file.closed\n",
    "\n",
    "except FileNotFoundError as e:\n",
    "    print(f'Error {e}')"
   ]
  },
  {
   "cell_type": "code",
   "execution_count": null,
   "metadata": {},
   "outputs": [],
   "source": []
  }
 ],
 "metadata": {
  "kernelspec": {
   "display_name": "Python 3",
   "language": "python",
   "name": "python3"
  },
  "language_info": {
   "codemirror_mode": {
    "name": "ipython",
    "version": 3
   },
   "file_extension": ".py",
   "mimetype": "text/x-python",
   "name": "python",
   "nbconvert_exporter": "python",
   "pygments_lexer": "ipython3",
   "version": "3.12.4"
  }
 },
 "nbformat": 4,
 "nbformat_minor": 2
}
