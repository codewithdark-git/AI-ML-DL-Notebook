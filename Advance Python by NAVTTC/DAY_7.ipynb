{
 "cells": [
  {
   "cell_type": "markdown",
   "metadata": {},
   "source": [
    "#### High Order Function `Map, Filter, Reduce, Any, all` with lambda and regular function"
   ]
  },
  {
   "cell_type": "code",
   "execution_count": 3,
   "metadata": {},
   "outputs": [
    {
     "name": "stdout",
     "output_type": "stream",
     "text": [
      "30\n",
      "18\n",
      "25\n"
     ]
    }
   ],
   "source": [
    "def return_sum(func, lit):\n",
    "    results = 0\n",
    "\n",
    "    for item in lit:\n",
    "        if func(item):\n",
    "            results = results + item\n",
    "        \n",
    "    return results\n",
    "\n",
    "list_ = [1, 2, 3, 4, 5, 6, 7, 8, 9, 10]\n",
    "\n",
    "x = lambda i: i % 2 == 0\n",
    "y = lambda i: i % 3 == 0\n",
    "z = lambda i: i % 2 != 0\n",
    "\n",
    "print(return_sum(x, list_))\n",
    "print(return_sum(y, list_))\n",
    "print(return_sum(z, list_))\n"
   ]
  },
  {
   "cell_type": "code",
   "execution_count": 36,
   "metadata": {},
   "outputs": [
    {
     "name": "stdout",
     "output_type": "stream",
     "text": [
      "John\tALi\n",
      "Alice\tkhan\n"
     ]
    }
   ],
   "source": [
    "a = [\n",
    "    {'name': 'John', 'Father': 'ALi', 'age': 25},\n",
    "    {'name': 'Alice', 'Father': 'khan', 'age': 30}\n",
    "    ]\n",
    "\n",
    "for i in range(len(a)):\n",
    "    print(a[i]['name'], end='\\t')\n",
    "    print(a[i]['Father'])\n",
    "\n"
   ]
  },
  {
   "cell_type": "code",
   "execution_count": 33,
   "metadata": {},
   "outputs": [
    {
     "data": {
      "text/plain": [
       "[['John', 'ALi', 25], ['Alice', 'khan', 30]]"
      ]
     },
     "execution_count": 33,
     "metadata": {},
     "output_type": "execute_result"
    }
   ],
   "source": [
    "b = list(map(lambda a: [i for i in a.values()] , a))\n",
    "\n",
    "b\n"
   ]
  },
  {
   "cell_type": "code",
   "execution_count": 1,
   "metadata": {},
   "outputs": [
    {
     "name": "stdout",
     "output_type": "stream",
     "text": [
      "[2, 4, 6, 8, 10]\n"
     ]
    }
   ],
   "source": [
    "numbers = [1, 2, 3, 4, 5]\n",
    "doubled = list(map(lambda x: x * 2, numbers))\n",
    "print(doubled)"
   ]
  },
  {
   "cell_type": "code",
   "execution_count": 2,
   "metadata": {},
   "outputs": [
    {
     "data": {
      "text/plain": [
       "['odd', 'even', 'odd', 'even', 'odd']"
      ]
     },
     "execution_count": 2,
     "metadata": {},
     "output_type": "execute_result"
    }
   ],
   "source": [
    "even_num = list(map(lambda x: ('even') if x % 2 == 0 else ('odd') , numbers))\n",
    "even_num"
   ]
  },
  {
   "cell_type": "code",
   "execution_count": 3,
   "metadata": {},
   "outputs": [
    {
     "data": {
      "text/plain": [
       "Counter({'Child': 9, 'old': 6, 'Adult': 4, 'Young': 2})"
      ]
     },
     "execution_count": 3,
     "metadata": {},
     "output_type": "execute_result"
    }
   ],
   "source": [
    "from collections import Counter\n",
    "age = [23, 45, 67, 89, 90, 12, 34, 56, 78, 90, 10, 11, 12, 13, 14, 15, 16, 17, 18, 19, 20]\n",
    "filter_ = list(map(lambda x: 'Child' if x < 18 else \n",
    "                   'Adult' if x >= 18 and x <= 30 else \n",
    "                   'Young' if x > 30 and x <= 45 else 'old', age))\n",
    "\n",
    "tag = Counter(filter_)\n",
    "tag"
   ]
  },
  {
   "cell_type": "code",
   "execution_count": 15,
   "metadata": {},
   "outputs": [
    {
     "data": {
      "text/plain": [
       "['', 'mango', 'orange', '']"
      ]
     },
     "execution_count": 15,
     "metadata": {},
     "output_type": "execute_result"
    }
   ],
   "source": [
    "furit = ['apple', 'mango', 'orange', 'banana']\n",
    "\n",
    "furit_ = list(map(lambda x : x  if 'g' in x else '', furit))\n",
    "furit_"
   ]
  },
  {
   "cell_type": "code",
   "execution_count": 22,
   "metadata": {},
   "outputs": [
    {
     "name": "stdout",
     "output_type": "stream",
     "text": [
      "[(1, 4), (2, 5), (3, 6)]\n"
     ]
    }
   ],
   "source": [
    "a = [1, 2, 3]\n",
    "b = [4, 5, 6]\n",
    "summed = list(map(lambda x, y: (x, y), a, b))\n",
    "print(summed)\n"
   ]
  },
  {
   "cell_type": "code",
   "execution_count": 23,
   "metadata": {},
   "outputs": [
    {
     "data": {
      "text/plain": [
       "['mango', 'orange']"
      ]
     },
     "execution_count": 23,
     "metadata": {},
     "output_type": "execute_result"
    }
   ],
   "source": [
    "furit = ['apple', 'mango', 'orange', 'banana']\n",
    "\n",
    "furit_ = list(filter(lambda x : x  if 'g' in x else '', furit))\n",
    "furit_"
   ]
  },
  {
   "cell_type": "code",
   "execution_count": 24,
   "metadata": {},
   "outputs": [
    {
     "data": {
      "text/plain": [
       "[12, 10, 11, 12, 13, 14, 15, 16, 17]"
      ]
     },
     "execution_count": 24,
     "metadata": {},
     "output_type": "execute_result"
    }
   ],
   "source": [
    "from collections import Counter\n",
    "age = [23, 45, 67, 89, 90, 12, 34, 56, 78, 90, 10, 11, 12, 13, 14, 15, 16, 17, 18, 19, 20]\n",
    "filter_ = list(filter(lambda x:x if x < 18 else \"\", age))\n",
    "\n",
    "# tag = Counter(filter_)\n",
    "filter_"
   ]
  },
  {
   "cell_type": "code",
   "execution_count": 25,
   "metadata": {},
   "outputs": [
    {
     "name": "stdout",
     "output_type": "stream",
     "text": [
      "[2, 4, 6]\n"
     ]
    }
   ],
   "source": [
    "numbers = [1, 2, 3, 4, 5, 6]\n",
    "evens = list(filter(lambda x: x % 2 == 0, numbers))\n",
    "print(evens)\n"
   ]
  },
  {
   "cell_type": "code",
   "execution_count": 26,
   "metadata": {},
   "outputs": [
    {
     "name": "stdout",
     "output_type": "stream",
     "text": [
      "24\n"
     ]
    }
   ],
   "source": [
    "from functools import reduce\n",
    "\n",
    "numbers = [1, 2, 3, 4]\n",
    "product = reduce(lambda x, y: x * y, numbers)\n",
    "print(product)\n"
   ]
  },
  {
   "cell_type": "code",
   "execution_count": 36,
   "metadata": {},
   "outputs": [
    {
     "name": "stdout",
     "output_type": "stream",
     "text": [
      "[0, 1, 4, 5, 7, 9]\n"
     ]
    }
   ],
   "source": [
    "tuples = [1, 4, 5, 7, 9, 0]\n",
    "sorted_tuples = sorted(tuples, key=lambda x: x)\n",
    "print(sorted_tuples)"
   ]
  },
  {
   "cell_type": "code",
   "execution_count": 28,
   "metadata": {},
   "outputs": [
    {
     "name": "stdout",
     "output_type": "stream",
     "text": [
      "True\n"
     ]
    }
   ],
   "source": [
    "numbers = [1, 2, 3, 4, 5]\n",
    "any_greater_than_4 = any(map(lambda x: x % 2 == 0, numbers))\n",
    "print(any_greater_than_4)\n"
   ]
  },
  {
   "cell_type": "code",
   "execution_count": 29,
   "metadata": {},
   "outputs": [
    {
     "name": "stdout",
     "output_type": "stream",
     "text": [
      "True\n"
     ]
    }
   ],
   "source": [
    "all_greater_than_0 = all(map(lambda x: x > 0, numbers))\n",
    "print(all_greater_than_0)\n"
   ]
  }
 ],
 "metadata": {
  "kernelspec": {
   "display_name": "Python 3",
   "language": "python",
   "name": "python3"
  },
  "language_info": {
   "codemirror_mode": {
    "name": "ipython",
    "version": 3
   },
   "file_extension": ".py",
   "mimetype": "text/x-python",
   "name": "python",
   "nbconvert_exporter": "python",
   "pygments_lexer": "ipython3",
   "version": "3.12.4"
  }
 },
 "nbformat": 4,
 "nbformat_minor": 2
}
