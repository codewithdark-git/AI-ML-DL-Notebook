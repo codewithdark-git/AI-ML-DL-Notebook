{
 "cells": [
  {
   "cell_type": "code",
   "execution_count": 14,
   "metadata": {},
   "outputs": [],
   "source": [
    "details = {'Ali': 3.8, 'Mohammad': 3.7, 'Zain': 2.9, 'khan': 2.0, 'Sadaf': 1.5}\n",
    "details.update({'sadaf': 3.9})\n",
    "\n",
    "details_gpa = {key: 'A+' if value >= 3.8 else 'A' if value >= 3.5 else 'B' if value >= 3.0 else 'C' if value >= 2.8 else 'fail' for key, value in details.items()}\n"
   ]
  },
  {
   "cell_type": "code",
   "execution_count": 8,
   "metadata": {},
   "outputs": [
    {
     "data": {
      "text/plain": [
       "{1: {1: 1, 2: 2, 3: 3, 4: 4, 5: 5, 6: 6, 7: 7, 8: 8, 9: 9, 10: 10},\n",
       " 2: {1: 2, 2: 4, 3: 6, 4: 8, 5: 10, 6: 12, 7: 14, 8: 16, 9: 18, 10: 20},\n",
       " 3: {1: 3, 2: 6, 3: 9, 4: 12, 5: 15, 6: 18, 7: 21, 8: 24, 9: 27, 10: 30},\n",
       " 4: {1: 4, 2: 8, 3: 12, 4: 16, 5: 20, 6: 24, 7: 28, 8: 32, 9: 36, 10: 40},\n",
       " 5: {1: 5, 2: 10, 3: 15, 4: 20, 5: 25, 6: 30, 7: 35, 8: 40, 9: 45, 10: 50}}"
      ]
     },
     "execution_count": 8,
     "metadata": {},
     "output_type": "execute_result"
    }
   ],
   "source": [
    "multiple = {\n",
    "    k: {v: v*k for v in range(1, 11)} for k in range(1,6)\n",
    "}\n",
    "\n",
    "multiple"
   ]
  },
  {
   "cell_type": "markdown",
   "metadata": {},
   "source": [
    "#### eunmerate function "
   ]
  },
  {
   "cell_type": "code",
   "execution_count": 3,
   "metadata": {},
   "outputs": [
    {
     "name": "stdout",
     "output_type": "stream",
     "text": [
      "1. Ali - 3.8\n",
      "2. Mohammad - 3.7\n",
      "3. Khan - 2.0\n",
      "4. Sadaf - 1.5\n"
     ]
    }
   ],
   "source": [
    "dic_name = {'Ali': 3.8, 'Mohammad': 3.7, 'Khan': 2.0, 'Sadaf': 1.5}\n",
    "\n",
    "for i , (key, value) in enumerate(dic_name.items(), start=1):\n",
    "    print(f'{i}. {key} - {value}')"
   ]
  },
  {
   "cell_type": "code",
   "execution_count": null,
   "metadata": {},
   "outputs": [],
   "source": []
  }
 ],
 "metadata": {
  "kernelspec": {
   "display_name": "Python 3",
   "language": "python",
   "name": "python3"
  },
  "language_info": {
   "codemirror_mode": {
    "name": "ipython",
    "version": 3
   },
   "file_extension": ".py",
   "mimetype": "text/x-python",
   "name": "python",
   "nbconvert_exporter": "python",
   "pygments_lexer": "ipython3",
   "version": "3.12.4"
  }
 },
 "nbformat": 4,
 "nbformat_minor": 2
}
