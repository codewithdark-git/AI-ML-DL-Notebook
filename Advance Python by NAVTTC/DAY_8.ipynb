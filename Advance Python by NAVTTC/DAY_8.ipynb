{
 "cells": [
  {
   "cell_type": "markdown",
   "metadata": {},
   "source": [
    "#### Interation, Interable, Intertor"
   ]
  },
  {
   "cell_type": "code",
   "execution_count": 1,
   "metadata": {},
   "outputs": [
    {
     "name": "stdout",
     "output_type": "stream",
     "text": [
      "1\n",
      "2\n",
      "3\n",
      "4\n",
      "5\n"
     ]
    }
   ],
   "source": [
    "nums = [1, 2, 3, 4, 5]\n",
    "\n",
    "for items in nums:\n",
    "    print(items)"
   ]
  },
  {
   "cell_type": "markdown",
   "metadata": {},
   "source": [
    "Every interator is interable, => eg `range object ` \n",
    "\n",
    "but not every iterable is interator. => eg `list, tuple, dict object`"
   ]
  },
  {
   "cell_type": "code",
   "execution_count": 1,
   "metadata": {},
   "outputs": [],
   "source": [
    "nums = [1, 2, 3, 4, 5]"
   ]
  },
  {
   "cell_type": "markdown",
   "metadata": {},
   "source": [
    "### 1. **Iterable**\n",
    "An **Iterable** is an object capable of returning its members one at a time. Any object that can be looped over or iterated through is an iterable. Examples include lists, tuples, strings, dictionaries, and sets.\n",
    "\n",
    "#### How to Identify an Iterable:\n",
    "- An object is considered iterable if it implements the `__iter__()` method.\n",
    "- The `__iter__()` method returns an iterator.\n",
    "\n",
    "**Example:**"
   ]
  },
  {
   "cell_type": "code",
   "execution_count": 2,
   "metadata": {},
   "outputs": [
    {
     "name": "stdout",
     "output_type": "stream",
     "text": [
      "True\n",
      "True\n",
      "True\n"
     ]
    }
   ],
   "source": [
    "my_list = [1, 2, 3, 4]\n",
    "my_string = \"Hello\"\n",
    "my_dict = {'a': 1, 'b': 2}\n",
    "\n",
    "# Checking if they are iterable\n",
    "print(hasattr(my_list, '__iter__'))  # Output: True\n",
    "print(hasattr(my_string, '__iter__'))  # Output: True\n",
    "print(hasattr(my_dict, '__iter__'))  # Output: True"
   ]
  },
  {
   "cell_type": "markdown",
   "metadata": {},
   "source": [
    "\n",
    "### 2. **Iterator**\n",
    "An **Iterator** is an object that represents a stream of data. It's an object that implements the `__next__()` method, which returns successive items from the collection. Once all items have been returned, `__next__()` raises a `StopIteration` exception.\n",
    "\n",
    "#### How to Identify an Iterator:\n",
    "- An object is an iterator if it implements both `__iter__()` and `__next__()` methods.\n",
    "- The `__iter__()` method should return the iterator object itself.\n",
    "\n",
    "**Example:**"
   ]
  },
  {
   "cell_type": "code",
   "execution_count": 3,
   "metadata": {},
   "outputs": [
    {
     "name": "stdout",
     "output_type": "stream",
     "text": [
      "10\n",
      "20\n",
      "30\n",
      "40\n"
     ]
    }
   ],
   "source": [
    "my_list = [10, 20, 30, 40]\n",
    "\n",
    "# Getting an iterator from the iterable\n",
    "my_iterator = iter(my_list)\n",
    "\n",
    "# Using the iterator\n",
    "print(next(my_iterator))  # Output: 10\n",
    "print(next(my_iterator))  # Output: 20\n",
    "print(next(my_iterator))  # Output: 30\n",
    "print(next(my_iterator))  # Output: 40\n",
    "# If we try to call next() again, it will raise a StopIteration exception\n",
    "# print(next(my_iterator))  # Uncommenting this line will raise StopIteration"
   ]
  },
  {
   "cell_type": "markdown",
   "metadata": {},
   "source": [
    "### 3. **Iteration**\n",
    "**Iteration** is the process of looping through the items of an iterable using an iterator. In Python, iteration is commonly done using a `for` loop, which implicitly calls the `__iter__()` method on the iterable to get an iterator and then uses the iterator’s `__next__()` method to retrieve elements.\n",
    "\n",
    "**Example with `for` loop:**"
   ]
  },
  {
   "cell_type": "code",
   "execution_count": 4,
   "metadata": {},
   "outputs": [
    {
     "name": "stdout",
     "output_type": "stream",
     "text": [
      "100\n",
      "200\n",
      "300\n"
     ]
    }
   ],
   "source": [
    "my_list = [100, 200, 300]\n",
    "\n",
    "# The for loop internally creates an iterator and iterates over it\n",
    "for item in my_list:\n",
    "    print(item)"
   ]
  },
  {
   "cell_type": "markdown",
   "metadata": {},
   "source": [
    "- In this example, the `for` loop automatically handles the creation of an iterator and calls the `__next__()` method until the iterator is exhausted."
   ]
  },
  {
   "cell_type": "markdown",
   "metadata": {},
   "source": [
    "### 4. **Creating a Custom Iterable**\n",
    "You can create your custom iterable by defining a class that implements the `__iter__()` and `__next__()` methods.\n",
    "\n",
    "**Example of a Custom Iterable:**"
   ]
  },
  {
   "cell_type": "code",
   "execution_count": 7,
   "metadata": {},
   "outputs": [
    {
     "name": "stdout",
     "output_type": "stream",
     "text": [
      "5\n",
      "4\n",
      "3\n",
      "2\n",
      "1\n"
     ]
    }
   ],
   "source": [
    "class CountDown:\n",
    "    def __init__(self, start):\n",
    "        self.current = start\n",
    "\n",
    "    def __iter__(self):\n",
    "        return self\n",
    "\n",
    "    def __next__(self):\n",
    "        if self.current <= 0:\n",
    "            raise StopIteration\n",
    "        else:\n",
    "            self.current -= 1\n",
    "            return self.current + 1\n",
    "\n",
    "# Using the custom iterable\n",
    "countdown = CountDown(5)\n",
    "\n",
    "for number in countdown:\n",
    "    print(number)"
   ]
  },
  {
   "cell_type": "markdown",
   "metadata": {},
   "source": [
    "The `iter()` function is used to create an iterator object from an iterable. It is often used when you need to manually control the iteration.\n",
    "\n",
    "**Example:**"
   ]
  },
  {
   "cell_type": "code",
   "execution_count": 8,
   "metadata": {},
   "outputs": [
    {
     "name": "stdout",
     "output_type": "stream",
     "text": [
      "a\n",
      "b\n",
      "c\n"
     ]
    }
   ],
   "source": [
    "my_list = ['a', 'b', 'c']\n",
    "iterator = iter(my_list)\n",
    "\n",
    "# Manual iteration\n",
    "print(next(iterator))  # Output: 'a'\n",
    "print(next(iterator))  # Output: 'b'\n",
    "print(next(iterator))  # Output: 'c'"
   ]
  },
  {
   "cell_type": "markdown",
   "metadata": {},
   "source": [
    "### 6. **The `next()` Function**\n",
    "The `next()` function is used to manually fetch the next item from an iterator. It raises a `StopIteration` exception when there are no more items.\n",
    "\n",
    "**Example:**"
   ]
  },
  {
   "cell_type": "code",
   "execution_count": 9,
   "metadata": {},
   "outputs": [
    {
     "name": "stdout",
     "output_type": "stream",
     "text": [
      "10\n",
      "20\n",
      "30\n"
     ]
    }
   ],
   "source": [
    "my_tuple = (10, 20, 30)\n",
    "iterator = iter(my_tuple)\n",
    "\n",
    "# Fetching items manually\n",
    "print(next(iterator))  # Output: 10\n",
    "print(next(iterator))  # Output: 20\n",
    "print(next(iterator))  # Output: 30"
   ]
  },
  {
   "cell_type": "markdown",
   "metadata": {},
   "source": [
    "\n",
    "### Summary of Key Points:\n",
    "- **Iterable**: An object that can return an iterator (implements `__iter__()`).\n",
    "- **Iterator**: An object that can keep state and produce the next value (implements `__next__()` and `__iter__()`).\n",
    "- **Iteration**: The process of looping through the elements of an iterable using an iterator.\n",
    "  \n",
    "By using iterators and iterables, Python allows you to handle sequences and streams of data efficiently, making it easier to work with large datasets or create custom looping mechanisms.\n"
   ]
  }
 ],
 "metadata": {
  "kernelspec": {
   "display_name": "Python 3",
   "language": "python",
   "name": "python3"
  },
  "language_info": {
   "codemirror_mode": {
    "name": "ipython",
    "version": 3
   },
   "file_extension": ".py",
   "mimetype": "text/x-python",
   "name": "python",
   "nbconvert_exporter": "python",
   "pygments_lexer": "ipython3",
   "version": "3.12.4"
  }
 },
 "nbformat": 4,
 "nbformat_minor": 2
}
