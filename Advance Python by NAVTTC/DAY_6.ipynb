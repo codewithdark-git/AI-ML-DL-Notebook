{
 "cells": [
  {
   "cell_type": "markdown",
   "metadata": {},
   "source": [
    "#### LAmbda Function"
   ]
  },
  {
   "cell_type": "code",
   "execution_count": 1,
   "metadata": {},
   "outputs": [
    {
     "name": "stdout",
     "output_type": "stream",
     "text": [
      "Hello, ALI!\n"
     ]
    }
   ],
   "source": [
    "greet = lambda name : print(f'Hello, {name}!')\n",
    "\n",
    "greet(\"ALI\")"
   ]
  },
  {
   "cell_type": "code",
   "execution_count": 2,
   "metadata": {},
   "outputs": [
    {
     "data": {
      "text/plain": [
       "(25, 125)"
      ]
     },
     "execution_count": 2,
     "metadata": {},
     "output_type": "execute_result"
    }
   ],
   "source": [
    "sq = lambda x: x**2\n",
    "cb = lambda x: x**3\n",
    "\n",
    "result = sq(5)\n",
    "res = cb(5)\n",
    "\n",
    "result , res\n"
   ]
  },
  {
   "cell_type": "code",
   "execution_count": 3,
   "metadata": {},
   "outputs": [
    {
     "data": {
      "text/plain": [
       "3.0"
      ]
     },
     "execution_count": 3,
     "metadata": {},
     "output_type": "execute_result"
    }
   ],
   "source": [
    "import math\n",
    "\n",
    "sq = lambda x: math.sqrt(x)\n",
    "\n",
    "result = sq(9)\n",
    "result"
   ]
  },
  {
   "cell_type": "code",
   "execution_count": 4,
   "metadata": {},
   "outputs": [
    {
     "data": {
      "text/plain": [
       "[4, 16, 36, 49, 64, 81, 100]"
      ]
     },
     "execution_count": 4,
     "metadata": {},
     "output_type": "execute_result"
    }
   ],
   "source": [
    "sq = [2, 4, 6, 7, 8, 9, 10]\n",
    "\n",
    "sq_lam = lambda x: [x**2 for x in sq]\n",
    "\n",
    "res = sq_lam(sq)\n",
    "res\n",
    "\n"
   ]
  },
  {
   "cell_type": "code",
   "execution_count": 5,
   "metadata": {},
   "outputs": [
    {
     "data": {
      "text/plain": [
       "[2, 4, 6, 8, 10, 1, 3, 5, 7, 9]"
      ]
     },
     "execution_count": 5,
     "metadata": {},
     "output_type": "execute_result"
    }
   ],
   "source": [
    "fis_1 = [2, 4, 6, 8, 10]\n",
    "se_2 = [1, 3, 5, 7, 9]\n",
    "\n",
    "sum_lam = lambda x, y: x + y\n",
    "\n",
    "res = sum_lam(fis_1, se_2)\n",
    "res"
   ]
  },
  {
   "cell_type": "code",
   "execution_count": 6,
   "metadata": {},
   "outputs": [
    {
     "data": {
      "text/plain": [
       "[2, 4, 6, 8, 10, 1, 3, 5, 7, 9]"
      ]
     },
     "execution_count": 6,
     "metadata": {},
     "output_type": "execute_result"
    }
   ],
   "source": [
    "fis_1 = [2, 4, 6, 8, 10]\n",
    "sec = [1, 3, 5, 7, 9]\n",
    "\n",
    "fis_1.extend(sec)\n",
    "\n",
    "res = fis_1\n",
    "res"
   ]
  },
  {
   "cell_type": "code",
   "execution_count": 7,
   "metadata": {},
   "outputs": [
    {
     "data": {
      "text/plain": [
       "[3, 7, 11, 15, 19]"
      ]
     },
     "execution_count": 7,
     "metadata": {},
     "output_type": "execute_result"
    }
   ],
   "source": [
    "fis_1 = [2, 4, 6, 8, 10]\n",
    "se_2 = [1, 3, 5, 7, 9]\n",
    "\n",
    "sum_lam = lambda x, y: [i+j for i, j in zip(x, y)]\n",
    "\n",
    "res = sum_lam(fis_1, se_2)\n",
    "res"
   ]
  },
  {
   "cell_type": "code",
   "execution_count": 8,
   "metadata": {},
   "outputs": [
    {
     "name": "stdout",
     "output_type": "stream",
     "text": [
      "<class 'int'>\n",
      "Sum: 20, \n"
     ]
    }
   ],
   "source": [
    "add_list = [2, 4, 6, 8]\n",
    "\n",
    "add_list_item = lambda x : sum(x)\n",
    "\n",
    "\n",
    "res = add_list_item(add_list)\n",
    "print(type(res))\n",
    "print(f'Sum: {res}, ')\n"
   ]
  },
  {
   "cell_type": "code",
   "execution_count": 9,
   "metadata": {},
   "outputs": [
    {
     "name": "stdout",
     "output_type": "stream",
     "text": [
      "<class 'list'>\n"
     ]
    },
    {
     "data": {
      "text/plain": [
       "[2, 4, 6, 8, 10]"
      ]
     },
     "execution_count": 9,
     "metadata": {},
     "output_type": "execute_result"
    }
   ],
   "source": [
    "add_list = [1, 2, 3, 4, 5, 6, 7, 8, 9, 10]\n",
    "\n",
    "even_num = lambda x : [x for x in add_list if x%2==0]\n",
    "\n",
    "res = even_num(add_list)\n",
    "print(type(res))\n",
    "\n",
    "res"
   ]
  },
  {
   "cell_type": "code",
   "execution_count": 10,
   "metadata": {},
   "outputs": [
    {
     "data": {
      "text/plain": [
       "[(1, 'odd'),\n",
       " (2, 'even'),\n",
       " (3, 'odd'),\n",
       " (4, 'even'),\n",
       " (5, 'odd'),\n",
       " (6, 'even'),\n",
       " (7, 'odd')]"
      ]
     },
     "execution_count": 10,
     "metadata": {},
     "output_type": "execute_result"
    }
   ],
   "source": [
    "lin = [1, 2, 3, 4, 5, 6, 7]\n",
    "\n",
    "even_odd = lambda x: [(i, 'even') if i % 2 == 0 else (i, 'odd') for i in x]\n",
    "\n",
    "res = even_odd(lin)\n",
    "res"
   ]
  },
  {
   "cell_type": "code",
   "execution_count": null,
   "metadata": {},
   "outputs": [],
   "source": [
    "table = lambda x: [(f'{x}x{i}={x*i}') for i in range(11)]\n",
    "table_ = table(5)\n",
    "table_"
   ]
  },
  {
   "cell_type": "code",
   "execution_count": 11,
   "metadata": {},
   "outputs": [
    {
     "data": {
      "text/plain": [
       "10"
      ]
     },
     "execution_count": 11,
     "metadata": {},
     "output_type": "execute_result"
    }
   ],
   "source": [
    "lin = [1, 2, 3, 4, 5, 6, 7, 8, 9, 10]\n",
    "\n",
    "max_num = lambda x: max(x)\n",
    "\n",
    "res = max_num(lin)\n",
    "res"
   ]
  },
  {
   "cell_type": "code",
   "execution_count": 1,
   "metadata": {},
   "outputs": [
    {
     "data": {
      "text/plain": [
       "'theisarawteext'"
      ]
     },
     "execution_count": 1,
     "metadata": {},
     "output_type": "execute_result"
    }
   ],
   "source": [
    "text = 'the>is*a(raw)teext'\n",
    "raw_sym = ['*','&',':',';','<','>','?',')','(']\n",
    "\n",
    "clean_text = lambda x: ''.join([i for i in text  if i not in raw_sym])\n",
    "\n",
    "res = clean_text(text)\n",
    "res"
   ]
  },
  {
   "cell_type": "code",
   "execution_count": 2,
   "metadata": {},
   "outputs": [
    {
     "data": {
      "text/plain": [
       "4"
      ]
     },
     "execution_count": 2,
     "metadata": {},
     "output_type": "execute_result"
    }
   ],
   "source": [
    "list_num :list[int] = [1, 2, 3, 4, 5, 6, 7, 8, 9, 10] \n",
    "sq = lambda x: x**2 #[x**2 for x in list_num]\n",
    "res = sq(2)\n",
    "\n",
    "res\n"
   ]
  },
  {
   "cell_type": "code",
   "execution_count": 12,
   "metadata": {},
   "outputs": [
    {
     "data": {
      "text/plain": [
       "15"
      ]
     },
     "execution_count": 12,
     "metadata": {},
     "output_type": "execute_result"
    }
   ],
   "source": [
    "str_ = 'The is a string'\n",
    "len_ = lambda x: len(x)\n",
    "res = len_(str_)\n",
    "res"
   ]
  },
  {
   "cell_type": "code",
   "execution_count": 5,
   "metadata": {},
   "outputs": [
    {
     "data": {
      "text/plain": [
       "24"
      ]
     },
     "execution_count": 5,
     "metadata": {},
     "output_type": "execute_result"
    }
   ],
   "source": [
    "num_: list[int] = [1, 2]\n",
    "num__: list[int] = [1, 2]\n",
    "# sum_ = lambda x, y: [x+y for x,y in (num_, num__)] # result 1 + 2 = 3, 2 + 1 = #\n",
    "# sum_ = lambda x, y: [x+y for x in num_ for y in num__] # result 1 + 1 = 2, 2 + 1 = 3, 1 + 2 = 3, 2 + 2 = 4\n",
    "# sum_ = lambda x, y: x+y # just concatenate list\n",
    "# sum_ = lambda x, y: sum(x) + sum(y) # sum of all elements of the lists 1 + 2 + 1 + 2 = 6\n",
    "sum_ = lambda x, y: x + y # sum of all elements of the lists 1 + 2 + 1 + 2 = 6\n",
    "# sum_  = lambda x: sum(x) \n",
    "\n",
    "res: int = sum_(12 , 12)\n",
    "res\n",
    "\n"
   ]
  },
  {
   "cell_type": "code",
   "execution_count": 14,
   "metadata": {},
   "outputs": [
    {
     "data": {
      "text/plain": [
       "['THIS', 'IS', 'A', 'SIMPLE', 'TEXT']"
      ]
     },
     "execution_count": 14,
     "metadata": {},
     "output_type": "execute_result"
    }
   ],
   "source": [
    "\n",
    "from typing import Any\n",
    "\n",
    "str_: list[str] = [\"this\", \"is\", \"a\", \"simple\", \"text\"]\n",
    "\n",
    "upper_str: list[Any] = list(map(lambda x: str.upper(x), str_))\n",
    "\n",
    "upper_str\n",
    "\n"
   ]
  },
  {
   "cell_type": "code",
   "execution_count": 15,
   "metadata": {},
   "outputs": [
    {
     "data": {
      "text/plain": [
       "[1, 4, 9, 16, 25, 36, 49, 64, 81, 100]"
      ]
     },
     "execution_count": 15,
     "metadata": {},
     "output_type": "execute_result"
    }
   ],
   "source": [
    "sq_list_: list[Any] = list(map(lambda x: x**2, list_num))\n",
    "\n",
    "sq_list_"
   ]
  },
  {
   "cell_type": "code",
   "execution_count": 16,
   "metadata": {},
   "outputs": [
    {
     "data": {
      "text/plain": [
       "['A', 's', 'B', 'O', 'A', 'D', 'O']"
      ]
     },
     "execution_count": 16,
     "metadata": {},
     "output_type": "execute_result"
    }
   ],
   "source": [
    "list_str :list[str] = ['Apple', 'str', 'Banana', 'Orange', 'Animal', 'Dog' , 'OK']\n",
    "first_word_ :list[Any] = list(map(lambda x: x[0], list_str))\n",
    "\n",
    "first_word_"
   ]
  },
  {
   "cell_type": "code",
   "execution_count": 17,
   "metadata": {},
   "outputs": [
    {
     "data": {
      "text/plain": [
       "55"
      ]
     },
     "execution_count": 17,
     "metadata": {},
     "output_type": "execute_result"
    }
   ],
   "source": [
    "from functools import reduce\n",
    "\n",
    "sum_list :list[Any] = reduce(lambda x,y: x+y, list_num)\n",
    "sum_list\n"
   ]
  },
  {
   "cell_type": "code",
   "execution_count": 18,
   "metadata": {},
   "outputs": [
    {
     "data": {
      "text/plain": [
       "3628800"
      ]
     },
     "execution_count": 18,
     "metadata": {},
     "output_type": "execute_result"
    }
   ],
   "source": [
    "from functools import reduce\n",
    "\n",
    "sum_list :list[Any] = reduce(lambda x,y: x*y, list_num)\n",
    "sum_list"
   ]
  },
  {
   "cell_type": "code",
   "execution_count": 20,
   "metadata": {},
   "outputs": [
    {
     "data": {
      "text/plain": [
       "['This', 'is', 'a', 'python', 'code']"
      ]
     },
     "execution_count": 20,
     "metadata": {},
     "output_type": "execute_result"
    }
   ],
   "source": [
    "from functools import reduce\n",
    "\n",
    "\n",
    "list_str_ :list[str] = ['This', 'is', 'a']\n",
    "sec_str :list[str] = ['python', 'code']\n",
    "\n",
    "sum_list :list[Any] = reduce(lambda x,y: x+y, (list_str_, sec_str))\n",
    "sum_list"
   ]
  },
  {
   "cell_type": "code",
   "execution_count": 21,
   "metadata": {},
   "outputs": [
    {
     "data": {
      "text/plain": [
       "[2, 4, 6, 8, 10]"
      ]
     },
     "execution_count": 21,
     "metadata": {},
     "output_type": "execute_result"
    }
   ],
   "source": [
    "even_list :list[Any] = list(filter(lambda x: x if x%2==0 else '', list_num))\n",
    "even_list"
   ]
  },
  {
   "cell_type": "code",
   "execution_count": 22,
   "metadata": {},
   "outputs": [
    {
     "data": {
      "text/plain": [
       "['Apple', 'Animal']"
      ]
     },
     "execution_count": 22,
     "metadata": {},
     "output_type": "execute_result"
    }
   ],
   "source": [
    "filter_list :list[Any] = list(filter(lambda x: x[0] in 'A', list_str))\n",
    "\n",
    "filter_list"
   ]
  },
  {
   "cell_type": "code",
   "execution_count": 49,
   "metadata": {},
   "outputs": [
    {
     "data": {
      "text/plain": [
       "['Banana', 'Orange', 'Animal', 'Apple', 'Dog']"
      ]
     },
     "execution_count": 49,
     "metadata": {},
     "output_type": "execute_result"
    }
   ],
   "source": [
    "sort_list :list[Any] = sorted(list_str, key=lambda x: len(x), reverse=True)\n",
    "\n",
    "sort_list"
   ]
  },
  {
   "cell_type": "code",
   "execution_count": 103,
   "metadata": {},
   "outputs": [
    {
     "data": {
      "text/plain": [
       "['Apple', 'Banana', 'Orange', 'Animal', 'Dog']"
      ]
     },
     "execution_count": 103,
     "metadata": {},
     "output_type": "execute_result"
    }
   ],
   "source": [
    "filter_by_vowel = list(filter(lambda x: [i for i in x if any(vowel in i.lower() for vowel in 'aeiou')], list_str))\n",
    "filter_by_vowel\n"
   ]
  },
  {
   "cell_type": "code",
   "execution_count": 23,
   "metadata": {},
   "outputs": [
    {
     "data": {
      "text/plain": [
       "[4, 5, 6, 7, 8, 9, 10]"
      ]
     },
     "execution_count": 23,
     "metadata": {},
     "output_type": "execute_result"
    }
   ],
   "source": [
    "greater_ = list(filter(lambda x: x > 3 , list_num))\n",
    "greater_"
   ]
  },
  {
   "cell_type": "code",
   "execution_count": 104,
   "metadata": {},
   "outputs": [
    {
     "name": "stdout",
     "output_type": "stream",
     "text": [
      "Apple\n",
      "Banana\n",
      "Orange\n",
      "Animal\n",
      "Dog\n"
     ]
    }
   ],
   "source": [
    "\n",
    "vowel = ['a', 'e', 'i', 'o', 'u']\n",
    "\n",
    "for i in list_str:\n",
    "    if any(vowel in i.lower() for vowel in vowel):\n",
    "        print(i)\n",
    "\n",
    "\n"
   ]
  },
  {
   "cell_type": "code",
   "execution_count": null,
   "metadata": {},
   "outputs": [],
   "source": []
  }
 ],
 "metadata": {
  "kernelspec": {
   "display_name": "Python 3",
   "language": "python",
   "name": "python3"
  },
  "language_info": {
   "codemirror_mode": {
    "name": "ipython",
    "version": 3
   },
   "file_extension": ".py",
   "mimetype": "text/x-python",
   "name": "python",
   "nbconvert_exporter": "python",
   "pygments_lexer": "ipython3",
   "version": "3.12.4"
  }
 },
 "nbformat": 4,
 "nbformat_minor": 2
}
