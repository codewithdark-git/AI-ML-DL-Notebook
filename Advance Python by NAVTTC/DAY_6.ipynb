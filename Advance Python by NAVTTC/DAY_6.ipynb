{
 "cells": [
  {
   "cell_type": "markdown",
   "metadata": {},
   "source": [
    "#### LAmbda Function"
   ]
  },
  {
   "cell_type": "code",
   "execution_count": 4,
   "metadata": {},
   "outputs": [
    {
     "name": "stdout",
     "output_type": "stream",
     "text": [
      "Hello, ALI!\n"
     ]
    }
   ],
   "source": [
    "greet = lambda name : print(f'Hello, {name}!')\n",
    "\n",
    "greet(\"ALI\")"
   ]
  },
  {
   "cell_type": "code",
   "execution_count": 5,
   "metadata": {},
   "outputs": [
    {
     "data": {
      "text/plain": [
       "25"
      ]
     },
     "execution_count": 5,
     "metadata": {},
     "output_type": "execute_result"
    }
   ],
   "source": [
    "sq = lambda x: x**2\n",
    "\n",
    "result = sq(5)\n",
    "result\n"
   ]
  },
  {
   "cell_type": "code",
   "execution_count": 12,
   "metadata": {},
   "outputs": [
    {
     "data": {
      "text/plain": [
       "125"
      ]
     },
     "execution_count": 12,
     "metadata": {},
     "output_type": "execute_result"
    }
   ],
   "source": [
    "sq = lambda x: x**3\n",
    "\n",
    "result = sq(5)\n",
    "result\n"
   ]
  },
  {
   "cell_type": "code",
   "execution_count": 6,
   "metadata": {},
   "outputs": [
    {
     "data": {
      "text/plain": [
       "3.0"
      ]
     },
     "execution_count": 6,
     "metadata": {},
     "output_type": "execute_result"
    }
   ],
   "source": [
    "import math\n",
    "\n",
    "sq = lambda x: math.sqrt(x)\n",
    "\n",
    "result = sq(9)\n",
    "result"
   ]
  },
  {
   "cell_type": "code",
   "execution_count": 13,
   "metadata": {},
   "outputs": [
    {
     "data": {
      "text/plain": [
       "[4, 16, 36, 49, 64, 81, 100]"
      ]
     },
     "execution_count": 13,
     "metadata": {},
     "output_type": "execute_result"
    }
   ],
   "source": [
    "sq = [2, 4, 6, 7, 8, 9, 10]\n",
    "\n",
    "sq_lam = lambda x: [x**2 for x in sq]\n",
    "\n",
    "res = sq_lam(sq)\n",
    "res\n",
    "\n"
   ]
  },
  {
   "cell_type": "code",
   "execution_count": 21,
   "metadata": {},
   "outputs": [
    {
     "data": {
      "text/plain": [
       "[2, 4, 6, 8, 10, 1, 3, 5, 7, 9]"
      ]
     },
     "execution_count": 21,
     "metadata": {},
     "output_type": "execute_result"
    }
   ],
   "source": [
    "fis_1 = [2, 4, 6, 8, 10]\n",
    "se_2 = [1, 3, 5, 7, 9]\n",
    "\n",
    "sum_lam = lambda x, y: x + y\n",
    "\n",
    "res = sum_lam(fis_1, se_2)\n",
    "res"
   ]
  },
  {
   "cell_type": "code",
   "execution_count": 26,
   "metadata": {},
   "outputs": [
    {
     "data": {
      "text/plain": [
       "[2, 4, 6, 8, 10, 1, 3, 5, 7, 9]"
      ]
     },
     "execution_count": 26,
     "metadata": {},
     "output_type": "execute_result"
    }
   ],
   "source": [
    "fis_1 = [2, 4, 6, 8, 10]\n",
    "sec = [1, 3, 5, 7, 9]\n",
    "\n",
    "fis_1.extend(sec)\n",
    "\n",
    "res = fis_1\n",
    "res"
   ]
  },
  {
   "cell_type": "code",
   "execution_count": 28,
   "metadata": {},
   "outputs": [
    {
     "data": {
      "text/plain": [
       "[3, 7, 11, 15, 19]"
      ]
     },
     "execution_count": 28,
     "metadata": {},
     "output_type": "execute_result"
    }
   ],
   "source": [
    "fis_1 = [2, 4, 6, 8, 10]\n",
    "se_2 = [1, 3, 5, 7, 9]\n",
    "\n",
    "sum_lam = lambda x, y: [i+j for i, j in zip(x, y)]\n",
    "\n",
    "res = sum_lam(fis_1, se_2)\n",
    "res"
   ]
  },
  {
   "cell_type": "code",
   "execution_count": 42,
   "metadata": {},
   "outputs": [
    {
     "name": "stdout",
     "output_type": "stream",
     "text": [
      "<class 'int'>\n",
      "Sum: 20, \n"
     ]
    }
   ],
   "source": [
    "add_list = [2, 4, 6, 8]\n",
    "\n",
    "add_list_item = lambda x : sum(x)\n",
    "\n",
    "\n",
    "res = add_list_item(add_list)\n",
    "print(type(res))\n",
    "print(f'Sum: {res}, ')\n"
   ]
  },
  {
   "cell_type": "code",
   "execution_count": 44,
   "metadata": {},
   "outputs": [
    {
     "name": "stdout",
     "output_type": "stream",
     "text": [
      "<class 'list'>\n"
     ]
    },
    {
     "data": {
      "text/plain": [
       "[2, 4, 6, 8]"
      ]
     },
     "execution_count": 44,
     "metadata": {},
     "output_type": "execute_result"
    }
   ],
   "source": [
    "add_list = [1, 2, 3, 4, 6, 8, 9 , 7, 3]\n",
    "\n",
    "even_num = lambda x : [x for x in add_list if x%2==0]\n",
    "\n",
    "res = even_num(add_list)\n",
    "print(type(res))\n",
    "\n",
    "res"
   ]
  }
 ],
 "metadata": {
  "kernelspec": {
   "display_name": "Python 3",
   "language": "python",
   "name": "python3"
  },
  "language_info": {
   "codemirror_mode": {
    "name": "ipython",
    "version": 3
   },
   "file_extension": ".py",
   "mimetype": "text/x-python",
   "name": "python",
   "nbconvert_exporter": "python",
   "pygments_lexer": "ipython3",
   "version": "3.12.4"
  }
 },
 "nbformat": 4,
 "nbformat_minor": 2
}
