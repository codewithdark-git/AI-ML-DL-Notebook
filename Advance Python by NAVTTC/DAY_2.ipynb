{
 "cells": [
  {
   "cell_type": "code",
   "execution_count": 4,
   "metadata": {},
   "outputs": [
    {
     "data": {
      "text/plain": [
       "{1: 'hi', 2: 'hello', 3: 'G'}"
      ]
     },
     "execution_count": 4,
     "metadata": {},
     "output_type": "execute_result"
    }
   ],
   "source": [
    "d1 = {1:'hi'}\n",
    "\n",
    "d1.update(([2,'hello'], [3, 'G']))\n",
    "\n",
    "d1"
   ]
  },
  {
   "cell_type": "code",
   "execution_count": 11,
   "metadata": {},
   "outputs": [
    {
     "data": {
      "text/plain": [
       "{1: 'hi', 2: 'hello', 3: 'G'}"
      ]
     },
     "execution_count": 11,
     "metadata": {},
     "output_type": "execute_result"
    }
   ],
   "source": [
    "d1 = {1:'hi'}\n",
    "\n",
    "d1.update([(2,'hello'), (3, 'G')])\n",
    "\n",
    "d1"
   ]
  },
  {
   "cell_type": "code",
   "execution_count": 15,
   "metadata": {},
   "outputs": [
    {
     "data": {
      "text/plain": [
       "{1: 'hi'}"
      ]
     },
     "execution_count": 15,
     "metadata": {},
     "output_type": "execute_result"
    }
   ],
   "source": [
    "d1.pop(2)\n",
    "d1\n",
    "# d1.pop(2)\n",
    "# d1.popitem()\n",
    "\n",
    "\n"
   ]
  },
  {
   "cell_type": "code",
   "execution_count": 19,
   "metadata": {},
   "outputs": [
    {
     "data": {
      "text/plain": [
       "{'maths': 85,\n",
       " 'science': 92,\n",
       " 'social_studies': 88,\n",
       " 'english': 90,\n",
       " 'fa-maths': 87,\n",
       " 'fa-science': 95,\n",
       " 'fa-social_studies': 90,\n",
       " 'fa-english': 85,\n",
       " 'bs-maths': 82,\n",
       " 'bs-science': 90,\n",
       " 'bs-social_studies': 85,\n",
       " 'bs-english': 88}"
      ]
     },
     "execution_count": 19,
     "metadata": {},
     "output_type": "execute_result"
    }
   ],
   "source": [
    "matrix = {'maths': 85, 'science': 92, 'social_studies': 88, 'english': 90 }\n",
    "\n",
    "fa = {\n",
    "    'fa-maths': 87,\n",
    "    'fa-science': 95,\n",
    "    'fa-social_studies': 90,\n",
    "    'fa-english': 85\n",
    "}\n",
    "\n",
    "bs = {\n",
    "    'bs-maths': 82,\n",
    "    'bs-science': 90,\n",
    "    'bs-social_studies': 85,\n",
    "    'bs-english': 88\n",
    "}\n",
    "\n",
    "\n",
    "matrix.update(fa)\n",
    "matrix.update(bs)\n",
    "matrix\n"
   ]
  }
 ],
 "metadata": {
  "kernelspec": {
   "display_name": "Python 3",
   "language": "python",
   "name": "python3"
  },
  "language_info": {
   "codemirror_mode": {
    "name": "ipython",
    "version": 3
   },
   "file_extension": ".py",
   "mimetype": "text/x-python",
   "name": "python",
   "nbconvert_exporter": "python",
   "pygments_lexer": "ipython3",
   "version": "3.12.4"
  }
 },
 "nbformat": 4,
 "nbformat_minor": 2
}
