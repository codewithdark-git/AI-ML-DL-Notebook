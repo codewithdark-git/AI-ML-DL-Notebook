{
 "cells": [
  {
   "cell_type": "markdown",
   "id": "39811a24-13e3-4250-9ce1-05c9d921cfd4",
   "metadata": {},
   "source": [
    "Track down your monthly expenses in Python, given individual expense items"
   ]
  },
  {
   "cell_type": "code",
   "execution_count": null,
   "id": "0a799100-bb61-482b-b635-823be5895285",
   "metadata": {},
   "outputs": [],
   "source": [
    "using assignment operator you can put a value inside a variable so at the left hand side of the assignment operator is a variable name \n",
    "and right hand side is the value.\n",
    "Variables are containers that hold some value and the value inside it can vary."
   ]
  },
  {
   "cell_type": "code",
   "execution_count": 1,
   "id": "d69d04d3-95c8-4a9e-8c24-fa26a50ebc6d",
   "metadata": {},
   "outputs": [
    {
     "name": "stdout",
     "output_type": "stream",
     "text": [
      "8000\n"
     ]
    }
   ],
   "source": [
    "rent=5000\n",
    "gas_charges=2000\n",
    "elec_charges=3000\n",
    "phone_charges=3000\n",
    "total_expenses=gas_charges+elec_charges+phone_charges\n",
    "print(total_expenses)"
   ]
  },
  {
   "cell_type": "code",
   "execution_count": 3,
   "id": "a841551f-57bf-4638-a83d-851d15eac73c",
   "metadata": {},
   "outputs": [
    {
     "name": "stdout",
     "output_type": "stream",
     "text": [
      "enter your house rent 1000\n",
      "enter gas charges 2000\n",
      "enter phone charges 3000\n"
     ]
    },
    {
     "name": "stdout",
     "output_type": "stream",
     "text": [
      "total expenses of my home are  6000.0\n"
     ]
    }
   ],
   "source": [
    "rent= int (input('enter your house rent'))\n",
    "gas_charges= int (input('enter gas charges'))\n",
    "phone_charges= float(input('enter phone charges'))\n",
    "total_expenses= rent + gas_charges + phone_charges\n",
    "print(\"total expenses of my home are \", total_expenses)"
   ]
  },
  {
   "cell_type": "code",
   "execution_count": 1,
   "id": "d89cd0c2-a9c3-46df-9bd6-fb7811e614d3",
   "metadata": {},
   "outputs": [
    {
     "data": {
      "text/plain": [
       "'d:\\\\CodeBackground\\\\machine-Lreaning-and-Notebook-\\\\Advance Python by NAVTTC\\\\Data'"
      ]
     },
     "execution_count": 1,
     "metadata": {},
     "output_type": "execute_result"
    }
   ],
   "source": [
    "pwd"
   ]
  },
  {
   "cell_type": "code",
   "execution_count": 1,
   "id": "9e0f1e35-c219-4bdf-85fe-8b216042548c",
   "metadata": {},
   "outputs": [],
   "source": [
    "rent=2000\n",
    "gas=1000.6\n",
    "groceries=215.5\n",
    "\n",
    "total= rent + gas + groceries"
   ]
  },
  {
   "cell_type": "code",
   "execution_count": 2,
   "id": "07c619d3-1ed5-483f-9af0-95cfb2929725",
   "metadata": {},
   "outputs": [
    {
     "name": "stdout",
     "output_type": "stream",
     "text": [
      "2000 1000.6 215.5\n",
      "3216.1\n"
     ]
    }
   ],
   "source": [
    "print(rent, gas, groceries)\n",
    "print(total)"
   ]
  },
  {
   "cell_type": "code",
   "execution_count": 3,
   "id": "0e18f043-460a-44d6-8d89-210917c42245",
   "metadata": {},
   "outputs": [
    {
     "name": "stdout",
     "output_type": "stream",
     "text": [
      "expense items are:  rent gas groceries\n"
     ]
    }
   ],
   "source": [
    "item1= 'rent'\n",
    "item2='gas'\n",
    "item3= 'groceries'\n",
    "print(\"expense items are: \", item1, item2, item3)"
   ]
  },
  {
   "cell_type": "code",
   "execution_count": 4,
   "id": "694f48f0-a18d-4cf7-af7b-17442ff05c70",
   "metadata": {},
   "outputs": [
    {
     "name": "stdout",
     "output_type": "stream",
     "text": [
      "2000 1000.6 215.5\n",
      "3216.1\n"
     ]
    }
   ],
   "source": [
    "print(rent, gas, groceries)\n",
    "print(total)"
   ]
  },
  {
   "cell_type": "code",
   "execution_count": null,
   "id": "aec1472c-80cd-4a32-a41f-a88cc980a8c6",
   "metadata": {},
   "outputs": [],
   "source": []
  },
  {
   "cell_type": "code",
   "execution_count": null,
   "id": "c6c49a10-1bc9-43bc-b297-d29618f29353",
   "metadata": {},
   "outputs": [],
   "source": [
    "1. Create a variable called break and assign it a value 5. See what happens and find out the reason behind the behavior that you see"
   ]
  },
  {
   "cell_type": "code",
   "execution_count": null,
   "id": "824b4cec-5ffc-4d5d-a8b1-4c08d890ee2c",
   "metadata": {},
   "outputs": [],
   "source": []
  },
  {
   "cell_type": "code",
   "execution_count": null,
   "id": "e516f7f0-2afb-4ca2-acf5-bc00765e7d1f",
   "metadata": {},
   "outputs": [],
   "source": []
  },
  {
   "cell_type": "code",
   "execution_count": null,
   "id": "06d0d2af-de75-4463-ab1d-c2d344de99c3",
   "metadata": {},
   "outputs": [],
   "source": [
    "Create two variables. One to store your birth year and another one to store current year. Now calculate your age using these two variables"
   ]
  },
  {
   "cell_type": "code",
   "execution_count": null,
   "id": "b6279f33-152f-4ad0-997d-78137a3bf013",
   "metadata": {},
   "outputs": [],
   "source": []
  },
  {
   "cell_type": "code",
   "execution_count": null,
   "id": "7234a857-0152-4b67-9be3-0814f1f96062",
   "metadata": {},
   "outputs": [],
   "source": [
    "Store your first, middle and last name in three different variables and then print your full name using these variables"
   ]
  },
  {
   "cell_type": "code",
   "execution_count": null,
   "id": "17c4532d-e8a0-447e-a4ca-e7076fdf6852",
   "metadata": {},
   "outputs": [],
   "source": []
  },
  {
   "cell_type": "code",
   "execution_count": null,
   "id": "a3842d02-0f36-4c70-84b7-7454e9ca15ff",
   "metadata": {},
   "outputs": [],
   "source": [
    "Answer which of these are invalid variable names: _nation 1record record1 record_one record-one record^one continue"
   ]
  }
 ],
 "metadata": {
  "kernelspec": {
   "display_name": "Python 3 (ipykernel)",
   "language": "python",
   "name": "python3"
  },
  "language_info": {
   "codemirror_mode": {
    "name": "ipython",
    "version": 3
   },
   "file_extension": ".py",
   "mimetype": "text/x-python",
   "name": "python",
   "nbconvert_exporter": "python",
   "pygments_lexer": "ipython3",
   "version": "3.12.4"
  }
 },
 "nbformat": 4,
 "nbformat_minor": 5
}
