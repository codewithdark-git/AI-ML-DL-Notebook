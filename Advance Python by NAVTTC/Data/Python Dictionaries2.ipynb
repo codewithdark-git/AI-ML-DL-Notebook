{
 "cells": [
  {
   "cell_type": "markdown",
   "id": "c942037d-529a-4906-8634-1d5585609c45",
   "metadata": {},
   "source": [
    "Python dictionaries are powerful data structures or collection that store data in the form of key-value pairs.\n",
    "A dictionary is a collection which is ordered*, changeable and do not allow duplicates.\n",
    "by ordered we mean, Items have a defined order, and that order will not change.\n",
    "Dictionary items are presented in key:value pairs, and can be referred to by using the key name.\n",
    "Think of them like real-world dictionaries, where you look up words to find their meanings. In Python, you use keys to access values, making it efficient for data retrieval. Dictionaries are versatile and widely used for tasks like data mapping, configuration settings, and more."
   ]
  },
  {
   "cell_type": "markdown",
   "id": "43efc829-cf0d-4f22-8fe5-3b44a77c31bc",
   "metadata": {},
   "source": [
    "What is a Dictionary?\n",
    "01:- Rules in Dictionary\n",
    "02: - Mutability and Immutability\n",
    "03: - Creating a Dictionary\n",
    "04: - Accessing Items from a Dictionary\n",
    "05: - Editing a Dictionary\n",
    "06: - Using the .get function\n",
    "07: - Adding new Key-Value Pairs\n",
    "08: - Deleting from a dictionary\n",
    "09: - Operations in a dictionary\n"
   ]
  },
  {
   "cell_type": "markdown",
   "id": "ccc94624-9bb7-4d78-8edd-005b89428b1a",
   "metadata": {},
   "source": [
    "Rules for Dictionary:\n",
    "R1: Dictionary has no indexing\n",
    "R2: Dictionary is a mutable data type\n",
    "R3:Keys--> immutable, values--> they can be mutable (changed)\n",
    "R4: keys should be unique\n",
    "\n",
    "Mutable data types: Lists, sets and dictionaries\n",
    "\n",
    "Immutable Data Types in Python: These are data types whose values cannot be modified after they are created. In Python, some common immutable data types include Strings, Tuples, Integers, Complex Numbers, and Floats.\n",
    "\n",
    "Cannot Change Values of Immutable Objects: Once an immutable object is created, its value cannot be altered. For example, if you create a string 'hello', you cannot directly modify it to become 'hello world' without creating a new string object.\n",
    "\n",
    "New Memory Location for Modified Object: If you attempt to modify an immutable object, Python will create a new object with the modified value in a different memory location. The original object remains unchanged. This behavior ensures data integrity and consistency.\n",
    "\n",
    "Mutable Data Types: Mutable data types are those whose values can be modified after they are created. This means you can change the content of the object without necessarily creating a new object or changing its memory location.\n",
    "\n",
    "Examples of Mutable Data Types: Some common mutable data types in Python include lists, dictionaries, sets, and custom objects.\n",
    "\n",
    "Ability to Modify Values: Unlike immutable data types, where values cannot be changed after creation, mutable data types allow modifications to be made directly to the object's content.\n",
    "\n",
    "In-Place Modifications: With mutable data types, you can perform in-place modifications, meaning you can alter the existing object without creating a new one."
   ]
  },
  {
   "cell_type": "code",
   "execution_count": 15,
   "id": "863448f6-dcdf-497e-91a8-60c94b26d3a5",
   "metadata": {},
   "outputs": [
    {
     "name": "stdout",
     "output_type": "stream",
     "text": [
      "Original String: hello 2555328200944\n",
      "Modified String: hello world 2555355061168\n"
     ]
    }
   ],
   "source": [
    "# Immutable data types\n",
    "# Strings\n",
    "string1 = \"hello\"\n",
    "# Tuples\n",
    "tuple1 = (1, 2, 3)\n",
    "# Integers\n",
    "int1 = 5\n",
    "# Complex Numbers\n",
    "complex1 = 2 + 3j\n",
    "# Floats\n",
    "float1 = 3.14\n",
    "\n",
    "print(\"Original String:\", string1, id(string1))\n",
    "# Attempting to modify immutable objects\n",
    "# Modifying a string\n",
    "# This will result in a new string object being created\n",
    "string1 = string1 + \" world\"\n",
    "# Printing the original and modified objects\n",
    "print(\"Modified String:\", string1, id(string1))\n",
    "#print(\"Modified String:\", string2)\n"
   ]
  },
  {
   "cell_type": "code",
   "execution_count": 16,
   "id": "f7221495-c27a-445c-a9db-39e83faa8eac",
   "metadata": {},
   "outputs": [
    {
     "name": "stdout",
     "output_type": "stream",
     "text": [
      "Original integer: 5 140718883031608\n",
      "Modified integer: 10 140718883031768\n"
     ]
    }
   ],
   "source": [
    "print(\"Original integer:\", int1, id(int1))\n",
    "int1=int1+5\n",
    "print(\"Modified integer:\", int1, id(int1))"
   ]
  },
  {
   "cell_type": "code",
   "execution_count": null,
   "id": "3fc99696-9379-4b00-9944-9a16c186009b",
   "metadata": {},
   "outputs": [],
   "source": [
    "# Modifying a tuple\n",
    "# Tuples are immutable, so modification is not possible directly\n",
    "# We need to create a new tuple with the modified values\n",
    "tuple2 = tuple1 + (4,)\n",
    "\n",
    "# Modifying an integer\n",
    "# Integers are immutable, so modification is not possible directly\n",
    "# We need to create a new integer with the modified value\n",
    "int2 = int1 + 1\n",
    "\n",
    "# Modifying a complex number\n",
    "# Complex numbers are immutable, so modification is not possible directly\n",
    "# We need to create a new complex number with the modified value\n",
    "complex2 = complex1 * 2\n",
    "\n",
    "# Modifying a float\n",
    "# Floats are immutable, so modification is not possible directly\n",
    "# We need to create a new float with the modified value\n",
    "float2 = float1 + 1.0\n",
    "\n",
    "# Printing the original and modified objects\n",
    "\n",
    "\n",
    "print(\"Original Tuple:\", tuple1)\n",
    "print(\"Modified Tuple:\", tuple2)\n",
    "\n",
    "\n",
    "print(\"Original Complex Number:\", complex1)\n",
    "print(\"Modified Complex Number:\", complex2)\n",
    "\n",
    "print(\"Original Float:\", float1)\n",
    "print(\"Modified Float:\", float2)\n"
   ]
  },
  {
   "cell_type": "code",
   "execution_count": 17,
   "id": "6cae8ee0-b62f-4015-9efd-e266a25ce7a8",
   "metadata": {},
   "outputs": [
    {
     "data": {
      "text/plain": [
       "{}"
      ]
     },
     "execution_count": 17,
     "metadata": {},
     "output_type": "execute_result"
    }
   ],
   "source": [
    "#creating an empty dictionary\n",
    "d1={}\n",
    "d1"
   ]
  },
  {
   "cell_type": "code",
   "execution_count": 18,
   "id": "d3fd1c6a-3a01-4074-bd5c-8dcc19d872df",
   "metadata": {},
   "outputs": [
    {
     "data": {
      "text/plain": [
       "{'name': 'ALi', 'Age': 12, 'Gender': 'Male'}"
      ]
     },
     "execution_count": 18,
     "metadata": {},
     "output_type": "execute_result"
    }
   ],
   "source": [
    "#creating a normal dictionary\n",
    "d2={\"name\":\"ALi\", \"Age\":12, \"Gender\":\"Male\"}\n",
    "d2"
   ]
  },
  {
   "cell_type": "code",
   "execution_count": 19,
   "id": "f569fd56-68bf-43b4-895b-3e7d9fd36b4c",
   "metadata": {},
   "outputs": [
    {
     "ename": "TypeError",
     "evalue": "unhashable type: 'list'",
     "output_type": "error",
     "traceback": [
      "\u001b[1;31m---------------------------------------------------------------------------\u001b[0m",
      "\u001b[1;31mTypeError\u001b[0m                                 Traceback (most recent call last)",
      "Cell \u001b[1;32mIn[19], line 2\u001b[0m\n\u001b[0;32m      1\u001b[0m \u001b[38;5;66;03m# keys are immuatable\u001b[39;00m\n\u001b[1;32m----> 2\u001b[0m d3\u001b[38;5;241m=\u001b[39m {[\u001b[38;5;241m1\u001b[39m,\u001b[38;5;241m2\u001b[39m,\u001b[38;5;241m3\u001b[39m]: \u001b[38;5;124m\"\u001b[39m\u001b[38;5;124mHassan\u001b[39m\u001b[38;5;124m\"\u001b[39m}\n\u001b[0;32m      3\u001b[0m d3\n",
      "\u001b[1;31mTypeError\u001b[0m: unhashable type: 'list'"
     ]
    }
   ],
   "source": [
    "# keys are immuatable\n",
    "d3= {[1,2,3]: \"Hassan\"}\n",
    "d3"
   ]
  },
  {
   "cell_type": "code",
   "execution_count": 1,
   "id": "4225856f-d4e1-45ca-bec1-92fb38a1e231",
   "metadata": {},
   "outputs": [
    {
     "data": {
      "text/plain": [
       "{(1, 2, 3): 'Hassan'}"
      ]
     },
     "execution_count": 1,
     "metadata": {},
     "output_type": "execute_result"
    }
   ],
   "source": [
    "# keys are immuatable\n",
    "d3= {(1,2,3): \"Hassan\"}\n",
    "d3"
   ]
  },
  {
   "cell_type": "code",
   "execution_count": 20,
   "id": "eb95a790-fa04-4d1f-adde-3e50cde59fb5",
   "metadata": {},
   "outputs": [
    {
     "data": {
      "text/plain": [
       "{'Name': 'Hassan'}"
      ]
     },
     "execution_count": 20,
     "metadata": {},
     "output_type": "execute_result"
    }
   ],
   "source": [
    "#keys are unique,Dictionaries cannot have two items with the same key:\n",
    "d4= {\"Name\":\"Ali\", \"Name\":\"Hassan\"} # there will be single instance for the key, here python assumes that the value of key Name has been updated\n",
    "d4"
   ]
  },
  {
   "cell_type": "code",
   "execution_count": 21,
   "id": "557011b0-4ee1-4259-b468-be40e61aa529",
   "metadata": {},
   "outputs": [
    {
     "name": "stdout",
     "output_type": "stream",
     "text": [
      "{'brand': 'Toyota', 'model': 'Vitz2004', 'year': 2020}\n"
     ]
    }
   ],
   "source": [
    "#Duplicate values will overwrite existing values:\n",
    "thisdict = {\n",
    "  \"brand\": \"Toyota\",\n",
    "  \"model\": \"Vitz2004\",\n",
    "  \"year\": 1964,\n",
    "  \"year\": 2020\n",
    "}\n",
    "print(thisdict)"
   ]
  },
  {
   "cell_type": "code",
   "execution_count": 27,
   "id": "615f404c-78d9-4f5a-910e-0722412aabfb",
   "metadata": {},
   "outputs": [
    {
     "data": {
      "text/plain": [
       "{'Name': 'Farhan',\n",
       " 'University': 'ICP',\n",
       " 'Marks': {'DB': 80, 'OS': 90, 'DS': 90}}"
      ]
     },
     "execution_count": 27,
     "metadata": {},
     "output_type": "execute_result"
    }
   ],
   "source": [
    "#creating a 2d dictionary: dictionary within a dictionary\n",
    "d5={\"Name\":\"Farhan\", \"University\":\"ICP\", \"Marks\":{\"DB\":80, \"OS\":90, \"DS\":90}}\n",
    "d5"
   ]
  },
  {
   "cell_type": "code",
   "execution_count": 25,
   "id": "803b68a2-b2b8-480f-bced-eda8cd6d05d8",
   "metadata": {},
   "outputs": [
    {
     "data": {
      "text/plain": [
       "90"
      ]
     },
     "execution_count": 25,
     "metadata": {},
     "output_type": "execute_result"
    }
   ],
   "source": [
    "d5['Marks']['OS']"
   ]
  },
  {
   "cell_type": "code",
   "execution_count": 4,
   "id": "adb82a89-5ab7-47ae-bcff-bfb40a38744b",
   "metadata": {},
   "outputs": [
    {
     "data": {
      "text/plain": [
       "80"
      ]
     },
     "execution_count": 4,
     "metadata": {},
     "output_type": "execute_result"
    }
   ],
   "source": [
    "d5['Marks']['DB']"
   ]
  },
  {
   "cell_type": "markdown",
   "id": "416d6ce2-1d1c-41da-9546-60a2a05e229b",
   "metadata": {},
   "source": [
    "Python Dictionary fromkeys()\n",
    "The fromkeys() method creates a dictionary from the given sequence of keys and values.\n",
    "The fromkeys() method can take two parameters:\n",
    "alphabets - are the keys that can be any iterables like string, set, list, etc.\n",
    "numbers (Optional) - are the values that can be of any type or any iterables like string, set, list, etc.\n",
    "Note: The same value is assigned to all the keys of the dictionary.\n",
    "\n",
    "fromkeys() Return Value\n",
    "The fromkeys() method returns:\n",
    "a new dictionary with the given sequence of keys and values\n",
    "Note: If the value of the dictionary is not provided, None is assigned to the keys."
   ]
  },
  {
   "cell_type": "code",
   "execution_count": 36,
   "id": "d98b6bf4-21b9-4899-954e-b8bc6e174f65",
   "metadata": {},
   "outputs": [
    {
     "data": {
      "text/plain": [
       "{2, 5, 6, 7, 8, 10}"
      ]
     },
     "execution_count": 36,
     "metadata": {},
     "output_type": "execute_result"
    }
   ],
   "source": [
    "stds={10,8,7,6,5,2}\n",
    "stds"
   ]
  },
  {
   "cell_type": "code",
   "execution_count": 33,
   "id": "49b16f53-6419-49cc-9249-3a6f80f5307f",
   "metadata": {},
   "outputs": [
    {
     "name": "stdout",
     "output_type": "stream",
     "text": [
      "{'Ashiq': 'SE', 'Zia': 'SE', 'Asif': 'SE'}\n"
     ]
    }
   ],
   "source": [
    "# keys for the dictionary\n",
    "Stds = ['Ashiq', 'Zia', 'Asif']\n",
    "\n",
    "# value for the dictionary\n",
    "Major = 'SE'\n",
    "\n",
    "# creates a dictionary with keys and values\n",
    "dictionary = dict.fromkeys(Stds,Major)\n",
    "\n",
    "print(dictionary)\n",
    "\n",
    "# Output: {'a': 1, 'c': 1, 'b': 1}"
   ]
  },
  {
   "cell_type": "code",
   "execution_count": 32,
   "id": "ded6f335-7091-4717-b58c-bb8bfa1ce290",
   "metadata": {},
   "outputs": [
    {
     "name": "stdout",
     "output_type": "stream",
     "text": [
      "{'a': 'vowel', 'e': 'vowel', 'i': 'vowel', 'o': 'vowel', 'u': 'vowel'}\n"
     ]
    }
   ],
   "source": [
    "#All the keys of the dictionary are assigned with the same value.\n",
    "#Python Dictionary fromkeys() with Key and Value \n",
    "# set of vowels\n",
    "keys = ('a', 'e', 'i', 'o', 'u' )\n",
    "\n",
    "# assign string to the value\n",
    "value = 'vowel'\n",
    "\n",
    "# creates a dictionary with keys and values\n",
    "vowels = dict.fromkeys(keys, value)\n",
    "\n",
    "print(vowels)"
   ]
  },
  {
   "cell_type": "code",
   "execution_count": 130,
   "id": "19491409-3042-4782-bb20-0a3a1ef03e4c",
   "metadata": {},
   "outputs": [
    {
     "name": "stdout",
     "output_type": "stream",
     "text": [
      "{1: 'integers', 2: 'integers', 4: 'integers', 5: 'integers', 6: 'integers', 7: 'integers', 8: 'integers', 9: 'integers'}\n"
     ]
    }
   ],
   "source": [
    "#Fromkeys() without Value\n",
    "# list of numbers\n",
    "keys = [1, 2, 4,5,6,7,8,9 ]\n",
    "value='integers'\n",
    "\n",
    "# creates a dictionary with keys only\n",
    "numbers = dict.fromkeys(keys,value)\n",
    "\n",
    "print(numbers)"
   ]
  },
  {
   "cell_type": "markdown",
   "id": "bdddef3d-a15e-4dd4-9106-c2a21dc3e818",
   "metadata": {},
   "source": [
    "In the below example, we have used a list as the value for the dictionary. The iterables like list, dictionary, etc are the mutable objects, meaning they can be modified.\n",
    "\n",
    "Here, when we update the list value using append, the keys are assigned with the new updated values. This is because each element is pointing to the same address in the memory.\n",
    "In Python, when you assign a mutable object (like a list) to multiple variables or use it as a value for multiple keys in a dictionary, all those variables or keys reference the same object in memory. They are essentially different labels or names pointing to the same object. So, when you modify the object through any of these references, the changes are reflected in all other references because they are all pointing to the same memory location."
   ]
  },
  {
   "cell_type": "code",
   "execution_count": 37,
   "id": "c4d2cc3f-5ff4-44ec-8038-ca062043c255",
   "metadata": {},
   "outputs": [
    {
     "name": "stdout",
     "output_type": "stream",
     "text": [
      "{'u': [1], 'a': [1], 'o': [1], 'i': [1], 'e': [1]}\n"
     ]
    }
   ],
   "source": [
    "#fromkeys() To Create A Dictionary From Mutable Object\n",
    "# set of vowels\n",
    "keys = {'a', 'e', 'i', 'o', 'u' }\n",
    "\n",
    "# list of number\n",
    "value = [1]\n",
    "\n",
    "vowels = dict.fromkeys(keys, value)  #{'a':[1], 'e':[1]}\n",
    "print(vowels)"
   ]
  },
  {
   "cell_type": "code",
   "execution_count": null,
   "id": "b328ea02-7fdb-43e6-b03e-7015d8eb24d0",
   "metadata": {},
   "outputs": [],
   "source": [
    "# updates the list value\n",
    "value.append(2)\n",
    "value.append(3)\n",
    "\n",
    "print(vowels)"
   ]
  },
  {
   "cell_type": "code",
   "execution_count": null,
   "id": "3d9db027-b040-46b2-b8d7-3a3b77512fee",
   "metadata": {},
   "outputs": [],
   "source": [
    "#Accessing items from dictionary"
   ]
  },
  {
   "cell_type": "code",
   "execution_count": 133,
   "id": "b1ebd92e-f308-4783-b9be-f00e501470c0",
   "metadata": {},
   "outputs": [
    {
     "ename": "KeyError",
     "evalue": "0",
     "output_type": "error",
     "traceback": [
      "\u001b[1;31m---------------------------------------------------------------------------\u001b[0m",
      "\u001b[1;31mKeyError\u001b[0m                                  Traceback (most recent call last)",
      "Cell \u001b[1;32mIn[133], line 1\u001b[0m\n\u001b[1;32m----> 1\u001b[0m \u001b[43md5\u001b[49m\u001b[43m[\u001b[49m\u001b[38;5;241;43m0\u001b[39;49m\u001b[43m]\u001b[49m \u001b[38;5;66;03m# No positive or negative indexing, nor slicing in dictionary\u001b[39;00m\n",
      "\u001b[1;31mKeyError\u001b[0m: 0"
     ]
    }
   ],
   "source": [
    "d5[0] # No positive or negative indexing, nor slicing in dictionary"
   ]
  },
  {
   "cell_type": "code",
   "execution_count": 38,
   "id": "b5170864-3908-4bc7-ac3e-4e8f8c09d185",
   "metadata": {},
   "outputs": [
    {
     "data": {
      "text/plain": [
       "'Farhan'"
      ]
     },
     "execution_count": 38,
     "metadata": {},
     "output_type": "execute_result"
    }
   ],
   "source": [
    "d5['Name'] #Provide a correct key  for fetching a value from dictionary"
   ]
  },
  {
   "cell_type": "markdown",
   "id": "dfd453ae-3ac8-406c-9188-5df6d0cd9e9c",
   "metadata": {},
   "source": [
    "Return Value from get()\n",
    "get() method returns:\n",
    "\n",
    "the value for the specified key if key is in the dictionary.\n",
    "None if the key is not found and value is not specified.\n",
    "value if the key is not found and value is specified."
   ]
  },
  {
   "cell_type": "code",
   "execution_count": 40,
   "id": "f17c4015-c396-4997-baa1-2e9fead2af04",
   "metadata": {},
   "outputs": [
    {
     "ename": "ZeroDivisionError",
     "evalue": "division by zero",
     "output_type": "error",
     "traceback": [
      "\u001b[1;31m---------------------------------------------------------------------------\u001b[0m",
      "\u001b[1;31mZeroDivisionError\u001b[0m                         Traceback (most recent call last)",
      "Cell \u001b[1;32mIn[40], line 1\u001b[0m\n\u001b[1;32m----> 1\u001b[0m \u001b[38;5;241;43m2\u001b[39;49m\u001b[38;5;241;43m/\u001b[39;49m\u001b[38;5;241;43m0\u001b[39;49m\n",
      "\u001b[1;31mZeroDivisionError\u001b[0m: division by zero"
     ]
    }
   ],
   "source": [
    "2/0"
   ]
  },
  {
   "cell_type": "code",
   "execution_count": 1,
   "id": "ebbec276-0849-4602-b262-0abf8d0093c0",
   "metadata": {},
   "outputs": [
    {
     "name": "stdout",
     "output_type": "stream",
     "text": [
      "Name:  Uzair\n",
      "Age:  22\n",
      "Salary:  None\n",
      "Salary:  0.0\n"
     ]
    }
   ],
   "source": [
    "person = {'name': 'Uzair', 'age': 22}\n",
    "\n",
    "print('Name: ', person.get('name'))\n",
    "\n",
    "print('Age: ', person.get('age'))\n",
    "\n",
    "# value is not provided\n",
    "print('Salary: ', person.get('salary'))\n",
    "\n",
    "# value is provided\n",
    "print('Salary: ', person.get('salary', 0.0))"
   ]
  },
  {
   "cell_type": "code",
   "execution_count": 4,
   "id": "07dcfed6-47cf-4b24-8919-fa84469ef7ca",
   "metadata": {},
   "outputs": [
    {
     "data": {
      "text/plain": [
       "{'Name': 'Farhan',\n",
       " 'University': 'ICP',\n",
       " 'Marks': {'DB': 80, 'OS': 90, 'DS': 90}}"
      ]
     },
     "execution_count": 4,
     "metadata": {},
     "output_type": "execute_result"
    }
   ],
   "source": [
    "d5"
   ]
  },
  {
   "cell_type": "code",
   "execution_count": 5,
   "id": "01a5083a-5a4f-4c88-9f40-2db2d0545273",
   "metadata": {},
   "outputs": [
    {
     "data": {
      "text/plain": [
       "'Farhan'"
      ]
     },
     "execution_count": 5,
     "metadata": {},
     "output_type": "execute_result"
    }
   ],
   "source": [
    "d5.get('Name') # can access value by providing a key to the get() method(it does not work with 2d array)"
   ]
  },
  {
   "cell_type": "code",
   "execution_count": 7,
   "id": "7f1bfa89-a7f0-40f5-b9d8-013089c7fc47",
   "metadata": {},
   "outputs": [
    {
     "data": {
      "text/plain": [
       "80"
      ]
     },
     "execution_count": 7,
     "metadata": {},
     "output_type": "execute_result"
    }
   ],
   "source": [
    "d5.get('Marks').get('DB')"
   ]
  },
  {
   "cell_type": "markdown",
   "id": "3b182afd-1a7e-4abc-a903-ef37d4df11a8",
   "metadata": {},
   "source": [
    "Python get() method Vs dict[key] to Access Elements\n",
    "get() method returns a default value if the key is missing.\n",
    "\n",
    "However, if the key is not found when you use dict[key], KeyError exception is raised."
   ]
  },
  {
   "cell_type": "code",
   "execution_count": 8,
   "id": "567e40a8-ac4b-495f-8631-fcdc8a0824d8",
   "metadata": {},
   "outputs": [
    {
     "name": "stdout",
     "output_type": "stream",
     "text": [
      "Salary:  None\n"
     ]
    }
   ],
   "source": [
    "person = {}\n",
    "\n",
    "# Using get() results in None\n",
    "print('Salary: ', person.get('salary'))\n",
    "# Using [] results in KeyError\n",
    "\n"
   ]
  },
  {
   "cell_type": "code",
   "execution_count": 9,
   "id": "b29aaa2c-ef99-4b2e-96b5-41c617173450",
   "metadata": {},
   "outputs": [
    {
     "ename": "KeyError",
     "evalue": "'salary'",
     "output_type": "error",
     "traceback": [
      "\u001b[1;31m---------------------------------------------------------------------------\u001b[0m",
      "\u001b[1;31mKeyError\u001b[0m                                  Traceback (most recent call last)",
      "Cell \u001b[1;32mIn[9], line 1\u001b[0m\n\u001b[1;32m----> 1\u001b[0m \u001b[38;5;28mprint\u001b[39m(\u001b[43mperson\u001b[49m\u001b[43m[\u001b[49m\u001b[38;5;124;43m'\u001b[39;49m\u001b[38;5;124;43msalary\u001b[39;49m\u001b[38;5;124;43m'\u001b[39;49m\u001b[43m]\u001b[49m)\n",
      "\u001b[1;31mKeyError\u001b[0m: 'salary'"
     ]
    }
   ],
   "source": [
    "print(person['salary'])"
   ]
  },
  {
   "cell_type": "code",
   "execution_count": 10,
   "id": "307e7674-bd3e-4d6b-93ec-b105d9bd65a3",
   "metadata": {},
   "outputs": [
    {
     "data": {
      "text/plain": [
       "{'DB': 80, 'OS': 90, 'DS': 90}"
      ]
     },
     "execution_count": 10,
     "metadata": {},
     "output_type": "execute_result"
    }
   ],
   "source": [
    "d5['Marks']"
   ]
  },
  {
   "cell_type": "code",
   "execution_count": 11,
   "id": "b73a3495-34a1-417c-9249-f36f0225bf90",
   "metadata": {},
   "outputs": [
    {
     "data": {
      "text/plain": [
       "90"
      ]
     },
     "execution_count": 11,
     "metadata": {},
     "output_type": "execute_result"
    }
   ],
   "source": [
    "d5['Marks']['OS']"
   ]
  },
  {
   "cell_type": "code",
   "execution_count": 140,
   "id": "5c9cb9c8-d160-4c56-ade3-808636857a1d",
   "metadata": {},
   "outputs": [
    {
     "data": {
      "text/plain": [
       "{'Name': 'Farhan',\n",
       " 'University': 'ICP',\n",
       " 'Marks': {'DB': 80, 'OS': 90, 'DS': 90}}"
      ]
     },
     "execution_count": 140,
     "metadata": {},
     "output_type": "execute_result"
    }
   ],
   "source": [
    "d5"
   ]
  },
  {
   "cell_type": "markdown",
   "id": "b4184554-e5dd-42fd-887c-c1b1f42249db",
   "metadata": {},
   "source": [
    "\n",
    "Change Dictionary Items<br>Python dictionaries are mutable (changeable). <br>\n",
    "We can change the value of a dictionary element by referring to its key. <br>\n",
    "We can also use the update() method to add or change dictionary items."
   ]
  },
  {
   "cell_type": "code",
   "execution_count": 12,
   "id": "d1f334c0-2291-44f9-b62f-9c14b3964dc5",
   "metadata": {},
   "outputs": [
    {
     "data": {
      "text/plain": [
       "{'Name': 'Usman', 'University': 'ICP', 'Marks': {'DB': 80, 'OS': 90, 'DS': 90}}"
      ]
     },
     "execution_count": 12,
     "metadata": {},
     "output_type": "execute_result"
    }
   ],
   "source": [
    "#Edit particular item of dictionary\n",
    "#Dictionaries are changeable, meaning that we can change, add or remove items after the dictionary has been created.\n",
    "d5[\"Name\"]=\"Usman\"\n",
    "d5"
   ]
  },
  {
   "cell_type": "code",
   "execution_count": 13,
   "id": "76fd308f-9382-4160-835d-7c9309cc5d74",
   "metadata": {},
   "outputs": [
    {
     "data": {
      "text/plain": [
       "{'Name': 'Usman', 'University': 'ICP', 'Marks': {'DB': 80, 'OS': 99, 'DS': 90}}"
      ]
     },
     "execution_count": 13,
     "metadata": {},
     "output_type": "execute_result"
    }
   ],
   "source": [
    "d5['Marks']['OS']=99\n",
    "d5"
   ]
  },
  {
   "cell_type": "code",
   "execution_count": 14,
   "id": "b00bb9c1-50d5-4c5c-86af-2a317101e1ac",
   "metadata": {},
   "outputs": [
    {
     "data": {
      "text/plain": [
       "{'Name': 'Usman',\n",
       " 'University': 'ICP',\n",
       " 'Marks': {'DB': 80, 'OS': 99, 'DS': 90},\n",
       " 'Age': 25}"
      ]
     },
     "execution_count": 14,
     "metadata": {},
     "output_type": "execute_result"
    }
   ],
   "source": [
    "# Add new key-value pairs\n",
    "d5['Age']=25\n",
    "d5"
   ]
  },
  {
   "cell_type": "code",
   "execution_count": 15,
   "id": "268d4eb6-1add-4946-8ff8-1c08f3e97225",
   "metadata": {},
   "outputs": [
    {
     "name": "stdout",
     "output_type": "stream",
     "text": [
      "{'Germany': 'Berlin', 'Italy': 'Rome', 'England': 'London'}\n"
     ]
    }
   ],
   "source": [
    "country_capitals = {\n",
    "  \"Germany\": \"Berlin\", \n",
    "  \"Italy\": \"Naples\", \n",
    "  \"England\": \"London\"\n",
    "}\n",
    "\n",
    "# change the value of \"Italy\" key to \"Rome\"\n",
    "country_capitals[\"Italy\"] = \"Rome\"\n",
    "\n",
    "print(country_capitals)"
   ]
  },
  {
   "cell_type": "markdown",
   "id": "a1822dcf-839a-4377-b2ee-aa612248b042",
   "metadata": {},
   "source": [
    "Add Items to a Dictionary <br>\n",
    "We can add an item to a dictionary by assigning a value to a new key. For example,"
   ]
  },
  {
   "cell_type": "code",
   "execution_count": 16,
   "id": "5ebfdd95-0b58-41d9-996e-f45d213e3dd9",
   "metadata": {},
   "outputs": [
    {
     "name": "stdout",
     "output_type": "stream",
     "text": [
      "{'Germany': 'Berlin', 'Canada': 'Ottawa', 'Pakistan': 'Islamabad'}\n"
     ]
    }
   ],
   "source": [
    "country_capitals = {\n",
    "  \"Germany\": \"Berlin\", \n",
    "  \"Canada\": \"Ottawa\", \n",
    "}\n",
    "\n",
    "# add an item with \"Italy\" as key and \"Rome\" as its value\n",
    "country_capitals[\"Pakistan\"] = \"Islamabad\"\n",
    "\n",
    "print(country_capitals)"
   ]
  },
  {
   "cell_type": "markdown",
   "id": "c77045e0-ec56-488a-913e-70583a1de919",
   "metadata": {},
   "source": [
    "you can change the value of a specific item by referring to its key name:<br>\n",
    "d5['Marks']['AT']=70 where AT is a new key and 70 is new value "
   ]
  },
  {
   "cell_type": "code",
   "execution_count": 17,
   "id": "b55e6774-b0e4-4b8e-a280-1574b5a01633",
   "metadata": {},
   "outputs": [
    {
     "ename": "NameError",
     "evalue": "name 'd2' is not defined",
     "output_type": "error",
     "traceback": [
      "\u001b[1;31m---------------------------------------------------------------------------\u001b[0m",
      "\u001b[1;31mNameError\u001b[0m                                 Traceback (most recent call last)",
      "Cell \u001b[1;32mIn[17], line 2\u001b[0m\n\u001b[0;32m      1\u001b[0m \u001b[38;5;66;03m# Delete items from dictinary\u001b[39;00m\n\u001b[1;32m----> 2\u001b[0m \u001b[38;5;28;01mdel\u001b[39;00m \u001b[43md2\u001b[49m \u001b[38;5;66;03m# will delete the entire dictionary\u001b[39;00m\n",
      "\u001b[1;31mNameError\u001b[0m: name 'd2' is not defined"
     ]
    }
   ],
   "source": [
    "# Delete items from dictinary\n",
    "del d2 # will delete the entire dictionary"
   ]
  },
  {
   "cell_type": "code",
   "execution_count": 18,
   "id": "6c50867e-4e69-4b1a-9e00-34b27f38b0c1",
   "metadata": {},
   "outputs": [
    {
     "data": {
      "text/plain": [
       "{'Name': 'Usman', 'University': 'ICP', 'Marks': {'DB': 80, 'OS': 99, 'DS': 90}}"
      ]
     },
     "execution_count": 18,
     "metadata": {},
     "output_type": "execute_result"
    }
   ],
   "source": [
    "# Delete individual key-value pairs or delete the item having 'Age' key\n",
    "#del keyword gives a KeyError if the key is not present in the dictionary.\n",
    "#We can also use the pop() method to remove an item from a dictionary.\n",
    "\n",
    "del d5['Age']\n",
    "d5"
   ]
  },
  {
   "cell_type": "code",
   "execution_count": 145,
   "id": "95255694-91b4-435e-a27c-9a38c00d15a5",
   "metadata": {},
   "outputs": [
    {
     "ename": "KeyError",
     "evalue": "'Age'",
     "output_type": "error",
     "traceback": [
      "\u001b[1;31m---------------------------------------------------------------------------\u001b[0m",
      "\u001b[1;31mKeyError\u001b[0m                                  Traceback (most recent call last)",
      "Cell \u001b[1;32mIn[145], line 1\u001b[0m\n\u001b[1;32m----> 1\u001b[0m \u001b[38;5;28;01mdel\u001b[39;00m \u001b[43md5\u001b[49m\u001b[43m[\u001b[49m\u001b[38;5;124;43m'\u001b[39;49m\u001b[38;5;124;43mAge\u001b[39;49m\u001b[38;5;124;43m'\u001b[39;49m\u001b[43m]\u001b[49m\n",
      "\u001b[1;31mKeyError\u001b[0m: 'Age'"
     ]
    }
   ],
   "source": [
    "del d5['Age']"
   ]
  },
  {
   "cell_type": "code",
   "execution_count": 19,
   "id": "1ebec931-7be8-40b3-81b3-184a0984653b",
   "metadata": {},
   "outputs": [
    {
     "data": {
      "text/plain": [
       "{}"
      ]
     },
     "execution_count": 19,
     "metadata": {},
     "output_type": "execute_result"
    }
   ],
   "source": [
    "d5.clear() # remove all items from dictionary\n",
    "d5"
   ]
  },
  {
   "cell_type": "code",
   "execution_count": 25,
   "id": "6da69569-19c3-4510-88fd-bd9058ee85e9",
   "metadata": {},
   "outputs": [
    {
     "data": {
      "text/plain": [
       "{}"
      ]
     },
     "execution_count": 25,
     "metadata": {},
     "output_type": "execute_result"
    }
   ],
   "source": [
    "d5"
   ]
  },
  {
   "cell_type": "code",
   "execution_count": 20,
   "id": "fa203e31-fe8d-4d35-8f15-24df12a0077e",
   "metadata": {},
   "outputs": [
    {
     "ename": "NameError",
     "evalue": "name 'd4' is not defined",
     "output_type": "error",
     "traceback": [
      "\u001b[1;31m---------------------------------------------------------------------------\u001b[0m",
      "\u001b[1;31mNameError\u001b[0m                                 Traceback (most recent call last)",
      "Cell \u001b[1;32mIn[20], line 2\u001b[0m\n\u001b[0;32m      1\u001b[0m \u001b[38;5;66;03m#Just like sets, concatenation operation does not work on dictionaries\u001b[39;00m\n\u001b[1;32m----> 2\u001b[0m \u001b[43md4\u001b[49m\u001b[38;5;241m+\u001b[39md5\n",
      "\u001b[1;31mNameError\u001b[0m: name 'd4' is not defined"
     ]
    }
   ],
   "source": [
    "#Just like sets, concatenation operation does not work on dictionaries\n",
    "d4+d5"
   ]
  },
  {
   "cell_type": "code",
   "execution_count": 147,
   "id": "38f59ef3-fc5b-4e5f-8510-821726d8aa23",
   "metadata": {},
   "outputs": [
    {
     "ename": "TypeError",
     "evalue": "unsupported operand type(s) for *: 'dict' and 'int'",
     "output_type": "error",
     "traceback": [
      "\u001b[1;31m---------------------------------------------------------------------------\u001b[0m",
      "\u001b[1;31mTypeError\u001b[0m                                 Traceback (most recent call last)",
      "Cell \u001b[1;32mIn[147], line 1\u001b[0m\n\u001b[1;32m----> 1\u001b[0m \u001b[43md4\u001b[49m\u001b[38;5;241;43m*\u001b[39;49m\u001b[38;5;241;43m3\u001b[39;49m \u001b[38;5;66;03m# Multipication does not work on dictionaries\u001b[39;00m\n",
      "\u001b[1;31mTypeError\u001b[0m: unsupported operand type(s) for *: 'dict' and 'int'"
     ]
    }
   ],
   "source": [
    "d4*3 # Multipication does not work on dictionaries\n"
   ]
  },
  {
   "cell_type": "markdown",
   "id": "bcc5f0c3-77e7-47d1-ad80-1343b1409ef7",
   "metadata": {},
   "source": [
    "Iterate Through a Dictionary <br>\n",
    "A dictionary is an ordered collection of items (starting from Python 3.7), <br>\n",
    "therefore it maintains the order of its items.\n",
    "<br>We can iterate through dictionary keys one by one using a for loop."
   ]
  },
  {
   "cell_type": "code",
   "execution_count": 24,
   "id": "8a525ee7-7c7f-4f6c-bf09-6ef85b3744e7",
   "metadata": {},
   "outputs": [
    {
     "name": "stdout",
     "output_type": "stream",
     "text": [
      "Pakistan Islamabad\n",
      "Italy Rome\n",
      "\n"
     ]
    }
   ],
   "source": [
    "country_capitals = {\n",
    "  \"Pakistan\": \"Islamabad\", \n",
    "  \"Italy\": \"Rome\" \n",
    "}\n",
    "\n",
    "# print dictionary keys one by one\n",
    "for country in country_capitals:\n",
    "    print(country,country_capitals[country])\n",
    "print()\n",
    "\n"
   ]
  },
  {
   "cell_type": "code",
   "execution_count": null,
   "id": "c96f303d-9b2f-4f54-93ed-13fd90d2bf8e",
   "metadata": {},
   "outputs": [],
   "source": [
    "# print dictionary values one by one\n",
    "for country in country_capitals:\n",
    "    capital = country_capitals[country]\n",
    "    print(capital)"
   ]
  },
  {
   "cell_type": "code",
   "execution_count": 28,
   "id": "b0c1fe0f-e5f3-4a93-884a-2a248413bf93",
   "metadata": {},
   "outputs": [
    {
     "name": "stdout",
     "output_type": "stream",
     "text": [
      "Name\n",
      "University\n",
      "Marks\n"
     ]
    }
   ],
   "source": [
    "for i in d5:  # here loop over dictionary will give only keys\n",
    "    print(i)"
   ]
  },
  {
   "cell_type": "code",
   "execution_count": null,
   "id": "87c97474-c328-4f57-b1cf-384237f7fa86",
   "metadata": {},
   "outputs": [],
   "source": []
  },
  {
   "cell_type": "code",
   "execution_count": 29,
   "id": "eab3ae6e-7885-44ce-9df1-492aad9be2e1",
   "metadata": {},
   "outputs": [
    {
     "name": "stdout",
     "output_type": "stream",
     "text": [
      "Name Farhan\n",
      "University ICP\n",
      "Marks {'DB': 80, 'OS': 90, 'DS': 90}\n"
     ]
    }
   ],
   "source": [
    "for i in d5:  # here loop over dictionary will give only keys\n",
    "    print(i, d5[i])"
   ]
  },
  {
   "cell_type": "code",
   "execution_count": 30,
   "id": "afd6730e-df6c-434c-8ba8-3758c9004cc5",
   "metadata": {},
   "outputs": [
    {
     "data": {
      "text/plain": [
       "True"
      ]
     },
     "execution_count": 30,
     "metadata": {},
     "output_type": "execute_result"
    }
   ],
   "source": [
    "# Membership operator work with dictionary and it checks the keys in the dictionary rather than value\n",
    "'University' in d5"
   ]
  },
  {
   "cell_type": "code",
   "execution_count": 31,
   "id": "f2b1e50b-5552-445d-8dd3-a77df75b364d",
   "metadata": {},
   "outputs": [
    {
     "data": {
      "text/plain": [
       "True"
      ]
     },
     "execution_count": 31,
     "metadata": {},
     "output_type": "execute_result"
    }
   ],
   "source": [
    "\"Name\" in d5 "
   ]
  },
  {
   "cell_type": "code",
   "execution_count": 32,
   "id": "b6522cef-5915-4142-8675-dd19003a8dbe",
   "metadata": {},
   "outputs": [
    {
     "data": {
      "text/plain": [
       "3"
      ]
     },
     "execution_count": 32,
     "metadata": {},
     "output_type": "execute_result"
    }
   ],
   "source": [
    "# Return the number of items or key-value pairs in dictionary\n",
    "len(d5)"
   ]
  },
  {
   "cell_type": "code",
   "execution_count": 33,
   "id": "f2699078-3b8e-4358-9d3d-9a278a181ac5",
   "metadata": {},
   "outputs": [
    {
     "data": {
      "text/plain": [
       "'Marks'"
      ]
     },
     "execution_count": 33,
     "metadata": {},
     "output_type": "execute_result"
    }
   ],
   "source": [
    "min(d5) # return the min value based on lexicographic order, based on ASCHII VALUE"
   ]
  },
  {
   "cell_type": "code",
   "execution_count": 34,
   "id": "bda88ea7-cd87-41f9-8962-02e43d672808",
   "metadata": {},
   "outputs": [
    {
     "data": {
      "text/plain": [
       "'University'"
      ]
     },
     "execution_count": 34,
     "metadata": {},
     "output_type": "execute_result"
    }
   ],
   "source": [
    "max(d5)"
   ]
  },
  {
   "cell_type": "code",
   "execution_count": 157,
   "id": "edaad644-a0d0-4877-a891-4215c527ec29",
   "metadata": {},
   "outputs": [],
   "source": [
    "# sum() does not work as the key are strings but it worked if the keys were numeric"
   ]
  },
  {
   "cell_type": "code",
   "execution_count": 158,
   "id": "14ce303d-b3f0-4d1b-9fd3-fbd2dc5acabe",
   "metadata": {},
   "outputs": [
    {
     "data": {
      "text/plain": [
       "['Marks', 'Name', 'University']"
      ]
     },
     "execution_count": 158,
     "metadata": {},
     "output_type": "execute_result"
    }
   ],
   "source": [
    "sorted(d5)"
   ]
  },
  {
   "cell_type": "code",
   "execution_count": 159,
   "id": "9785d178-048b-4a3e-bde9-b99ed13d6526",
   "metadata": {},
   "outputs": [
    {
     "data": {
      "text/plain": [
       "['University', 'Name', 'Marks']"
      ]
     },
     "execution_count": 159,
     "metadata": {},
     "output_type": "execute_result"
    }
   ],
   "source": [
    "sorted(d5, reverse=True)"
   ]
  },
  {
   "cell_type": "markdown",
   "id": "69231d50-a076-43e4-a5a2-367cbfe0cc4b",
   "metadata": {},
   "source": [
    "#The keys() method returns:\n",
    "\n",
    "#a view object that displays the list of all the keys\n",
    "#For example, if the method returns dict_keys([1, 2, 3)],\n",
    "\n",
    "dict_keys() is the view object\n",
    "[1, 2, 3] is the list of keys"
   ]
  },
  {
   "cell_type": "code",
   "execution_count": 35,
   "id": "61d7b845-72aa-46d1-95b5-5f8856271aa1",
   "metadata": {},
   "outputs": [
    {
     "data": {
      "text/plain": [
       "dict_keys(['Name', 'University', 'Marks'])"
      ]
     },
     "execution_count": 35,
     "metadata": {},
     "output_type": "execute_result"
    }
   ],
   "source": [
    "\n",
    "d5.keys() # return list of keys"
   ]
  },
  {
   "cell_type": "code",
   "execution_count": 36,
   "id": "83fbde3f-e462-45cd-9782-b6f8cb0dcb8c",
   "metadata": {},
   "outputs": [
    {
     "name": "stdout",
     "output_type": "stream",
     "text": [
      "dict_keys(['name', 'age', 'salary'])\n"
     ]
    }
   ],
   "source": [
    "employee = {'name': 'Esa', 'age': 22, 'salary': 3500.0}\n",
    "\n",
    "# extracts the keys of the dictionary\n",
    "dictionaryKeys = employee.keys()\n",
    "\n",
    "print(dictionaryKeys)"
   ]
  },
  {
   "cell_type": "code",
   "execution_count": 38,
   "id": "6b727cd0-e9b6-48e0-84df-f16a24c2396b",
   "metadata": {},
   "outputs": [
    {
     "name": "stdout",
     "output_type": "stream",
     "text": [
      "Before dictionary update: dict_keys(['name', 'age', 'salary'])\n",
      "Before dictionary update: dict_values(['usman', 22, 3500.0])\n",
      "After dictionary update: dict_keys(['name', 'age', 'salary'])\n",
      "After dictionary update: dict_values(['usman', 22, 4500.0])\n"
     ]
    }
   ],
   "source": [
    "#Update in dictionary updates the view object\n",
    "employee = {'name': 'usman', 'age': 22,'salary': 3500.0}\n",
    "\n",
    "# extracts the dictionary keys\n",
    "dictionaryKeys = employee.keys()\n",
    "dictionaryvalues=employee.values()\n",
    "\n",
    "print('Before dictionary update:', dictionaryKeys)\n",
    "print('Before dictionary update:', dictionaryvalues)\n",
    "\n",
    "# adds an element to the dictionary\n",
    "employee.update({'salary': 4500.0})\n",
    "\n",
    "# prints the updated view object\n",
    "print('After dictionary update:', dictionaryKeys)\n",
    "print('After dictionary update:', dictionaryvalues)"
   ]
  },
  {
   "cell_type": "code",
   "execution_count": 39,
   "id": "4f5d4c57-c20c-4434-b55c-4802f5bd17db",
   "metadata": {},
   "outputs": [
    {
     "data": {
      "text/plain": [
       "dict_values(['Farhan', 'ICP', {'DB': 80, 'OS': 90, 'DS': 90}])"
      ]
     },
     "execution_count": 39,
     "metadata": {},
     "output_type": "execute_result"
    }
   ],
   "source": [
    "d5.values() # return list of values"
   ]
  },
  {
   "cell_type": "markdown",
   "id": "d050e9bf-e146-4cb6-a527-fa0d93d90d8a",
   "metadata": {},
   "source": [
    "Dictionary Items - Data Types\n",
    "The values in dictionary items can be of any data type:String, int, boolean, and list data types:"
   ]
  },
  {
   "cell_type": "code",
   "execution_count": 40,
   "id": "fb51b354-7c97-45f5-84e2-d23f13ded7aa",
   "metadata": {},
   "outputs": [
    {
     "data": {
      "text/plain": [
       "{'brand': 'Ford',\n",
       " 'electric': False,\n",
       " 'year': 1964,\n",
       " 'colors': ['red', 'white', 'blue']}"
      ]
     },
     "execution_count": 40,
     "metadata": {},
     "output_type": "execute_result"
    }
   ],
   "source": [
    "thisdict = {\n",
    "  \"brand\": \"Ford\",\n",
    "  \"electric\": False,\n",
    "  \"year\": 1964,\n",
    "  \"colors\": [\"red\", \"white\", \"blue\"]\n",
    "}\n",
    "thisdict"
   ]
  },
  {
   "cell_type": "markdown",
   "id": "1b713211-80ef-457d-b009-59f32c7a1b12",
   "metadata": {},
   "source": [
    "From Python's perspective, dictionaries are defined as objects with the data type 'dict':\n",
    "<class 'dict'>\n",
    "The dict() Constructor\n",
    "It is also possible to use the dict() constructor to make a dictionary."
   ]
  },
  {
   "cell_type": "code",
   "execution_count": 41,
   "id": "4898d651-bbea-40a3-a511-20566b75a831",
   "metadata": {},
   "outputs": [
    {
     "name": "stdout",
     "output_type": "stream",
     "text": [
      "{'name': 'Ali', 'age': 36, 'country': 'Turkey'}\n",
      "<class 'dict'>\n"
     ]
    }
   ],
   "source": [
    "thisdict = dict(name = \"Ali\", age = 36, country = \"Turkey\")\n",
    "print(thisdict)\n",
    "print(type(thisdict))"
   ]
  },
  {
   "cell_type": "code",
   "execution_count": 171,
   "id": "3bca6b00-1c7c-4558-9619-e3e69e1f5b6e",
   "metadata": {},
   "outputs": [
    {
     "name": "stdout",
     "output_type": "stream",
     "text": [
      "before changes\n",
      "dict_values(['Ford', 'Mustang', 1964])\n",
      "After changes\n",
      "dict_values(['Ford', 'Mustang', 2020])\n"
     ]
    }
   ],
   "source": [
    "#Make a change in the original dictionary, and see that the values list gets updated as well:\n",
    "car = {\n",
    "\"brand\": \"Ford\",\n",
    "\"model\": \"Mustang\",\n",
    "\"year\": 1964\n",
    "}\n",
    "\n",
    "x = car.values()\n",
    "print('before changes')\n",
    "print(x) #before the change\n",
    "\n",
    "print('After changes')\n",
    "car[\"year\"] = 2020\n",
    "\n",
    "print(x) #after the change"
   ]
  },
  {
   "cell_type": "code",
   "execution_count": 42,
   "id": "26f4d4e0-c50b-4a00-a55e-146ead89bf19",
   "metadata": {},
   "outputs": [
    {
     "name": "stdout",
     "output_type": "stream",
     "text": [
      "dict_values(['Ford', 'Mustang', 1964])\n",
      "dict_values(['Ford', 'Mustang', 1964, 'red'])\n"
     ]
    }
   ],
   "source": [
    "#Add a new item to the original dictionary, and see that the values list gets updated as well:\n",
    "car = {\n",
    "\"brand\": \"Ford\",\n",
    "\"model\": \"Mustang\",\n",
    "\"year\": 1964\n",
    "}\n",
    "\n",
    "x = car.values()\n",
    "\n",
    "print(x) #before the change\n",
    "\n",
    "car[\"color\"] = \"red\"\n",
    "\n",
    "print(x) #after the change"
   ]
  },
  {
   "cell_type": "code",
   "execution_count": 43,
   "id": "73974270-8c1d-41fe-8990-daee43055b07",
   "metadata": {},
   "outputs": [
    {
     "name": "stdout",
     "output_type": "stream",
     "text": [
      "dict_items([('brand', 'Ford'), ('model', 'Mustang'), ('year', 1964), ('color', 'red')])\n"
     ]
    }
   ],
   "source": [
    "#Get Items\n",
    "#The items() method will return each item in a dictionary, as tuples in a list.\n",
    "#Get a list of the key:value pairs\n",
    "\n",
    "itm=car.items()\n",
    "print(itm)"
   ]
  },
  {
   "cell_type": "code",
   "execution_count": 179,
   "id": "e553d805-eabd-4fed-98c3-350fae026c15",
   "metadata": {},
   "outputs": [
    {
     "name": "stdout",
     "output_type": "stream",
     "text": [
      "4 5 6\n"
     ]
    }
   ],
   "source": [
    "a,b,c=(4,5,6)\n",
    "print(a,b,c)"
   ]
  },
  {
   "cell_type": "code",
   "execution_count": 44,
   "id": "3c1f6f43-19f2-41af-b1c8-6cc1ccd1578a",
   "metadata": {},
   "outputs": [
    {
     "name": "stdout",
     "output_type": "stream",
     "text": [
      "('brand', 'Ford') \n",
      "('model', 'Mustang') \n",
      "('year', 1964) \n",
      "('color', 'red') \n"
     ]
    }
   ],
   "source": [
    "for k in car.items():\n",
    "    print(f'{k} ')"
   ]
  },
  {
   "cell_type": "code",
   "execution_count": null,
   "id": "03636aa6-7262-42b7-9ed4-975632d21be1",
   "metadata": {},
   "outputs": [],
   "source": []
  },
  {
   "cell_type": "code",
   "execution_count": 180,
   "id": "f369a9f6-09a5-42cb-b78c-46136b86ff60",
   "metadata": {},
   "outputs": [
    {
     "name": "stdout",
     "output_type": "stream",
     "text": [
      "Yes, 'model' is one of the keys in the thisdict dictionary\n"
     ]
    }
   ],
   "source": [
    "#Check if Key Exists\n",
    "#To determine if a specified key is present in a dictionary use the in keyword:\n",
    "thisdict = {\n",
    "  \"brand\": \"Ford\",\n",
    "  \"model\": \"Mustang\",\n",
    "  \"year\": 1964\n",
    "}\n",
    "if \"model\" in thisdict:\n",
    "  print(\"Yes, 'model' is one of the keys in the thisdict dictionary\")"
   ]
  },
  {
   "cell_type": "markdown",
   "id": "ff0e1d42-a436-4170-a71c-4f4c445cfc39",
   "metadata": {},
   "source": [
    "-The update() method will update the dictionary with the items from the given argument.\n",
    "--The argument must be a dictionary, or an iterable object with key:value pairs.\n",
    "--The update() method updates the dictionary with the elements from another dictionary object or from an iterable object of key/value pairs (generally tuples).\n",
    "If update() is called without passing parameters, the dictionary remains unchanged.\n",
    "\n",
    "In Python, an iterable object is any object that can be iterated over, meaning you can traverse through its elements one by one. Examples of iterable objects in Python include lists, tuples, sets, dictionaries, strings, and more.\n"
   ]
  },
  {
   "cell_type": "code",
   "execution_count": 45,
   "id": "d0ed6170-5a56-4bb8-b56b-4be5d629ca17",
   "metadata": {},
   "outputs": [
    {
     "name": "stdout",
     "output_type": "stream",
     "text": [
      "{'Physics': 67, 'Maths': 87, 'Practical': 40, 'CS': 90}\n"
     ]
    }
   ],
   "source": [
    "marks = {'Physics':67, 'Maths':87}\n",
    "internal_marks = {'Practical':40, 'CS':90}\n",
    "marks.update(internal_marks)\n",
    "\n",
    "print(marks)\n"
   ]
  },
  {
   "cell_type": "code",
   "execution_count": 46,
   "id": "09d1b8dd-b2e8-4a88-a8b2-f48e237d9c08",
   "metadata": {},
   "outputs": [
    {
     "name": "stdout",
     "output_type": "stream",
     "text": [
      "{1: 'one', 2: 'two'}\n"
     ]
    }
   ],
   "source": [
    "#The update() method adds element(s) to the dictionary if the key is not in the dictionary.\n",
    "#If the key is in the dictionary, it updates the key with the new value.\n",
    "d = {1: \"one\", 2: \"three\"}\n",
    "d1 = {2: \"two\"}\n",
    "\n",
    "# updates the value of key 2\n",
    "d.update(d1)\n",
    "\n",
    "print(d)\n",
    "\n"
   ]
  },
  {
   "cell_type": "code",
   "execution_count": 47,
   "id": "d2660f76-2251-4239-a172-ca68f3869ea2",
   "metadata": {},
   "outputs": [
    {
     "name": "stdout",
     "output_type": "stream",
     "text": [
      "{1: 'one', 2: 'two', 3: 'three'}\n"
     ]
    }
   ],
   "source": [
    "d1 = {3: \"three\"}\n",
    "\n",
    "# adds element with key 3\n",
    "d.update(d1)\n",
    "\n",
    "print(d)"
   ]
  },
  {
   "cell_type": "markdown",
   "id": "dd96c0e0-9ae7-4de6-9650-ed8f84b4e3e9",
   "metadata": {},
   "source": [
    "Here, we have passed a list of tuples [('y', 3), ('z', 0)] to the update() function. In this case, the first element of tuple is used as the key and the second element is used as the value."
   ]
  },
  {
   "cell_type": "code",
   "execution_count": 51,
   "id": "f522a3ad-f51d-451c-b2a1-75c16a7a9ced",
   "metadata": {},
   "outputs": [
    {
     "data": {
      "text/plain": [
       "{'x': 2, 'y': 3, 'z': 0}"
      ]
     },
     "execution_count": 51,
     "metadata": {},
     "output_type": "execute_result"
    }
   ],
   "source": [
    "#we have passed a list of tuples [('y', 3), ('z', 0)] or iterable to the update() function. In this case, \n",
    "#the first element of tuple is used as the key and the second element is used as the value.\n",
    "\n",
    "dictionary = {'x': 2}\n",
    "\n",
    "dictionary.update([('y', 3), ('z', 0)])\n",
    "\n",
    "#print(dictionary)\n",
    "dc=dictionary.copy()\n",
    "dc"
   ]
  },
  {
   "cell_type": "code",
   "execution_count": 52,
   "id": "8cae199d-12e7-441c-8ad4-82f4665d4075",
   "metadata": {},
   "outputs": [
    {
     "name": "stdout",
     "output_type": "stream",
     "text": [
      "Original items: dict_values([2, 3, 4])\n",
      "Updated items: dict_values([3, 4])\n"
     ]
    }
   ],
   "source": [
    "# random sales dictionary\n",
    "sales = { 'apple': 2, 'orange': 3, 'grapes': 4 }\n",
    "\n",
    "values = sales.values()\n",
    "\n",
    "print('Original items:', values)\n",
    "\n",
    "# delete an item from dictionary\n",
    "del sales['apple']\n",
    "\n",
    "print('Updated items:', values)"
   ]
  },
  {
   "cell_type": "markdown",
   "id": "f3e4cca4-bb13-4594-b1a3-0647a2146a78",
   "metadata": {},
   "source": [
    "Python Dictionary pop():\n",
    "The pop() method removes and returns an element from a dictionary having the given key.<br>\n",
    "pop() Parameters <br>\n",
    "pop() method takes two parameters:\n",
    "\n",
    "key - key which is to be searched for removal <br>\n",
    "default - value which is to be returned when the key is not in the dictionary <br>\n",
    "Return value from pop()\n",
    "The pop() method returns:\n",
    "\n",
    "If key is found - removed/popped element from the dictionary <br>\n",
    "If key is not found - value specified as the second argument (default)<br>\n",
    "If key is not found and default argument is not specified - KeyError exception is raised<br>\n"
   ]
  },
  {
   "cell_type": "code",
   "execution_count": 53,
   "id": "c5450526-208f-4151-af71-516fbe17b8b5",
   "metadata": {},
   "outputs": [
    {
     "name": "stdout",
     "output_type": "stream",
     "text": [
      "Popped Marks: 72\n"
     ]
    }
   ],
   "source": [
    "# create a dictionary\n",
    "marks = { 'Physics': 67, 'Chemistry': 72, 'Math': 89 }\n",
    "\n",
    "#del marks['Chemistry']\n",
    "element = marks.pop('Chemistry')\n",
    "\n",
    "print('Popped Marks:', element)\n",
    "\n",
    "# Output: Popped Marks: 72"
   ]
  },
  {
   "cell_type": "code",
   "execution_count": 54,
   "id": "3468981d-1721-4b39-a3de-d50d1f6b9381",
   "metadata": {},
   "outputs": [
    {
     "name": "stdout",
     "output_type": "stream",
     "text": [
      "The popped element is: 2\n",
      "The dictionary is: {'orange': 3, 'grapes': 4}\n"
     ]
    }
   ],
   "source": [
    "#Pop an element from the dictionary\n",
    "# random sales dictionary\n",
    "sales = { 'apple': 2, 'orange': 3, 'grapes': 4 }\n",
    "\n",
    "element = sales.pop('apple')\n",
    "\n",
    "print('The popped element is:', element)\n",
    "print('The dictionary is:', sales)"
   ]
  },
  {
   "cell_type": "code",
   "execution_count": 55,
   "id": "ad400a91-0f69-453c-86d9-c01e08f54e87",
   "metadata": {},
   "outputs": [
    {
     "ename": "KeyError",
     "evalue": "'guava'",
     "output_type": "error",
     "traceback": [
      "\u001b[1;31m---------------------------------------------------------------------------\u001b[0m",
      "\u001b[1;31mKeyError\u001b[0m                                  Traceback (most recent call last)",
      "Cell \u001b[1;32mIn[55], line 5\u001b[0m\n\u001b[0;32m      1\u001b[0m \u001b[38;5;66;03m#Pop an element not present from the dictionary\u001b[39;00m\n\u001b[0;32m      2\u001b[0m \u001b[38;5;66;03m# random sales dictionary\u001b[39;00m\n\u001b[0;32m      3\u001b[0m sales \u001b[38;5;241m=\u001b[39m { \u001b[38;5;124m'\u001b[39m\u001b[38;5;124mapple\u001b[39m\u001b[38;5;124m'\u001b[39m: \u001b[38;5;241m2\u001b[39m, \u001b[38;5;124m'\u001b[39m\u001b[38;5;124morange\u001b[39m\u001b[38;5;124m'\u001b[39m: \u001b[38;5;241m3\u001b[39m, \u001b[38;5;124m'\u001b[39m\u001b[38;5;124mgrapes\u001b[39m\u001b[38;5;124m'\u001b[39m: \u001b[38;5;241m4\u001b[39m }\n\u001b[1;32m----> 5\u001b[0m element \u001b[38;5;241m=\u001b[39m \u001b[43msales\u001b[49m\u001b[38;5;241;43m.\u001b[39;49m\u001b[43mpop\u001b[49m\u001b[43m(\u001b[49m\u001b[38;5;124;43m'\u001b[39;49m\u001b[38;5;124;43mguava\u001b[39;49m\u001b[38;5;124;43m'\u001b[39;49m\u001b[43m)\u001b[49m\n",
      "\u001b[1;31mKeyError\u001b[0m: 'guava'"
     ]
    }
   ],
   "source": [
    " #Pop an element not present from the dictionary\n",
    "# random sales dictionary\n",
    "sales = { 'apple': 2, 'orange': 3, 'grapes': 4 }\n",
    "\n",
    "element = sales.pop('guava')\n"
   ]
  },
  {
   "cell_type": "code",
   "execution_count": 56,
   "id": "1201b5f4-80e1-4878-a6ba-8efe7f29c2ce",
   "metadata": {},
   "outputs": [
    {
     "name": "stdout",
     "output_type": "stream",
     "text": [
      "The popped element is: not found\n",
      "The dictionary is: {'apple': 2, 'orange': 3, 'grapes': 4}\n"
     ]
    }
   ],
   "source": [
    "#Pop an element not present from the dictionary, provided a default value\n",
    "# random sales dictionary\n",
    "sales = { 'apple': 2, 'orange': 3, 'grapes': 4 }\n",
    "\n",
    "element = sales.pop('Mango', 'not found')\n",
    "\n",
    "print('The popped element is:', element)\n",
    "print('The dictionary is:', sales)"
   ]
  },
  {
   "cell_type": "markdown",
   "id": "15d77666-1a1f-42f6-9fdc-ee47cc7473c3",
   "metadata": {},
   "source": [
    "Python Dictionary popitem()\n",
    "The popitem() doesn't take any parameters. <br>\n",
    "The popitem() method removes and returns the (key, value) pair from the dictionary in the Last In, First Out (LIFO) order.\n",
    "\n",
    "Returns the latest inserted element (key,value) pair from the dictionary.<br>\n",
    "Removes the returned element pair from the dictionary.<br>\n",
    "The popitem() method raises a KeyError error if the dictionary is empty.<br>"
   ]
  },
  {
   "cell_type": "code",
   "execution_count": 57,
   "id": "06f482f1-a89e-429c-adc4-15e7b7021e9c",
   "metadata": {},
   "outputs": [
    {
     "name": "stdout",
     "output_type": "stream",
     "text": [
      "Return Value =  ('salary', 3500.0)\n",
      "person =  {'name': 'farhan', 'age': 22}\n",
      "Return Value =  ('profession', 'Developer')\n",
      "person =  {'name': 'farhan', 'age': 22}\n"
     ]
    }
   ],
   "source": [
    "person = {'name': 'farhan', 'age': 22, 'salary': 3500.0}\n",
    "\n",
    "# ('salary', 3500.0) is inserted at the last, so it is removed.\n",
    "result = person.popitem()\n",
    "\n",
    "print('Return Value = ', result)\n",
    "print('person = ', person)\n",
    "\n",
    "# inserting a new element pair\n",
    "person['profession'] = 'Developer'\n",
    "\n",
    "# now ('profession', 'Developer') is the latest element\n",
    "result = person.popitem()\n",
    "\n",
    "print('Return Value = ', result)\n",
    "print('person = ', person)"
   ]
  },
  {
   "cell_type": "markdown",
   "id": "c2388670-c07f-4358-9fd5-bd8f69ad2334",
   "metadata": {},
   "source": [
    "The fromkeys() method in Python's dictionary class is not suitable for creating a dictionary where values are different for different keys. <br>\n",
    "This method is designed to create a new dictionary with keys from a sequence and set all the values to a single specified value. <br>\n",
    "Therefore, it does not allow for specifying different values for different keys directly through the fromkeys() method.\n",
    "\n",
    "However, you can achieve the desired result by using other approaches, such as dictionary comprehension or by specifying values individually. Here's how you can do it using dictionary comprehension:"
   ]
  },
  {
   "cell_type": "code",
   "execution_count": 6,
   "id": "e892947c-3dba-4e36-b03d-6e91786f72aa",
   "metadata": {},
   "outputs": [
    {
     "name": "stdout",
     "output_type": "stream",
     "text": [
      "[('a', 1), ('b', 2), ('c', 3), ('d', 4), ('e', 5)]\n"
     ]
    }
   ],
   "source": [
    "keys = ['a', 'b', 'c', 'd', 'e']\n",
    "values = [\n",
    "\n",
    "\n",
    "    \n",
    "print(list(zip(keys, values)))"
   ]
  },
  {
   "cell_type": "code",
   "execution_count": 7,
   "id": "39dbbced-5b96-454a-a5ea-0da0f8b08ed2",
   "metadata": {},
   "outputs": [
    {
     "data": {
      "text/plain": [
       "{'a': 1, 'b': 2, 'c': 3, 'd': 4, 'e': 5}"
      ]
     },
     "execution_count": 7,
     "metadata": {},
     "output_type": "execute_result"
    }
   ],
   "source": [
    "dictnew= {key: value for key, value in zip(keys, values) }\n",
    "dictnew"
   ]
  },
  {
   "cell_type": "code",
   "execution_count": 12,
   "id": "2b86b401-de79-4ddf-9963-0dcf7a22cf38",
   "metadata": {},
   "outputs": [
    {
     "name": "stdout",
     "output_type": "stream",
     "text": [
      "('a', 1)\n",
      "('b', 2)\n",
      "('c', 3)\n",
      "('d', 4)\n",
      "('e', 5)\n"
     ]
    }
   ],
   "source": [
    "keys = ['a', 'b', 'c', 'd', 'e']\n",
    "values = [1, 2, 3, 4, 5]\n",
    "for i in zip(keys,values):\n",
    "    print(i)"
   ]
  },
  {
   "cell_type": "code",
   "execution_count": 18,
   "id": "53d75e0f-0255-40b2-af01-9694ec6d90f3",
   "metadata": {},
   "outputs": [
    {
     "name": "stdout",
     "output_type": "stream",
     "text": [
      "{'a': 1, 'b': 2, 'c': 3, 'd': 4, 'e': 5}\n"
     ]
    }
   ],
   "source": [
    "keys = ['a', 'b', 'c', 'd', 'e']\n",
    "values = [1, 2, 3, 4, 5]\n",
    "\n",
    "# Create a dictionary using dictionary comprehension\n",
    "result = {key: value for key, value in zip(keys, values)}\n",
    "\n",
    "print(result)\n"
   ]
  },
  {
   "cell_type": "markdown",
   "id": "b9782c98-eff8-49f3-b8ab-1059cc5641f4",
   "metadata": {},
   "source": [
    "you modify the list value by appending 2 to it. Since each key in the vowels dictionary is referencing the same list value, modifying value affects all the values associated with the keys in vowels. So, when you print vowels again, you'll see that all values have been updated to [1, 2]."
   ]
  },
  {
   "cell_type": "code",
   "execution_count": 19,
   "id": "da132ffb-3a5e-43a9-bf98-37fca5d082e9",
   "metadata": {},
   "outputs": [
    {
     "name": "stdout",
     "output_type": "stream",
     "text": [
      "{'i': [1], 'u': [1], 'a': [1], 'o': [1], 'e': [1]}\n",
      "{'i': [1, 2], 'u': [1, 2], 'a': [1, 2], 'o': [1, 2], 'e': [1, 2]}\n"
     ]
    }
   ],
   "source": [
    "# vowels keys\n",
    "keys = {'a', 'e', 'i', 'o', 'u' }\n",
    "value = [1]\n",
    "\n",
    "# creates dictionary using dictionary comprehension\n",
    "vowels = { key : value for key in keys }\n",
    "\n",
    "print(vowels)\n",
    "\n",
    "# updates the value list\n",
    "value.append(2)\n",
    "\n",
    "print(vowels)"
   ]
  },
  {
   "cell_type": "markdown",
   "id": "840d00f7-e69d-4781-8efe-39bb4715ac45",
   "metadata": {},
   "source": [
    "We can use dictionary comprehension and prevent updating the dictionary when the mutable object (list, dictionary, etc) is updated. For example,<br>\n",
    "In this code, list(value) ensures that each key in vowels is associated with a separate list object containing the same elements as value. \n",
    "<br>Thus, modifying value after creating the dictionary doesn't affect the values associated with the keys in the dictionary. Each key still refers to its own distinct list object."
   ]
  },
  {
   "cell_type": "code",
   "execution_count": 20,
   "id": "f25fa52b-26af-485a-9f86-08627293d945",
   "metadata": {},
   "outputs": [
    {
     "name": "stdout",
     "output_type": "stream",
     "text": [
      "{'i': [1], 'u': [1], 'a': [1], 'o': [1], 'e': [1]}\n",
      "{'i': [1], 'u': [1], 'a': [1], 'o': [1], 'e': [1]}\n"
     ]
    }
   ],
   "source": [
    "# vowels keys\n",
    "keys = {'a', 'e', 'i', 'o', 'u' }\n",
    "value = [1]\n",
    "\n",
    "# creates dictionary using dictionary comprehension\n",
    "vowels = { key : list(value) for key in keys }\n",
    "\n",
    "print(vowels)\n",
    "\n",
    "# updates the value list\n",
    "value.append(2)\n",
    "\n",
    "print(vowels)"
   ]
  },
  {
   "cell_type": "code",
   "execution_count": null,
   "id": "a07bafc8-f4d3-4a10-94e2-14978c14f7f8",
   "metadata": {},
   "outputs": [],
   "source": []
  },
  {
   "cell_type": "markdown",
   "id": "c726b241-87f7-4554-99c8-414464505b2b",
   "metadata": {},
   "source": [
    "By using lst = list(value), you're creating a new list object lst that is a copy of the list value. This ensures that lst and value are two separate list objects in memory, even if they contain the same elements initially."
   ]
  },
  {
   "cell_type": "code",
   "execution_count": 6,
   "id": "47d42cd0-2738-4c35-8bd4-7ae32745e977",
   "metadata": {},
   "outputs": [
    {
     "name": "stdout",
     "output_type": "stream",
     "text": [
      "[2]\n"
     ]
    }
   ],
   "source": [
    "value = [2]  # Original list\n",
    "lst = list(value)  # Creating a new list 'lst' by passing 'value' to the list() function\n",
    "print(lst)  # Output: [2]"
   ]
  },
  {
   "cell_type": "markdown",
   "id": "e1cd15a1-7d6e-49e3-96f3-1d062da6018c",
   "metadata": {},
   "source": [
    "Dictionary comprehension is an elegant and concise way to create dictionaries."
   ]
  },
  {
   "cell_type": "code",
   "execution_count": 21,
   "id": "af2f3e0d-db04-4565-96e4-cd8a0162dc4c",
   "metadata": {},
   "outputs": [
    {
     "name": "stdout",
     "output_type": "stream",
     "text": [
      "{1: 1, 2: 4, 3: 9, 4: 16, 5: 25, 6: 36, 7: 49, 8: 64, 9: 81, 10: 100}\n"
     ]
    }
   ],
   "source": [
    "square_dict = dict()\n",
    "for num in range(1, 11):\n",
    "    square_dict[num] = num*num\n",
    "print(square_dict)\n"
   ]
  },
  {
   "cell_type": "code",
   "execution_count": 8,
   "id": "b8866368-d51b-4dcb-9e9c-b45cec15acdf",
   "metadata": {},
   "outputs": [
    {
     "name": "stdout",
     "output_type": "stream",
     "text": [
      "{1: 1, 2: 4, 3: 9, 4: 16, 5: 25, 6: 36, 7: 49, 8: 64, 9: 81, 10: 100}\n"
     ]
    }
   ],
   "source": [
    "#Now, let's create the dictionary in the above program using dictionary comprehension.\n",
    "# dictionary comprehension example\n",
    "square_dict = {num: num*num for num in range(1, 11)}\n",
    "print(square_dict)"
   ]
  },
  {
   "cell_type": "markdown",
   "id": "ead56113-46ab-4c47-b113-7f0eb7201938",
   "metadata": {},
   "source": [
    "In both programs, we have created a dictionary square_dict with number-square key/value pair.\n",
    "\n",
    "However, using dictionary comprehension allowed us to create a dictionary in a single line.\n",
    "\n"
   ]
  },
  {
   "attachments": {
    "316c5244-0d64-4c51-94d4-1df083913412.png": {
     "image/png": "[encoded data removed]"
    }
   },
   "cell_type": "markdown",
   "id": "ace404de-3bd7-4d18-a55b-877bceb265f9",
   "metadata": {},
   "source": [
    "![image.png](attachment:316c5244-0d64-4c51-94d4-1df083913412.png)"
   ]
  },
  {
   "cell_type": "code",
   "execution_count": null,
   "id": "25fca692-a5b6-49f1-b0cb-518318dff9d2",
   "metadata": {},
   "outputs": [],
   "source": []
  },
  {
   "cell_type": "code",
   "execution_count": 8,
   "id": "931a6b89-a97c-4287-bc3f-0cbf086d4cf8",
   "metadata": {},
   "outputs": [
    {
     "name": "stdout",
     "output_type": "stream",
     "text": [
      "{'milk': 1.02, 'coffee': 2.5, 'bread': 2.5}\n",
      "{'milk': 283.56, 'coffee': 695.0, 'bread': 695.0}\n"
     ]
    }
   ],
   "source": [
    "#we can see that we retrieved the item prices in dollars and converted them to pounds. \n",
    "#Using dictionary comprehension makes this task much simpler and shorter.\n",
    "\n",
    "old_price = {'milk': 1.02, 'coffee': 2.5, 'bread': 2.5}\n",
    "\n",
    "dollar_to_rupees = 278\n",
    "print(old_price)\n",
    "new_price = {item: value*dollar_to_rupees for (item, value) in old_price.items()}\n",
    "print(new_price)\n",
    "\n"
   ]
  },
  {
   "cell_type": "code",
   "execution_count": 16,
   "id": "5274c040-2c89-4e62-b7f4-3aef58b30e3b",
   "metadata": {},
   "outputs": [
    {
     "name": "stdout",
     "output_type": "stream",
     "text": [
      "{'milk': 50, 'coffee': 25, 'bread': 2.5}\n",
      "{'milk': 55.0, 'coffee': 27.5, 'bread': 2.5}\n"
     ]
    }
   ],
   "source": [
    "old_price = {'milk': 50, 'coffee': 25, 'bread': 2.5}\n",
    "\n",
    "\n",
    "print(old_price)\n",
    "new_price = {item: (value*0.10+value) if item in ['milk','coffee'] else value for (item, value) in old_price.items()}\n",
    "print(new_price)\n"
   ]
  },
  {
   "cell_type": "markdown",
   "id": "f7b7b1dd-3d87-49a9-827c-6e17e8143766",
   "metadata": {},
   "source": [
    "Conditionals in Dictionary Comprehension\n",
    "We can further customize dictionary comprehension by adding conditions to it. Let's look at an example.\n",
    "If Conditional Dictionary Comprehension\n",
    "only the items with even value have been added, because of the if clause in the dictionary comprehension."
   ]
  },
  {
   "cell_type": "code",
   "execution_count": 15,
   "id": "07c213b7-35c5-434d-858a-aef111c53ece",
   "metadata": {},
   "outputs": [
    {
     "name": "stdout",
     "output_type": "stream",
     "text": [
      "{'Farhan': 3.5, 'Arsalan': 3.7, 'Miraj': 4.0}\n"
     ]
    }
   ],
   "source": [
    "original_dict = {'Farhan': 3.5, 'fazal': 2.8, 'Arsalan': 3.7, 'Miraj': 4.0}\n",
    "\n",
    "even_dict = {k: v for k, v in original_dict.items() if v >= 3.5}\n",
    "print(even_dict)\n"
   ]
  },
  {
   "cell_type": "code",
   "execution_count": 11,
   "id": "3aedb3c1-0213-4fd8-a7fb-14591d180aa0",
   "metadata": {},
   "outputs": [
    {
     "name": "stdout",
     "output_type": "stream",
     "text": [
      "{'michael': 48, 'guido': 57}\n"
     ]
    }
   ],
   "source": [
    "# add items in dictionary whose value is greater than 45\n",
    "original_dict = {'jack': 38, 'michael': 48, 'guido': 57, 'john': 33}\n",
    "\n",
    "even_dict = {k: v for (k, v) in original_dict.items() if v > 45}\n",
    "print(even_dict)"
   ]
  },
  {
   "cell_type": "code",
   "execution_count": 17,
   "id": "44f1dcf6-7687-4f7c-b871-e594eed14b8e",
   "metadata": {},
   "outputs": [
    {
     "name": "stdout",
     "output_type": "stream",
     "text": [
      "{'john': 33}\n"
     ]
    }
   ],
   "source": [
    "#Multiple if Conditional Dictionary Comprehension\n",
    "#In this case, only the items with an odd value of less than 40 have been added to the new dictionary.\n",
    "#It is because of the multiple if clauses in the dictionary comprehension. \n",
    "#They are equivalent to and operation where both conditions have to be true.\n",
    "\n",
    "original_dict = {'jack': 38, 'michael': 48, 'guido': 57, 'john': 33}\n",
    "\n",
    "new_dict = {k: v for (k, v) in original_dict.items() if v % 2 != 0 if v < 40}\n",
    "print(new_dict)\n"
   ]
  },
  {
   "cell_type": "code",
   "execution_count": 18,
   "id": "d0213aff-98e4-43b2-b219-52a99c9618fa",
   "metadata": {},
   "outputs": [
    {
     "name": "stdout",
     "output_type": "stream",
     "text": [
      "{'jack': 'Adult', 'michael': 'Adult', 'guido': 'old', 'john': 'Young', 'Alim': 'Young'}\n"
     ]
    }
   ],
   "source": [
    "#if-else Conditional Dictionary Comprehension\n",
    "original_dict = {'jack': 38, 'michael': 48, 'guido': 57, 'john': 33,'Alim':27}\n",
    "\n",
    "new_dict_1 = {k: ('old' if v > 50 else  'Adult' if v>35 else 'Young')\n",
    "    for (k, v) in original_dict.items()}\n",
    "print(new_dict_1)\n",
    "\n"
   ]
  },
  {
   "cell_type": "code",
   "execution_count": 29,
   "id": "ac5605a0-a8f9-48ab-8428-5eae6aecb0b9",
   "metadata": {},
   "outputs": [
    {
     "name": "stdout",
     "output_type": "stream",
     "text": [
      "{'jack': 'A+', 'michael': 'B+', 'guido': 'Failed', 'john': 'Failed', 'Alim': 'C'}\n"
     ]
    }
   ],
   "source": [
    "original_dict = {'jack': 3.8, 'michael': 3.4, 'guido': 2.4, 'john': 2.3,'Alim':2.7}\n",
    "\n",
    "new_dict_1 = {k: ('A+' if v >3.5 else  'B+' if v>3.0 else  'C' if v>2.5 else 'Failed')\n",
    "    for (k, v) in original_dict.items()}\n",
    "print(new_dict_1)"
   ]
  },
  {
   "cell_type": "markdown",
   "id": "2d812ba3-c73d-4c7e-853b-6e3ebe635628",
   "metadata": {},
   "source": [
    "# multiples of 2, 3, 4 and 5"
   ]
  },
  {
   "cell_type": "code",
   "execution_count": 30,
   "id": "75f7655d-c6aa-4cbc-a150-33a4b20ba829",
   "metadata": {},
   "outputs": [
    {
     "name": "stdout",
     "output_type": "stream",
     "text": [
      "{2: {1: 2, 2: 4, 3: 6, 4: 8, 5: 10}, 3: {1: 3, 2: 6, 3: 9, 4: 12, 5: 15}, 4: {1: 4, 2: 8, 3: 12, 4: 16, 5: 20}, 5: {1: 5, 2: 10, 3: 15, 4: 20, 5: 25}}\n"
     ]
    }
   ],
   "source": [
    "dic= { k: { v: v*k for v in range(1,6)}  for k in range(2,6)}\n",
    "print(dic)\n",
    "     "
   ]
  },
  {
   "cell_type": "code",
   "execution_count": 81,
   "id": "bf85c0a6-0d9c-4716-9c07-08ca9cf836ee",
   "metadata": {},
   "outputs": [
    {
     "name": "stdout",
     "output_type": "stream",
     "text": [
      "{2: {1: 2, 2: 4, 3: 6, 4: 8, 5: 10}, 3: {1: 3, 2: 6, 3: 9, 4: 12, 5: 15}, 4: {1: 4, 2: 8, 3: 12, 4: 16, 5: 20}}\n"
     ]
    }
   ],
   "source": [
    "dictionary = {\n",
    "    k1: {k2: k1 * k2 for k2 in range(1, 6)} for k1 in range(2, 5)\n",
    "}\n",
    "print(dictionary)\n"
   ]
  },
  {
   "cell_type": "markdown",
   "id": "3d5cc9da-8bdf-42e7-b611-315dd7c9b4a9",
   "metadata": {},
   "source": [
    "Iterable:\n",
    "\n",
    "An iterable is any object in Python that can be looped over using a loop (like a for loop) or consumed with functions and constructors that accept iterable objects (such as sum(), list(), tuple(), etc.).\n",
    "Examples of iterables include lists, tuples, sets, dictionaries, strings, and more. Essentially, anything that you can iterate over in a loop or pass to a function expecting multiple values is an iterable.\n",
    "Iterables provide a way to access the individual elements one at a time.\n",
    "Iterator:\n",
    "\n",
    "An iterator is a special object in Python that represents a stream of data. It provides a way to access the elements of an iterable one at a time and keeps track of the current state of iteration.\n",
    "Every iterator is an iterable, but not every iterable is an iterator. Iterators are required to implement two methods: __iter__() and __next__().\n",
    "Iterators are typically created from iterables using the iter() function.\n",
    "Examples of iterators include objects returned by the zip(), enumerate(), and range() functions."
   ]
  },
  {
   "cell_type": "code",
   "execution_count": 40,
   "id": "5d8cb382-9c64-492f-8ebf-1cddb89e7dc5",
   "metadata": {},
   "outputs": [
    {
     "name": "stdout",
     "output_type": "stream",
     "text": [
      "0\n",
      "1\n",
      "2\n",
      "3\n",
      "4\n"
     ]
    }
   ],
   "source": [
    "# Using range() function to create an iterator\n",
    "iterator = iter(range(5))\n",
    "\n",
    "# Iterating over the iterator using a for loop\n",
    "for num in iterator:\n",
    "    print(num)\n"
   ]
  },
  {
   "cell_type": "markdown",
   "id": "630b3fa9-2e0e-4844-aa0c-4af04070aa45",
   "metadata": {},
   "source": [
    "The zip() function in Python takes iterables (such as lists, tuples, or sets) as input and returns an iterator that aggregates elements from each of the iterables. It pairs elements from each iterable together, creating tuples where the first element of each tuple comes from the first iterable, the second element comes from the second iterable, and so on."
   ]
  },
  {
   "cell_type": "code",
   "execution_count": 31,
   "id": "675ffbdc-9278-42cb-90a7-e3e2660e53a5",
   "metadata": {},
   "outputs": [
    {
     "name": "stdout",
     "output_type": "stream",
     "text": [
      "('Atif', 4.0)\n",
      "('Jamal', 1.3)\n",
      "('obaid', 3.4)\n",
      "('farhan', 2.3)\n",
      "('farhan', 2.3)\n"
     ]
    }
   ],
   "source": [
    "name = [ \"Atif\", \"Jamal\", \"obaid\", \"farhan\", \"farhan\" ]\n",
    "GPA = [ 4.0, 1.3, 3.4, 2.3 ,2.3]\n",
    "\n",
    "# using zip() to map values\n",
    "# creates an iterator that yields tuples containing corresponding elements from name and GPA.\n",
    "mapped = zip(name, GPA) \n",
    "for item in mapped:\n",
    "    print(item)\n",
    "#print(tuple(mapped))\n",
    "#print(list(mapped))\n",
    "#print(dict(mapped))\n",
    "#print(set(mapped))\n"
   ]
  },
  {
   "cell_type": "code",
   "execution_count": 29,
   "id": "cea52a33-813d-46eb-a561-bae1141898fe",
   "metadata": {},
   "outputs": [
    {
     "name": "stdout",
     "output_type": "stream",
     "text": [
      "()\n"
     ]
    }
   ],
   "source": [
    "print(tuple(mapped))"
   ]
  },
  {
   "cell_type": "markdown",
   "id": "0b6b5995-eb8a-4d55-ad34-e3df305d92ae",
   "metadata": {},
   "source": [
    "We have two lists:\n",
    "\n",
    "stocks contains the names of stocks.\n",
    "prices contains the corresponding prices of the stocks.\n",
    "The dictionary comprehension:\n",
    "\n",
    "zip(stocks, prices) pairs elements from the stocks and prices lists together, creating tuples of (stock, price).\n",
    "The dictionary comprehension iterates over these pairs, using stocks as keys and prices as values.\n",
    "For each pair (stock, price) generated by zip(stocks, prices), a key-value pair is added to the dictionary new_dict.\n",
    "The resulting dictionary new_dict contains:\n",
    "\n",
    "Keys: Stock names from the stocks list.\n",
    "Values: Corresponding prices from the prices list."
   ]
  },
  {
   "cell_type": "code",
   "execution_count": 15,
   "id": "a99c243c-68c0-4c85-81d3-16e89fc444ce",
   "metadata": {},
   "outputs": [
    {
     "name": "stdout",
     "output_type": "stream",
     "text": [
      "{'AB': 2175, 'CD': 1127, 'EF': 2750}\n"
     ]
    }
   ],
   "source": [
    "#Python zip() with Dictionary\n",
    "stocks = ['AB', 'CD', 'EF']\n",
    "prices = [2175, 1127, 2750]\n",
    "\n",
    "new_dict = {stocks: prices for stocks,prices in zip(stocks, prices)}\n",
    "print(new_dict)\n"
   ]
  },
  {
   "cell_type": "code",
   "execution_count": 48,
   "id": "95401554-39b5-4c46-a22c-aae2f102fd95",
   "metadata": {},
   "outputs": [
    {
     "name": "stdout",
     "output_type": "stream",
     "text": [
      "{1: 1, 2: 4, 3: 9, 4: 16, 5: 25}\n"
     ]
    }
   ],
   "source": [
    "# List of numbers\n",
    "numbers = [1, 2, 3, 4, 5]\n",
    "\n",
    "# Dictionary comprehension to create a dictionary where keys are numbers and values are their squares\n",
    "squared_dict = {num: num**2 for num in numbers}\n",
    "\n",
    "print(squared_dict)  # Output: {1: 1, 2: 4, 3: 9, 4: 16, 5: 25}\n"
   ]
  },
  {
   "cell_type": "markdown",
   "id": "79fd79d8-4ede-40f6-86a7-fad1c7cb42f1",
   "metadata": {},
   "source": [
    "zip(names, ages):\n",
    "\n",
    "The zip() function takes two or more iterables and returns an iterator that generates tuples by pairing elements from the input iterables. In this case, it pairs corresponding elements from the names and ages lists.<br>\n",
    "enumerate():\n",
    "\n",
    "The enumerate() function takes an iterable as input and returns an iterator that yields pairs of (index, value), where index is the index of the value in the iterable and value is the actual value.\n",
    "In this code, enumerate() is used to loop over the pairs of (name, age) generated by zip(names, ages) while also obtaining the index i of each pair."
   ]
  },
  {
   "cell_type": "markdown",
   "id": "21f48f2f",
   "metadata": {},
   "source": [
    "The enumerate() function in Python is used to add a counter to an iterable (such as a list, tuple, or string) and returns it as an enumerate object. This can then be used in loops to get both the index and the value of each item in the iterable.\n",
    "\n",
    "Here's the syntax for enumerate():\n",
    "enumerate(iterable, start=0)\n",
    "iterable: The collection you want to iterate over.\n",
    "start: The starting index for the counter (default is 0)."
   ]
  },
  {
   "cell_type": "markdown",
   "id": "7c3d26b9",
   "metadata": {},
   "source": [
    "Purpose and Usage\n",
    "Tracking Index in Loops:\n",
    "When you need both the index and the value from an iterable in a loop, enumerate() simplifies the code and makes it more readable.\n",
    "\n",
    "Avoiding Manual Counter:\n",
    "Without enumerate(), you'd need to manually create and update a counter variable. enumerate() handles this automatically.\n",
    "    In summary, enumerate() is a convenient function for obtaining both the index and value when iterating over an iterable, which helps make the code cleaner and more efficient."
   ]
  },
  {
   "cell_type": "code",
   "execution_count": 32,
   "id": "f57f9a40-846b-4281-97db-53d586080e22",
   "metadata": {},
   "outputs": [
    {
     "name": "stdout",
     "output_type": "stream",
     "text": [
      "0 apple\n",
      "1 banana\n",
      "2 cherry\n"
     ]
    }
   ],
   "source": [
    "fruits = ['apple', 'banana', 'cherry']\n",
    "\n",
    "for index, fruit in enumerate(fruits):\n",
    "    print(index, fruit)\n"
   ]
  },
  {
   "cell_type": "code",
   "execution_count": 33,
   "id": "74e985aa-adba-4637-805c-dbb269b9c97e",
   "metadata": {},
   "outputs": [
    {
     "name": "stdout",
     "output_type": "stream",
     "text": [
      "1 apple\n",
      "2 banana\n",
      "3 cherry\n"
     ]
    }
   ],
   "source": [
    "# custom start index\n",
    "fruits = ['apple', 'banana', 'cherry']\n",
    "\n",
    "for index, fruit in enumerate(fruits, start=1):\n",
    "    print(index, fruit)\n"
   ]
  },
  {
   "cell_type": "code",
   "execution_count": 34,
   "id": "6cb8a35d-777d-4f20-977c-187e2c3d6595",
   "metadata": {},
   "outputs": [
    {
     "name": "stdout",
     "output_type": "stream",
     "text": [
      "0 h\n",
      "1 e\n",
      "2 l\n",
      "3 l\n",
      "4 o\n"
     ]
    }
   ],
   "source": [
    "#enumerate with other data structure\n",
    "string = \"hello\"\n",
    "\n",
    "for index, char in enumerate(string):\n",
    "    print(index, char)\n"
   ]
  },
  {
   "cell_type": "code",
   "execution_count": 35,
   "id": "a35ecba0-3660-4c86-8473-f7e6b92d4674",
   "metadata": {},
   "outputs": [
    {
     "name": "stdout",
     "output_type": "stream",
     "text": [
      "0 Asif 24\n",
      "1 Farhan 50\n",
      "2 Adil 18\n"
     ]
    }
   ],
   "source": [
    "names = ['Asif', 'Farhan', 'Adil']\n",
    "ages = [24, 50, 18]\n",
    "\n",
    "for i, (name, age) in enumerate(zip(names, ages)):\n",
    "\tprint(i, name, age)\n"
   ]
  },
  {
   "cell_type": "markdown",
   "id": "cbb6044c-64a7-46d5-aa05-d363947c38ca",
   "metadata": {},
   "source": [
    "When used with tuples, zip() works by pairing the elements from tuples based on their positions. The resulting iterable contains tuples where the i-th tuple contains the i-th element from each input tuple."
   ]
  },
  {
   "cell_type": "code",
   "execution_count": 17,
   "id": "7d9dc551-7584-4fae-b73e-0278fcd019e7",
   "metadata": {},
   "outputs": [
    {
     "name": "stdout",
     "output_type": "stream",
     "text": [
      "<zip object at 0x000002BC85AFDB80>\n",
      "[(1, 'a'), (2, 'b'), (3, 'c')]\n"
     ]
    }
   ],
   "source": [
    "#Python zip() with Tuple\n",
    "tuple1 = (1, 2, 3)\n",
    "tuple2 = ('a', 'b', 'c')\n",
    "zipped = zip(tuple1, tuple2)\n",
    "print(zipped)\n",
    "#print(dict(zipped))\n",
    "result = list(zipped)\n",
    "print(result)\n"
   ]
  },
  {
   "cell_type": "markdown",
   "id": "196f0e72-7ce4-4c59-b680-fdc264a36313",
   "metadata": {},
   "source": [
    "Converting to Dictionary:\n",
    "\n",
    "The dict() function is used to convert the zip object zipped to a dictionary.\n",
    "Since the zip object is an iterable of tuples, each tuple contains a pair of elements from tuple1 and tuple2, which are used as key-value pairs in the resulting dictionary."
   ]
  },
  {
   "cell_type": "code",
   "execution_count": 18,
   "id": "d81d9aa3-853d-4450-bf98-dc1bfaf41b45",
   "metadata": {},
   "outputs": [
    {
     "name": "stdout",
     "output_type": "stream",
     "text": [
      "<zip object at 0x000002BC85AFC9C0>\n",
      "{1: 'a', 2: 'b', 3: 'c'}\n"
     ]
    }
   ],
   "source": [
    "#Python zip() with Tuple\n",
    "tuple1 = (1, 2, 3)\n",
    "tuple2 = ('a', 'b', 'c')\n",
    "zipped = zip(tuple1, tuple2)\n",
    "print(zipped)\n",
    "#print(dict(zipped))\n",
    "result = dict(zipped)\n",
    "print(result)"
   ]
  },
  {
   "cell_type": "markdown",
   "id": "f706c30a-7f76-44c8-b853-ecce7eaf7528",
   "metadata": {},
   "source": [
    "Python zip() with Multiple Iterables <br>\n",
    "Python’s zip() function can also be used to combine more than two iterables. It can take multiple iterables as input and return an iterable of tuples, where each tuple contains elements from the corresponding positions of the input iterables.\n"
   ]
  },
  {
   "cell_type": "code",
   "execution_count": 23,
   "id": "9708cb56-d748-4fb2-baf7-986f73360907",
   "metadata": {},
   "outputs": [
    {
     "name": "stdout",
     "output_type": "stream",
     "text": [
      "[(1, 'a', 'x'), (2, 'b', 'y'), (3, 'c', 'z')]\n"
     ]
    }
   ],
   "source": [
    "list1 = [1, 2, 3]\n",
    "list2 = ['a', 'b', 'c']\n",
    "list3 = ['x', 'y', 'z']\n",
    "zipped = zip(list1, list2, list3)\n",
    "result = list(zipped)\n",
    "print(result)\n"
   ]
  },
  {
   "cell_type": "markdown",
   "id": "1b597a75-140b-4f54-b4a8-fbe72a892020",
   "metadata": {},
   "source": [
    "Unzipping Using zip()\n",
    "\n",
    "Using zip() to Map Values:\n",
    "\n",
    "The zip() function is used to combine corresponding elements from name, roll_no, and marks into tuples.\n",
    "Each tuple contains one element from each of the input lists, creating a mapping of values."
   ]
  },
  {
   "cell_type": "markdown",
   "id": "3a3d24a3",
   "metadata": {},
   "source": [
    "Mapped List of Tuples:\n",
    "\n",
    "Before zip(*mapped) is used, mapped contains a list of tuples. Each tuple corresponds to a \n",
    "zipped set of values from the original lists. <br> \n",
    "For example, mapped might look like [(name1, roll_no1, mark1), (name2, roll_no2, mark2), ...].\n",
    "\n",
    "Unzipping:<br>\n",
    "The * operator is used to unpack the elements of mapped before passing them to zip(). <br>\n",
    "This operation effectively \"unzips\" the list of tuples into separate arguments.<br>\n",
    "So, zip(*mapped) is equivalent to zip((name1, roll_no1, mark1), (name2, roll_no2, mark2), ...).<br>\n",
    "Each tuple in mapped becomes a separate argument to zip().<br>\n",
    "    \n",
    "Zip Functionality:\n",
    "The zip() function then pairs up corresponding elements from each tuple. <br>\n",
    "In this case, it pairs up the first elements of each tuple, the second elements, and so on.<br>\n",
    "Result:\n",
    "\n",
    "The result of zip(*mapped) is a new iterable containing tuples where each tuple contains \n",
    "the first elements of each original tuple, the second elements of each original tuple, and so on.\n",
    "This effectively \"unzips\" the original list of tuples back into separate lists.\n",
    "In summary, zip(*mapped) is a way to reverse the zipping operation by unpacking a list of tuples \n",
    "and then zipping their elements together."
   ]
  },
  {
   "cell_type": "code",
   "execution_count": 25,
   "id": "2c7ddac0-1803-46ba-b584-94bc4b273bb0",
   "metadata": {},
   "outputs": [
    {
     "name": "stdout",
     "output_type": "stream",
     "text": [
      "The zipped result is : [('Atif', 4, 40), ('Ali', 1, 50), ('Fazal', 3, 60), ('Obaid', 2, 70)]\n",
      "\n",
      "\n",
      "The unzipped result: \n",
      "The name list is : ('Atif', 'Ali', 'Fazal', 'Obaid')\n",
      "The roll_no list is : (4, 1, 3, 2)\n",
      "The marks list is : (40, 50, 60, 70)\n"
     ]
    }
   ],
   "source": [
    "# initializing lists\n",
    "name = [\"Atif\", \"Ali\", \"Fazal\", \"Obaid\"]\n",
    "roll_no = [4, 1, 3, 2]\n",
    "marks = [40, 50, 60, 70]\n",
    "\n",
    "# using zip() to map values\n",
    "mapped = zip(name, roll_no, marks)\n",
    "\n",
    "# converting values to print as list\n",
    "mapped = list(mapped)\n",
    "\n",
    "# printing resultant values\n",
    "print(\"The zipped result is : \", end=\"\")\n",
    "print(mapped)\n",
    "\n",
    "print(\"\\n\")\n",
    "\n",
    "# unzipping values\n",
    "namz, roll_noz, marksz = zip(*mapped)\n",
    "\n",
    "print(\"The unzipped result: \\n\", end=\"\")\n",
    "\n",
    "# printing initial lists\n",
    "print(\"The name list is : \", end=\"\")\n",
    "print(namz)\n",
    "\n",
    "print(\"The roll_no list is : \", end=\"\")\n",
    "print(roll_noz)\n",
    "\n",
    "print(\"The marks list is : \", end=\"\")\n",
    "print(marksz)\n"
   ]
  },
  {
   "cell_type": "code",
   "execution_count": 26,
   "id": "471ea7f8-2c45-44ed-b473-047b00da451a",
   "metadata": {},
   "outputs": [
    {
     "name": "stdout",
     "output_type": "stream",
     "text": [
      "Student : Saeed Score: 4.0\n",
      "Student : Hassan Score: 1.5\n",
      "Student : Farhan Score: 3.7\n",
      "Student : Adnan Score: 2.8\n",
      "Student : Rahim Score: 4.0\n"
     ]
    }
   ],
   "source": [
    "# Python code to demonstrate the application of\n",
    "# zip()\n",
    "\n",
    "# initializing list of student.\n",
    "students = [\"Saeed\", \"Hassan\", \"Farhan\", \"Adnan\", \"Rahim\"]\n",
    "\n",
    "# initializing their gpa\n",
    "scores = [4.0, 1.5, 3.7, 2.8, 4.0]\n",
    "\n",
    "# printing students and scores.\n",
    "for pl, sc in zip(students, scores):\n",
    "\tprint(\"Student : %s Score: %.1f\" % (pl, sc))\n"
   ]
  },
  {
   "cell_type": "markdown",
   "id": "244f350c-6602-4eaf-b9df-d8dcdfc6797d",
   "metadata": {},
   "source": [
    "%-10s specifies a left-aligned string (student name) with a width of 10 characters. This ensures that each student name occupies at least 10 characters, providing consistent spacing.\n",
    "%.1f specifies a floating-point number (score) formatted with one digit after the decimal point.\n",
    "With this adjustment, the output will have consistent spacing between the student names and their scores."
   ]
  },
  {
   "cell_type": "code",
   "execution_count": 27,
   "id": "ee1d9cde-a6d3-48e0-92c3-5b9d61599071",
   "metadata": {},
   "outputs": [
    {
     "name": "stdout",
     "output_type": "stream",
     "text": [
      "Student : Saeed   Score : 4.0\n",
      "Student : Hassan  Score : 1.5\n",
      "Student : Farhan  Score : 3.7\n",
      "Student : Adnan   Score : 2.8\n",
      "Student : Rahim   Score : 4.0\n"
     ]
    }
   ],
   "source": [
    "students = [\"Saeed\", \"Hassan\", \"Farhan\", \"Adnan\", \"Rahim\"]\n",
    "scores = [4.0, 1.5, 3.7, 2.8, 4.0]\n",
    "\n",
    "for pl, sc in zip(students, scores):\n",
    "    print(\"Student : %-7s Score : %.1f\" % (pl, sc))\n"
   ]
  },
  {
   "cell_type": "markdown",
   "id": "04312109-0c32-44e3-af00-8bb536b74251",
   "metadata": {},
   "source": [
    "What is Nested Dictionary in Python?\n",
    "In Python, a nested dictionary is a dictionary inside a dictionary. It's a collection of dictionaries into one single dictionary.\n",
    "nested_dict = { 'dictA': {'key_1': 'value_1'},\n",
    "                'dictB': {'key_2': 'value_2'}}\n",
    "Here, the nested_dict is a nested dictionary with the dictionary dictA and dictB. They are two dictionary each having own key and value."
   ]
  },
  {
   "cell_type": "code",
   "execution_count": 28,
   "id": "87a56c1f-4e0c-4b1c-b42b-b0d0a3cf6f8f",
   "metadata": {},
   "outputs": [
    {
     "name": "stdout",
     "output_type": "stream",
     "text": [
      "{1: {'name': 'John', 'age': '27', 'Gender': 'Male'}, 2: {'name': 'Marie', 'age': '22', 'Gender': 'Female'}}\n"
     ]
    }
   ],
   "source": [
    "#Create a Nested Dictionary\n",
    "#We're going to create dictionary of people within a dictionary.\n",
    "people = {1: {'name': 'John', 'age': '27', 'Gender': 'Male'},\n",
    "          2: {'name': 'Marie', 'age': '22', 'Gender': 'Female'}}\n",
    "\n",
    "print(people)"
   ]
  },
  {
   "cell_type": "markdown",
   "id": "80fb44d9-65dd-475c-a401-3f2c5a4400a6",
   "metadata": {},
   "source": [
    "Access elements of a Nested Dictionary <br>\n",
    "To access element of a nested dictionary, we use indexing [] syntax in Python."
   ]
  },
  {
   "cell_type": "code",
   "execution_count": 29,
   "id": "ba3dea1c-c23a-4e21-9d77-002974fdb4fe",
   "metadata": {},
   "outputs": [
    {
     "name": "stdout",
     "output_type": "stream",
     "text": [
      "John\n",
      "27\n",
      "Male\n"
     ]
    }
   ],
   "source": [
    "people = {1: {'name': 'John', 'age': '27', 'gender': 'Male'},\n",
    "          2: {'name': 'Marie', 'age': '22', 'gender': 'Female'}}\n",
    "\n",
    "print(people[1]['name']) #we print the value of key name using i.e. people[1]['name'] from internal dictionary 1.\n",
    "print(people[1]['age'])\n",
    "print(people[1]['gender'])"
   ]
  },
  {
   "cell_type": "markdown",
   "id": "4e796811-0e3a-4752-9b60-6f9d6d98d16b",
   "metadata": {},
   "source": [
    "Add element to a Nested Dictionary:\n",
    "How to change or add elements in a nested dictionary?\n",
    "we create an empty dictionary 3 inside the dictionary people.\n",
    "\n",
    "Then, we add the key:value pair i.e people[3]['Name'] = 'Luna' inside the dictionary 3. Similarly, we do this for key age, gender and married one by one."
   ]
  },
  {
   "cell_type": "code",
   "execution_count": 32,
   "id": "8c69dbb8-dca0-47ee-8e49-e3756ae19936",
   "metadata": {},
   "outputs": [
    {
     "name": "stdout",
     "output_type": "stream",
     "text": [
      "{1: {'name': 'John', 'age': '27', 'gender': 'Male'}, 2: {'name': 'Marie', 'age': '22', 'gender': 'Female'}, 3: {'name': 'Luna', 'age': '24', 'gender': 'Female', 'married': 'No'}}\n"
     ]
    }
   ],
   "source": [
    "people = {1: {'name': 'John', 'age': '27', 'gender': 'Male'},\n",
    "          2: {'name': 'Marie', 'age': '22', 'gender': 'Female'}}\n",
    "\n",
    "people[3] = {}\n",
    "\n",
    "people[3]['name'] = 'Luna'\n",
    "people[3]['age'] = '24'\n",
    "people[3]['gender'] = 'Female'\n",
    "people[3]['married'] = 'No'\n",
    "\n",
    "#print(people[3])\n",
    "print(people)"
   ]
  },
  {
   "cell_type": "markdown",
   "id": "05c9334f-428e-4491-91e6-e92697b76ffc",
   "metadata": {},
   "source": [
    "Add another dictionary to the nested dictionary: \n",
    "we assign a dictionary literal to people[4]. The literal have keys name, age and sex with respective values. "
   ]
  },
  {
   "cell_type": "code",
   "execution_count": 50,
   "id": "486441d4-ee46-4c67-8cf6-c8b696afc0ca",
   "metadata": {},
   "outputs": [
    {
     "name": "stdout",
     "output_type": "stream",
     "text": [
      "{1: {'name': 'John', 'age': '27', 'gender': 'Male'}, 2: {'name': 'Marie', 'age': '22', 'gender': 'Female'}, 3: {'name': 'Luna', 'age': '24', 'gender': 'Female', 'married': 'No'}, 4: {'name': 'Peter', 'age': '29', 'gender': 'Male', 'married': 'Yes'}}\n"
     ]
    }
   ],
   "source": [
    "people = {1: {'name': 'John', 'age': '27', 'gender': 'Male'},\n",
    "          2: {'name': 'Marie', 'age': '22', 'gender': 'Female'},\n",
    "          3: {'name': 'Luna', 'age': '24', 'gender': 'Female', 'married': 'No'}}\n",
    "\n",
    "people[4] = {'name': 'Peter', 'age': '29', 'gender': 'Male', 'married': 'Yes'}\n",
    "#print(people[4])\n",
    "print(people)"
   ]
  },
  {
   "cell_type": "markdown",
   "id": "2d1a30a5-4716-430d-b477-d41ebf7e40c9",
   "metadata": {},
   "source": [
    "Delete elements from a Nested Dictionary\n",
    "In Python, we use “ del “ statement to delete elements from nested dictionary."
   ]
  },
  {
   "cell_type": "code",
   "execution_count": 35,
   "id": "721240e1-aa67-4853-b29d-2fc811a314c4",
   "metadata": {},
   "outputs": [
    {
     "name": "stdout",
     "output_type": "stream",
     "text": [
      "{'name': 'Luna', 'age': '24', 'sex': 'Female'}\n",
      "{'name': 'Peter', 'age': '29', 'sex': 'Male'}\n"
     ]
    }
   ],
   "source": [
    "people = {1: {'name': 'John', 'age': '27', 'sex': 'Male'},\n",
    "          2: {'name': 'Marie', 'age': '22', 'sex': 'Female'},\n",
    "          3: {'name': 'Luna', 'age': '24', 'sex': 'Female', 'married': 'No'},\n",
    "          4: {'name': 'Peter', 'age': '29', 'sex': 'Male', 'married': 'Yes'}}\n",
    "\n",
    "#del people[3]['married']\n",
    "#del people[4]['married']\n",
    "del people[3]['married'], people[4]['married']\n",
    "\n",
    "print(people[3])\n",
    "print(people[4])"
   ]
  },
  {
   "cell_type": "markdown",
   "id": "e40361e0-03c5-4676-8db6-2a01c015920f",
   "metadata": {},
   "source": [
    "How to delete dictionary from a nested dictionary?"
   ]
  },
  {
   "cell_type": "code",
   "execution_count": 36,
   "id": "c2349aca-0f75-4607-b2ef-e71350434b1a",
   "metadata": {},
   "outputs": [
    {
     "name": "stdout",
     "output_type": "stream",
     "text": [
      "{1: {'name': 'John', 'age': '27', 'sex': 'Male'}, 2: {'name': 'Marie', 'age': '22', 'sex': 'Female'}}\n"
     ]
    }
   ],
   "source": [
    "people = {1: {'name': 'John', 'age': '27', 'sex': 'Male'},\n",
    "          2: {'name': 'Marie', 'age': '22', 'sex': 'Female'},\n",
    "          3: {'name': 'Luna', 'age': '24', 'sex': 'Female'},\n",
    "          4: {'name': 'Peter', 'age': '29', 'sex': 'Male'}}\n",
    "\n",
    "del people[3], people[4]\n",
    "print(people)"
   ]
  },
  {
   "cell_type": "markdown",
   "id": "c74726e4-0a1f-43ce-bcda-b5a9b2b74cb5",
   "metadata": {},
   "source": [
    "Iterating Through a Nested Dictionary\n",
    "Using the for loops, we can iterate through each elements in a nested dictionary."
   ]
  },
  {
   "cell_type": "code",
   "execution_count": 37,
   "id": "f9ed1106-5208-46ec-857b-54881e144091",
   "metadata": {},
   "outputs": [
    {
     "name": "stdout",
     "output_type": "stream",
     "text": [
      "\n",
      "Person ID: 1\n",
      "Name: John\n",
      "Age: 27\n",
      "Sex: Male\n",
      "\n",
      "Person ID: 2\n",
      "Name: Marie\n",
      "Age: 22\n",
      "Sex: Female\n"
     ]
    }
   ],
   "source": [
    "people = {1: {'Name': 'John', 'Age': '27', 'Sex': 'Male'},\n",
    "          2: {'Name': 'Marie', 'Age': '22', 'Sex': 'Female'}}\n",
    "\n",
    "for p_id, p_info in people.items():\n",
    "    print(\"\\nPerson ID:\", p_id)\n",
    "    \n",
    "    for key in p_info:\n",
    "        print(key + ':', p_info[key])"
   ]
  },
  {
   "cell_type": "markdown",
   "id": "56f58706",
   "metadata": {},
   "source": [
    "Nested Dictionary Comprehension\n",
    "We can add dictionary comprehensions to dictionary comprehensions themselves to create \n",
    "nested dictionaries.\n",
    "we have constructed a multiplication table in a nested dictionary, for numbers from 2 to 4.\n",
    "Whenever nested dictionary comprehension is used, Python first starts from the outer loop \n",
    "and then goes to the inner one.\n",
    "people is a nested dictionary. The internal dictionary 1 and 2 is assigned to people. \n",
    "Here, both the dictionary have key name, age , male with different values. "
   ]
  },
  {
   "cell_type": "code",
   "execution_count": 51,
   "id": "b8246da8-d65d-45b1-8f5e-eea20cd3e301",
   "metadata": {},
   "outputs": [
    {
     "name": "stdout",
     "output_type": "stream",
     "text": [
      "{1: {'Name': 'John', 'Age': '27', 'gender': 'Male'}, 2: {'Name': 'Marie', 'Age': '22', 'gender': 'Female'}}\n"
     ]
    }
   ],
   "source": [
    "people = {1: {'Name': 'John', 'Age': '27', 'gender': 'Male'},\n",
    "          2: {'Name': 'Marie', 'Age': '22', 'gender': 'Female'}}\n",
    "\n",
    "dict1= {p_id:{key: p_info[key] for key in p_info} for p_id, p_info in people.items()}\n",
    "print(dict1)"
   ]
  },
  {
   "cell_type": "code",
   "execution_count": 89,
   "id": "64b800e1-9314-4b5d-b2cb-de1c169222c1",
   "metadata": {},
   "outputs": [
    {
     "name": "stdout",
     "output_type": "stream",
     "text": [
      "{2: {1: 2, 2: 4, 3: 6, 4: 8, 5: 10}, 3: {1: 3, 2: 6, 3: 9, 4: 12, 5: 15}, 4: {1: 4, 2: 8, 3: 12, 4: 16, 5: 20}}\n"
     ]
    }
   ],
   "source": [
    "dictionary = {\n",
    "    k1: {k2: k1 * k2 for k2 in range(1, 6)} for k1 in range(2, 5)\n",
    "}\n",
    "print(dictionary)\n"
   ]
  },
  {
   "cell_type": "code",
   "execution_count": 91,
   "id": "dfc85be8-3629-4894-b3c1-f4b322c6794a",
   "metadata": {},
   "outputs": [
    {
     "name": "stdout",
     "output_type": "stream",
     "text": [
      "{2: {1: 2, 2: 4, 3: 6, 4: 8, 5: 10}, 3: {1: 3, 2: 6, 3: 9, 4: 12, 5: 15}, 4: {1: 4, 2: 8, 3: 12, 4: 16, 5: 20}}\n"
     ]
    }
   ],
   "source": [
    "# The below code is equivalent to previous one given in cell 89\n",
    "dictionary = dict()\n",
    "for k1 in range(2, 5):\n",
    "    dictionary[k1] = dict()\n",
    "    for k2 in range(1, 6):\n",
    "        dictionary[k1][k2] = k1*k2\n",
    "print(dictionary)\n",
    "\n"
   ]
  },
  {
   "cell_type": "code",
   "execution_count": 92,
   "id": "27fa1c85-addb-4a39-9d9f-5c97517b32d3",
   "metadata": {},
   "outputs": [
    {
     "name": "stdout",
     "output_type": "stream",
     "text": [
      "{2: {1: 2, 2: 4, 3: 6, 4: 8, 5: 10}, 3: {1: 3, 2: 6, 3: 9, 4: 12, 5: 15}, 4: {1: 4, 2: 8, 3: 12, 4: 16, 5: 20}}\n"
     ]
    }
   ],
   "source": [
    "# The below code is equivalent to previous one given in cell 89\n",
    "dictionary = dict()\n",
    "for k1 in range(2, 5):\n",
    "    dictionary[k1] = {k2: k1*k2 for k2 in range(1, 6)}\n",
    "print(dictionary)\n"
   ]
  },
  {
   "cell_type": "markdown",
   "id": "27c111a9-0bc2-4361-8e9e-2887a24b05ae",
   "metadata": {},
   "source": [
    "Advantages of Using Dictionary Comprehension\n",
    "As we can see, dictionary comprehension shortens the process of dictionary initialization by a lot. It makes the code more pythonic.\n",
    "\n",
    "Using dictionary comprehension in our code can shorten the lines of code while keeping the logic intact.\n",
    "#Warnings on Using Dictionary Comprehension\n",
    "Even though dictionary comprehensions are great for writing elegant code that is easy to read, they are not always the right choice.\n",
    "\n",
    "We must be careful while using them as :\n",
    "\n",
    "They can sometimes make the code run slower and consume more memory.\n",
    "They can also decrease the readability of the code.\n",
    "We must not try to fit a difficult logic or a large number of dictionary comprehension inside them just for the sake of making the code single lined. In these cases, It is better to choose other alternatives like loops."
   ]
  },
  {
   "cell_type": "markdown",
   "id": "e9bab5bf-aec7-483d-b0fd-c51146a05a24",
   "metadata": {},
   "source": [
    "The outer dictionary has keys representing student names (in this case, \"Esa\").\n",
    "The values corresponding to each student key are inner dictionaries.\n",
    "Each inner dictionary represents a subject taken by the student.\n",
    "The keys of the inner dictionaries are the subjects, and the values are dictionaries.\n",
    "The inner dictionaries contain assessment names as keys and their corresponding scores as values.\n",
    "or Outer key: Student name (e.g., \"Esa\").\n",
    "Outer value: Dictionary representing subjects and their corresponding assessments and scores.\n",
    "Inner keys: Subject names (e.g., \"Math\", \"Science\", \"English\").\n",
    "Inner values: Dictionaries representing assessments and their scores for each subject."
   ]
  },
  {
   "cell_type": "code",
   "execution_count": 88,
   "id": "8915d9b0-e16b-4e5b-9328-cbd62d0e12dd",
   "metadata": {},
   "outputs": [
    {
     "name": "stdout",
     "output_type": "stream",
     "text": [
      "Enter grade for farhan in Math Assessment_1:  33\n"
     ]
    },
    {
     "name": "stdout",
     "output_type": "stream",
     "text": [
      "entering2\n"
     ]
    },
    {
     "name": "stdout",
     "output_type": "stream",
     "text": [
      "Enter grade for farhan in Math Assessment_2:  33\n"
     ]
    },
    {
     "name": "stdout",
     "output_type": "stream",
     "text": [
      "entering2\n"
     ]
    },
    {
     "name": "stdout",
     "output_type": "stream",
     "text": [
      "Enter grade for farhan in Math Assessment_3:  33\n"
     ]
    },
    {
     "name": "stdout",
     "output_type": "stream",
     "text": [
      "entering2\n"
     ]
    },
    {
     "name": "stdout",
     "output_type": "stream",
     "text": [
      "Enter grade for farhan in Science Assessment_1:  33\n"
     ]
    },
    {
     "name": "stdout",
     "output_type": "stream",
     "text": [
      "entering2\n"
     ]
    },
    {
     "name": "stdout",
     "output_type": "stream",
     "text": [
      "Enter grade for farhan in Science Assessment_2:  33\n"
     ]
    },
    {
     "name": "stdout",
     "output_type": "stream",
     "text": [
      "entering2\n"
     ]
    },
    {
     "name": "stdout",
     "output_type": "stream",
     "text": [
      "Enter grade for farhan in Science Assessment_3:  33\n"
     ]
    },
    {
     "name": "stdout",
     "output_type": "stream",
     "text": [
      "entering2\n"
     ]
    },
    {
     "name": "stdout",
     "output_type": "stream",
     "text": [
      "Enter grade for farhan in English Assessment_1:  33\n"
     ]
    },
    {
     "name": "stdout",
     "output_type": "stream",
     "text": [
      "entering2\n"
     ]
    },
    {
     "name": "stdout",
     "output_type": "stream",
     "text": [
      "Enter grade for farhan in English Assessment_2:  33\n"
     ]
    },
    {
     "name": "stdout",
     "output_type": "stream",
     "text": [
      "entering2\n"
     ]
    },
    {
     "name": "stdout",
     "output_type": "stream",
     "text": [
      "Enter grade for farhan in English Assessment_3:  33\n"
     ]
    },
    {
     "name": "stdout",
     "output_type": "stream",
     "text": [
      "entering2\n"
     ]
    },
    {
     "name": "stdout",
     "output_type": "stream",
     "text": [
      "Enter grade for Esa in Math Assessment_1:  33\n"
     ]
    },
    {
     "name": "stdout",
     "output_type": "stream",
     "text": [
      "entering2\n"
     ]
    },
    {
     "name": "stdout",
     "output_type": "stream",
     "text": [
      "Enter grade for Esa in Math Assessment_2:  33\n"
     ]
    },
    {
     "name": "stdout",
     "output_type": "stream",
     "text": [
      "entering2\n"
     ]
    },
    {
     "name": "stdout",
     "output_type": "stream",
     "text": [
      "Enter grade for Esa in Math Assessment_3:  33\n"
     ]
    },
    {
     "name": "stdout",
     "output_type": "stream",
     "text": [
      "entering2\n"
     ]
    },
    {
     "name": "stdout",
     "output_type": "stream",
     "text": [
      "Enter grade for Esa in Science Assessment_1:  33\n"
     ]
    },
    {
     "name": "stdout",
     "output_type": "stream",
     "text": [
      "entering2\n"
     ]
    },
    {
     "name": "stdout",
     "output_type": "stream",
     "text": [
      "Enter grade for Esa in Science Assessment_2:  33\n"
     ]
    },
    {
     "name": "stdout",
     "output_type": "stream",
     "text": [
      "entering2\n"
     ]
    },
    {
     "name": "stdout",
     "output_type": "stream",
     "text": [
      "Enter grade for Esa in Science Assessment_3:  33\n"
     ]
    },
    {
     "name": "stdout",
     "output_type": "stream",
     "text": [
      "entering2\n"
     ]
    },
    {
     "name": "stdout",
     "output_type": "stream",
     "text": [
      "Enter grade for Esa in English Assessment_1:  33\n"
     ]
    },
    {
     "name": "stdout",
     "output_type": "stream",
     "text": [
      "entering2\n"
     ]
    },
    {
     "name": "stdout",
     "output_type": "stream",
     "text": [
      "Enter grade for Esa in English Assessment_2:  33\n"
     ]
    },
    {
     "name": "stdout",
     "output_type": "stream",
     "text": [
      "entering2\n"
     ]
    },
    {
     "name": "stdout",
     "output_type": "stream",
     "text": [
      "Enter grade for Esa in English Assessment_3:  33\n"
     ]
    },
    {
     "name": "stdout",
     "output_type": "stream",
     "text": [
      "entering2\n",
      "Updated Grading System:\n",
      "entering3\n",
      "farhan:\n",
      "  Math: {'Assessment_1': 33.0, 'Assessment_2': 33.0, 'Assessment_3': 33.0}\n",
      "  Science: {'Assessment_1': 33.0, 'Assessment_2': 33.0, 'Assessment_3': 33.0}\n",
      "  English: {'Assessment_1': 33.0, 'Assessment_2': 33.0, 'Assessment_3': 33.0}\n",
      "Esa:\n",
      "  Math: {'Assessment_1': 33.0, 'Assessment_2': 33.0, 'Assessment_3': 33.0}\n",
      "  Science: {'Assessment_1': 33.0, 'Assessment_2': 33.0, 'Assessment_3': 33.0}\n",
      "  English: {'Assessment_1': 33.0, 'Assessment_2': 33.0, 'Assessment_3': 33.0}\n"
     ]
    }
   ],
   "source": [
    "### Example data\n",
    "students = ['farhan', 'Esa']\n",
    "subjects = ['Math', 'Science', 'English']\n",
    "num_assessments =3\n",
    "\n",
    "# Nested dictionary to store grades\n",
    "grading_system = {\n",
    "    student: {\n",
    "        subject: {f'Assessment_{i+1}': 0 for i in range(num_assessments)}\n",
    "        for subject in subjects\n",
    "    }\n",
    "    for student in students\n",
    "}\n",
    "\n",
    "# Function to update grades\n",
    "def update_grades(student, subject, assessment, grade):\n",
    "    print(\"entering2\")\n",
    "    grading_system[student][subject][assessment] = grade\n",
    "\n",
    "# Function to display grading system\n",
    "def display_grading_system():\n",
    "    print(\"entering3\")\n",
    "    for student, subjects in grading_system.items():\n",
    "        print(f\"{student}:\")\n",
    "        for subject, assessments in subjects.items():\n",
    "            print(f\"  {subject}: {assessments}\")\n",
    "\n",
    "# Updating grades using for loop and input function\n",
    "#We use nested for loops to iterate over each student, subject, and assessment, \n",
    "#and prompt the user to input grades.\n",
    "for student in students:\n",
    "    for subject in subjects:\n",
    "        for i in range(num_assessments):\n",
    "            assessment = f'Assessment_{i+1}'\n",
    "            grade = float(input(f\"Enter grade for {student} in {subject} {assessment}: \"))\n",
    "            update_grades(student, subject, assessment, grade)\n",
    "\n",
    "# Displaying updated grading system\n",
    "print(\"Updated Grading System:\")\n",
    "display_grading_system()\n"
   ]
  },
  {
   "cell_type": "markdown",
   "id": "213b8d70-ec5d-4cca-af5b-9e305ad3ea08",
   "metadata": {},
   "source": [
    "They dictionary copy() method returns a copy (shallow copy) of the dictionary.<br>\n",
    "The copy() method doesn't take any arguments.<br>\n",
    "This method returns a shallow copy of the dictionary. It doesn't modify the original dictionary.<br>"
   ]
  },
  {
   "cell_type": "code",
   "execution_count": 41,
   "id": "91fbca03-15ea-4b41-af19-3b38af0260d3",
   "metadata": {},
   "outputs": [
    {
     "name": "stdout",
     "output_type": "stream",
     "text": [
      "Original Marks: {'Physics': 67, 'Maths': 87}\n",
      "Copied Marks: {'Physics': 67, 'Maths': 87}\n"
     ]
    }
   ],
   "source": [
    "original_marks = {'Physics':67, 'Maths':87}\n",
    "\n",
    "copied_marks = original_marks.copy()\n",
    "\n",
    "\n",
    "print('Original Marks:', original_marks)\n",
    "print('Copied Marks:', copied_marks)\n"
   ]
  },
  {
   "cell_type": "markdown",
   "id": "2779ef74-83ef-4a1c-83ad-7bbbb91e21ca",
   "metadata": {},
   "source": [
    "Dictionary copy() Method Vs = Operator <br>\n",
    "When the copy() method is used, a new dictionary is created which is filled with a copy of the<br> references from the original dictionary.<br>\n",
    "When the = operator is used, a new reference to the original dictionary is created."
   ]
  },
  {
   "cell_type": "code",
   "execution_count": 42,
   "id": "567e292c-df82-4e03-bd21-ff1519b0e228",
   "metadata": {},
   "outputs": [
    {
     "name": "stdout",
     "output_type": "stream",
     "text": [
      "new:  {}\n",
      "original:  {}\n"
     ]
    }
   ],
   "source": [
    "original = {1:'one', 2:'two'}\n",
    "new = original\n",
    "# removing all elements from the list\n",
    "new.clear()\n",
    "print('new: ', new)\n",
    "print('original: ', original)\n",
    "\n",
    "#Here, when the new dictionary is cleared, the original dictionary is also cleared."
   ]
  },
  {
   "cell_type": "code",
   "execution_count": 43,
   "id": "4b4f0132-0534-40d1-a490-57a173e224f9",
   "metadata": {},
   "outputs": [
    {
     "name": "stdout",
     "output_type": "stream",
     "text": [
      "new:  {}\n",
      "original:  {1: 'one', 2: 'two'}\n"
     ]
    }
   ],
   "source": [
    "#Using copy() to Copy Dictionaries\n",
    "#Here, when the new dictionary is cleared, the original dictionary remains unchanged.\n",
    "original = {1:'one', 2:'two'}\n",
    "new = original.copy()\n",
    "\n",
    "\n",
    "# removing all elements from the list\n",
    "new.clear()\n",
    "\n",
    "print('new: ', new)\n",
    "print('original: ', original)"
   ]
  },
  {
   "cell_type": "markdown",
   "id": "e7ca9454-153f-4388-ad8d-298e312e74b0",
   "metadata": {},
   "source": [
    "setdefault() Parameters <br>\n",
    "setdefault() takes a maximum of two parameters:<br>\n",
    "\n",
    "key - the key to be searched in the dictionary<br>\n",
    "default_value (optional) - key with a value default_value is inserted to the dictionary if the key is not in the dictionary.<br>\n",
    "If default value is not provided, the default_value will be None.<br>\n",
    "\n",
    "Return Value from setdefault()<br>\n",
    "setdefault() returns:<br>\n",
    "\n",
    "value of the key if it is in the dictionary<br>\n",
    "None if the key is not in the dictionary and default_value is not specified<br>\n",
    "default_value if key is not in the dictionary and default_value is specified<br>"
   ]
  },
  {
   "cell_type": "code",
   "execution_count": 44,
   "id": "74a52eb8-6780-4dd7-be7e-c10fd46eb062",
   "metadata": {},
   "outputs": [
    {
     "name": "stdout",
     "output_type": "stream",
     "text": [
      "person =  {'name': 'hassan', 'age': 22}\n",
      "Age =  22\n"
     ]
    }
   ],
   "source": [
    "#How setdefault() works when key is in the dictionary?\n",
    "person = {'name': 'hassan', 'age': 22}\n",
    "\n",
    "age = person.setdefault('age')\n",
    "print('person = ',person)\n",
    "print('Age = ',age)"
   ]
  },
  {
   "cell_type": "code",
   "execution_count": 45,
   "id": "4b27e369-c84b-45f7-9d8d-7283a3e24c7b",
   "metadata": {},
   "outputs": [
    {
     "name": "stdout",
     "output_type": "stream",
     "text": [
      "person =  {'name': 'Hassan', 'salary': None}\n",
      "salary =  None\n",
      "person =  {'name': 'Hassan', 'salary': None, 'age': 22}\n",
      "age =  22\n"
     ]
    }
   ],
   "source": [
    "person = {'name': 'Hassan'}\n",
    "\n",
    "# key is not in the dictionary\n",
    "salary = person.setdefault('salary')\n",
    "print('person = ',person)\n",
    "print('salary = ',salary)\n",
    "\n",
    "# key is not in the dictionary\n",
    "# default_value is provided\n",
    "age = person.setdefault('age', 22)\n",
    "print('person = ',person)\n",
    "print('age = ',age)"
   ]
  },
  {
   "cell_type": "code",
   "execution_count": null,
   "id": "59c7fa1f-236b-4a6c-9757-534ea3b0189c",
   "metadata": {},
   "outputs": [],
   "source": []
  },
  {
   "cell_type": "code",
   "execution_count": null,
   "id": "928c1bbf-aad9-4d0d-9eff-08593fcdddb2",
   "metadata": {},
   "outputs": [],
   "source": []
  }
 ],
 "metadata": {
  "kernelspec": {
   "display_name": "Python 3 (ipykernel)",
   "language": "python",
   "name": "python3"
  },
  "language_info": {
   "codemirror_mode": {
    "name": "ipython",
    "version": 3
   },
   "file_extension": ".py",
   "mimetype": "text/x-python",
   "name": "python",
   "nbconvert_exporter": "python",
   "pygments_lexer": "ipython3",
   "version": "3.12.2"
  }
 },
 "nbformat": 4,
 "nbformat_minor": 5
}
