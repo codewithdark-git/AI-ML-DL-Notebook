{
 "cells": [
  {
   "cell_type": "markdown",
   "id": "d9b5051b",
   "metadata": {},
   "source": [
    "### Python supports 3 categories of data types:\n",
    "- Basic/primitive Types - (integer,float,complex,boolean and string)\n",
    "- Container Types - (List,Tuples, Sets and Dictionary)--containers can hold values of multiple data types\n",
    "- User-defined Types - Class-- we will study in object oriented programming\n",
    "# list is similar to array in C, Tuples behave like list, Dictionary hold data in the form of key-value pairs"
   ]
  },
  {
   "cell_type": "code",
   "execution_count": 6,
   "id": "6c9e2851-3f05-4830-a30f-fb6b4d623204",
   "metadata": {},
   "outputs": [
    {
     "name": "stdout",
     "output_type": "stream",
     "text": [
      "type of a is  <class 'str'>\n"
     ]
    }
   ],
   "source": [
    "#a='H'\n",
    "\"\"\"print('type of a is ', type(a))\n",
    "print('type of a is ', type(a))\n",
    "print('type of a is ', type(a))\n",
    "print('type of a is ', type(a))\"\"\"\n"
   ]
  },
  {
   "cell_type": "code",
   "execution_count": 8,
   "id": "24036550-54dc-4b24-ad26-da9451c09299",
   "metadata": {},
   "outputs": [
    {
     "name": "stdout",
     "output_type": "stream",
     "text": [
      "{'Name': 'Ali', 'Age': 23, 'Salary': 34.4, 'Student': True}\n",
      "<class 'dict'>\n"
     ]
    }
   ],
   "source": [
    "#lst=['Ali', 8744.98, True,'Peshawar']\n",
    "#print(type(lst))\n",
    "\n",
    "dict= { 'Name': 'Ali', 'Age': 23, \"Salary\": 34.40, \"Student\": True}\n",
    "print(dict)\n",
    "print(type(dict))"
   ]
  },
  {
   "cell_type": "code",
   "execution_count": 3,
   "id": "cc9c1db5",
   "metadata": {},
   "outputs": [
    {
     "name": "stdout",
     "output_type": "stream",
     "text": [
      "a is type of  <class 'int'>\n",
      "a is instance of integer True\n"
     ]
    }
   ],
   "source": [
    "# integer\n",
    "a=4\n",
    "print(\"a is type of \", type(a))\n",
    "print(\"a is instance of integer\", isinstance(a,int))\n"
   ]
  },
  {
   "cell_type": "code",
   "execution_count": 5,
   "id": "54e2611a",
   "metadata": {},
   "outputs": [
    {
     "name": "stdout",
     "output_type": "stream",
     "text": [
      "<class 'float'>\n",
      "b is instance of float True\n",
      "4.5\n",
      "1.7e+308\n"
     ]
    }
   ],
   "source": [
    "# float\n",
    "b=4.5\n",
    "print(type(b))\n",
    "print(\"b is instance of float\", isinstance(b,float))\n",
    "print(4.5)\n",
    "print(1.7e308)"
   ]
  },
  {
   "cell_type": "code",
   "execution_count": 6,
   "id": "51bf1fcc",
   "metadata": {},
   "outputs": [
    {
     "name": "stdout",
     "output_type": "stream",
     "text": [
      "True\n"
     ]
    }
   ],
   "source": [
    "# boolean\n",
    "flag=True\n",
    "print(flag)\n"
   ]
  },
  {
   "cell_type": "code",
   "execution_count": 9,
   "id": "b3f990ee",
   "metadata": {},
   "outputs": [
    {
     "name": "stdout",
     "output_type": "stream",
     "text": [
      "(4+5j) is a type of  <class 'complex'>\n",
      "(4+5j) is the instance of complex  True\n"
     ]
    }
   ],
   "source": [
    "# complex\n",
    "c=4+5j\n",
    "print(c,\"is a type of \", type(c))\n",
    "print(c, \"is the instance of complex \", isinstance(c,complex))"
   ]
  },
  {
   "cell_type": "code",
   "execution_count": 13,
   "id": "faf86ad2",
   "metadata": {},
   "outputs": [
    {
     "name": "stdout",
     "output_type": "stream",
     "text": [
      "Kolkata\n",
      "Kolkata\n",
      "Kolkata\n"
     ]
    }
   ],
   "source": [
    "# string\n",
    "print('Kolkata')\n",
    "print(\"Kolkata\")\n",
    "print(\"\"\"Kolkata\"\"\")"
   ]
  },
  {
   "cell_type": "code",
   "execution_count": 13,
   "id": "6a11154b",
   "metadata": {},
   "outputs": [
    {
     "name": "stdout",
     "output_type": "stream",
     "text": [
      "[1, 2, 3, 4, 5]\n",
      "<class 'list'>\n"
     ]
    },
    {
     "ename": "TypeError",
     "evalue": "isinstance() arg 2 must be a type, a tuple of types, or a union",
     "output_type": "error",
     "traceback": [
      "\u001b[1;31m---------------------------------------------------------------------------\u001b[0m",
      "\u001b[1;31mTypeError\u001b[0m                                 Traceback (most recent call last)",
      "Cell \u001b[1;32mIn[13], line 5\u001b[0m\n\u001b[0;32m      3\u001b[0m \u001b[38;5;28mprint\u001b[39m(list1)\n\u001b[0;32m      4\u001b[0m \u001b[38;5;28mprint\u001b[39m(\u001b[38;5;28mtype\u001b[39m(list1))\n\u001b[1;32m----> 5\u001b[0m \u001b[38;5;28mprint\u001b[39m(\u001b[38;5;28;43misinstance\u001b[39;49m\u001b[43m(\u001b[49m\u001b[43mlist1\u001b[49m\u001b[43m,\u001b[49m\u001b[43m \u001b[49m\u001b[38;5;28;43mlist\u001b[39;49m\u001b[43m)\u001b[49m)\n",
      "\u001b[1;31mTypeError\u001b[0m: isinstance() arg 2 must be a type, a tuple of types, or a union"
     ]
    }
   ],
   "source": [
    "# list\n",
    "list1= [1,2,3,4,5]\n",
    "print(list1)\n",
    "print(type(list1))\n",
    "print(isinstance(list1, list))"
   ]
  },
  {
   "cell_type": "code",
   "execution_count": 14,
   "id": "d692b59d",
   "metadata": {},
   "outputs": [
    {
     "name": "stdout",
     "output_type": "stream",
     "text": [
      "<class 'tuple'>\n"
     ]
    }
   ],
   "source": [
    "# tuple\n",
    "t2= (2,4,5,6)\n",
    "print(type(t2))"
   ]
  },
  {
   "cell_type": "code",
   "execution_count": 15,
   "id": "466727f1",
   "metadata": {},
   "outputs": [
    {
     "name": "stdout",
     "output_type": "stream",
     "text": [
      "{2, 4, 45, 6}\n",
      "<class 'set'>\n"
     ]
    }
   ],
   "source": [
    "#sets\n",
    "s= {2,4,45,6}\n",
    "print(s)\n",
    "print(type(s))"
   ]
  },
  {
   "cell_type": "code",
   "execution_count": 16,
   "id": "b2f58f88",
   "metadata": {},
   "outputs": [
    {
     "name": "stdout",
     "output_type": "stream",
     "text": [
      "{'Name': 'Esa', 'Age': 22, 'gender': 'Male'}\n",
      "<class 'dict'>\n"
     ]
    }
   ],
   "source": [
    "# dict\n",
    "dict= {\"Name\":\"Esa\",\"Age\":22,\"gender\":\"Male\"}\n",
    "print(dict)\n",
    "print(type(dict))"
   ]
  },
  {
   "cell_type": "code",
   "execution_count": null,
   "id": "d9edefba",
   "metadata": {},
   "outputs": [],
   "source": []
  }
 ],
 "metadata": {
  "kernelspec": {
   "display_name": "Python 3 (ipykernel)",
   "language": "python",
   "name": "python3"
  },
  "language_info": {
   "codemirror_mode": {
    "name": "ipython",
    "version": 3
   },
   "file_extension": ".py",
   "mimetype": "text/x-python",
   "name": "python",
   "nbconvert_exporter": "python",
   "pygments_lexer": "ipython3",
   "version": "3.12.2"
  }
 },
 "nbformat": 4,
 "nbformat_minor": 5
}
