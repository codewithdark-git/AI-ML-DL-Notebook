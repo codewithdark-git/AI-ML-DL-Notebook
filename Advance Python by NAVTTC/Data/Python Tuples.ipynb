{
 "cells": [
  {
   "cell_type": "markdown",
   "id": "7bff4ab7-443b-49f8-a2a8-f10778ded330",
   "metadata": {},
   "source": [
    "Tuples in Python are similar to lists, but they are immutable, meaning their elements cannot be changed after creation. They are created using parentheses and can store different data types. \n",
    "Tuples are often used when the data should remain constant throughout the program. They're efficient #for representing fixed collections of values.\n",
    "list vs tuple\n",
    "1. list use square bracket while tuple use parenthesis\n",
    "2. creating one item tuple is different from one item list"
   ]
  },
  {
   "cell_type": "markdown",
   "id": "56aaea6d-bedb-4734-9288-f87582c6be3e",
   "metadata": {},
   "source": [
    "1. Tuples 2. create Tuples 3. Access elements of Tuples 4. Edit tuples 4. Add elements to tuples\n",
    "5. Delete Tuples 6. Operations on Tuple 7. Functions on Tuples"
   ]
  },
  {
   "cell_type": "code",
   "execution_count": 1,
   "id": "94bc9239-8e56-4858-bb7c-0d5eaad20958",
   "metadata": {},
   "outputs": [
    {
     "data": {
      "text/plain": [
       "()"
      ]
     },
     "execution_count": 1,
     "metadata": {},
     "output_type": "execute_result"
    }
   ],
   "source": [
    "# ceate an empty tuple\n",
    "t= ()\n",
    "t"
   ]
  },
  {
   "cell_type": "code",
   "execution_count": 2,
   "id": "9d8c395a-590c-4513-ae5c-3ac18b89a650",
   "metadata": {},
   "outputs": [
    {
     "data": {
      "text/plain": [
       "(1, 4, 5, 6, 7)"
      ]
     },
     "execution_count": 2,
     "metadata": {},
     "output_type": "execute_result"
    }
   ],
   "source": [
    "# create a homogenous tuple, where items are of same data type\n",
    "t2=(1,4,5,6,7)\n",
    "t2"
   ]
  },
  {
   "cell_type": "code",
   "execution_count": 3,
   "id": "ed80bbb9-4993-4ada-9feb-6926a51ef0b4",
   "metadata": {},
   "outputs": [
    {
     "data": {
      "text/plain": [
       "('Hello', 5, 6)"
      ]
     },
     "execution_count": 3,
     "metadata": {},
     "output_type": "execute_result"
    }
   ],
   "source": [
    "# create a heterogenous tuple where some items are of different types\n",
    "t3=('Hello', 5,6)\n",
    "t3"
   ]
  },
  {
   "cell_type": "code",
   "execution_count": 13,
   "id": "12346b9d-dfa7-4a0c-9e9d-e37a7b2234de",
   "metadata": {},
   "outputs": [
    {
     "data": {
      "text/plain": [
       "(2, 3, 4, (5, 6))"
      ]
     },
     "execution_count": 13,
     "metadata": {},
     "output_type": "execute_result"
    }
   ],
   "source": [
    "# create a 2d tuple\n",
    "t4=(2,3,4,(5,6))\n",
    "t4"
   ]
  },
  {
   "cell_type": "code",
   "execution_count": 7,
   "id": "09033db1-ef2a-40d9-bb4b-ed9e12d9700a",
   "metadata": {},
   "outputs": [
    {
     "name": "stdout",
     "output_type": "stream",
     "text": [
      "<class 'int'>\n"
     ]
    }
   ],
   "source": [
    "# creating a single item tuple\n",
    "t5=(5) # it is not a tuple, it is an integer\n",
    "print(type(t5))"
   ]
  },
  {
   "cell_type": "code",
   "execution_count": 5,
   "id": "5b267f5b-3946-4d4d-af2f-8f99c6dd0562",
   "metadata": {},
   "outputs": [
    {
     "name": "stdout",
     "output_type": "stream",
     "text": [
      "<class 'tuple'>\n"
     ]
    }
   ],
   "source": [
    "t5=(5,) # it is not a tuple, it is an integer\n",
    "print(type(t5))"
   ]
  },
  {
   "cell_type": "code",
   "execution_count": 8,
   "id": "6f11d988-add7-48ab-b943-5af2ebf492f1",
   "metadata": {},
   "outputs": [
    {
     "name": "stdout",
     "output_type": "stream",
     "text": [
      "<class 'str'>\n"
     ]
    }
   ],
   "source": [
    "t5=(\"hello\") # it is not a tuple, it is a string\n",
    "print(type(t5))"
   ]
  },
  {
   "cell_type": "code",
   "execution_count": 5,
   "id": "052957bd-1516-44b3-bb41-4e92ba9fe479",
   "metadata": {},
   "outputs": [
    {
     "name": "stdout",
     "output_type": "stream",
     "text": [
      "<class 'tuple'>\n"
     ]
    }
   ],
   "source": [
    "t5= (\"hello\",) # it is now a single item tuple\n",
    "print(type(t5))"
   ]
  },
  {
   "cell_type": "code",
   "execution_count": 6,
   "id": "d6d5f886-0fe1-4f74-858c-f51ab64cd53a",
   "metadata": {},
   "outputs": [
    {
     "data": {
      "text/plain": [
       "('h', 'e', 'l', 'l', 'l', 'o')"
      ]
     },
     "execution_count": 6,
     "metadata": {},
     "output_type": "execute_result"
    }
   ],
   "source": [
    "# create a tuple using type conversion\n",
    "t5= tuple(\"helllo\") # it converts sring into tuple\n",
    "t5"
   ]
  },
  {
   "cell_type": "code",
   "execution_count": 1,
   "id": "534bf94e-c7d3-4da3-a646-087e4295a2e7",
   "metadata": {},
   "outputs": [
    {
     "data": {
      "text/plain": [
       "(1, 2, 4, [3, 45, 6], ('ziaullah', 'atiq'))"
      ]
     },
     "execution_count": 1,
     "metadata": {},
     "output_type": "execute_result"
    }
   ],
   "source": [
    "t45=(1,2,4,[3,45,6], (\"ziaullah\", 'atiq'))\n",
    "t45"
   ]
  },
  {
   "cell_type": "code",
   "execution_count": 10,
   "id": "d798f959-d387-42f7-8b4a-70b875bd2c1f",
   "metadata": {},
   "outputs": [
    {
     "data": {
      "text/plain": [
       "(4, 5, 6, 7, 9, 10)"
      ]
     },
     "execution_count": 10,
     "metadata": {},
     "output_type": "execute_result"
    }
   ],
   "source": [
    "# create a tuple from list\n",
    "t6= tuple([4,5,6,7,9,10])\n",
    "t6"
   ]
  },
  {
   "cell_type": "code",
   "execution_count": 2,
   "id": "3cf64800-c9b6-4175-8b06-40d2bf908fe2",
   "metadata": {},
   "outputs": [
    {
     "data": {
      "text/plain": [
       "('ali', 21, 'Peshawar')"
      ]
     },
     "execution_count": 2,
     "metadata": {},
     "output_type": "execute_result"
    }
   ],
   "source": [
    "lst=[]\n",
    "lst.append('ali')\n",
    "lst.append(21)\n",
    "lst.append('Peshawar')\n",
    "personalinfo=(name, age, address)\n",
    "personalinfo"
   ]
  },
  {
   "cell_type": "code",
   "execution_count": null,
   "id": "395c3a2e-2c79-430a-bbb4-39171e04b3f7",
   "metadata": {},
   "outputs": [],
   "source": [
    "lst=[]\n",
    "for i in range(3):\n",
    "    lst[i].append(input('enter your data'))\n",
    "personalinfo=(lst)\n",
    "personalinfo"
   ]
  },
  {
   "cell_type": "code",
   "execution_count": 4,
   "id": "c7a0de60-d16b-4220-8624-2b4981ff0a02",
   "metadata": {},
   "outputs": [
    {
     "name": "stdout",
     "output_type": "stream",
     "text": [
      "140719279400632\n",
      "2011843315008\n"
     ]
    }
   ],
   "source": [
    "t0=()\n",
    "print(id(t0))\n",
    "t0=t0+('ziaullah', 'hangu')\n",
    "t0\n",
    "print(id(t0))"
   ]
  },
  {
   "cell_type": "code",
   "execution_count": 6,
   "id": "b1f4b6fa-4715-44f2-a72f-38de66829eee",
   "metadata": {},
   "outputs": [
    {
     "data": {
      "text/plain": [
       "('zia', 'maqsood', 'uzair')"
      ]
     },
     "execution_count": 6,
     "metadata": {},
     "output_type": "execute_result"
    }
   ],
   "source": [
    "t11=()\n",
    "lst= list(t11)\n",
    "lst.append('zia')\n",
    "lst.append('maqsood')\n",
    "lst.append('uzair')\n",
    "lst\n",
    "t11=tuple(lst)\n",
    "t11"
   ]
  },
  {
   "cell_type": "code",
   "execution_count": 8,
   "id": "5736392e-0b3b-4858-bbe6-4d33e49027d1",
   "metadata": {},
   "outputs": [
    {
     "data": {
      "text/plain": [
       "'zia'"
      ]
     },
     "execution_count": 8,
     "metadata": {},
     "output_type": "execute_result"
    }
   ],
   "source": [
    "# Access items from a tuple\n",
    "t11[0]"
   ]
  },
  {
   "cell_type": "code",
   "execution_count": 9,
   "id": "2aa16b81-53d6-4543-b83d-df1b054c9a5f",
   "metadata": {},
   "outputs": [
    {
     "data": {
      "text/plain": [
       "'uzair'"
      ]
     },
     "execution_count": 9,
     "metadata": {},
     "output_type": "execute_result"
    }
   ],
   "source": [
    "t11[-1]"
   ]
  },
  {
   "cell_type": "code",
   "execution_count": 11,
   "id": "feb8ae2c-c2f7-469e-8741-dba4365735e6",
   "metadata": {},
   "outputs": [
    {
     "data": {
      "text/plain": [
       "(4, 5, 6, 7)"
      ]
     },
     "execution_count": 11,
     "metadata": {},
     "output_type": "execute_result"
    }
   ],
   "source": [
    "t6[:4] # Access first 4 items from tuple"
   ]
  },
  {
   "cell_type": "code",
   "execution_count": 14,
   "id": "be053e69-b298-4723-abac-08ec4704aa55",
   "metadata": {},
   "outputs": [
    {
     "data": {
      "text/plain": [
       "(2, 3, 4, (5, 6))"
      ]
     },
     "execution_count": 14,
     "metadata": {},
     "output_type": "execute_result"
    }
   ],
   "source": [
    "t4"
   ]
  },
  {
   "cell_type": "code",
   "execution_count": 12,
   "id": "10b3ee1c-746e-446c-97bf-c63c738de3ec",
   "metadata": {},
   "outputs": [
    {
     "data": {
      "text/plain": [
       "6"
      ]
     },
     "execution_count": 12,
     "metadata": {},
     "output_type": "execute_result"
    }
   ],
   "source": [
    "t4[-1][1]"
   ]
  },
  {
   "cell_type": "code",
   "execution_count": 13,
   "id": "40bb01f8-02bc-44e9-b4d2-2824dcf1a585",
   "metadata": {},
   "outputs": [
    {
     "ename": "TypeError",
     "evalue": "'tuple' object does not support item assignment",
     "output_type": "error",
     "traceback": [
      "\u001b[1;31m---------------------------------------------------------------------------\u001b[0m",
      "\u001b[1;31mTypeError\u001b[0m                                 Traceback (most recent call last)",
      "Cell \u001b[1;32mIn[13], line 2\u001b[0m\n\u001b[0;32m      1\u001b[0m \u001b[38;5;66;03m# tuples just like string are immutable means tuples can not be changed once created, while list is mutable\u001b[39;00m\n\u001b[1;32m----> 2\u001b[0m \u001b[43mt4\u001b[49m\u001b[43m[\u001b[49m\u001b[38;5;241;43m0\u001b[39;49m\u001b[43m]\u001b[49m\u001b[38;5;241m=\u001b[39m\u001b[38;5;241m300\u001b[39m\n",
      "\u001b[1;31mTypeError\u001b[0m: 'tuple' object does not support item assignment"
     ]
    }
   ],
   "source": [
    "# tuples just like string are immutable means tuples can not be changed once created, while list is mutable\n",
    "t4[0]=300"
   ]
  },
  {
   "cell_type": "code",
   "execution_count": null,
   "id": "e078faac-9cd7-4eeb-89a7-21e461a0cd8e",
   "metadata": {},
   "outputs": [],
   "source": [
    "# can you add new item to the existing tuple, the answer is No, reason: tuples are immutable"
   ]
  },
  {
   "cell_type": "code",
   "execution_count": 19,
   "id": "a7646314-ee40-42c0-881d-beb3ac34a2c1",
   "metadata": {},
   "outputs": [],
   "source": [
    "t2=(2,3,4)"
   ]
  },
  {
   "cell_type": "code",
   "execution_count": 20,
   "id": "6594da8f-9941-4b69-8210-7b7ad6954cfd",
   "metadata": {},
   "outputs": [],
   "source": [
    "# deleting tuple\n",
    "del t2  # it wil delete the entire tuple"
   ]
  },
  {
   "cell_type": "code",
   "execution_count": 15,
   "id": "9e581abd-36b9-43fb-8bc1-fa8ca96c24fd",
   "metadata": {},
   "outputs": [
    {
     "ename": "TypeError",
     "evalue": "'tuple' object doesn't support item deletion",
     "output_type": "error",
     "traceback": [
      "\u001b[1;31m---------------------------------------------------------------------------\u001b[0m",
      "\u001b[1;31mTypeError\u001b[0m                                 Traceback (most recent call last)",
      "Cell \u001b[1;32mIn[15], line 2\u001b[0m\n\u001b[0;32m      1\u001b[0m \u001b[38;5;66;03m# we can delete a part or item of the tuple becos tuples are immutable\u001b[39;00m\n\u001b[1;32m----> 2\u001b[0m \u001b[38;5;28;01mdel\u001b[39;00m \u001b[43mt4\u001b[49m\u001b[43m[\u001b[49m\u001b[38;5;241;43m-\u001b[39;49m\u001b[38;5;241;43m1\u001b[39;49m\u001b[43m]\u001b[49m\n",
      "\u001b[1;31mTypeError\u001b[0m: 'tuple' object doesn't support item deletion"
     ]
    }
   ],
   "source": [
    "# we can delete a part or item of the tuple becos tuples are immutable\n",
    "del t4[-1]"
   ]
  },
  {
   "cell_type": "code",
   "execution_count": 16,
   "id": "218d63b9-796a-46de-80ee-a77a1585a275",
   "metadata": {},
   "outputs": [
    {
     "data": {
      "text/plain": [
       "(2, 3, 4, (5, 6), 4, 5, 6, 7, 9, 10)"
      ]
     },
     "execution_count": 16,
     "metadata": {},
     "output_type": "execute_result"
    }
   ],
   "source": [
    "# operations on tuples: concatenation, multipicaiton, loop via tuple, in membership operator\n",
    "t4+t6"
   ]
  },
  {
   "cell_type": "code",
   "execution_count": 17,
   "id": "69474b7f-2316-48ff-8b28-0389d7a80b1b",
   "metadata": {},
   "outputs": [
    {
     "data": {
      "text/plain": [
       "(4, 5, 6, 7, 9, 10, 4, 5, 6, 7, 9, 10, 4, 5, 6, 7, 9, 10)"
      ]
     },
     "execution_count": 17,
     "metadata": {},
     "output_type": "execute_result"
    }
   ],
   "source": [
    "t6*3"
   ]
  },
  {
   "cell_type": "code",
   "execution_count": 18,
   "id": "33ae149e-6a41-43ee-a9d7-50182e61ab34",
   "metadata": {},
   "outputs": [
    {
     "name": "stdout",
     "output_type": "stream",
     "text": [
      "4\n",
      "5\n",
      "6\n",
      "7\n",
      "9\n",
      "10\n"
     ]
    }
   ],
   "source": [
    "for i in t6:\n",
    "    print(i)"
   ]
  },
  {
   "cell_type": "code",
   "execution_count": 19,
   "id": "a82b77bb-c4e6-4b61-99ec-8994342b97eb",
   "metadata": {},
   "outputs": [
    {
     "data": {
      "text/plain": [
       "False"
      ]
     },
     "execution_count": 19,
     "metadata": {},
     "output_type": "execute_result"
    }
   ],
   "source": [
    "8 in t6"
   ]
  },
  {
   "cell_type": "code",
   "execution_count": 20,
   "id": "81a1dc6f-c9b9-413f-bbb2-9ff1cc1e6fa1",
   "metadata": {},
   "outputs": [
    {
     "data": {
      "text/plain": [
       "6"
      ]
     },
     "execution_count": 20,
     "metadata": {},
     "output_type": "execute_result"
    }
   ],
   "source": [
    "# functions available for tuple\n",
    "len(t6)"
   ]
  },
  {
   "cell_type": "code",
   "execution_count": 21,
   "id": "26d44f94-f0a0-47ac-a40f-2b2d56040ec8",
   "metadata": {},
   "outputs": [
    {
     "data": {
      "text/plain": [
       "4"
      ]
     },
     "execution_count": 21,
     "metadata": {},
     "output_type": "execute_result"
    }
   ],
   "source": [
    "min(t6)"
   ]
  },
  {
   "cell_type": "code",
   "execution_count": 22,
   "id": "65874940-62aa-496a-a8d5-2862a4883314",
   "metadata": {},
   "outputs": [
    {
     "data": {
      "text/plain": [
       "10"
      ]
     },
     "execution_count": 22,
     "metadata": {},
     "output_type": "execute_result"
    }
   ],
   "source": [
    "max(t6)"
   ]
  },
  {
   "cell_type": "code",
   "execution_count": 23,
   "id": "5d51870f-d44f-4263-9df9-88974ca1a9ca",
   "metadata": {},
   "outputs": [
    {
     "data": {
      "text/plain": [
       "41"
      ]
     },
     "execution_count": 23,
     "metadata": {},
     "output_type": "execute_result"
    }
   ],
   "source": [
    "sum(t6)"
   ]
  },
  {
   "cell_type": "code",
   "execution_count": 21,
   "id": "e140bd59-2b72-42e6-b959-e8869a04add4",
   "metadata": {},
   "outputs": [
    {
     "data": {
      "text/plain": [
       "[4, 5, 6, 7, 9, 10]"
      ]
     },
     "execution_count": 21,
     "metadata": {},
     "output_type": "execute_result"
    }
   ],
   "source": [
    "sorted(t6) # returns a list"
   ]
  },
  {
   "cell_type": "code",
   "execution_count": 26,
   "id": "a4c13895-b09e-4fc2-8a81-e7d03cddf76f",
   "metadata": {},
   "outputs": [
    {
     "data": {
      "text/plain": [
       "[10, 9, 7, 6, 5, 4]"
      ]
     },
     "execution_count": 26,
     "metadata": {},
     "output_type": "execute_result"
    }
   ],
   "source": [
    "sorted(t6, reverse=True)"
   ]
  },
  {
   "cell_type": "code",
   "execution_count": null,
   "id": "57ac2e05-ff4f-4f76-9b31-3fcaaf4b9d65",
   "metadata": {},
   "outputs": [],
   "source": [
    "# Tuples are read-only datatype and are used in scenarios where data integrity is important.\n",
    "for example: you are web developer publishing results of CS dept. your brother got admission in stat but interested in CS.\n",
    "He was conditioned to get 3.8 in 1st semester in order to get admission in CS dept. but unforunately he could  not. Now he requested \n",
    "brother to do something, if the data from database is in tuple, then his brother would not be able to change data as tuples are immutable\n",
    "otherwise editing in list in possible"
   ]
  }
 ],
 "metadata": {
  "kernelspec": {
   "display_name": "Python 3 (ipykernel)",
   "language": "python",
   "name": "python3"
  },
  "language_info": {
   "codemirror_mode": {
    "name": "ipython",
    "version": 3
   },
   "file_extension": ".py",
   "mimetype": "text/x-python",
   "name": "python",
   "nbconvert_exporter": "python",
   "pygments_lexer": "ipython3",
   "version": "3.12.2"
  }
 },
 "nbformat": 4,
 "nbformat_minor": 5
}
