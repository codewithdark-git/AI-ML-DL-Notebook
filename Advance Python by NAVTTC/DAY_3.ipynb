{
 "cells": [
  {
   "cell_type": "markdown",
   "metadata": {},
   "source": [
    "#### Question 1: create 2D Dictionary "
   ]
  },
  {
   "cell_type": "code",
   "execution_count": 38,
   "metadata": {},
   "outputs": [
    {
     "data": {
      "text/plain": [
       "{'Name': 'John Doe',\n",
       " 'Std_id': 101,\n",
       " 'Major': 'BSAI',\n",
       " 'Age': 18,\n",
       " 'Marks': {'English': 85, 'Science': 92, 'Social Studies': 88}}"
      ]
     },
     "execution_count": 38,
     "metadata": {},
     "output_type": "execute_result"
    }
   ],
   "source": [
    "\n",
    "student = {\n",
    "    'student_1' : {\n",
    "        'Name': 'John Doe',\n",
    "        'Std_id': 101,\n",
    "        'Major': 'BSAI',\n",
    "        'Age': 18,\n",
    "        'Marks': {\n",
    "            'English': 85,\n",
    "            'Science': 92,\n",
    "            'Social Studies': 88\n",
    "        }\n",
    "    },\n",
    "\n",
    "    'student_2' : {\n",
    "        'Name': 'Mark',\n",
    "        'Std_id': 102,\n",
    "        'Major': 'BSAI',\n",
    "        'Age': 18,\n",
    "        'Marks': {\n",
    "            'English': 80,\n",
    "            'Science': 90,\n",
    "            'Social Studies': 78\n",
    "        }\n",
    "    }\n",
    "}\n",
    "\n",
    "student['student_1']"
   ]
  },
  {
   "cell_type": "markdown",
   "metadata": {},
   "source": [
    "#### Question 2 : Write a Python program to create a dictionary with the numbers from 1 to 5 as keys and\n",
    "the square of the number as values.\n"
   ]
  },
  {
   "cell_type": "code",
   "execution_count": 39,
   "metadata": {},
   "outputs": [
    {
     "data": {
      "text/plain": [
       "{1: 1, 2: 4, 3: 9, 4: 16, 5: 25}"
      ]
     },
     "execution_count": 39,
     "metadata": {},
     "output_type": "execute_result"
    }
   ],
   "source": [
    "dic ={}\n",
    "n = 5\n",
    "\n",
    "for i in range(1,n+1):\n",
    "    dic[i] = i*i\n",
    "\n",
    "dic\n",
    "\n"
   ]
  },
  {
   "cell_type": "markdown",
   "metadata": {},
   "source": [
    "#### Question 3: Write a Python program to find the sum of all the values in a dictionary\n"
   ]
  },
  {
   "cell_type": "code",
   "execution_count": 40,
   "metadata": {},
   "outputs": [
    {
     "data": {
      "text/plain": [
       "102"
      ]
     },
     "execution_count": 40,
     "metadata": {},
     "output_type": "execute_result"
    }
   ],
   "source": [
    "dic = {'maths': 23, 'english': 34, 'science': 45}\n",
    "sum=0\n",
    "for i in dic.values():\n",
    "    sum += i\n",
    "\n",
    "sum\n"
   ]
  },
  {
   "cell_type": "code",
   "execution_count": 41,
   "metadata": {},
   "outputs": [],
   "source": [
    "#### Question 4: Write a Python program to create two dictionaries, one for students and another for courses, and Merge them into a single dictionary."
   ]
  },
  {
   "cell_type": "code",
   "execution_count": 42,
   "metadata": {},
   "outputs": [
    {
     "data": {
      "text/plain": [
       "{'coures': 'Python',\n",
       " 'credits': 4,\n",
       " 'grade': 'A',\n",
       " 'inst_name': 'Dr Atif',\n",
       " 'age': 45,\n",
       " 'department': 'Computer Science'}"
      ]
     },
     "execution_count": 42,
     "metadata": {},
     "output_type": "execute_result"
    }
   ],
   "source": [
    "dec_st = {'coures': 'Python', 'credits': 4, 'grade': 'A'}\n",
    "dec_inst = {'inst_name': 'Dr Atif', 'age': 45, 'department': 'Computer Science'}\n",
    "\n",
    "dec_st.update(dec_inst)\n",
    "\n",
    "dec_st\n"
   ]
  },
  {
   "cell_type": "code",
   "execution_count": 43,
   "metadata": {},
   "outputs": [
    {
     "data": {
      "text/plain": [
       "'This is raw string'"
      ]
     },
     "execution_count": 43,
     "metadata": {},
     "output_type": "execute_result"
    }
   ],
   "source": [
    "str = \"This%is#raw+string\"\n",
    "list_raw = ['%', '%', '#', '+']\n",
    "\n",
    "for i in list_raw:\n",
    "    str = str.replace(i, ' ')\n",
    "\n",
    "str"
   ]
  },
  {
   "cell_type": "markdown",
   "metadata": {},
   "source": [
    "#### Question : Write a Python program to count the number of uppercase letters, lowercase letters, digits, and special characters"
   ]
  },
  {
   "cell_type": "code",
   "execution_count": 44,
   "metadata": {},
   "outputs": [
    {
     "name": "stdout",
     "output_type": "stream",
     "text": [
      "THE NUMBERS: 3\n",
      "THE UPPERCASE LETTERS: 2\n",
      "THE LOWERCASE LETTERS: 11\n",
      "THE SPECIAL CHARACTERS: 3\n"
     ]
    }
   ],
   "source": [
    "str = \"This is a Number !@# 123\"\n",
    "list = ['!', '@', '#', '$', '%', '^', '&', '*', '(', ')']\n",
    "\n",
    "num, upper, lower, spe = 0, 0, 0, 0\n",
    "\n",
    "\n",
    "for i in str:\n",
    "    if i.isdigit():\n",
    "        num +=1\n",
    "    elif i.isupper():\n",
    "        upper +=1\n",
    "    elif i.islower():\n",
    "        lower +=1 \n",
    "    else:\n",
    "        if i in list:\n",
    "            spe +=1\n",
    "    \n",
    "print(f\"\"\"THE NUMBERS: {num}\n",
    "THE UPPERCASE LETTERS: {upper}\n",
    "THE LOWERCASE LETTERS: {lower}\n",
    "THE SPECIAL CHARACTERS: {spe}\"\"\")"
   ]
  }
 ],
 "metadata": {
  "kernelspec": {
   "display_name": "Python 3",
   "language": "python",
   "name": "python3"
  },
  "language_info": {
   "codemirror_mode": {
    "name": "ipython",
    "version": 3
   },
   "file_extension": ".py",
   "mimetype": "text/x-python",
   "name": "python",
   "nbconvert_exporter": "python",
   "pygments_lexer": "ipython3",
   "version": "3.12.4"
  }
 },
 "nbformat": 4,
 "nbformat_minor": 2
}
