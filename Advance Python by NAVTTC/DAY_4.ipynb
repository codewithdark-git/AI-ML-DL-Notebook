{
 "cells": [
  {
   "cell_type": "markdown",
   "metadata": {},
   "source": [
    "#### Merge two list and create dictionary from given lists"
   ]
  },
  {
   "cell_type": "code",
   "execution_count": 1,
   "metadata": {},
   "outputs": [
    {
     "data": {
      "text/plain": [
       "{'Maths': 85, 'OOP': 92, 'Database': 88, 'English': 90}"
      ]
     },
     "execution_count": 1,
     "metadata": {},
     "output_type": "execute_result"
    }
   ],
   "source": [
    "key = ['Maths', 'OOP', 'Database', 'English']\n",
    "\n",
    "value = [85, 92, 88, 90]\n",
    "\n",
    "dict_data = {key: value for key, value in zip(key, value)}\n",
    "\n",
    "dict_data"
   ]
  },
  {
   "cell_type": "markdown",
   "metadata": {},
   "source": [
    "#### Square of numbers in a list using dictionary comprehension and the list values as key and the square of the key as value."
   ]
  },
  {
   "cell_type": "code",
   "execution_count": 33,
   "metadata": {},
   "outputs": [
    {
     "data": {
      "text/plain": [
       "({2: 4, 4: 16, 6: 36, 8: 64}, {2: 8, 4: 64, 6: 216, 8: 512})"
      ]
     },
     "execution_count": 33,
     "metadata": {},
     "output_type": "execute_result"
    }
   ],
   "source": [
    "num = [2, 4, 6, 8] \n",
    "\n",
    "dic_sq = {num: num**2 for num in num}\n",
    "dic_cb = {num: num**3 for num in num}\n",
    "\n",
    "dic_sq, dic_cb\n"
   ]
  },
  {
   "cell_type": "markdown",
   "metadata": {},
   "source": [
    "#### Square of numbers in the RANGE(1, 11) using dictionary comprehension"
   ]
  },
  {
   "cell_type": "code",
   "execution_count": 11,
   "metadata": {},
   "outputs": [
    {
     "data": {
      "text/plain": [
       "{1: 1, 2: 4, 3: 9, 4: 16, 5: 25, 6: 36, 7: 49, 8: 64, 9: 81, 10: 100}"
      ]
     },
     "execution_count": 11,
     "metadata": {},
     "output_type": "execute_result"
    }
   ],
   "source": [
    "dic_sqq = {key: key*key for key in range(1,11)}\n",
    "dic_sqq"
   ]
  },
  {
   "cell_type": "markdown",
   "metadata": {},
   "source": [
    "#### Updates and increase the price of items(value) in the dictionary by 10% and print fisrt two item."
   ]
  },
  {
   "cell_type": "code",
   "execution_count": 11,
   "metadata": {},
   "outputs": [
    {
     "data": {
      "text/plain": [
       "{'milk': 11.0, 'coffee': 5.5, 'pen': 2.2}"
      ]
     },
     "execution_count": 11,
     "metadata": {},
     "output_type": "execute_result"
    }
   ],
   "source": [
    "old_dic = {'milk': 10, 'coffee': 5, 'pen': 2}\n",
    "\n",
    "new_dic = {key: (value + value*0.10) for key, value in old_dic.items()}\n",
    "new_dic"
   ]
  },
  {
   "cell_type": "code",
   "execution_count": 15,
   "metadata": {},
   "outputs": [
    {
     "data": {
      "text/plain": [
       "{'milk': 10, 'coffee': 5.5, 'pen': 2}"
      ]
     },
     "execution_count": 15,
     "metadata": {},
     "output_type": "execute_result"
    }
   ],
   "source": [
    "old_dic = {'milk': 10, 'coffee': 5, 'pen': 2}\n",
    "\n",
    "new_dic = {key: (value + value*0.10) if key in ['Milk', 'coffee'] else value for key, value in old_dic.items()}\n",
    "new_dic"
   ]
  },
  {
   "cell_type": "markdown",
   "metadata": {},
   "source": [
    "#### Filter students who have GPA greater than or equal to 3.5 from the given dictionary."
   ]
  },
  {
   "cell_type": "code",
   "execution_count": 29,
   "metadata": {},
   "outputs": [
    {
     "data": {
      "text/plain": [
       "{'ALI': 3.5, 'MUHAMMAD': 3.7, 'ZAIN': 3.9}"
      ]
     },
     "execution_count": 29,
     "metadata": {},
     "output_type": "execute_result"
    }
   ],
   "source": [
    "GPA_dic = {\"ALI\" : 3.5, \"MUHAMMAD\" : 3.7, \"ZAIN\" : 3.9, \"ABDULLAH\" : 3.2}\n",
    "\n",
    "filtered_GPA = {name: GPA for name, GPA in GPA_dic.items() if GPA >= 3.5}\n",
    "\n",
    "filtered_GPA"
   ]
  },
  {
   "cell_type": "markdown",
   "metadata": {},
   "source": [
    "#### Convert the price of items in the dictionary from USD to PKR using dictionary"
   ]
  },
  {
   "cell_type": "code",
   "execution_count": 30,
   "metadata": {},
   "outputs": [
    {
     "data": {
      "text/plain": [
       "{'apple': 324.0, 'banana': 216.0, 'orange': 270.0, 'grape': 675.0}"
      ]
     },
     "execution_count": 30,
     "metadata": {},
     "output_type": "execute_result"
    }
   ],
   "source": [
    "pirce_in_usd = {'apple': 1.2, 'banana': 0.8, 'orange': 1.0, 'grape': 2.5}\n",
    "\n",
    "pirce_in_PRk = {item: price * 270 for item, price in pirce_in_usd.items()}\n",
    "\n",
    "pirce_in_PRk"
   ]
  },
  {
   "cell_type": "code",
   "execution_count": 41,
   "metadata": {},
   "outputs": [
    {
     "name": "stdout",
     "output_type": "stream",
     "text": [
      "This is a txt file main\n",
      "This is txt file\n",
      "This is txt file\n",
      "This is txt file\n",
      "This is txt file\n",
      "This is txt file\n",
      "This is txt file\n",
      "This is txt file\n",
      "This is txt file\n",
      "This is txt file\n",
      "This is txt file\n"
     ]
    }
   ],
   "source": [
    "test = \"\"\"\n",
    "print(\"This is a txt file main\")\n",
    "var = 10\n",
    "for i in range(var):\n",
    "    print(\"This is txt file\")\n",
    "\n",
    "\"\"\"\n",
    "\n",
    "exec(test)"
   ]
  }
 ],
 "metadata": {
  "kernelspec": {
   "display_name": "Python 3",
   "language": "python",
   "name": "python3"
  },
  "language_info": {
   "codemirror_mode": {
    "name": "ipython",
    "version": 3
   },
   "file_extension": ".py",
   "mimetype": "text/x-python",
   "name": "python",
   "nbconvert_exporter": "python",
   "pygments_lexer": "ipython3",
   "version": "3.12.4"
  }
 },
 "nbformat": 4,
 "nbformat_minor": 2
}
