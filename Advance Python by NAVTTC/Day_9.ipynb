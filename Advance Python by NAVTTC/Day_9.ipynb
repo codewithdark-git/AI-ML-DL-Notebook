{
 "cells": [
  {
   "cell_type": "markdown",
   "metadata": {},
   "source": [
    "### Exception and Error Handling"
   ]
  },
  {
   "cell_type": "code",
   "execution_count": 4,
   "metadata": {},
   "outputs": [
    {
     "ename": "ZeroDivisionError",
     "evalue": "division by zero",
     "output_type": "error",
     "traceback": [
      "\u001b[1;31m---------------------------------------------------------------------------\u001b[0m",
      "\u001b[1;31mZeroDivisionError\u001b[0m                         Traceback (most recent call last)",
      "Cell \u001b[1;32mIn[4], line 4\u001b[0m\n\u001b[0;32m      1\u001b[0m a \u001b[38;5;241m=\u001b[39m \u001b[38;5;28mint\u001b[39m(\u001b[38;5;28minput\u001b[39m(\u001b[38;5;124m'\u001b[39m\u001b[38;5;124mEnter the first number: \u001b[39m\u001b[38;5;124m'\u001b[39m))\n\u001b[0;32m      2\u001b[0m b \u001b[38;5;241m=\u001b[39m \u001b[38;5;28mint\u001b[39m(\u001b[38;5;28minput\u001b[39m(\u001b[38;5;124m'\u001b[39m\u001b[38;5;124mEnter the second number: \u001b[39m\u001b[38;5;124m'\u001b[39m))\n\u001b[1;32m----> 4\u001b[0m c \u001b[38;5;241m=\u001b[39m \u001b[43ma\u001b[49m\u001b[38;5;241;43m/\u001b[39;49m\u001b[43mb\u001b[49m\n\u001b[0;32m      5\u001b[0m c\n",
      "\u001b[1;31mZeroDivisionError\u001b[0m: division by zero"
     ]
    }
   ],
   "source": [
    "a = int(input('Enter the first number: '))\n",
    "b = int(input('Enter the second number: '))\n",
    "\n",
    "c = a/b\n",
    "c"
   ]
  },
  {
   "cell_type": "code",
   "execution_count": 7,
   "metadata": {},
   "outputs": [
    {
     "name": "stdout",
     "output_type": "stream",
     "text": [
      "Error occurred during division. Number Not division by zero\n"
     ]
    }
   ],
   "source": [
    "try:\n",
    "    c = a/b\n",
    "    print('The result is:', c)\n",
    "\n",
    "except:\n",
    "    print('Error occurred during division. Number Not division by zero')"
   ]
  },
  {
   "cell_type": "code",
   "execution_count": 8,
   "metadata": {},
   "outputs": [
    {
     "name": "stdout",
     "output_type": "stream",
     "text": [
      "Error occurred during division. Number Not division by zero\n"
     ]
    }
   ],
   "source": [
    "try:\n",
    "    c = a/b\n",
    "    print('The result is:', c)\n",
    "\n",
    "except Exception:\n",
    "    print('Error occurred during division. Number Not division by zero')"
   ]
  },
  {
   "cell_type": "code",
   "execution_count": 9,
   "metadata": {},
   "outputs": [
    {
     "name": "stdout",
     "output_type": "stream",
     "text": [
      "Error occurred division by zero\n"
     ]
    }
   ],
   "source": [
    "try:\n",
    "    c = a/b\n",
    "    print('The result is:', c)\n",
    "\n",
    "except Exception as e:\n",
    "    print(f'Error occurred {e}')"
   ]
  },
  {
   "cell_type": "code",
   "execution_count": 11,
   "metadata": {},
   "outputs": [
    {
     "name": "stdout",
     "output_type": "stream",
     "text": [
      "Error occurred division by zero\n"
     ]
    }
   ],
   "source": [
    "try:\n",
    "    c = a/b\n",
    "    print('The result is:', c)\n",
    "\n",
    "except ZeroDivisionError as e:\n",
    "    print(f'Error occurred {e}')\n",
    "\n",
    "else:\n",
    "    print('The Code Runs successfully')"
   ]
  },
  {
   "cell_type": "code",
   "execution_count": 14,
   "metadata": {},
   "outputs": [
    {
     "ename": "IndexError",
     "evalue": "list index out of range",
     "output_type": "error",
     "traceback": [
      "\u001b[1;31m---------------------------------------------------------------------------\u001b[0m",
      "\u001b[1;31mIndexError\u001b[0m                                Traceback (most recent call last)",
      "Cell \u001b[1;32mIn[14], line 3\u001b[0m\n\u001b[0;32m      1\u001b[0m list_ \u001b[38;5;241m=\u001b[39m [\u001b[38;5;241m1\u001b[39m, \u001b[38;5;241m2\u001b[39m, \u001b[38;5;241m3\u001b[39m, \u001b[38;5;241m4\u001b[39m, \u001b[38;5;241m5\u001b[39m]\n\u001b[1;32m----> 3\u001b[0m \u001b[43mlist_\u001b[49m\u001b[43m[\u001b[49m\u001b[38;5;241;43m5\u001b[39;49m\u001b[43m]\u001b[49m\n",
      "\u001b[1;31mIndexError\u001b[0m: list index out of range"
     ]
    }
   ],
   "source": [
    "list_ = [1, 2, 3, 4, 5]\n",
    "\n",
    "list_[5]"
   ]
  },
  {
   "cell_type": "code",
   "execution_count": 24,
   "metadata": {},
   "outputs": [
    {
     "name": "stdout",
     "output_type": "stream",
     "text": [
      "5\n",
      "The Code Run Successfully\n"
     ]
    }
   ],
   "source": [
    "try:\n",
    "    list_ = [1, 2, 3, 4, 5]\n",
    "\n",
    "    print(list_[4])\n",
    "\n",
    "except IndexError as e:\n",
    "    print(f'Error occurred {e}')\n",
    "else:\n",
    "    print('The Code Run Successfully')\n"
   ]
  },
  {
   "cell_type": "code",
   "execution_count": 20,
   "metadata": {},
   "outputs": [
    {
     "ename": "IndentationError",
     "evalue": "unexpected indent (3309073049.py, line 3)",
     "output_type": "error",
     "traceback": [
      "\u001b[1;36m  Cell \u001b[1;32mIn[20], line 3\u001b[1;36m\u001b[0m\n\u001b[1;33m    print('world')\u001b[0m\n\u001b[1;37m    ^\u001b[0m\n\u001b[1;31mIndentationError\u001b[0m\u001b[1;31m:\u001b[0m unexpected indent\n"
     ]
    }
   ],
   "source": [
    "try:\n",
    "    print('hello')\n",
    "     print('world')\n",
    "\n",
    "except Exception as e:  \n",
    "    print(f'Error occurred {e}')"
   ]
  },
  {
   "cell_type": "code",
   "execution_count": null,
   "metadata": {},
   "outputs": [],
   "source": [
    "from sqlite3 import InternalError\n",
    "\n",
    "\n",
    "try:\n",
    "    pass\n",
    "\n",
    "except Exception as e:\n",
    "    pass\n",
    "except ImportError as e:\n",
    "    pass\n",
    "except IndexError as e:\n",
    "    pass\n",
    "except KeyError as e:\n",
    "    pass\n",
    "except TypeError as e:\n",
    "    pass\n",
    "except ValueError as e:\n",
    "    pass\n",
    "except InterruptedError as e:\n",
    "    pass\n",
    "except TimeoutError as e:\n",
    "    pass\n",
    "except ConnectionError as e:\n",
    "    pass\n",
    "except ConnectionAbortedError as e:\n",
    "    pass\n",
    "except ConnectionRefusedError as e:\n",
    "    pass\n",
    "except OSError as e:\n",
    "    pass\n",
    "except MemoryError as e:\n",
    "    pass\n",
    "except InternalError as e:\n",
    "    pass\n"
   ]
  },
  {
   "cell_type": "code",
   "execution_count": 26,
   "metadata": {},
   "outputs": [
    {
     "name": "stdout",
     "output_type": "stream",
     "text": [
      "hello World\n",
      "An error occurred name 'name' is not defined\n",
      "This code will always run\n"
     ]
    }
   ],
   "source": [
    "\n",
    "try:\n",
    "    print('hello World')\n",
    "    print(name)\n",
    "\n",
    "except Exception as e:\n",
    "    print(f'An error occurred {e}')\n",
    "    \n",
    "finally:\n",
    "    print('This code will always run')\n"
   ]
  },
  {
   "cell_type": "code",
   "execution_count": 15,
   "metadata": {},
   "outputs": [
    {
     "name": "stdout",
     "output_type": "stream",
     "text": [
      "Error occur [WinError 183] Cannot create a file when that file already exists: 'New'\n"
     ]
    }
   ],
   "source": [
    "import os\n",
    "try:\n",
    "    os.makedirs('New')\n",
    "\n",
    "except Exception as e:\n",
    "    print(f'Error occur {e}')"
   ]
  },
  {
   "cell_type": "code",
   "execution_count": 39,
   "metadata": {},
   "outputs": [
    {
     "name": "stdout",
     "output_type": "stream",
     "text": [
      "The result is: 5.0\n",
      "Division was successful.\n",
      "Execution completed.\n",
      "Error: Division by zero is not allowed.\n",
      "Execution completed.\n",
      "Error: Type mismatch. Ensure both inputs are numbers.\n",
      "Execution completed.\n"
     ]
    }
   ],
   "source": [
    "from sympy import div\n",
    "\n",
    "\n",
    "def divide_numbers(a, b):\n",
    "    try:\n",
    "        # Attempting division\n",
    "        result = a / b\n",
    "        print(f\"The result is: {result}\")\n",
    "    except ZeroDivisionError:\n",
    "        # This block will execute if division by zero is attempted\n",
    "        print(\"Error: Division by zero is not allowed.\")\n",
    "    except TypeError:\n",
    "        # This block will execute if unsupported types are used\n",
    "        print(\"Error: Type mismatch. Ensure both inputs are numbers.\")\n",
    "    except Exception as e:\n",
    "        # General exception handler for any other errors\n",
    "        print(f\"An unexpected error occurred: {e}\")\n",
    "    else:\n",
    "        # This block runs if no exception was raised\n",
    "        print(\"Division was successful.\")\n",
    "    finally:\n",
    "        # This block always runs, regardless of an exception being raised\n",
    "        print(\"Execution completed.\")\n",
    "\n",
    "# Test cases\n",
    "divide_numbers(10, 2)        # Valid input, no exception\n",
    "divide_numbers(10, 0)        # Triggers ZeroDivisionError\n",
    "divide_numbers(10, \"five\")   # Triggers TypeError\n"
   ]
  },
  {
   "cell_type": "code",
   "execution_count": 43,
   "metadata": {},
   "outputs": [
    {
     "name": "stdout",
     "output_type": "stream",
     "text": [
      "Import Error: No module named 'non_existing_module'\n",
      "Program execution continues smoothly.\n"
     ]
    }
   ],
   "source": [
    "try:\n",
    "    # Attempting to import a module that might not be available\n",
    "    import math\n",
    "    import non_existing_module  # This will raise an ImportError\n",
    "except ImportError as e:\n",
    "    print(f\"Import Error: {e}\")\n",
    "finally:\n",
    "    print('Program execution continues smoothly.')"
   ]
  },
  {
   "cell_type": "code",
   "execution_count": 44,
   "metadata": {},
   "outputs": [
    {
     "name": "stdout",
     "output_type": "stream",
     "text": [
      "Value Error: invalid literal for int() with base 10: 'abc'\n",
      "Program execution continues smoothly.\n"
     ]
    }
   ],
   "source": [
    "try:\n",
    "    # Attempting to convert a string to an integer\n",
    "    number = int(\"abc\")  # This will raise a ValueError\n",
    "except ValueError as e:\n",
    "    print(f\"Value Error: {e}\")\n",
    "finally:\n",
    "    print('Program execution continues smoothly.')\n"
   ]
  },
  {
   "cell_type": "code",
   "execution_count": 59,
   "metadata": {},
   "outputs": [
    {
     "name": "stdout",
     "output_type": "stream",
     "text": [
      "No module named 'faker'\n"
     ]
    }
   ],
   "source": [
    "try:\n",
    "    import faker\n",
    "    name = faker.faker\n",
    "    raise ImportError\n",
    "except ModuleNotFoundError as e:\n",
    "    print(f'{e}')"
   ]
  },
  {
   "cell_type": "code",
   "execution_count": null,
   "metadata": {},
   "outputs": [],
   "source": []
  }
 ],
 "metadata": {
  "kernelspec": {
   "display_name": "Python 3",
   "language": "python",
   "name": "python3"
  },
  "language_info": {
   "codemirror_mode": {
    "name": "ipython",
    "version": 3
   },
   "file_extension": ".py",
   "mimetype": "text/x-python",
   "name": "python",
   "nbconvert_exporter": "python",
   "pygments_lexer": "ipython3",
   "version": "3.12.4"
  }
 },
 "nbformat": 4,
 "nbformat_minor": 2
}
