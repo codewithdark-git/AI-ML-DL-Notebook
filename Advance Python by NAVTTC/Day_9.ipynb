{
 "cells": [
  {
   "cell_type": "markdown",
   "metadata": {},
   "source": [
    "### Exception and Error Handling"
   ]
  },
  {
   "cell_type": "code",
   "execution_count": 4,
   "metadata": {},
   "outputs": [
    {
     "ename": "ZeroDivisionError",
     "evalue": "division by zero",
     "output_type": "error",
     "traceback": [
      "\u001b[1;31m---------------------------------------------------------------------------\u001b[0m",
      "\u001b[1;31mZeroDivisionError\u001b[0m                         Traceback (most recent call last)",
      "Cell \u001b[1;32mIn[4], line 4\u001b[0m\n\u001b[0;32m      1\u001b[0m a \u001b[38;5;241m=\u001b[39m \u001b[38;5;28mint\u001b[39m(\u001b[38;5;28minput\u001b[39m(\u001b[38;5;124m'\u001b[39m\u001b[38;5;124mEnter the first number: \u001b[39m\u001b[38;5;124m'\u001b[39m))\n\u001b[0;32m      2\u001b[0m b \u001b[38;5;241m=\u001b[39m \u001b[38;5;28mint\u001b[39m(\u001b[38;5;28minput\u001b[39m(\u001b[38;5;124m'\u001b[39m\u001b[38;5;124mEnter the second number: \u001b[39m\u001b[38;5;124m'\u001b[39m))\n\u001b[1;32m----> 4\u001b[0m c \u001b[38;5;241m=\u001b[39m \u001b[43ma\u001b[49m\u001b[38;5;241;43m/\u001b[39;49m\u001b[43mb\u001b[49m\n\u001b[0;32m      5\u001b[0m c\n",
      "\u001b[1;31mZeroDivisionError\u001b[0m: division by zero"
     ]
    }
   ],
   "source": [
    "a = int(input('Enter the first number: '))\n",
    "b = int(input('Enter the second number: '))\n",
    "\n",
    "c = a/b\n",
    "c"
   ]
  },
  {
   "cell_type": "code",
   "execution_count": 7,
   "metadata": {},
   "outputs": [
    {
     "name": "stdout",
     "output_type": "stream",
     "text": [
      "Error occurred during division. Number Not division by zero\n"
     ]
    }
   ],
   "source": [
    "try:\n",
    "    c = a/b\n",
    "    print('The result is:', c)\n",
    "\n",
    "except:\n",
    "    print('Error occurred during division. Number Not division by zero')"
   ]
  },
  {
   "cell_type": "code",
   "execution_count": 8,
   "metadata": {},
   "outputs": [
    {
     "name": "stdout",
     "output_type": "stream",
     "text": [
      "Error occurred during division. Number Not division by zero\n"
     ]
    }
   ],
   "source": [
    "try:\n",
    "    c = a/b\n",
    "    print('The result is:', c)\n",
    "\n",
    "except Exception:\n",
    "    print('Error occurred during division. Number Not division by zero')"
   ]
  },
  {
   "cell_type": "code",
   "execution_count": 9,
   "metadata": {},
   "outputs": [
    {
     "name": "stdout",
     "output_type": "stream",
     "text": [
      "Error occurred division by zero\n"
     ]
    }
   ],
   "source": [
    "try:\n",
    "    c = a/b\n",
    "    print('The result is:', c)\n",
    "\n",
    "except Exception as e:\n",
    "    print(f'Error occurred {e}')"
   ]
  },
  {
   "cell_type": "code",
   "execution_count": 11,
   "metadata": {},
   "outputs": [
    {
     "name": "stdout",
     "output_type": "stream",
     "text": [
      "Error occurred division by zero\n"
     ]
    }
   ],
   "source": [
    "try:\n",
    "    c = a/b\n",
    "    print('The result is:', c)\n",
    "\n",
    "except ZeroDivisionError as e:\n",
    "    print(f'Error occurred {e}')\n",
    "\n",
    "else:\n",
    "    print('The Code Runs successfully')"
   ]
  },
  {
   "cell_type": "code",
   "execution_count": 14,
   "metadata": {},
   "outputs": [
    {
     "ename": "IndexError",
     "evalue": "list index out of range",
     "output_type": "error",
     "traceback": [
      "\u001b[1;31m---------------------------------------------------------------------------\u001b[0m",
      "\u001b[1;31mIndexError\u001b[0m                                Traceback (most recent call last)",
      "Cell \u001b[1;32mIn[14], line 3\u001b[0m\n\u001b[0;32m      1\u001b[0m list_ \u001b[38;5;241m=\u001b[39m [\u001b[38;5;241m1\u001b[39m, \u001b[38;5;241m2\u001b[39m, \u001b[38;5;241m3\u001b[39m, \u001b[38;5;241m4\u001b[39m, \u001b[38;5;241m5\u001b[39m]\n\u001b[1;32m----> 3\u001b[0m \u001b[43mlist_\u001b[49m\u001b[43m[\u001b[49m\u001b[38;5;241;43m5\u001b[39;49m\u001b[43m]\u001b[49m\n",
      "\u001b[1;31mIndexError\u001b[0m: list index out of range"
     ]
    }
   ],
   "source": [
    "list_ = [1, 2, 3, 4, 5]\n",
    "\n",
    "list_[5]"
   ]
  },
  {
   "cell_type": "code",
   "execution_count": 24,
   "metadata": {},
   "outputs": [
    {
     "name": "stdout",
     "output_type": "stream",
     "text": [
      "5\n",
      "The Code Run Successfully\n"
     ]
    }
   ],
   "source": [
    "try:\n",
    "    list_ = [1, 2, 3, 4, 5]\n",
    "\n",
    "    print(list_[4])\n",
    "\n",
    "except IndexError as e:\n",
    "    print(f'Error occurred {e}')\n",
    "else:\n",
    "    print('The Code Run Successfully')\n"
   ]
  },
  {
   "cell_type": "code",
   "execution_count": 20,
   "metadata": {},
   "outputs": [
    {
     "ename": "IndentationError",
     "evalue": "unexpected indent (3309073049.py, line 3)",
     "output_type": "error",
     "traceback": [
      "\u001b[1;36m  Cell \u001b[1;32mIn[20], line 3\u001b[1;36m\u001b[0m\n\u001b[1;33m    print('world')\u001b[0m\n\u001b[1;37m    ^\u001b[0m\n\u001b[1;31mIndentationError\u001b[0m\u001b[1;31m:\u001b[0m unexpected indent\n"
     ]
    }
   ],
   "source": [
    "try:\n",
    "    print('hello')\n",
    "     print('world')\n",
    "\n",
    "except Exception as e:  \n",
    "    print(f'Error occurred {e}')"
   ]
  },
  {
   "cell_type": "code",
   "execution_count": null,
   "metadata": {},
   "outputs": [],
   "source": [
    "from sqlite3 import InternalError\n",
    "\n",
    "\n",
    "try:\n",
    "    pass\n",
    "\n",
    "except Exception as e:\n",
    "    pass\n",
    "except ImportError as e:\n",
    "    pass\n",
    "except IndexError as e:\n",
    "    pass\n",
    "except KeyError as e:\n",
    "    pass\n",
    "except TypeError as e:\n",
    "    pass\n",
    "except ValueError as e:\n",
    "    pass\n",
    "except InterruptedError as e:\n",
    "    pass\n",
    "except TimeoutError as e:\n",
    "    pass\n",
    "except ConnectionError as e:\n",
    "    pass\n",
    "except ConnectionAbortedError as e:\n",
    "    pass\n",
    "except ConnectionRefusedError as e:\n",
    "    pass\n",
    "except OSError as e:\n",
    "    pass\n",
    "except MemoryError as e:\n",
    "    pass\n",
    "except InternalError as e:\n",
    "    pass\n"
   ]
  },
  {
   "cell_type": "code",
   "execution_count": 26,
   "metadata": {},
   "outputs": [
    {
     "name": "stdout",
     "output_type": "stream",
     "text": [
      "hello World\n",
      "An error occurred name 'name' is not defined\n",
      "This code will always run\n"
     ]
    }
   ],
   "source": [
    "\n",
    "try:\n",
    "    print('hello World')\n",
    "    print(name)\n",
    "\n",
    "except Exception as e:\n",
    "    print(f'An error occurred {e}')\n",
    "    \n",
    "finally:\n",
    "    print('This code will always run')\n"
   ]
  },
  {
   "cell_type": "code",
   "execution_count": 15,
   "metadata": {},
   "outputs": [
    {
     "name": "stdout",
     "output_type": "stream",
     "text": [
      "Error occur [WinError 183] Cannot create a file when that file already exists: 'New'\n"
     ]
    }
   ],
   "source": [
    "import os\n",
    "try:\n",
    "    os.makedirs('New')\n",
    "\n",
    "except Exception as e:\n",
    "    print(f'Error occur {e}')"
   ]
  },
  {
   "cell_type": "code",
   "execution_count": 39,
   "metadata": {},
   "outputs": [
    {
     "name": "stdout",
     "output_type": "stream",
     "text": [
      "The result is: 5.0\n",
      "Division was successful.\n",
      "Execution completed.\n",
      "Error: Division by zero is not allowed.\n",
      "Execution completed.\n",
      "Error: Type mismatch. Ensure both inputs are numbers.\n",
      "Execution completed.\n"
     ]
    }
   ],
   "source": [
    "from sympy import div\n",
    "\n",
    "\n",
    "def divide_numbers(a, b):\n",
    "    try:\n",
    "        # Attempting division\n",
    "        result = a / b\n",
    "        print(f\"The result is: {result}\")\n",
    "    except ZeroDivisionError:\n",
    "        # This block will execute if division by zero is attempted\n",
    "        print(\"Error: Division by zero is not allowed.\")\n",
    "    except TypeError:\n",
    "        # This block will execute if unsupported types are used\n",
    "        print(\"Error: Type mismatch. Ensure both inputs are numbers.\")\n",
    "    except Exception as e:\n",
    "        # General exception handler for any other errors\n",
    "        print(f\"An unexpected error occurred: {e}\")\n",
    "    else:\n",
    "        # This block runs if no exception was raised\n",
    "        print(\"Division was successful.\")\n",
    "    finally:\n",
    "        # This block always runs, regardless of an exception being raised\n",
    "        print(\"Execution completed.\")\n",
    "\n",
    "# Test cases\n",
    "divide_numbers(10, 2)        # Valid input, no exception\n",
    "divide_numbers(10, 0)        # Triggers ZeroDivisionError\n",
    "divide_numbers(10, \"five\")   # Triggers TypeError\n"
   ]
  },
  {
   "cell_type": "code",
   "execution_count": 43,
   "metadata": {},
   "outputs": [
    {
     "name": "stdout",
     "output_type": "stream",
     "text": [
      "Import Error: No module named 'non_existing_module'\n",
      "Program execution continues smoothly.\n"
     ]
    }
   ],
   "source": [
    "try:\n",
    "    # Attempting to import a module that might not be available\n",
    "    import math\n",
    "    import non_existing_module  # This will raise an ImportError\n",
    "except ImportError as e:\n",
    "    print(f\"Import Error: {e}\")\n",
    "finally:\n",
    "    print('Program execution continues smoothly.')"
   ]
  },
  {
   "cell_type": "code",
   "execution_count": 44,
   "metadata": {},
   "outputs": [
    {
     "name": "stdout",
     "output_type": "stream",
     "text": [
      "Value Error: invalid literal for int() with base 10: 'abc'\n",
      "Program execution continues smoothly.\n"
     ]
    }
   ],
   "source": [
    "try:\n",
    "    # Attempting to convert a string to an integer\n",
    "    number = int(\"abc\")  # This will raise a ValueError\n",
    "except ValueError as e:\n",
    "    print(f\"Value Error: {e}\")\n",
    "finally:\n",
    "    print('Program execution continues smoothly.')\n"
   ]
  },
  {
   "cell_type": "code",
   "execution_count": 59,
   "metadata": {},
   "outputs": [
    {
     "name": "stdout",
     "output_type": "stream",
     "text": [
      "No module named 'faker'\n"
     ]
    }
   ],
   "source": [
    "try:\n",
    "    import faker\n",
    "    name = faker.faker\n",
    "    raise ImportError\n",
    "except ModuleNotFoundError as e:\n",
    "    print(f'{e}')"
   ]
  },
  {
   "cell_type": "code",
   "execution_count": null,
   "metadata": {},
   "outputs": [],
   "source": [
    "#\n",
    "def get_variable_value():\n",
    "    try:\n",
    "        # Prompt the user to enter the name of a variable\n",
    "        var_name = input(\"Enter the name of a variable: \")\n",
    "        \n",
    "        # Attempt to evaluate the variable name using eval\n",
    "        # This can raise a NameError if the variable is not defined\n",
    "        var_value = eval(var_name)\n",
    "        \n",
    "        # Print the value of the variable\n",
    "        print(f\"The value of {var_name} is {var_value}\")\n",
    "        \n",
    "    except NameError:\n",
    "        # This block handles the NameError exception\n",
    "        # It will execute if the variable name is not defined\n",
    "        print(f\"NameError: '{var_name}' is not defined\")\n",
    "\n",
    "# Define a variable in the global scope\n",
    "my_var = 42\n",
    "\n",
    "# Call the function\n",
    "get_variable_value()"
   ]
  },
  {
   "cell_type": "code",
   "execution_count": null,
   "metadata": {},
   "outputs": [],
   "source": [
    "try:\n",
    "    num= eval(input(('input a number')))\n",
    "    print('entered numbers is',u)\n",
    "except NameError as ex:\n",
    "    print('Exception is:',ex)"
   ]
  },
  {
   "cell_type": "code",
   "execution_count": null,
   "metadata": {},
   "outputs": [],
   "source": [
    "try:\n",
    "    num= eval(input(('input a number')))\n",
    "    my_func()\n",
    "except NameError as ex:\n",
    "    print('Exception is:',ex)"
   ]
  },
  {
   "cell_type": "code",
   "execution_count": 2,
   "metadata": {},
   "outputs": [
    {
     "name": "stdout",
     "output_type": "stream",
     "text": [
      "[WinError 183] Cannot create a file when that file already exists: 'New'\n"
     ]
    }
   ],
   "source": [
    "try:\n",
    "    import os\n",
    "    if True:\n",
    "        raise os.makedirs('New')\n",
    "    \n",
    "except FileExistsError as e:\n",
    "    print(f'{e}')"
   ]
  },
  {
   "cell_type": "code",
   "execution_count": 15,
   "metadata": {},
   "outputs": [
    {
     "name": "stdout",
     "output_type": "stream",
     "text": [
      "DivionError division by zero\n",
      "this block will exectute no matter what\n"
     ]
    }
   ],
   "source": [
    "#The eval function in Python is a built-in function that evaluates a string as a Python expression \n",
    "#and returns the result of that evaluation.\n",
    "#For example, if the user enters 5,3, the string \"5,3\" will be evaluated by eval as a tuple of two numbers (5, 3).\n",
    "#if the user enters 10, the string \"10\" will be evaluated by eval as the integer 10.\n",
    "\n",
    "try:\n",
    "    numerator, denominator= eval(input('enter two numbers sepearted by commas'))\n",
    "\n",
    "    result = numerator/denominator\n",
    "\n",
    "    print(result)\n",
    "    \n",
    "except ZeroDivisionError as e:\n",
    "    print(f'DivionError: {e}')\n",
    "    \n",
    "except SyntaxError as e:\n",
    "    print(f'syntaxError: {e}')\n",
    "\n",
    "except ValueError as e:\n",
    "    print(f'ValueError: {e}')\n",
    "\n",
    "except Exception as e:\n",
    "    print(f'Error {e}')\n",
    "    \n",
    "else:\n",
    "    print(\"No error generated\")\n",
    "    \n",
    "finally:\n",
    "    print(\"this block will exectute no matter what\")"
   ]
  },
  {
   "cell_type": "code",
   "execution_count": 6,
   "metadata": {},
   "outputs": [
    {
     "name": "stdout",
     "output_type": "stream",
     "text": [
      "An error occurred [Errno 2] No such file or directory: 'example.txt'\n"
     ]
    }
   ],
   "source": [
    "try:\n",
    "    # Open a file\n",
    "    with open('example.txt', 'r') as file:\n",
    "    \n",
    "        # Read the file\n",
    "        content = file.read()\n",
    "        \n",
    "        # Print the content\n",
    "        print(content)\n",
    "        \n",
    "        # Close the file\n",
    "        file.close()\n",
    "\n",
    "except IOError as e:\n",
    "    print(f'An error occurred {e}')"
   ]
  },
  {
   "cell_type": "code",
   "execution_count": 5,
   "metadata": {},
   "outputs": [
    {
     "name": "stdout",
     "output_type": "stream",
     "text": [
      "An error occurred [Errno 2] No such file or directory: 'example.txt'\n"
     ]
    }
   ],
   "source": [
    "try:\n",
    "    # Open a file\n",
    "    file = open('example.txt', 'r')\n",
    "    \n",
    "    # Read the file\n",
    "    content = file.read()\n",
    "        \n",
    "    # Print the content\n",
    "    print(content)\n",
    "        \n",
    "    # Close the file\n",
    "    file.close()\n",
    "\n",
    "except IOError as e:\n",
    "    print(f'An error occurred {e}')"
   ]
  },
  {
   "cell_type": "code",
   "execution_count": 4,
   "metadata": {},
   "outputs": [
    {
     "name": "stdout",
     "output_type": "stream",
     "text": [
      "Number is -19\n",
      "Number must be positive\n",
      "The code is run successful\n"
     ]
    }
   ],
   "source": [
    "def check(num):\n",
    "    if (num < 0):\n",
    "        print(f'Number is {num}')\n",
    "        raise ValueError(\"Number must be positive\")\n",
    "    \n",
    "try:\n",
    "    res = int(input('Enter a number: '))\n",
    "    check(res)\n",
    "\n",
    "except ValueError as e:\n",
    "    print(e)\n",
    "\n",
    "except Exception as e:\n",
    "    print('An error occurred:', e)\n",
    "\n",
    "finally:\n",
    "    print('The code is run successful')"
   ]
  },
  {
   "cell_type": "code",
   "execution_count": 22,
   "metadata": {},
   "outputs": [
    {
     "name": "stdout",
     "output_type": "stream",
     "text": [
      "Error: division by zero\n"
     ]
    }
   ],
   "source": [
    "try:\n",
    "    num = int(input(\"Enter a number: \"))\n",
    "    assert num % 2 == 0\n",
    "    \n",
    "except AssertionError:\n",
    "    print(\"Not an even number!\")\n",
    "except ValueError:          #ValueError excpetion is raised if the user enters non-integer input,\n",
    "    print(\"Invalid input! Please enter an integer.\")\n",
    "else:\n",
    "    try:\n",
    "        dev = 1 / num\n",
    "        print(f\"The reciprocal of {num} is {dev}\")\n",
    "    except ZeroDivisionError as e:\n",
    "        print(f'Error: {e}')\n",
    "    "
   ]
  },
  {
   "cell_type": "code",
   "execution_count": 2,
   "metadata": {},
   "outputs": [
    {
     "name": "stdout",
     "output_type": "stream",
     "text": [
      "Error An exception occurred\n"
     ]
    }
   ],
   "source": [
    "class MyException(Exception):\n",
    "    \"\"\"A custom exception class\"\"\"\n",
    "    \n",
    "try:\n",
    "    age = 18\n",
    "    res = int(input(\"Enter value: \"))\n",
    "    if res < age:\n",
    "        raise MyException('An exception occurred')\n",
    "\n",
    "except MyException:\n",
    "    print(f'Error {e}')\n",
    "    pass"
   ]
  },
  {
   "cell_type": "code",
   "execution_count": 26,
   "metadata": {},
   "outputs": [
    {
     "name": "stdout",
     "output_type": "stream",
     "text": [
      "Eligible to Vote\n"
     ]
    }
   ],
   "source": [
    "# define Python user-defined exceptions/custom exception\n",
    "class InvalidAgeException(Exception):\n",
    "    \"Raised when the input value is less than 18\"\n",
    "    pass\n",
    "def check(n):\n",
    "    if (n < 0):\n",
    "        raise ValueError(\"only positive integers are allowed, ok, try again\") \n",
    "# raised exception will be thrown to the point where function is called in try block\n",
    "# you need to guess this number\n",
    "number = 18\n",
    "\n",
    "try:\n",
    "    input_num = int(input(\"Enter a number: \"))\n",
    "    check(input_num)\n",
    "    \n",
    "    if input_num < number:\n",
    "        raise InvalidAgeException(\"you are not eligible for vote\")\n",
    "    else:\n",
    "        print(\"Eligible to Vote\")\n",
    "        \n",
    "except InvalidAgeException as iage:\n",
    "    print(\"Error: \", iage)\n",
    "    \n",
    "except ValueError as e:\n",
    "    print(e)"
   ]
  },
  {
   "cell_type": "code",
   "execution_count": 33,
   "metadata": {},
   "outputs": [
    {
     "ename": "SalaryNotInRangeError",
     "evalue": "Salary is not in (5000, 15000) range",
     "output_type": "error",
     "traceback": [
      "\u001b[1;31m---------------------------------------------------------------------------\u001b[0m",
      "\u001b[1;31mSalaryNotInRangeError\u001b[0m                     Traceback (most recent call last)",
      "Cell \u001b[1;32mIn[33], line 17\u001b[0m\n\u001b[0;32m     15\u001b[0m salary \u001b[38;5;241m=\u001b[39m \u001b[38;5;28mint\u001b[39m(\u001b[38;5;28minput\u001b[39m(\u001b[38;5;124m\"\u001b[39m\u001b[38;5;124mEnter salary amount: \u001b[39m\u001b[38;5;124m\"\u001b[39m))\n\u001b[0;32m     16\u001b[0m \u001b[38;5;28;01mif\u001b[39;00m \u001b[38;5;129;01mnot\u001b[39;00m \u001b[38;5;241m5000\u001b[39m \u001b[38;5;241m<\u001b[39m salary \u001b[38;5;241m<\u001b[39m \u001b[38;5;241m15000\u001b[39m:\n\u001b[1;32m---> 17\u001b[0m     \u001b[38;5;28;01mraise\u001b[39;00m SalaryNotInRangeError(salary)\n",
      "\u001b[1;31mSalaryNotInRangeError\u001b[0m: Salary is not in (5000, 15000) range"
     ]
    }
   ],
   "source": [
    "class SalaryNotInRangeError(Exception):\n",
    "    \"\"\"Exception raised for errors in the input salary.\n",
    "\n",
    "    Attributes:\n",
    "        salary -- input salary which caused the error\n",
    "        message -- explanation of the error\n",
    "    \"\"\"\n",
    "\n",
    "    def __init__(self, salary, message=\"Salary is not in (5000, 15000) range\"):\n",
    "        self.salary = salary\n",
    "        self.message = message\n",
    "        super().__init__(self.message)\n",
    "\n",
    "\n",
    "salary = int(input(\"Enter salary amount: \"))\n",
    "if not 5000 < salary < 15000:\n",
    "    raise SalaryNotInRangeError(salary)"
   ]
  },
  {
   "cell_type": "code",
   "execution_count": 31,
   "metadata": {},
   "outputs": [
    {
     "name": "stdout",
     "output_type": "stream",
     "text": [
      "The Salary is 6000\n"
     ]
    }
   ],
   "source": [
    "class SalaryNotInRangeError(Exception):\n",
    "    \"\"\"Exception raised for errors in the input salary.\n",
    "\n",
    "    Attributes:\n",
    "        salary -- input salary which caused the error\n",
    "        message -- explanation of the error\n",
    "    \"\"\"\n",
    "\n",
    "    def __init__(self, salary, message=\"Salary is not in (5000, 15000) range\"):\n",
    "        self.salary = salary\n",
    "        self.message = message\n",
    "        super().__init__(self.message)\n",
    "\n",
    "try:\n",
    "    salary = int(input(\"Enter salary amount: \"))\n",
    "    if not 5000 < salary < 15000:\n",
    "        raise SalaryNotInRangeError(salary)\n",
    "    else:\n",
    "        print(f'The Salary is {salary}')\n",
    "    \n",
    "except SalaryNotInRangeError as e:\n",
    "    print(f'Error {e}')\n",
    "\n",
    "\n",
    "# in this code, an exception is uncaught, and the program  terminates, and a traceback is printed to the console."
   ]
  },
  {
   "cell_type": "code",
   "execution_count": 34,
   "metadata": {},
   "outputs": [
    {
     "name": "stdout",
     "output_type": "stream",
     "text": [
      "The enterend number is too small\n",
      "The enterend number is too small\n",
      "The enterend number is too small\n",
      "The enterend number is too large\n",
      "The enterend number is too large\n",
      "The enterend number is too large\n",
      "The enterend number is too small\n",
      "Congratulations\n"
     ]
    }
   ],
   "source": [
    "class Error (Exception):\n",
    "    \"\"\"Base Class for other exceptions\"\"\"\n",
    "    pass\n",
    "class ValueTooSmallError(Error):\n",
    "    \"\"\"Raised when input value is too small\"\"\"\n",
    "    pass\n",
    "class ValueTooLargeError(Error):\n",
    "    \"\"\"Raised when input value is too large\"\"\"\n",
    "    pass\n",
    "# User guesses a number unitl he gets it right\n",
    "guessed_num=10\n",
    "while(True):\n",
    "    try:\n",
    "        n= eval(input('input a number'))\n",
    "        if (n < guessed_num):\n",
    "            raise ValueTooSmallError\n",
    "        elif (n > guessed_num):\n",
    "            raise ValueTooLargeError\n",
    "        break;\n",
    "    \n",
    "    except ValueTooSmallError:\n",
    "        print('The enterend number is too small')\n",
    "    except ValueTooLargeError:\n",
    "        print('The enterend number is too large')\n",
    "\n",
    "print('Congratulations')"
   ]
  },
  {
   "cell_type": "code",
   "execution_count": 27,
   "metadata": {},
   "outputs": [
    {
     "data": {
      "text/plain": [
       "'Raised when the input value is less than 18'"
      ]
     },
     "execution_count": 27,
     "metadata": {},
     "output_type": "execute_result"
    }
   ],
   "source": [
    "InvalidAgeException.__doc__"
   ]
  },
  {
   "cell_type": "code",
   "execution_count": 17,
   "metadata": {},
   "outputs": [
    {
     "data": {
      "text/plain": [
       "1"
      ]
     },
     "execution_count": 17,
     "metadata": {},
     "output_type": "execute_result"
    }
   ],
   "source": [
    "result = eval(\"1 * 1\")\n",
    "result  # Output: 2"
   ]
  },
  {
   "cell_type": "code",
   "execution_count": 35,
   "metadata": {},
   "outputs": [
    {
     "data": {
      "text/plain": [
       "mappingproxy({'__new__': <function Exception.__new__(*args, **kwargs)>,\n",
       "              '__init__': <slot wrapper '__init__' of 'Exception' objects>,\n",
       "              '__doc__': 'Common base class for all non-exit exceptions.'})"
      ]
     },
     "execution_count": 35,
     "metadata": {},
     "output_type": "execute_result"
    }
   ],
   "source": [
    "Exception.__dict__"
   ]
  },
  {
   "cell_type": "code",
   "execution_count": 69,
   "metadata": {},
   "outputs": [
    {
     "data": {
      "text/plain": [
       "'Common base class for all non-exit exceptions.'"
      ]
     },
     "execution_count": 69,
     "metadata": {},
     "output_type": "execute_result"
    }
   ],
   "source": [
    "Exception.__doc__"
   ]
  },
  {
   "cell_type": "code",
   "execution_count": 62,
   "metadata": {},
   "outputs": [
    {
     "data": {
      "text/plain": [
       "\"Show attributes of an object.\\n\\nIf called without an argument, return the names in the current scope.\\nElse, return an alphabetized list of names comprising (some of) the attributes\\nof the given object, and of attributes reachable from it.\\nIf the object supplies a method named __dir__, it will be used; otherwise\\nthe default dir() logic is used and returns:\\n  for a module object: the module's attributes.\\n  for a class object:  its attributes, and recursively the attributes\\n    of its bases.\\n  for any other object: its attributes, its class's attributes, and\\n    recursively the attributes of its class's base classes.\""
      ]
     },
     "execution_count": 62,
     "metadata": {},
     "output_type": "execute_result"
    }
   ],
   "source": [
    "dir.__doc__"
   ]
  },
  {
   "cell_type": "code",
   "execution_count": 64,
   "metadata": {},
   "outputs": [
    {
     "data": {
      "text/plain": [
       "['__new__',\n",
       " '__repr__',\n",
       " '__hash__',\n",
       " '__getattribute__',\n",
       " '__lt__',\n",
       " '__le__',\n",
       " '__eq__',\n",
       " '__ne__',\n",
       " '__gt__',\n",
       " '__ge__',\n",
       " '__iter__',\n",
       " '__init__',\n",
       " '__or__',\n",
       " '__ror__',\n",
       " '__ior__',\n",
       " '__len__',\n",
       " '__getitem__',\n",
       " '__setitem__',\n",
       " '__delitem__',\n",
       " '__contains__',\n",
       " '__sizeof__',\n",
       " 'get',\n",
       " 'setdefault',\n",
       " 'pop',\n",
       " 'popitem',\n",
       " 'keys',\n",
       " 'items',\n",
       " 'values',\n",
       " 'update',\n",
       " 'fromkeys',\n",
       " 'clear',\n",
       " 'copy',\n",
       " '__reversed__',\n",
       " '__class_getitem__',\n",
       " '__doc__',\n",
       " '__str__',\n",
       " '__setattr__',\n",
       " '__delattr__',\n",
       " '__reduce_ex__',\n",
       " '__reduce__',\n",
       " '__getstate__',\n",
       " '__subclasshook__',\n",
       " '__init_subclass__',\n",
       " '__format__',\n",
       " '__dir__',\n",
       " '__class__']"
      ]
     },
     "execution_count": 64,
     "metadata": {},
     "output_type": "execute_result"
    }
   ],
   "source": [
    "locals().__dir__()"
   ]
  },
  {
   "cell_type": "code",
   "execution_count": null,
   "metadata": {},
   "outputs": [],
   "source": []
  }
 ],
 "metadata": {
  "kernelspec": {
   "display_name": "Python 3",
   "language": "python",
   "name": "python3"
  },
  "language_info": {
   "codemirror_mode": {
    "name": "ipython",
    "version": 3
   },
   "file_extension": ".py",
   "mimetype": "text/x-python",
   "name": "python",
   "nbconvert_exporter": "python",
   "pygments_lexer": "ipython3",
   "version": "3.12.4"
  }
 },
 "nbformat": 4,
 "nbformat_minor": 2
}
