{
 "cells": [
  {
   "cell_type": "code",
   "execution_count": 1,
   "metadata": {},
   "outputs": [
    {
     "name": "stdout",
     "output_type": "stream",
     "text": [
      "[3.1622776601683795, 4.47213595499958, 5.477225575051661, 6.324555320336759, 7.0710678118654755]\n"
     ]
    }
   ],
   "source": [
    "import math\n",
    "lis = [10, 20, 30 ,40 ,50]\n",
    "new_lis = [math.sqrt(i) for i in lis]\n",
    "print(new_lis)"
   ]
  },
  {
   "cell_type": "code",
   "execution_count": 2,
   "metadata": {},
   "outputs": [
    {
     "name": "stdout",
     "output_type": "stream",
     "text": [
      "[1000, 8000, 27000, 64000, 125000]\n"
     ]
    }
   ],
   "source": [
    "cube = [item**3 for item in lis]  \n",
    "print(cube)"
   ]
  },
  {
   "cell_type": "code",
   "execution_count": 3,
   "metadata": {},
   "outputs": [
    {
     "name": "stdout",
     "output_type": "stream",
     "text": [
      "[100, 400, 900, 1600, 2500]\n"
     ]
    }
   ],
   "source": [
    "squ = [item**2 for item in lis]\n",
    "print(squ)"
   ]
  },
  {
   "cell_type": "code",
   "execution_count": 4,
   "metadata": {},
   "outputs": [
    {
     "name": "stdout",
     "output_type": "stream",
     "text": [
      "[100, 8, 12, 2, 16]\n"
     ]
    }
   ],
   "source": [
    "import random\n",
    "\n",
    "random_list = [random.randint(1, 100) for _ in range(10)]\n",
    "\n",
    "even_nu = [num for num in random_list if num % 2 == 0]\n",
    "print(even_nu)"
   ]
  },
  {
   "cell_type": "code",
   "execution_count": 5,
   "metadata": {},
   "outputs": [
    {
     "name": "stdout",
     "output_type": "stream",
     "text": [
      "[31, 29, 69, 23, 47]\n"
     ]
    }
   ],
   "source": [
    "odd = [num for num in random_list if num % 2!= 0]\n",
    "print(odd)"
   ]
  },
  {
   "cell_type": "code",
   "execution_count": 24,
   "metadata": {},
   "outputs": [
    {
     "name": "stdout",
     "output_type": "stream",
     "text": [
      "Number of teenagers:  3\n",
      "Number of young people:  5\n",
      "5\n"
     ]
    }
   ],
   "source": [
    "age = [25, 30, 35, 40, 45, 12 , 14 ,15]\n",
    "\n",
    "young = ['Teenger' if age < 18 else \"young\" for age in age]\n",
    "teen = young.count('Teenger')\n",
    "young = young.count('young')\n",
    "\n",
    "print(\"Number of teenagers: \", teen)\n",
    "print(\"Number of young people: \", young)\n",
    "\n"
   ]
  },
  {
   "cell_type": "code",
   "execution_count": 25,
   "metadata": {},
   "outputs": [
    {
     "name": "stdout",
     "output_type": "stream",
     "text": [
      "[20, 40, 50]\n"
     ]
    }
   ],
   "source": [
    "st = [12, 15 , 20 , 40 ,50 ]\n",
    "\n",
    "num = [num for num in st if num %2 == 0 and num %5==0]\n",
    "print(num)"
   ]
  }
 ],
 "metadata": {
  "kernelspec": {
   "display_name": "Python 3",
   "language": "python",
   "name": "python3"
  },
  "language_info": {
   "codemirror_mode": {
    "name": "ipython",
    "version": 3
   },
   "file_extension": ".py",
   "mimetype": "text/x-python",
   "name": "python",
   "nbconvert_exporter": "python",
   "pygments_lexer": "ipython3",
   "version": "3.12.4"
  }
 },
 "nbformat": 4,
 "nbformat_minor": 2
}
