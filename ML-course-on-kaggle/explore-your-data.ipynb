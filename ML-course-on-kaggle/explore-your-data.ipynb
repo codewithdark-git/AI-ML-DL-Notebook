{
 "cells": [
  {
   "cell_type": "markdown",
   "id": "9031af0b",
   "metadata": {
    "papermill": {
     "duration": 0.005901,
     "end_time": "2024-03-28T07:15:25.370313",
     "exception": false,
     "start_time": "2024-03-28T07:15:25.364412",
     "status": "completed"
    },
    "tags": []
   },
   "source": [
    "**[Machine Learning Course Home Page](https://www.kaggle.com/learn/machine-learning)**\n",
    "\n",
    "---\n"
   ]
  },
  {
   "cell_type": "markdown",
   "id": "cefb1e57",
   "metadata": {
    "papermill": {
     "duration": 0.005059,
     "end_time": "2024-03-28T07:15:26.397476",
     "exception": false,
     "start_time": "2024-03-28T07:15:26.392417",
     "status": "completed"
    },
    "tags": []
   },
   "source": [
    "## Step 1: Loading Data\n",
    "Read the Iowa data file into a Pandas DataFrame called `home_data`."
   ]
  },
  {
   "cell_type": "code",
   "execution_count": null,
   "id": "f2334064",
   "metadata": {
    "execution": {
     "iopub.execute_input": "2024-03-28T07:15:26.410407Z",
     "iopub.status.busy": "2024-03-28T07:15:26.409840Z",
     "iopub.status.idle": "2024-03-28T07:15:26.576185Z",
     "shell.execute_reply": "2024-03-28T07:15:26.575063Z"
    },
    "papermill": {
     "duration": 0.176216,
     "end_time": "2024-03-28T07:15:26.578985",
     "exception": false,
     "start_time": "2024-03-28T07:15:26.402769",
     "status": "completed"
    },
    "tags": []
   },
   "outputs": [],
   "source": [
    "import pandas as pd\n",
    "import datetime\n",
    "\n",
    "# Path of the file to read\n",
    "melbourne_file_path = '../input/home-data-for-ml-course/train.csv'\n",
    "# read the data and store data in DataFrame titled melbourne_data\n",
    "melbourne_data = pd.read_csv(melbourne_file_path) \n",
    "# print a summary of the data in Melbourne data\n",
    "melbourne_data.describe()"
   ]
  },
  {
   "cell_type": "markdown",
   "id": "b8d5dfaa",
   "metadata": {
    "papermill": {
     "duration": 0.006028,
     "end_time": "2024-03-28T07:15:26.641621",
     "exception": false,
     "start_time": "2024-03-28T07:15:26.635593",
     "status": "completed"
    },
    "tags": []
   },
   "source": [
    "## Step 2: Review The Data\n",
    "Use the command you learned to view summary statistics of the data. Then fill in variables to answer the following questions"
   ]
  },
  {
   "cell_type": "code",
   "execution_count": null,
   "id": "712d330b",
   "metadata": {
    "execution": {
     "iopub.execute_input": "2024-03-28T07:15:26.658901Z",
     "iopub.status.busy": "2024-03-28T07:15:26.658456Z",
     "iopub.status.idle": "2024-03-28T07:15:26.758733Z",
     "shell.execute_reply": "2024-03-28T07:15:26.757795Z"
    },
    "papermill": {
     "duration": 0.112712,
     "end_time": "2024-03-28T07:15:26.761158",
     "exception": false,
     "start_time": "2024-03-28T07:15:26.648446",
     "status": "completed"
    },
    "tags": []
   },
   "outputs": [],
   "source": [
    "# Print summary statistics in next line\n",
    "melbourne_data.describe()"
   ]
  },
  {
   "cell_type": "code",
   "execution_count": 6,
   "id": "5f6f2f7d",
   "metadata": {
    "execution": {
     "iopub.execute_input": "2024-03-28T07:15:26.777884Z",
     "iopub.status.busy": "2024-03-28T07:15:26.776986Z",
     "iopub.status.idle": "2024-03-28T07:15:26.785729Z",
     "shell.execute_reply": "2024-03-28T07:15:26.784169Z"
    },
    "papermill": {
     "duration": 0.020622,
     "end_time": "2024-03-28T07:15:26.788662",
     "exception": false,
     "start_time": "2024-03-28T07:15:26.768040",
     "status": "completed"
    },
    "tags": []
   },
   "outputs": [
    {
     "name": "stdout",
     "output_type": "stream",
     "text": [
      "Average Lot Size: 10517\n",
      "Age of the Newest Home: 14\n"
     ]
    }
   ],
   "source": [
    "# What is the average lot size (rounded to nearest integer)?\n",
    "avg_lot_size = round(melbourne_data['LotArea'].mean())\n",
    "\n",
    "# As of today, how old is the newest home (current year - the date in which it was built)\n",
    "current_year = datetime.datetime.now().year\n",
    "newest_home_age = current_year - melbourne_data['YearBuilt'].max()\n",
    "\n",
    "# Checks your answers\n",
    "print(\"Average Lot Size:\", avg_lot_size)\n",
    "print(\"Age of the Newest Home:\", newest_home_age)"
   ]
  },
  {
   "cell_type": "markdown",
   "id": "bfde5269",
   "metadata": {
    "papermill": {
     "duration": 0.007104,
     "end_time": "2024-03-28T07:15:26.875322",
     "exception": false,
     "start_time": "2024-03-28T07:15:26.868218",
     "status": "completed"
    },
    "tags": []
   },
   "source": [
    "---\n",
    "**[Machine Learning Course Home Page](https://www.kaggle.com/learn/machine-learning)**\n",
    "\n"
   ]
  }
 ],
 "metadata": {
  "kaggle": {
   "accelerator": "none",
   "dataSources": [
    {
     "datasetId": 2709,
     "sourceId": 38454,
     "sourceType": "datasetVersion"
    },
    {
     "datasetId": 108980,
     "sourceId": 260251,
     "sourceType": "datasetVersion"
    }
   ],
   "isGpuEnabled": false,
   "isInternetEnabled": false,
   "language": "python",
   "sourceType": "notebook"
  },
  "kernelspec": {
   "display_name": "Python 3",
   "language": "python",
   "name": "python3"
  },
  "language_info": {
   "codemirror_mode": {
    "name": "ipython",
    "version": 3
   },
   "file_extension": ".py",
   "mimetype": "text/x-python",
   "name": "python",
   "nbconvert_exporter": "python",
   "pygments_lexer": "ipython3",
   "version": "3.10.13"
  },
  "papermill": {
   "default_parameters": {},
   "duration": 5.37745,
   "end_time": "2024-03-28T07:15:27.404698",
   "environment_variables": {},
   "exception": null,
   "input_path": "__notebook__.ipynb",
   "output_path": "__notebook__.ipynb",
   "parameters": {},
   "start_time": "2024-03-28T07:15:22.027248",
   "version": "2.5.0"
  }
 },
 "nbformat": 4,
 "nbformat_minor": 5
}
