{
 "cells": [
  {
   "cell_type": "markdown",
   "id": "6fb90ad9",
   "metadata": {
    "papermill": {
     "duration": 0.007357,
     "end_time": "2024-03-28T06:28:33.445484",
     "exception": false,
     "start_time": "2024-03-28T06:28:33.438127",
     "status": "completed"
    },
    "tags": []
   },
   "source": [
    "**This notebook is an exercise in the [Introduction to Machine Learning](https://www.kaggle.com/learn/intro-to-machine-learning) course.  You can reference the tutorial at [this link](https://www.kaggle.com/dansbecker/model-validation).**\n",
    "\n",
    "---\n"
   ]
  },
  {
   "cell_type": "markdown",
   "id": "7c19a529",
   "metadata": {
    "papermill": {
     "duration": 0.006395,
     "end_time": "2024-03-28T06:28:33.459016",
     "exception": false,
     "start_time": "2024-03-28T06:28:33.452621",
     "status": "completed"
    },
    "tags": []
   },
   "source": [
    "## Recap\n",
    "You've built a model. In this exercise you will test how good your model is.\n",
    "\n",
    "Run the cell below to set up your coding environment where the previous exercise left off."
   ]
  },
  {
   "cell_type": "code",
   "execution_count": null,
   "id": "00dfb154",
   "metadata": {
    "execution": {
     "iopub.execute_input": "2024-03-28T06:28:33.474822Z",
     "iopub.status.busy": "2024-03-28T06:28:33.474335Z",
     "iopub.status.idle": "2024-03-28T06:28:36.298054Z",
     "shell.execute_reply": "2024-03-28T06:28:36.296478Z"
    },
    "papermill": {
     "duration": 2.835553,
     "end_time": "2024-03-28T06:28:36.301400",
     "exception": false,
     "start_time": "2024-03-28T06:28:33.465847",
     "status": "completed"
    },
    "tags": []
   },
   "outputs": [],
   "source": [
    "import pandas as pd\n",
    "from sklearn.tree import DecisionTreeRegressor\n",
    "\n",
    "# Path of the file to read\n",
    "iowa_file_path = '../input/home-data-for-ml-course/train.csv'\n",
    "\n",
    "home_data = pd.read_csv(iowa_file_path)\n",
    "y = home_data.SalePrice\n",
    "feature_columns = ['LotArea', 'YearBuilt', '1stFlrSF', '2ndFlrSF', 'FullBath', 'BedroomAbvGr', 'TotRmsAbvGrd']\n",
    "X = home_data[feature_columns]\n",
    "\n",
    "# Specify Model\n",
    "iowa_model = DecisionTreeRegressor()\n",
    "# Fit Model\n",
    "iowa_model.fit(X, y)\n",
    "\n",
    "print(\"First in-sample predictions:\", iowa_model.predict(X.head()))\n",
    "print(\"Actual target values for those homes:\", y.head().tolist())\n",
    "\n",
    "# Set up code checking\n",
    "from learntools.core import binder\n",
    "binder.bind(globals())\n",
    "from learntools.machine_learning.ex4 import *\n",
    "print(\"Setup Complete\")"
   ]
  },
  {
   "cell_type": "markdown",
   "id": "54c6c884",
   "metadata": {
    "papermill": {
     "duration": 0.006179,
     "end_time": "2024-03-28T06:28:36.314333",
     "exception": false,
     "start_time": "2024-03-28T06:28:36.308154",
     "status": "completed"
    },
    "tags": []
   },
   "source": [
    "# Exercises\n",
    "\n",
    "## Step 1: Split Your Data\n",
    "Use the `train_test_split` function to split up your data.\n",
    "\n",
    "Give it the argument `random_state=1` so the `check` functions know what to expect when verifying your code.\n",
    "\n",
    "Recall, your features are loaded in the DataFrame **X** and your target is loaded in **y**.\n"
   ]
  },
  {
   "cell_type": "code",
   "execution_count": null,
   "id": "ac2a6aba",
   "metadata": {
    "execution": {
     "iopub.execute_input": "2024-03-28T06:28:36.329160Z",
     "iopub.status.busy": "2024-03-28T06:28:36.328742Z",
     "iopub.status.idle": "2024-03-28T06:28:36.348583Z",
     "shell.execute_reply": "2024-03-28T06:28:36.347279Z"
    },
    "papermill": {
     "duration": 0.030652,
     "end_time": "2024-03-28T06:28:36.351351",
     "exception": false,
     "start_time": "2024-03-28T06:28:36.320699",
     "status": "completed"
    },
    "tags": []
   },
   "outputs": [],
   "source": [
    "# Import the train_test_split function and uncomment\n",
    "from sklearn.model_selection import train_test_split\n",
    "\n",
    "# fill in and uncomment\n",
    "train_X, val_X, train_y, val_y = train_test_split(X, y, random_state=1)\n"
   ]
  },
  {
   "cell_type": "markdown",
   "id": "178d2e94",
   "metadata": {
    "papermill": {
     "duration": 0.006699,
     "end_time": "2024-03-28T06:28:36.386897",
     "exception": false,
     "start_time": "2024-03-28T06:28:36.380198",
     "status": "completed"
    },
    "tags": []
   },
   "source": [
    "## Step 2: Specify and Fit the Model\n",
    "\n",
    "Create a `DecisionTreeRegressor` model and fit it to the relevant data.\n",
    "Set `random_state` to 1 again when creating the model."
   ]
  },
  {
   "cell_type": "code",
   "execution_count": null,
   "id": "f16d7b6e",
   "metadata": {
    "execution": {
     "iopub.execute_input": "2024-03-28T06:28:36.403134Z",
     "iopub.status.busy": "2024-03-28T06:28:36.401861Z",
     "iopub.status.idle": "2024-03-28T06:28:36.556437Z",
     "shell.execute_reply": "2024-03-28T06:28:36.555133Z"
    },
    "papermill": {
     "duration": 0.165179,
     "end_time": "2024-03-28T06:28:36.558938",
     "exception": false,
     "start_time": "2024-03-28T06:28:36.393759",
     "status": "completed"
    },
    "tags": []
   },
   "outputs": [],
   "source": [
    "# You imported DecisionTreeRegressor in your last exercise\n",
    "# and that code has been copied to the setup code above. So, no need to\n",
    "# import it again\n",
    "\n",
    "# Specify the model\n",
    "iowa_model = DecisionTreeRegressor(random_state=1)\n",
    "\n",
    "# Fit iowa_model with the training data.\n",
    "iowa_model.fit(train_X, train_y)\n"
   ]
  },
  {
   "cell_type": "markdown",
   "id": "e0d58df3",
   "metadata": {
    "papermill": {
     "duration": 0.007602,
     "end_time": "2024-03-28T06:28:36.600897",
     "exception": false,
     "start_time": "2024-03-28T06:28:36.593295",
     "status": "completed"
    },
    "tags": []
   },
   "source": [
    "## Step 3: Make Predictions with Validation data\n"
   ]
  },
  {
   "cell_type": "code",
   "execution_count": null,
   "id": "7c17eb74",
   "metadata": {
    "execution": {
     "iopub.execute_input": "2024-03-28T06:28:36.618015Z",
     "iopub.status.busy": "2024-03-28T06:28:36.617182Z",
     "iopub.status.idle": "2024-03-28T06:28:36.634701Z",
     "shell.execute_reply": "2024-03-28T06:28:36.633238Z"
    },
    "papermill": {
     "duration": 0.029086,
     "end_time": "2024-03-28T06:28:36.637417",
     "exception": false,
     "start_time": "2024-03-28T06:28:36.608331",
     "status": "completed"
    },
    "tags": []
   },
   "outputs": [],
   "source": [
    "# Predict with all validation observations\n",
    "val_predictions = iowa_model.predict(val_X)\n",
    "\n"
   ]
  },
  {
   "cell_type": "markdown",
   "id": "860cddb9",
   "metadata": {
    "papermill": {
     "duration": 0.007878,
     "end_time": "2024-03-28T06:28:36.679529",
     "exception": false,
     "start_time": "2024-03-28T06:28:36.671651",
     "status": "completed"
    },
    "tags": []
   },
   "source": [
    "Inspect your predictions and actual values from validation data."
   ]
  },
  {
   "cell_type": "code",
   "execution_count": null,
   "id": "66378881",
   "metadata": {
    "execution": {
     "iopub.execute_input": "2024-03-28T06:28:36.698187Z",
     "iopub.status.busy": "2024-03-28T06:28:36.697660Z",
     "iopub.status.idle": "2024-03-28T06:28:36.705741Z",
     "shell.execute_reply": "2024-03-28T06:28:36.704449Z"
    },
    "papermill": {
     "duration": 0.020952,
     "end_time": "2024-03-28T06:28:36.708178",
     "exception": false,
     "start_time": "2024-03-28T06:28:36.687226",
     "status": "completed"
    },
    "tags": []
   },
   "outputs": [],
   "source": [
    "# print the top few validation predictions\n",
    "print(val_predictions.tolist())\n",
    "# print the top few actual prices from validation data\n",
    "print(val_y.head())"
   ]
  },
  {
   "cell_type": "markdown",
   "id": "856f93ff",
   "metadata": {
    "papermill": {
     "duration": 0.007596,
     "end_time": "2024-03-28T06:28:36.724020",
     "exception": false,
     "start_time": "2024-03-28T06:28:36.716424",
     "status": "completed"
    },
    "tags": []
   },
   "source": [
    "What do you notice that is different from what you saw with in-sample predictions (which are printed after the top code cell in this page).\n",
    "\n",
    "Do you remember why validation predictions differ from in-sample (or training) predictions? This is an important idea from the last lesson.\n",
    "\n",
    "## Step 4: Calculate the Mean Absolute Error in Validation Data\n"
   ]
  },
  {
   "cell_type": "code",
   "execution_count": null,
   "id": "126920dc",
   "metadata": {
    "execution": {
     "iopub.execute_input": "2024-03-28T06:28:36.741758Z",
     "iopub.status.busy": "2024-03-28T06:28:36.741338Z",
     "iopub.status.idle": "2024-03-28T06:28:36.754250Z",
     "shell.execute_reply": "2024-03-28T06:28:36.752931Z"
    },
    "papermill": {
     "duration": 0.025054,
     "end_time": "2024-03-28T06:28:36.756927",
     "exception": false,
     "start_time": "2024-03-28T06:28:36.731873",
     "status": "completed"
    },
    "tags": []
   },
   "outputs": [],
   "source": [
    "from sklearn.metrics import mean_absolute_error\n",
    "val_mae = mean_absolute_error(val_y, val_predictions)\n",
    "\n",
    "# uncomment following line to see the validation_mae\n",
    "print(val_mae)\n"
   ]
  },
  {
   "cell_type": "markdown",
   "id": "43b86c0c",
   "metadata": {
    "papermill": {
     "duration": 0.007977,
     "end_time": "2024-03-28T06:28:36.800070",
     "exception": false,
     "start_time": "2024-03-28T06:28:36.792093",
     "status": "completed"
    },
    "tags": []
   },
   "source": [
    "Is that MAE good?  There isn't a general rule for what values are good that applies across applications. But you'll see how to use (and improve) this number in the next step.\n",
    "\n",
    "# Keep Going\n",
    "\n",
    "You are ready for **[Underfitting and Overfitting](https://www.kaggle.com/dansbecker/underfitting-and-overfitting).**\n"
   ]
  },
  {
   "cell_type": "markdown",
   "id": "10e7ce65",
   "metadata": {
    "papermill": {
     "duration": 0.008064,
     "end_time": "2024-03-28T06:28:36.816403",
     "exception": false,
     "start_time": "2024-03-28T06:28:36.808339",
     "status": "completed"
    },
    "tags": []
   },
   "source": [
    "---\n",
    "\n",
    "\n",
    "\n",
    "\n",
    "*Have questions or comments? Visit the [course discussion forum](https://www.kaggle.com/learn/intro-to-machine-learning/discussion) to chat with other learners.*"
   ]
  }
 ],
 "metadata": {
  "kaggle": {
   "accelerator": "none",
   "dataSources": [
    {
     "databundleVersionId": 111096,
     "sourceId": 10211,
     "sourceType": "competition"
    },
    {
     "datasetId": 11167,
     "sourceId": 15520,
     "sourceType": "datasetVersion"
    },
    {
     "datasetId": 2709,
     "sourceId": 38454,
     "sourceType": "datasetVersion"
    }
   ],
   "isGpuEnabled": false,
   "isInternetEnabled": false,
   "language": "python",
   "sourceType": "notebook"
  },
  "kernelspec": {
   "display_name": "Python 3",
   "language": "python",
   "name": "python3"
  },
  "language_info": {
   "codemirror_mode": {
    "name": "ipython",
    "version": 3
   },
   "file_extension": ".py",
   "mimetype": "text/x-python",
   "name": "python",
   "nbconvert_exporter": "python",
   "pygments_lexer": "ipython3",
   "version": "3.10.13"
  },
  "papermill": {
   "default_parameters": {},
   "duration": 7.664822,
   "end_time": "2024-03-28T06:28:37.748721",
   "environment_variables": {},
   "exception": null,
   "input_path": "__notebook__.ipynb",
   "output_path": "__notebook__.ipynb",
   "parameters": {},
   "start_time": "2024-03-28T06:28:30.083899",
   "version": "2.5.0"
  }
 },
 "nbformat": 4,
 "nbformat_minor": 5
}
