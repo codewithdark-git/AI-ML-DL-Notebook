{
 "cells": [
  {
   "cell_type": "markdown",
   "id": "a2d7c22d",
   "metadata": {
    "papermill": {
     "duration": 0.005655,
     "end_time": "2024-03-28T06:20:52.623033",
     "exception": false,
     "start_time": "2024-03-28T06:20:52.617378",
     "status": "completed"
    },
    "tags": []
   },
   "source": [
    "**This notebook is an exercise in the [Introduction to Machine Learning](https://www.kaggle.com/learn/intro-to-machine-learning) course.  You can reference the tutorial at [this link](https://www.kaggle.com/alexisbcook/machine-learning-competitions).**\n",
    "\n",
    "---\n"
   ]
  },
  {
   "cell_type": "markdown",
   "id": "a766e7af",
   "metadata": {
    "papermill": {
     "duration": 0.004809,
     "end_time": "2024-03-28T06:20:52.633301",
     "exception": false,
     "start_time": "2024-03-28T06:20:52.628492",
     "status": "completed"
    },
    "tags": []
   },
   "source": [
    "# Introduction\n",
    "\n",
    "In this exercise, you will create and submit predictions for a Kaggle competition. You can then improve your model (e.g. by adding features) to apply what you've learned and move up the leaderboard.\n",
    "\n",
    "Begin by running the code cell below to set up code checking and the filepaths for the dataset."
   ]
  },
  {
   "cell_type": "markdown",
   "id": "b1baaf6f",
   "metadata": {
    "papermill": {
     "duration": 0.005375,
     "end_time": "2024-03-28T06:20:53.760088",
     "exception": false,
     "start_time": "2024-03-28T06:20:53.754713",
     "status": "completed"
    },
    "tags": []
   },
   "source": [
    "Here's some of the code you've written so far. Start by running it again."
   ]
  },
  {
   "cell_type": "code",
   "execution_count": null,
   "id": "6be61547",
   "metadata": {
    "execution": {
     "iopub.execute_input": "2024-03-28T06:20:53.773462Z",
     "iopub.status.busy": "2024-03-28T06:20:53.772870Z",
     "iopub.status.idle": "2024-03-28T06:20:56.424838Z",
     "shell.execute_reply": "2024-03-28T06:20:56.423424Z"
    },
    "papermill": {
     "duration": 2.662345,
     "end_time": "2024-03-28T06:20:56.427745",
     "exception": false,
     "start_time": "2024-03-28T06:20:53.765400",
     "status": "completed"
    },
    "tags": []
   },
   "outputs": [],
   "source": [
    "# Import helpful libraries\n",
    "import pandas as pd\n",
    "from sklearn.ensemble import RandomForestRegressor\n",
    "from sklearn.metrics import mean_absolute_error\n",
    "from sklearn.model_selection import train_test_split\n",
    "\n",
    "# Load the data, and separate the target\n",
    "iowa_file_path = '../input/train.csv'\n",
    "home_data = pd.read_csv(iowa_file_path)\n",
    "y = home_data.SalePrice\n",
    "\n",
    "# Create X (After completing the exercise, you can return to modify this line!)\n",
    "features = ['LotArea', 'YearBuilt', '1stFlrSF', '2ndFlrSF', 'FullBath', 'BedroomAbvGr', 'TotRmsAbvGrd']\n",
    "\n",
    "# Select columns corresponding to features, and preview the data\n",
    "X = home_data[features]\n",
    "X.head()\n",
    "\n",
    "# Split into validation and training data\n",
    "train_X, val_X, train_y, val_y = train_test_split(X, y, random_state=1)\n",
    "\n",
    "# Define a random forest model\n",
    "rf_model = RandomForestRegressor(random_state=1)\n",
    "rf_model.fit(train_X, train_y)\n",
    "rf_val_predictions = rf_model.predict(val_X)\n",
    "rf_val_mae = mean_absolute_error(rf_val_predictions, val_y)\n",
    "\n",
    "print(\"Validation MAE for Random Forest Model: {:,.0f}\".format(rf_val_mae))"
   ]
  },
  {
   "cell_type": "markdown",
   "id": "3bd2b773",
   "metadata": {
    "papermill": {
     "duration": 0.004971,
     "end_time": "2024-03-28T06:20:56.438072",
     "exception": false,
     "start_time": "2024-03-28T06:20:56.433101",
     "status": "completed"
    },
    "tags": []
   },
   "source": [
    "# Train a model for the competition\n",
    "\n",
    "The code cell above trains a Random Forest model on **`train_X`** and **`train_y`**.  \n",
    "\n",
    "Use the code cell below to build a Random Forest model and train it on all of **`X`** and **`y`**."
   ]
  },
  {
   "cell_type": "code",
   "execution_count": null,
   "id": "aa17ba45",
   "metadata": {
    "execution": {
     "iopub.execute_input": "2024-03-28T06:20:56.450640Z",
     "iopub.status.busy": "2024-03-28T06:20:56.450189Z",
     "iopub.status.idle": "2024-03-28T06:20:57.147643Z",
     "shell.execute_reply": "2024-03-28T06:20:57.146436Z"
    },
    "papermill": {
     "duration": 0.706744,
     "end_time": "2024-03-28T06:20:57.150220",
     "exception": false,
     "start_time": "2024-03-28T06:20:56.443476",
     "status": "completed"
    },
    "tags": []
   },
   "outputs": [],
   "source": [
    "# To improve accuracy, create a new Random Forest model which you will train on all training data\n",
    "rf_model_on_full_data = RandomForestRegressor(random_state=1)\n",
    "\n",
    "\n",
    "# fit rf_model_on_full_data on all data from the training data\n",
    "rf_model_on_full_data.fit(X, y)"
   ]
  },
  {
   "cell_type": "markdown",
   "id": "38b70d1d",
   "metadata": {
    "papermill": {
     "duration": 0.00529,
     "end_time": "2024-03-28T06:20:57.161124",
     "exception": false,
     "start_time": "2024-03-28T06:20:57.155834",
     "status": "completed"
    },
    "tags": []
   },
   "source": [
    "Now, read the file of \"test\" data, and apply your model to make predictions."
   ]
  },
  {
   "cell_type": "code",
   "execution_count": 4,
   "id": "435d16a1",
   "metadata": {
    "execution": {
     "iopub.execute_input": "2024-03-28T06:20:57.175002Z",
     "iopub.status.busy": "2024-03-28T06:20:57.174127Z",
     "iopub.status.idle": "2024-03-28T06:20:57.256442Z",
     "shell.execute_reply": "2024-03-28T06:20:57.255256Z"
    },
    "papermill": {
     "duration": 0.092339,
     "end_time": "2024-03-28T06:20:57.259370",
     "exception": false,
     "start_time": "2024-03-28T06:20:57.167031",
     "status": "completed"
    },
    "tags": []
   },
   "outputs": [],
   "source": [
    "# path to file you will use for predictions\n",
    "test_data_path = '../input/test.csv'\n",
    "\n",
    "# read test data file using pandas\n",
    "test_data = pd.read_csv(test_data_path)\n",
    "\n",
    "# create test_X which comes from test_data but includes only the columns you used for prediction.\n",
    "# The list of columns is stored in a variable called features\n",
    "test_X =test_data[features]\n",
    "\n",
    "# make predictions which we will submit. \n",
    "test_preds = rf_model_on_full_data.predict(test_X)"
   ]
  },
  {
   "cell_type": "markdown",
   "id": "8e0323fa",
   "metadata": {
    "papermill": {
     "duration": 0.005249,
     "end_time": "2024-03-28T06:20:57.270265",
     "exception": false,
     "start_time": "2024-03-28T06:20:57.265016",
     "status": "completed"
    },
    "tags": []
   },
   "source": [
    "Before submitting, run a check to make sure your `test_preds` have the right format."
   ]
  },
  {
   "cell_type": "markdown",
   "id": "1fdf8050",
   "metadata": {
    "papermill": {
     "duration": 0.006023,
     "end_time": "2024-03-28T06:20:57.307093",
     "exception": false,
     "start_time": "2024-03-28T06:20:57.301070",
     "status": "completed"
    },
    "tags": []
   },
   "source": [
    "# Generate a submission\n",
    "\n",
    "Run the code cell below to generate a CSV file with your predictions that you can use to submit to the competition."
   ]
  },
  {
   "cell_type": "code",
   "execution_count": 6,
   "id": "0175cf68",
   "metadata": {
    "execution": {
     "iopub.execute_input": "2024-03-28T06:20:57.320982Z",
     "iopub.status.busy": "2024-03-28T06:20:57.320591Z",
     "iopub.status.idle": "2024-03-28T06:20:57.333234Z",
     "shell.execute_reply": "2024-03-28T06:20:57.332417Z"
    },
    "papermill": {
     "duration": 0.022652,
     "end_time": "2024-03-28T06:20:57.335918",
     "exception": false,
     "start_time": "2024-03-28T06:20:57.313266",
     "status": "completed"
    },
    "tags": []
   },
   "outputs": [],
   "source": [
    "# Run the code to save predictions in the format used for competition scoring\n",
    "\n",
    "output = pd.DataFrame({'Id': test_data.Id,\n",
    "                       'SalePrice': test_preds})\n",
    "output.to_csv('submission.csv', index=False)"
   ]
  },
  {
   "cell_type": "markdown",
   "id": "e8389ddb",
   "metadata": {
    "papermill": {
     "duration": 0.005477,
     "end_time": "2024-03-28T06:20:57.358708",
     "exception": false,
     "start_time": "2024-03-28T06:20:57.353231",
     "status": "completed"
    },
    "tags": []
   },
   "source": [
    "---\n",
    "\n",
    "\n",
    "\n",
    "\n",
    "*Have questions or comments? Visit the [course discussion forum](https://www.kaggle.com/learn/intro-to-machine-learning/discussion) to chat with other learners.*"
   ]
  }
 ],
 "metadata": {
  "kaggle": {
   "accelerator": "none",
   "dataSources": [
    {
     "databundleVersionId": 111096,
     "sourceId": 10211,
     "sourceType": "competition"
    }
   ],
   "isGpuEnabled": false,
   "isInternetEnabled": false,
   "language": "python",
   "sourceType": "notebook"
  },
  "kernelspec": {
   "display_name": "Python 3",
   "language": "python",
   "name": "python3"
  },
  "language_info": {
   "codemirror_mode": {
    "name": "ipython",
    "version": 3
   },
   "file_extension": ".py",
   "mimetype": "text/x-python",
   "name": "python",
   "nbconvert_exporter": "python",
   "pygments_lexer": "ipython3",
   "version": "3.10.13"
  },
  "papermill": {
   "default_parameters": {},
   "duration": 8.739429,
   "end_time": "2024-03-28T06:20:58.091379",
   "environment_variables": {},
   "exception": null,
   "input_path": "__notebook__.ipynb",
   "output_path": "__notebook__.ipynb",
   "parameters": {},
   "start_time": "2024-03-28T06:20:49.351950",
   "version": "2.5.0"
  }
 },
 "nbformat": 4,
 "nbformat_minor": 5
}
