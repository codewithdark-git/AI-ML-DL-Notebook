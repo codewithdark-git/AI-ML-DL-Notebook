{
 "cells": [
  {
   "cell_type": "markdown",
   "id": "5cf37c1e",
   "metadata": {
    "papermill": {
     "duration": 0.005493,
     "end_time": "2024-03-28T05:55:19.563140",
     "exception": false,
     "start_time": "2024-03-28T05:55:19.557647",
     "status": "completed"
    },
    "tags": []
   },
   "source": [
    "**This notebook is an exercise in the [Introduction to Machine Learning](https://www.kaggle.com/learn/intro-to-machine-learning) course.  You can reference the tutorial at [this link](https://www.kaggle.com/dansbecker/underfitting-and-overfitting).**\n",
    "\n",
    "---\n"
   ]
  },
  {
   "cell_type": "markdown",
   "id": "25f3ff61",
   "metadata": {
    "papermill": {
     "duration": 0.004871,
     "end_time": "2024-03-28T05:55:19.573206",
     "exception": false,
     "start_time": "2024-03-28T05:55:19.568335",
     "status": "completed"
    },
    "tags": []
   },
   "source": [
    "## Recap\n",
    "You've built your first model, and now it's time to optimize the size of the tree to make better predictions. Run this cell to set up your coding environment where the previous step left off."
   ]
  },
  {
   "cell_type": "code",
   "execution_count": null,
   "id": "8f71ee33",
   "metadata": {
    "execution": {
     "iopub.execute_input": "2024-03-28T05:55:19.585238Z",
     "iopub.status.busy": "2024-03-28T05:55:19.584534Z",
     "iopub.status.idle": "2024-03-28T05:55:22.869254Z",
     "shell.execute_reply": "2024-03-28T05:55:22.867544Z"
    },
    "papermill": {
     "duration": 3.294453,
     "end_time": "2024-03-28T05:55:22.872501",
     "exception": false,
     "start_time": "2024-03-28T05:55:19.578048",
     "status": "completed"
    },
    "tags": []
   },
   "outputs": [],
   "source": [
    "# Code you have previously used to load data\n",
    "import pandas as pd\n",
    "from sklearn.metrics import mean_absolute_error\n",
    "from sklearn.model_selection import train_test_split\n",
    "from sklearn.tree import DecisionTreeRegressor\n",
    "\n",
    "\n",
    "# Path of the file to read\n",
    "iowa_file_path = '../input/home-data-for-ml-course/train.csv'\n",
    "\n",
    "home_data = pd.read_csv(iowa_file_path)\n",
    "# Create target object and call it y\n",
    "y = home_data.SalePrice\n",
    "# Create X\n",
    "features = ['LotArea', 'YearBuilt', '1stFlrSF', '2ndFlrSF', 'FullBath', 'BedroomAbvGr', 'TotRmsAbvGrd']\n",
    "X = home_data[features]\n",
    "\n",
    "# Split into validation and training data\n",
    "train_X, val_X, train_y, val_y = train_test_split(X, y, random_state=1)\n",
    "\n",
    "# Specify Model\n",
    "iowa_model = DecisionTreeRegressor(random_state=1)\n",
    "# Fit Model\n",
    "iowa_model.fit(train_X, train_y)\n",
    "\n",
    "# Make validation predictions and calculate mean absolute error\n",
    "val_predictions = iowa_model.predict(val_X)\n",
    "val_mae = mean_absolute_error(val_predictions, val_y)\n",
    "print(\"Validation MAE: {:,.0f}\".format(val_mae))\n",
    "\n",
    "# Set up code checking\n",
    "from learntools.core import binder\n",
    "binder.bind(globals())\n",
    "from learntools.machine_learning.ex5 import *\n",
    "print(\"\\nSetup complete\")"
   ]
  },
  {
   "cell_type": "markdown",
   "id": "d9288966",
   "metadata": {
    "papermill": {
     "duration": 0.004734,
     "end_time": "2024-03-28T05:55:22.882443",
     "exception": false,
     "start_time": "2024-03-28T05:55:22.877709",
     "status": "completed"
    },
    "tags": []
   },
   "source": [
    "# Exercises\n",
    "You could write the function `get_mae` yourself. For now, we'll supply it. This is the same function you read about in the previous lesson. Just run the cell below."
   ]
  },
  {
   "cell_type": "code",
   "execution_count": 2,
   "id": "840283a8",
   "metadata": {
    "execution": {
     "iopub.execute_input": "2024-03-28T05:55:22.894448Z",
     "iopub.status.busy": "2024-03-28T05:55:22.894013Z",
     "iopub.status.idle": "2024-03-28T05:55:22.902118Z",
     "shell.execute_reply": "2024-03-28T05:55:22.900376Z"
    },
    "papermill": {
     "duration": 0.017799,
     "end_time": "2024-03-28T05:55:22.905230",
     "exception": false,
     "start_time": "2024-03-28T05:55:22.887431",
     "status": "completed"
    },
    "tags": []
   },
   "outputs": [],
   "source": [
    "def get_mae(max_leaf_nodes, train_X, val_X, train_y, val_y):\n",
    "    model = DecisionTreeRegressor(max_leaf_nodes=max_leaf_nodes, random_state=0)\n",
    "    model.fit(train_X, train_y)\n",
    "    preds_val = model.predict(val_X)\n",
    "    mae = mean_absolute_error(val_y, preds_val)\n",
    "    return(mae)"
   ]
  },
  {
   "cell_type": "markdown",
   "id": "9a728bab",
   "metadata": {
    "papermill": {
     "duration": 0.004742,
     "end_time": "2024-03-28T05:55:22.915380",
     "exception": false,
     "start_time": "2024-03-28T05:55:22.910638",
     "status": "completed"
    },
    "tags": []
   },
   "source": [
    "## Step 1: Compare Different Tree Sizes\n",
    "Write a loop that tries the following values for *max_leaf_nodes* from a set of possible values.\n",
    "\n",
    "Call the *get_mae* function on each value of max_leaf_nodes. Store the output in some way that allows you to select the value of `max_leaf_nodes` that gives the most accurate model on your data."
   ]
  },
  {
   "cell_type": "code",
   "execution_count": null,
   "id": "40424c23",
   "metadata": {
    "execution": {
     "iopub.execute_input": "2024-03-28T05:55:22.927529Z",
     "iopub.status.busy": "2024-03-28T05:55:22.927083Z",
     "iopub.status.idle": "2024-03-28T05:55:22.987634Z",
     "shell.execute_reply": "2024-03-28T05:55:22.985933Z"
    },
    "papermill": {
     "duration": 0.069913,
     "end_time": "2024-03-28T05:55:22.990489",
     "exception": false,
     "start_time": "2024-03-28T05:55:22.920576",
     "status": "completed"
    },
    "tags": []
   },
   "outputs": [],
   "source": [
    "candidate_max_leaf_nodes = [5, 25, 50, 100, 250, 500]\n",
    "# Write loop to find the ideal tree size from candidate_max_leaf_nodes\n",
    "scores = {leaf_size: get_mae(leaf_size, train_X, val_X, train_y, val_y) for leaf_size in candidate_max_leaf_nodes}\n",
    "\n",
    "# Store the best value of max_leaf_nodes (it will be either 5, 25, 50, 100, 250 or 500)\n",
    "best_tree_size = min(scores, key=scores.get)\n",
    "\n"
   ]
  },
  {
   "cell_type": "markdown",
   "id": "925526a6",
   "metadata": {
    "papermill": {
     "duration": 0.00556,
     "end_time": "2024-03-28T05:55:23.030511",
     "exception": false,
     "start_time": "2024-03-28T05:55:23.024951",
     "status": "completed"
    },
    "tags": []
   },
   "source": [
    "## Step 2: Fit Model Using All Data\n",
    "You know the best tree size. If you were going to deploy this model in practice, you would make it even more accurate by using all of the data and keeping that tree size.  That is, you don't need to hold out the validation data now that you've made all your modeling decisions."
   ]
  },
  {
   "cell_type": "code",
   "execution_count": null,
   "id": "b822fde7",
   "metadata": {
    "execution": {
     "iopub.execute_input": "2024-03-28T05:55:23.044351Z",
     "iopub.status.busy": "2024-03-28T05:55:23.043848Z",
     "iopub.status.idle": "2024-03-28T05:55:23.068290Z",
     "shell.execute_reply": "2024-03-28T05:55:23.066713Z"
    },
    "papermill": {
     "duration": 0.035221,
     "end_time": "2024-03-28T05:55:23.071570",
     "exception": false,
     "start_time": "2024-03-28T05:55:23.036349",
     "status": "completed"
    },
    "tags": []
   },
   "outputs": [],
   "source": [
    "# Fill in argument to make optimal size and uncomment\n",
    "final_model = DecisionTreeRegressor(max_leaf_nodes=best_tree_size, random_state=1)\n",
    "\n",
    "# fit the final model and uncomment the next two lines\n",
    "final_model.fit(X, y)\n",
    "\n"
   ]
  },
  {
   "cell_type": "markdown",
   "id": "d8ec2f7d",
   "metadata": {
    "papermill": {
     "duration": 0.006134,
     "end_time": "2024-03-28T05:55:23.113350",
     "exception": false,
     "start_time": "2024-03-28T05:55:23.107216",
     "status": "completed"
    },
    "tags": []
   },
   "source": [
    "You've tuned this model and improved your results. But we are still using Decision Tree models, which are not very sophisticated by modern machine learning standards. In the next step you will learn to use Random Forests to improve your models even more.\n",
    "\n",
    "# Keep Going\n",
    "\n",
    "You are ready for **[Random Forests](https://www.kaggle.com/dansbecker/random-forests).**\n"
   ]
  },
  {
   "cell_type": "markdown",
   "id": "f8932490",
   "metadata": {
    "papermill": {
     "duration": 0.006201,
     "end_time": "2024-03-28T05:55:23.126138",
     "exception": false,
     "start_time": "2024-03-28T05:55:23.119937",
     "status": "completed"
    },
    "tags": []
   },
   "source": [
    "---\n",
    "\n",
    "\n",
    "\n",
    "\n",
    "*Have questions or comments? Visit the [course discussion forum](https://www.kaggle.com/learn/intro-to-machine-learning/discussion) to chat with other learners.*"
   ]
  }
 ],
 "metadata": {
  "kaggle": {
   "accelerator": "none",
   "dataSources": [
    {
     "databundleVersionId": 111096,
     "sourceId": 10211,
     "sourceType": "competition"
    },
    {
     "datasetId": 11167,
     "sourceId": 15520,
     "sourceType": "datasetVersion"
    },
    {
     "datasetId": 2709,
     "sourceId": 38454,
     "sourceType": "datasetVersion"
    }
   ],
   "isGpuEnabled": false,
   "isInternetEnabled": false,
   "language": "python",
   "sourceType": "notebook"
  },
  "kernelspec": {
   "display_name": "Python 3",
   "language": "python",
   "name": "python3"
  },
  "language_info": {
   "codemirror_mode": {
    "name": "ipython",
    "version": 3
   },
   "file_extension": ".py",
   "mimetype": "text/x-python",
   "name": "python",
   "nbconvert_exporter": "python",
   "pygments_lexer": "ipython3",
   "version": "3.10.13"
  },
  "papermill": {
   "default_parameters": {},
   "duration": 7.824476,
   "end_time": "2024-03-28T05:55:24.055871",
   "environment_variables": {},
   "exception": null,
   "input_path": "__notebook__.ipynb",
   "output_path": "__notebook__.ipynb",
   "parameters": {},
   "start_time": "2024-03-28T05:55:16.231395",
   "version": "2.5.0"
  }
 },
 "nbformat": 4,
 "nbformat_minor": 5
}
